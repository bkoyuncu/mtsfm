{
 "cells": [
  {
   "cell_type": "code",
   "execution_count": 11,
   "metadata": {},
   "outputs": [],
   "source": [
    "# !pip install datasets"
   ]
  },
  {
   "cell_type": "code",
   "execution_count": 80,
   "metadata": {},
   "outputs": [],
   "source": [
    "#give the dataset path\n",
    "import os\n",
    "import pandas as pd\n",
    "\n",
    "dataset_path = \"./dataset/\"\n",
    "csv_dataset_path = \"./dataset/csv_dataset/\"\n",
    "if not os.path.exists(csv_dataset_path):\n",
    "    os.makedirs(csv_dataset_path)\n",
    "    "
   ]
  },
  {
   "cell_type": "code",
   "execution_count": 81,
   "metadata": {},
   "outputs": [
    {
     "data": {
      "application/vnd.jupyter.widget-view+json": {
       "model_id": "aac90c3429794b2d8b60d75cd7539f78",
       "version_major": 2,
       "version_minor": 0
      },
      "text/plain": [
       "Downloading readme:   0%|          | 0.00/13.4k [00:00<?, ?B/s]"
      ]
     },
     "metadata": {},
     "output_type": "display_data"
    },
    {
     "data": {
      "application/vnd.jupyter.widget-view+json": {
       "model_id": "f82922480e824b908019a919daee36bd",
       "version_major": 2,
       "version_minor": 0
      },
      "text/plain": [
       "Downloading data:   0%|          | 0.00/873 [00:00<?, ?B/s]"
      ]
     },
     "metadata": {},
     "output_type": "display_data"
    },
    {
     "data": {
      "application/vnd.jupyter.widget-view+json": {
       "model_id": "8f06b3b355214bc29d0b05efb7b24c20",
       "version_major": 2,
       "version_minor": 0
      },
      "text/plain": [
       "Generating train split: 0 examples [00:00, ? examples/s]"
      ]
     },
     "metadata": {},
     "output_type": "display_data"
    }
   ],
   "source": [
    "# Get the list of all available configs\n",
    "dataset_info = load_dataset(\"bkoyuncu/MacroEcon\", \"features\")\n",
    "# country_configs = list(dataset_info.keys())"
   ]
  },
  {
   "cell_type": "code",
   "execution_count": 44,
   "metadata": {},
   "outputs": [],
   "source": [
    "country_codes = dataset_info['train'][:]['Country Code']"
   ]
  },
  {
   "cell_type": "code",
   "execution_count": 68,
   "metadata": {},
   "outputs": [],
   "source": [
    "# country_codes"
   ]
  },
  {
   "cell_type": "code",
   "execution_count": 45,
   "metadata": {},
   "outputs": [
    {
     "data": {
      "application/vnd.jupyter.widget-view+json": {
       "model_id": "64b44ba0e6da49a897025257aed57ac4",
       "version_major": 2,
       "version_minor": 0
      },
      "text/plain": [
       "Downloading data:   0%|          | 0.00/10.2M [00:00<?, ?B/s]"
      ]
     },
     "metadata": {},
     "output_type": "display_data"
    },
    {
     "data": {
      "application/vnd.jupyter.widget-view+json": {
       "model_id": "aa6ab3260ad048f395157a6ae6d1e537",
       "version_major": 2,
       "version_minor": 0
      },
      "text/plain": [
       "Generating train split: 0 examples [00:00, ? examples/s]"
      ]
     },
     "metadata": {},
     "output_type": "display_data"
    },
    {
     "data": {
      "application/vnd.jupyter.widget-view+json": {
       "model_id": "9b6199cb37d043b6a86dd2f767eff7bb",
       "version_major": 2,
       "version_minor": 0
      },
      "text/plain": [
       "Downloading data:   0%|          | 0.00/17.6M [00:00<?, ?B/s]"
      ]
     },
     "metadata": {},
     "output_type": "display_data"
    },
    {
     "data": {
      "application/vnd.jupyter.widget-view+json": {
       "model_id": "d4b4871847374a7c8718dae17bac5e8c",
       "version_major": 2,
       "version_minor": 0
      },
      "text/plain": [
       "Generating train split: 0 examples [00:00, ? examples/s]"
      ]
     },
     "metadata": {},
     "output_type": "display_data"
    },
    {
     "data": {
      "application/vnd.jupyter.widget-view+json": {
       "model_id": "cc134295f9994a77b11e91ae802480a0",
       "version_major": 2,
       "version_minor": 0
      },
      "text/plain": [
       "Downloading data:   0%|          | 0.00/25.3M [00:00<?, ?B/s]"
      ]
     },
     "metadata": {},
     "output_type": "display_data"
    },
    {
     "data": {
      "application/vnd.jupyter.widget-view+json": {
       "model_id": "18acb51717e84862b7b3bd4053c79535",
       "version_major": 2,
       "version_minor": 0
      },
      "text/plain": [
       "Generating train split: 0 examples [00:00, ? examples/s]"
      ]
     },
     "metadata": {},
     "output_type": "display_data"
    },
    {
     "data": {
      "application/vnd.jupyter.widget-view+json": {
       "model_id": "1890a4c69ac54856be32829724264bc7",
       "version_major": 2,
       "version_minor": 0
      },
      "text/plain": [
       "Downloading data:   0%|          | 0.00/24.1M [00:00<?, ?B/s]"
      ]
     },
     "metadata": {},
     "output_type": "display_data"
    },
    {
     "data": {
      "application/vnd.jupyter.widget-view+json": {
       "model_id": "c712607e12a741519082dd6ca7735523",
       "version_major": 2,
       "version_minor": 0
      },
      "text/plain": [
       "Generating train split: 0 examples [00:00, ? examples/s]"
      ]
     },
     "metadata": {},
     "output_type": "display_data"
    },
    {
     "data": {
      "application/vnd.jupyter.widget-view+json": {
       "model_id": "bb7cc2c1163d4a97a0af170ff8d3025a",
       "version_major": 2,
       "version_minor": 0
      },
      "text/plain": [
       "Downloading data:   0%|          | 0.00/7.11M [00:00<?, ?B/s]"
      ]
     },
     "metadata": {},
     "output_type": "display_data"
    },
    {
     "data": {
      "application/vnd.jupyter.widget-view+json": {
       "model_id": "920933faaed54c9687fb2ba84eef5fd7",
       "version_major": 2,
       "version_minor": 0
      },
      "text/plain": [
       "Generating train split: 0 examples [00:00, ? examples/s]"
      ]
     },
     "metadata": {},
     "output_type": "display_data"
    },
    {
     "data": {
      "application/vnd.jupyter.widget-view+json": {
       "model_id": "16188919f63c4c2c87ac527d127eeec7",
       "version_major": 2,
       "version_minor": 0
      },
      "text/plain": [
       "Downloading data:   0%|          | 0.00/27.7M [00:00<?, ?B/s]"
      ]
     },
     "metadata": {},
     "output_type": "display_data"
    },
    {
     "data": {
      "application/vnd.jupyter.widget-view+json": {
       "model_id": "5433cce99bdf46b7bcf68cb8fcd46d94",
       "version_major": 2,
       "version_minor": 0
      },
      "text/plain": [
       "Generating train split: 0 examples [00:00, ? examples/s]"
      ]
     },
     "metadata": {},
     "output_type": "display_data"
    },
    {
     "data": {
      "application/vnd.jupyter.widget-view+json": {
       "model_id": "00bb24b2f13c4fd980a3d5d7544a4cd1",
       "version_major": 2,
       "version_minor": 0
      },
      "text/plain": [
       "Downloading data:   0%|          | 0.00/14.7M [00:00<?, ?B/s]"
      ]
     },
     "metadata": {},
     "output_type": "display_data"
    },
    {
     "data": {
      "application/vnd.jupyter.widget-view+json": {
       "model_id": "3b3716330b64411f8b57b44efd83f373",
       "version_major": 2,
       "version_minor": 0
      },
      "text/plain": [
       "Generating train split: 0 examples [00:00, ? examples/s]"
      ]
     },
     "metadata": {},
     "output_type": "display_data"
    },
    {
     "data": {
      "application/vnd.jupyter.widget-view+json": {
       "model_id": "0c538bc157ff4e26be5ddecd3df2bfa0",
       "version_major": 2,
       "version_minor": 0
      },
      "text/plain": [
       "Downloading data:   0%|          | 0.00/21.8M [00:00<?, ?B/s]"
      ]
     },
     "metadata": {},
     "output_type": "display_data"
    },
    {
     "data": {
      "application/vnd.jupyter.widget-view+json": {
       "model_id": "e609f6f7ce9b41739dc21d985eab5d30",
       "version_major": 2,
       "version_minor": 0
      },
      "text/plain": [
       "Generating train split: 0 examples [00:00, ? examples/s]"
      ]
     },
     "metadata": {},
     "output_type": "display_data"
    },
    {
     "data": {
      "application/vnd.jupyter.widget-view+json": {
       "model_id": "c66b288a6e9142de9baecc0df4df3dea",
       "version_major": 2,
       "version_minor": 0
      },
      "text/plain": [
       "Downloading data:   0%|          | 0.00/27.6M [00:00<?, ?B/s]"
      ]
     },
     "metadata": {},
     "output_type": "display_data"
    },
    {
     "data": {
      "application/vnd.jupyter.widget-view+json": {
       "model_id": "2ff4db485ede4c19a5a48d4c72b99c58",
       "version_major": 2,
       "version_minor": 0
      },
      "text/plain": [
       "Generating train split: 0 examples [00:00, ? examples/s]"
      ]
     },
     "metadata": {},
     "output_type": "display_data"
    },
    {
     "data": {
      "application/vnd.jupyter.widget-view+json": {
       "model_id": "ecf5ca5fc29343f78db74e6b8b7b9114",
       "version_major": 2,
       "version_minor": 0
      },
      "text/plain": [
       "Downloading data:   0%|          | 0.00/27.5M [00:00<?, ?B/s]"
      ]
     },
     "metadata": {},
     "output_type": "display_data"
    },
    {
     "data": {
      "application/vnd.jupyter.widget-view+json": {
       "model_id": "fed63a30d64044448e732cc741b0c8c7",
       "version_major": 2,
       "version_minor": 0
      },
      "text/plain": [
       "Generating train split: 0 examples [00:00, ? examples/s]"
      ]
     },
     "metadata": {},
     "output_type": "display_data"
    },
    {
     "data": {
      "application/vnd.jupyter.widget-view+json": {
       "model_id": "d638bf3f7cdd450da8133e2ac84899df",
       "version_major": 2,
       "version_minor": 0
      },
      "text/plain": [
       "Downloading data:   0%|          | 0.00/16.2M [00:00<?, ?B/s]"
      ]
     },
     "metadata": {},
     "output_type": "display_data"
    },
    {
     "data": {
      "application/vnd.jupyter.widget-view+json": {
       "model_id": "45fbf4f9f917459da3c1e312591fa389",
       "version_major": 2,
       "version_minor": 0
      },
      "text/plain": [
       "Generating train split: 0 examples [00:00, ? examples/s]"
      ]
     },
     "metadata": {},
     "output_type": "display_data"
    },
    {
     "data": {
      "application/vnd.jupyter.widget-view+json": {
       "model_id": "206117bc77ce45b39a6a95a0d00e1bc8",
       "version_major": 2,
       "version_minor": 0
      },
      "text/plain": [
       "Downloading data:   0%|          | 0.00/21.4M [00:00<?, ?B/s]"
      ]
     },
     "metadata": {},
     "output_type": "display_data"
    },
    {
     "data": {
      "application/vnd.jupyter.widget-view+json": {
       "model_id": "a989451ec3e74315a85268643704e2d7",
       "version_major": 2,
       "version_minor": 0
      },
      "text/plain": [
       "Generating train split: 0 examples [00:00, ? examples/s]"
      ]
     },
     "metadata": {},
     "output_type": "display_data"
    },
    {
     "data": {
      "application/vnd.jupyter.widget-view+json": {
       "model_id": "15bd54bc42c046cabfd88c8ba0216d2c",
       "version_major": 2,
       "version_minor": 0
      },
      "text/plain": [
       "Downloading data:   0%|          | 0.00/17.1M [00:00<?, ?B/s]"
      ]
     },
     "metadata": {},
     "output_type": "display_data"
    },
    {
     "data": {
      "application/vnd.jupyter.widget-view+json": {
       "model_id": "9d7e88093d3749fe83c2547648c2834a",
       "version_major": 2,
       "version_minor": 0
      },
      "text/plain": [
       "Generating train split: 0 examples [00:00, ? examples/s]"
      ]
     },
     "metadata": {},
     "output_type": "display_data"
    },
    {
     "data": {
      "application/vnd.jupyter.widget-view+json": {
       "model_id": "039aaa2b37cd4ae88243336a9c309b61",
       "version_major": 2,
       "version_minor": 0
      },
      "text/plain": [
       "Downloading data:   0%|          | 0.00/17.7M [00:00<?, ?B/s]"
      ]
     },
     "metadata": {},
     "output_type": "display_data"
    },
    {
     "data": {
      "application/vnd.jupyter.widget-view+json": {
       "model_id": "71c3dfa9ea204e01867c04965765f2f2",
       "version_major": 2,
       "version_minor": 0
      },
      "text/plain": [
       "Generating train split: 0 examples [00:00, ? examples/s]"
      ]
     },
     "metadata": {},
     "output_type": "display_data"
    },
    {
     "data": {
      "application/vnd.jupyter.widget-view+json": {
       "model_id": "a9c3e4b38aff4af0a9112a398b569c68",
       "version_major": 2,
       "version_minor": 0
      },
      "text/plain": [
       "Downloading data:   0%|          | 0.00/14.2M [00:00<?, ?B/s]"
      ]
     },
     "metadata": {},
     "output_type": "display_data"
    },
    {
     "data": {
      "application/vnd.jupyter.widget-view+json": {
       "model_id": "b301661b5896468cb9bc6faa8e0aff6a",
       "version_major": 2,
       "version_minor": 0
      },
      "text/plain": [
       "Generating train split: 0 examples [00:00, ? examples/s]"
      ]
     },
     "metadata": {},
     "output_type": "display_data"
    },
    {
     "data": {
      "application/vnd.jupyter.widget-view+json": {
       "model_id": "196f23f596284bca88155c95f4c6a14b",
       "version_major": 2,
       "version_minor": 0
      },
      "text/plain": [
       "Downloading data:   0%|          | 0.00/25.5M [00:00<?, ?B/s]"
      ]
     },
     "metadata": {},
     "output_type": "display_data"
    },
    {
     "data": {
      "application/vnd.jupyter.widget-view+json": {
       "model_id": "ad85556976e3413ca26b64c4ceb8254a",
       "version_major": 2,
       "version_minor": 0
      },
      "text/plain": [
       "Generating train split: 0 examples [00:00, ? examples/s]"
      ]
     },
     "metadata": {},
     "output_type": "display_data"
    },
    {
     "data": {
      "application/vnd.jupyter.widget-view+json": {
       "model_id": "a1186b5445d74570a346812c1d380708",
       "version_major": 2,
       "version_minor": 0
      },
      "text/plain": [
       "Downloading data:   0%|          | 0.00/25.2M [00:00<?, ?B/s]"
      ]
     },
     "metadata": {},
     "output_type": "display_data"
    },
    {
     "data": {
      "application/vnd.jupyter.widget-view+json": {
       "model_id": "237b56f1d71b48b38206638eba7c9c31",
       "version_major": 2,
       "version_minor": 0
      },
      "text/plain": [
       "Generating train split: 0 examples [00:00, ? examples/s]"
      ]
     },
     "metadata": {},
     "output_type": "display_data"
    },
    {
     "data": {
      "application/vnd.jupyter.widget-view+json": {
       "model_id": "62a7193a42624116966cf2acf5b81601",
       "version_major": 2,
       "version_minor": 0
      },
      "text/plain": [
       "Downloading data:   0%|          | 0.00/13.6M [00:00<?, ?B/s]"
      ]
     },
     "metadata": {},
     "output_type": "display_data"
    },
    {
     "data": {
      "application/vnd.jupyter.widget-view+json": {
       "model_id": "77dfd2a2b8e84512834a3ae451408540",
       "version_major": 2,
       "version_minor": 0
      },
      "text/plain": [
       "Generating train split: 0 examples [00:00, ? examples/s]"
      ]
     },
     "metadata": {},
     "output_type": "display_data"
    },
    {
     "data": {
      "application/vnd.jupyter.widget-view+json": {
       "model_id": "4b49f2529f9544b4b8cf9acdde02e0b3",
       "version_major": 2,
       "version_minor": 0
      },
      "text/plain": [
       "Downloading data:   0%|          | 0.00/13.8M [00:00<?, ?B/s]"
      ]
     },
     "metadata": {},
     "output_type": "display_data"
    },
    {
     "data": {
      "application/vnd.jupyter.widget-view+json": {
       "model_id": "1a936caba684428986928ce6560ae384",
       "version_major": 2,
       "version_minor": 0
      },
      "text/plain": [
       "Generating train split: 0 examples [00:00, ? examples/s]"
      ]
     },
     "metadata": {},
     "output_type": "display_data"
    },
    {
     "data": {
      "application/vnd.jupyter.widget-view+json": {
       "model_id": "46b60bedfaec485baac805cda30dec53",
       "version_major": 2,
       "version_minor": 0
      },
      "text/plain": [
       "Downloading data:   0%|          | 0.00/25.0M [00:00<?, ?B/s]"
      ]
     },
     "metadata": {},
     "output_type": "display_data"
    },
    {
     "data": {
      "application/vnd.jupyter.widget-view+json": {
       "model_id": "5fe39da878cb41d9bbfd508c3efd7f45",
       "version_major": 2,
       "version_minor": 0
      },
      "text/plain": [
       "Generating train split: 0 examples [00:00, ? examples/s]"
      ]
     },
     "metadata": {},
     "output_type": "display_data"
    },
    {
     "data": {
      "application/vnd.jupyter.widget-view+json": {
       "model_id": "d1f98673d52c462298f86b0369dc6a20",
       "version_major": 2,
       "version_minor": 0
      },
      "text/plain": [
       "Downloading data:   0%|          | 0.00/22.0M [00:00<?, ?B/s]"
      ]
     },
     "metadata": {},
     "output_type": "display_data"
    },
    {
     "data": {
      "application/vnd.jupyter.widget-view+json": {
       "model_id": "b993a60dd14b4533b06fec9328f0fbc2",
       "version_major": 2,
       "version_minor": 0
      },
      "text/plain": [
       "Generating train split: 0 examples [00:00, ? examples/s]"
      ]
     },
     "metadata": {},
     "output_type": "display_data"
    },
    {
     "data": {
      "application/vnd.jupyter.widget-view+json": {
       "model_id": "5f2d5ec179f642b1860879049957fdff",
       "version_major": 2,
       "version_minor": 0
      },
      "text/plain": [
       "Downloading data:   0%|          | 0.00/25.1M [00:00<?, ?B/s]"
      ]
     },
     "metadata": {},
     "output_type": "display_data"
    },
    {
     "data": {
      "application/vnd.jupyter.widget-view+json": {
       "model_id": "49b3dd62b3654b24af09fb2d8f62d1ea",
       "version_major": 2,
       "version_minor": 0
      },
      "text/plain": [
       "Generating train split: 0 examples [00:00, ? examples/s]"
      ]
     },
     "metadata": {},
     "output_type": "display_data"
    },
    {
     "data": {
      "application/vnd.jupyter.widget-view+json": {
       "model_id": "a148b1b258674359b5e8fbd382660f5f",
       "version_major": 2,
       "version_minor": 0
      },
      "text/plain": [
       "Downloading data:   0%|          | 0.00/29.8M [00:00<?, ?B/s]"
      ]
     },
     "metadata": {},
     "output_type": "display_data"
    },
    {
     "data": {
      "application/vnd.jupyter.widget-view+json": {
       "model_id": "efc36ca8893f4dc199b2369c10e413a5",
       "version_major": 2,
       "version_minor": 0
      },
      "text/plain": [
       "Generating train split: 0 examples [00:00, ? examples/s]"
      ]
     },
     "metadata": {},
     "output_type": "display_data"
    },
    {
     "data": {
      "application/vnd.jupyter.widget-view+json": {
       "model_id": "810d8ab3b89f4437ae7ac78b869c651f",
       "version_major": 2,
       "version_minor": 0
      },
      "text/plain": [
       "Downloading data:   0%|          | 0.00/23.2M [00:00<?, ?B/s]"
      ]
     },
     "metadata": {},
     "output_type": "display_data"
    },
    {
     "data": {
      "application/vnd.jupyter.widget-view+json": {
       "model_id": "c0726a03e9bb409995d2d836ff08eed5",
       "version_major": 2,
       "version_minor": 0
      },
      "text/plain": [
       "Generating train split: 0 examples [00:00, ? examples/s]"
      ]
     },
     "metadata": {},
     "output_type": "display_data"
    },
    {
     "data": {
      "application/vnd.jupyter.widget-view+json": {
       "model_id": "d55e905425e1403baef6fc570d365759",
       "version_major": 2,
       "version_minor": 0
      },
      "text/plain": [
       "Downloading data:   0%|          | 0.00/24.2M [00:00<?, ?B/s]"
      ]
     },
     "metadata": {},
     "output_type": "display_data"
    },
    {
     "data": {
      "application/vnd.jupyter.widget-view+json": {
       "model_id": "b8fa2419e5ed47c3877826bbdb5a0c09",
       "version_major": 2,
       "version_minor": 0
      },
      "text/plain": [
       "Generating train split: 0 examples [00:00, ? examples/s]"
      ]
     },
     "metadata": {},
     "output_type": "display_data"
    },
    {
     "data": {
      "application/vnd.jupyter.widget-view+json": {
       "model_id": "bc0b31d7bcf1456aafa80793382c3436",
       "version_major": 2,
       "version_minor": 0
      },
      "text/plain": [
       "Downloading data:   0%|          | 0.00/15.5M [00:00<?, ?B/s]"
      ]
     },
     "metadata": {},
     "output_type": "display_data"
    },
    {
     "data": {
      "application/vnd.jupyter.widget-view+json": {
       "model_id": "83ea2ab88f5842a6a0cf3d04ffc49018",
       "version_major": 2,
       "version_minor": 0
      },
      "text/plain": [
       "Generating train split: 0 examples [00:00, ? examples/s]"
      ]
     },
     "metadata": {},
     "output_type": "display_data"
    },
    {
     "data": {
      "application/vnd.jupyter.widget-view+json": {
       "model_id": "b0d466fa49db4e7295f85bfaf413faa0",
       "version_major": 2,
       "version_minor": 0
      },
      "text/plain": [
       "Downloading data:   0%|          | 0.00/18.8M [00:00<?, ?B/s]"
      ]
     },
     "metadata": {},
     "output_type": "display_data"
    },
    {
     "data": {
      "application/vnd.jupyter.widget-view+json": {
       "model_id": "9d6d0afec83f4043b108c3891e96f308",
       "version_major": 2,
       "version_minor": 0
      },
      "text/plain": [
       "Generating train split: 0 examples [00:00, ? examples/s]"
      ]
     },
     "metadata": {},
     "output_type": "display_data"
    },
    {
     "data": {
      "application/vnd.jupyter.widget-view+json": {
       "model_id": "7f77982f66964376ab1e362418b458ef",
       "version_major": 2,
       "version_minor": 0
      },
      "text/plain": [
       "Downloading data:   0%|          | 0.00/17.9M [00:00<?, ?B/s]"
      ]
     },
     "metadata": {},
     "output_type": "display_data"
    },
    {
     "data": {
      "application/vnd.jupyter.widget-view+json": {
       "model_id": "97cd9a1d20d94dcdb31ae9020ffd3c5a",
       "version_major": 2,
       "version_minor": 0
      },
      "text/plain": [
       "Generating train split: 0 examples [00:00, ? examples/s]"
      ]
     },
     "metadata": {},
     "output_type": "display_data"
    },
    {
     "data": {
      "application/vnd.jupyter.widget-view+json": {
       "model_id": "b16e81ded6c74ff4b0dce5187c72ce52",
       "version_major": 2,
       "version_minor": 0
      },
      "text/plain": [
       "Downloading data:   0%|          | 0.00/22.0M [00:00<?, ?B/s]"
      ]
     },
     "metadata": {},
     "output_type": "display_data"
    },
    {
     "data": {
      "application/vnd.jupyter.widget-view+json": {
       "model_id": "01cb0ca0de8946dcb553c9a866b0cd01",
       "version_major": 2,
       "version_minor": 0
      },
      "text/plain": [
       "Generating train split: 0 examples [00:00, ? examples/s]"
      ]
     },
     "metadata": {},
     "output_type": "display_data"
    },
    {
     "data": {
      "application/vnd.jupyter.widget-view+json": {
       "model_id": "fe4601f13cf34b1f87f61a2a381066ea",
       "version_major": 2,
       "version_minor": 0
      },
      "text/plain": [
       "Downloading data:   0%|          | 0.00/16.3M [00:00<?, ?B/s]"
      ]
     },
     "metadata": {},
     "output_type": "display_data"
    },
    {
     "data": {
      "application/vnd.jupyter.widget-view+json": {
       "model_id": "d944198adda74d9b8d7b3701002fc710",
       "version_major": 2,
       "version_minor": 0
      },
      "text/plain": [
       "Generating train split: 0 examples [00:00, ? examples/s]"
      ]
     },
     "metadata": {},
     "output_type": "display_data"
    },
    {
     "data": {
      "application/vnd.jupyter.widget-view+json": {
       "model_id": "9717860383d143e9be395dcfdabfef18",
       "version_major": 2,
       "version_minor": 0
      },
      "text/plain": [
       "Downloading data:   0%|          | 0.00/18.1M [00:00<?, ?B/s]"
      ]
     },
     "metadata": {},
     "output_type": "display_data"
    },
    {
     "data": {
      "application/vnd.jupyter.widget-view+json": {
       "model_id": "19f50d1b6fec44e1b2b074967d326439",
       "version_major": 2,
       "version_minor": 0
      },
      "text/plain": [
       "Generating train split: 0 examples [00:00, ? examples/s]"
      ]
     },
     "metadata": {},
     "output_type": "display_data"
    },
    {
     "data": {
      "application/vnd.jupyter.widget-view+json": {
       "model_id": "422c1be42c3b4caab81d3cee1710baff",
       "version_major": 2,
       "version_minor": 0
      },
      "text/plain": [
       "Downloading data:   0%|          | 0.00/17.0M [00:00<?, ?B/s]"
      ]
     },
     "metadata": {},
     "output_type": "display_data"
    },
    {
     "data": {
      "application/vnd.jupyter.widget-view+json": {
       "model_id": "e3335562768246ce87dc584aee4cf4de",
       "version_major": 2,
       "version_minor": 0
      },
      "text/plain": [
       "Generating train split: 0 examples [00:00, ? examples/s]"
      ]
     },
     "metadata": {},
     "output_type": "display_data"
    },
    {
     "data": {
      "application/vnd.jupyter.widget-view+json": {
       "model_id": "6724c10ce9b14188967ca71515dcc41e",
       "version_major": 2,
       "version_minor": 0
      },
      "text/plain": [
       "Downloading data:   0%|          | 0.00/25.9M [00:00<?, ?B/s]"
      ]
     },
     "metadata": {},
     "output_type": "display_data"
    },
    {
     "data": {
      "application/vnd.jupyter.widget-view+json": {
       "model_id": "ad9173ed35204bb08af80bb75f3e4957",
       "version_major": 2,
       "version_minor": 0
      },
      "text/plain": [
       "Generating train split: 0 examples [00:00, ? examples/s]"
      ]
     },
     "metadata": {},
     "output_type": "display_data"
    },
    {
     "data": {
      "application/vnd.jupyter.widget-view+json": {
       "model_id": "9ec946adba8840d1ba0673dbdf055a3b",
       "version_major": 2,
       "version_minor": 0
      },
      "text/plain": [
       "Downloading data:   0%|          | 0.00/24.7M [00:00<?, ?B/s]"
      ]
     },
     "metadata": {},
     "output_type": "display_data"
    },
    {
     "data": {
      "application/vnd.jupyter.widget-view+json": {
       "model_id": "e223c452091243bdaed26c9c2d6b1418",
       "version_major": 2,
       "version_minor": 0
      },
      "text/plain": [
       "Generating train split: 0 examples [00:00, ? examples/s]"
      ]
     },
     "metadata": {},
     "output_type": "display_data"
    },
    {
     "data": {
      "application/vnd.jupyter.widget-view+json": {
       "model_id": "8c7d610bb36846bcb8cde29626807bc9",
       "version_major": 2,
       "version_minor": 0
      },
      "text/plain": [
       "Downloading data:   0%|          | 0.00/25.4M [00:00<?, ?B/s]"
      ]
     },
     "metadata": {},
     "output_type": "display_data"
    },
    {
     "data": {
      "application/vnd.jupyter.widget-view+json": {
       "model_id": "4e3299cad6e14a09a08b80557103c619",
       "version_major": 2,
       "version_minor": 0
      },
      "text/plain": [
       "Generating train split: 0 examples [00:00, ? examples/s]"
      ]
     },
     "metadata": {},
     "output_type": "display_data"
    },
    {
     "data": {
      "application/vnd.jupyter.widget-view+json": {
       "model_id": "b787eb2792ca488cbb2b91a315b8937b",
       "version_major": 2,
       "version_minor": 0
      },
      "text/plain": [
       "Downloading data:   0%|          | 0.00/9.88M [00:00<?, ?B/s]"
      ]
     },
     "metadata": {},
     "output_type": "display_data"
    },
    {
     "data": {
      "application/vnd.jupyter.widget-view+json": {
       "model_id": "7c6335f8593e456d81c15b43808e6d2b",
       "version_major": 2,
       "version_minor": 0
      },
      "text/plain": [
       "Generating train split: 0 examples [00:00, ? examples/s]"
      ]
     },
     "metadata": {},
     "output_type": "display_data"
    },
    {
     "data": {
      "application/vnd.jupyter.widget-view+json": {
       "model_id": "18a6957916904bbc8793840f7e785067",
       "version_major": 2,
       "version_minor": 0
      },
      "text/plain": [
       "Downloading data:   0%|          | 0.00/14.0M [00:00<?, ?B/s]"
      ]
     },
     "metadata": {},
     "output_type": "display_data"
    },
    {
     "data": {
      "application/vnd.jupyter.widget-view+json": {
       "model_id": "af4b751a9e324b36a2508a1b5a5c93ec",
       "version_major": 2,
       "version_minor": 0
      },
      "text/plain": [
       "Generating train split: 0 examples [00:00, ? examples/s]"
      ]
     },
     "metadata": {},
     "output_type": "display_data"
    },
    {
     "data": {
      "application/vnd.jupyter.widget-view+json": {
       "model_id": "43bca3be4c524ad48004996d7fa1ec1c",
       "version_major": 2,
       "version_minor": 0
      },
      "text/plain": [
       "Downloading data:   0%|          | 0.00/21.6M [00:00<?, ?B/s]"
      ]
     },
     "metadata": {},
     "output_type": "display_data"
    },
    {
     "data": {
      "application/vnd.jupyter.widget-view+json": {
       "model_id": "9ae21da4634e452dbf1c5ed80f8caf51",
       "version_major": 2,
       "version_minor": 0
      },
      "text/plain": [
       "Generating train split: 0 examples [00:00, ? examples/s]"
      ]
     },
     "metadata": {},
     "output_type": "display_data"
    },
    {
     "data": {
      "application/vnd.jupyter.widget-view+json": {
       "model_id": "a31b2e15fd3142e8a5453f2f449fa8f9",
       "version_major": 2,
       "version_minor": 0
      },
      "text/plain": [
       "Downloading data:   0%|          | 0.00/13.8M [00:00<?, ?B/s]"
      ]
     },
     "metadata": {},
     "output_type": "display_data"
    },
    {
     "data": {
      "application/vnd.jupyter.widget-view+json": {
       "model_id": "cf14689177234a2b827d3e1f5ad8eeec",
       "version_major": 2,
       "version_minor": 0
      },
      "text/plain": [
       "Generating train split: 0 examples [00:00, ? examples/s]"
      ]
     },
     "metadata": {},
     "output_type": "display_data"
    },
    {
     "data": {
      "application/vnd.jupyter.widget-view+json": {
       "model_id": "90c5e41d0ea045398067742e23a76055",
       "version_major": 2,
       "version_minor": 0
      },
      "text/plain": [
       "Downloading data:   0%|          | 0.00/12.1M [00:00<?, ?B/s]"
      ]
     },
     "metadata": {},
     "output_type": "display_data"
    },
    {
     "data": {
      "application/vnd.jupyter.widget-view+json": {
       "model_id": "13a7937eb2ab4587ba82dcfb31f5ed04",
       "version_major": 2,
       "version_minor": 0
      },
      "text/plain": [
       "Generating train split: 0 examples [00:00, ? examples/s]"
      ]
     },
     "metadata": {},
     "output_type": "display_data"
    },
    {
     "data": {
      "application/vnd.jupyter.widget-view+json": {
       "model_id": "9f7a8f19142a4183a31a86bf279c6984",
       "version_major": 2,
       "version_minor": 0
      },
      "text/plain": [
       "Downloading data:   0%|          | 0.00/10.8M [00:00<?, ?B/s]"
      ]
     },
     "metadata": {},
     "output_type": "display_data"
    },
    {
     "data": {
      "application/vnd.jupyter.widget-view+json": {
       "model_id": "1b06b3b6169d4a31b2bb40f3b0fc0c1c",
       "version_major": 2,
       "version_minor": 0
      },
      "text/plain": [
       "Generating train split: 0 examples [00:00, ? examples/s]"
      ]
     },
     "metadata": {},
     "output_type": "display_data"
    },
    {
     "data": {
      "application/vnd.jupyter.widget-view+json": {
       "model_id": "f85b9142e79743e9a5782d3cd2a0e8a7",
       "version_major": 2,
       "version_minor": 0
      },
      "text/plain": [
       "Downloading data:   0%|          | 0.00/19.3M [00:00<?, ?B/s]"
      ]
     },
     "metadata": {},
     "output_type": "display_data"
    },
    {
     "data": {
      "application/vnd.jupyter.widget-view+json": {
       "model_id": "bfbe4468fe9e4e2da94e915b24f382ed",
       "version_major": 2,
       "version_minor": 0
      },
      "text/plain": [
       "Generating train split: 0 examples [00:00, ? examples/s]"
      ]
     },
     "metadata": {},
     "output_type": "display_data"
    },
    {
     "data": {
      "application/vnd.jupyter.widget-view+json": {
       "model_id": "44a3fbb797c440c6bc54e58975cca5f9",
       "version_major": 2,
       "version_minor": 0
      },
      "text/plain": [
       "Downloading data:   0%|          | 0.00/21.9M [00:00<?, ?B/s]"
      ]
     },
     "metadata": {},
     "output_type": "display_data"
    },
    {
     "data": {
      "application/vnd.jupyter.widget-view+json": {
       "model_id": "641aa56a28924a49a73c771136a893ce",
       "version_major": 2,
       "version_minor": 0
      },
      "text/plain": [
       "Generating train split: 0 examples [00:00, ? examples/s]"
      ]
     },
     "metadata": {},
     "output_type": "display_data"
    },
    {
     "data": {
      "application/vnd.jupyter.widget-view+json": {
       "model_id": "a20a1e354c3e4199b9f032983f9c123a",
       "version_major": 2,
       "version_minor": 0
      },
      "text/plain": [
       "Downloading data:   0%|          | 0.00/19.6M [00:00<?, ?B/s]"
      ]
     },
     "metadata": {},
     "output_type": "display_data"
    },
    {
     "data": {
      "application/vnd.jupyter.widget-view+json": {
       "model_id": "a2ded8ad2eaa4a19959ecd8ae0bed6d7",
       "version_major": 2,
       "version_minor": 0
      },
      "text/plain": [
       "Generating train split: 0 examples [00:00, ? examples/s]"
      ]
     },
     "metadata": {},
     "output_type": "display_data"
    },
    {
     "data": {
      "application/vnd.jupyter.widget-view+json": {
       "model_id": "00e273a18d1146a2b0085f4cf437f36b",
       "version_major": 2,
       "version_minor": 0
      },
      "text/plain": [
       "Downloading data:   0%|          | 0.00/24.5M [00:00<?, ?B/s]"
      ]
     },
     "metadata": {},
     "output_type": "display_data"
    },
    {
     "data": {
      "application/vnd.jupyter.widget-view+json": {
       "model_id": "560a68b3fd4340108d0cce2602c2f083",
       "version_major": 2,
       "version_minor": 0
      },
      "text/plain": [
       "Generating train split: 0 examples [00:00, ? examples/s]"
      ]
     },
     "metadata": {},
     "output_type": "display_data"
    },
    {
     "data": {
      "application/vnd.jupyter.widget-view+json": {
       "model_id": "1f9c2df9c2bb4c3c95664c23803fbeda",
       "version_major": 2,
       "version_minor": 0
      },
      "text/plain": [
       "Downloading data:   0%|          | 0.00/24.2M [00:00<?, ?B/s]"
      ]
     },
     "metadata": {},
     "output_type": "display_data"
    },
    {
     "data": {
      "application/vnd.jupyter.widget-view+json": {
       "model_id": "96803b8f05ae47a0b5f9e687aa49f3c4",
       "version_major": 2,
       "version_minor": 0
      },
      "text/plain": [
       "Generating train split: 0 examples [00:00, ? examples/s]"
      ]
     },
     "metadata": {},
     "output_type": "display_data"
    },
    {
     "data": {
      "application/vnd.jupyter.widget-view+json": {
       "model_id": "f976b40f42cb4747b0365570c689f0ab",
       "version_major": 2,
       "version_minor": 0
      },
      "text/plain": [
       "Downloading data:   0%|          | 0.00/23.4M [00:00<?, ?B/s]"
      ]
     },
     "metadata": {},
     "output_type": "display_data"
    },
    {
     "data": {
      "application/vnd.jupyter.widget-view+json": {
       "model_id": "9fd4113987324e2cb30d06035165157a",
       "version_major": 2,
       "version_minor": 0
      },
      "text/plain": [
       "Generating train split: 0 examples [00:00, ? examples/s]"
      ]
     },
     "metadata": {},
     "output_type": "display_data"
    },
    {
     "data": {
      "application/vnd.jupyter.widget-view+json": {
       "model_id": "6cfa3da3398b4f86a5951e6fcadd683f",
       "version_major": 2,
       "version_minor": 0
      },
      "text/plain": [
       "Downloading data:   0%|          | 0.00/16.3M [00:00<?, ?B/s]"
      ]
     },
     "metadata": {},
     "output_type": "display_data"
    },
    {
     "data": {
      "application/vnd.jupyter.widget-view+json": {
       "model_id": "44e5db687bd14916a43f2b98886253d9",
       "version_major": 2,
       "version_minor": 0
      },
      "text/plain": [
       "Generating train split: 0 examples [00:00, ? examples/s]"
      ]
     },
     "metadata": {},
     "output_type": "display_data"
    },
    {
     "data": {
      "application/vnd.jupyter.widget-view+json": {
       "model_id": "e573c23afff44332873a1f2a9c8063eb",
       "version_major": 2,
       "version_minor": 0
      },
      "text/plain": [
       "Downloading data:   0%|          | 0.00/19.4M [00:00<?, ?B/s]"
      ]
     },
     "metadata": {},
     "output_type": "display_data"
    },
    {
     "data": {
      "application/vnd.jupyter.widget-view+json": {
       "model_id": "f15de49cde594e569f456370ac44fc65",
       "version_major": 2,
       "version_minor": 0
      },
      "text/plain": [
       "Generating train split: 0 examples [00:00, ? examples/s]"
      ]
     },
     "metadata": {},
     "output_type": "display_data"
    },
    {
     "data": {
      "application/vnd.jupyter.widget-view+json": {
       "model_id": "cc4498fab7454d9e8ed6eacafd3435d1",
       "version_major": 2,
       "version_minor": 0
      },
      "text/plain": [
       "Downloading data:   0%|          | 0.00/17.6M [00:00<?, ?B/s]"
      ]
     },
     "metadata": {},
     "output_type": "display_data"
    },
    {
     "data": {
      "application/vnd.jupyter.widget-view+json": {
       "model_id": "cc7b49baefae4301a92885922fa5fb0c",
       "version_major": 2,
       "version_minor": 0
      },
      "text/plain": [
       "Generating train split: 0 examples [00:00, ? examples/s]"
      ]
     },
     "metadata": {},
     "output_type": "display_data"
    },
    {
     "data": {
      "application/vnd.jupyter.widget-view+json": {
       "model_id": "869b3f0d5b1843b09922bb0eb2cca131",
       "version_major": 2,
       "version_minor": 0
      },
      "text/plain": [
       "Downloading data:   0%|          | 0.00/24.5M [00:00<?, ?B/s]"
      ]
     },
     "metadata": {},
     "output_type": "display_data"
    },
    {
     "data": {
      "application/vnd.jupyter.widget-view+json": {
       "model_id": "c76ede2646464e78a2ff85d7c49ed084",
       "version_major": 2,
       "version_minor": 0
      },
      "text/plain": [
       "Generating train split: 0 examples [00:00, ? examples/s]"
      ]
     },
     "metadata": {},
     "output_type": "display_data"
    },
    {
     "data": {
      "application/vnd.jupyter.widget-view+json": {
       "model_id": "bfc8ec1067124eb48b5f8d4f36b2c533",
       "version_major": 2,
       "version_minor": 0
      },
      "text/plain": [
       "Downloading data:   0%|          | 0.00/15.4M [00:00<?, ?B/s]"
      ]
     },
     "metadata": {},
     "output_type": "display_data"
    },
    {
     "data": {
      "application/vnd.jupyter.widget-view+json": {
       "model_id": "1b93440e17e548aba0c8daf3526e0dca",
       "version_major": 2,
       "version_minor": 0
      },
      "text/plain": [
       "Generating train split: 0 examples [00:00, ? examples/s]"
      ]
     },
     "metadata": {},
     "output_type": "display_data"
    },
    {
     "data": {
      "application/vnd.jupyter.widget-view+json": {
       "model_id": "ce8be96fc94145338c94f37c052ef212",
       "version_major": 2,
       "version_minor": 0
      },
      "text/plain": [
       "Downloading data:   0%|          | 0.00/11.0M [00:00<?, ?B/s]"
      ]
     },
     "metadata": {},
     "output_type": "display_data"
    },
    {
     "data": {
      "application/vnd.jupyter.widget-view+json": {
       "model_id": "0c2860efb043401ba5d9a998652d7575",
       "version_major": 2,
       "version_minor": 0
      },
      "text/plain": [
       "Generating train split: 0 examples [00:00, ? examples/s]"
      ]
     },
     "metadata": {},
     "output_type": "display_data"
    },
    {
     "data": {
      "application/vnd.jupyter.widget-view+json": {
       "model_id": "93dc38a33d604e0ab3621082e5261302",
       "version_major": 2,
       "version_minor": 0
      },
      "text/plain": [
       "Downloading data:   0%|          | 0.00/15.0M [00:00<?, ?B/s]"
      ]
     },
     "metadata": {},
     "output_type": "display_data"
    },
    {
     "data": {
      "application/vnd.jupyter.widget-view+json": {
       "model_id": "174cf51229334d2393d1285483cb14a0",
       "version_major": 2,
       "version_minor": 0
      },
      "text/plain": [
       "Generating train split: 0 examples [00:00, ? examples/s]"
      ]
     },
     "metadata": {},
     "output_type": "display_data"
    },
    {
     "data": {
      "application/vnd.jupyter.widget-view+json": {
       "model_id": "1e62f45619c143f2916afae9c2fe5266",
       "version_major": 2,
       "version_minor": 0
      },
      "text/plain": [
       "Downloading data:   0%|          | 0.00/16.1M [00:00<?, ?B/s]"
      ]
     },
     "metadata": {},
     "output_type": "display_data"
    },
    {
     "data": {
      "application/vnd.jupyter.widget-view+json": {
       "model_id": "4a9f70701db74f149610cbf153aa3da1",
       "version_major": 2,
       "version_minor": 0
      },
      "text/plain": [
       "Generating train split: 0 examples [00:00, ? examples/s]"
      ]
     },
     "metadata": {},
     "output_type": "display_data"
    },
    {
     "data": {
      "application/vnd.jupyter.widget-view+json": {
       "model_id": "d7521b5bb3c24e409afa2bc54b4a12ab",
       "version_major": 2,
       "version_minor": 0
      },
      "text/plain": [
       "Downloading data:   0%|          | 0.00/24.7M [00:00<?, ?B/s]"
      ]
     },
     "metadata": {},
     "output_type": "display_data"
    },
    {
     "data": {
      "application/vnd.jupyter.widget-view+json": {
       "model_id": "03cfbb2e034f4b319aa5ab3b9afea149",
       "version_major": 2,
       "version_minor": 0
      },
      "text/plain": [
       "Generating train split: 0 examples [00:00, ? examples/s]"
      ]
     },
     "metadata": {},
     "output_type": "display_data"
    },
    {
     "data": {
      "application/vnd.jupyter.widget-view+json": {
       "model_id": "4992eab16e7b4627b1d53db1431ab3e6",
       "version_major": 2,
       "version_minor": 0
      },
      "text/plain": [
       "Downloading data:   0%|          | 0.00/23.0M [00:00<?, ?B/s]"
      ]
     },
     "metadata": {},
     "output_type": "display_data"
    },
    {
     "data": {
      "application/vnd.jupyter.widget-view+json": {
       "model_id": "eab959186c914ba1b4ed751084ec66a0",
       "version_major": 2,
       "version_minor": 0
      },
      "text/plain": [
       "Generating train split: 0 examples [00:00, ? examples/s]"
      ]
     },
     "metadata": {},
     "output_type": "display_data"
    },
    {
     "data": {
      "application/vnd.jupyter.widget-view+json": {
       "model_id": "5893fe0e9f1b4aacb25d18effafacc22",
       "version_major": 2,
       "version_minor": 0
      },
      "text/plain": [
       "Downloading data:   0%|          | 0.00/14.0M [00:00<?, ?B/s]"
      ]
     },
     "metadata": {},
     "output_type": "display_data"
    },
    {
     "data": {
      "application/vnd.jupyter.widget-view+json": {
       "model_id": "0dbe097f3da34eeeb358e1c5673288b9",
       "version_major": 2,
       "version_minor": 0
      },
      "text/plain": [
       "Generating train split: 0 examples [00:00, ? examples/s]"
      ]
     },
     "metadata": {},
     "output_type": "display_data"
    },
    {
     "data": {
      "application/vnd.jupyter.widget-view+json": {
       "model_id": "6acd909e7af94a1ba519ffe84b2e1599",
       "version_major": 2,
       "version_minor": 0
      },
      "text/plain": [
       "Downloading data:   0%|          | 0.00/13.3M [00:00<?, ?B/s]"
      ]
     },
     "metadata": {},
     "output_type": "display_data"
    },
    {
     "data": {
      "application/vnd.jupyter.widget-view+json": {
       "model_id": "ce582233c9ef46739f9d1523e2c82149",
       "version_major": 2,
       "version_minor": 0
      },
      "text/plain": [
       "Generating train split: 0 examples [00:00, ? examples/s]"
      ]
     },
     "metadata": {},
     "output_type": "display_data"
    },
    {
     "data": {
      "application/vnd.jupyter.widget-view+json": {
       "model_id": "7c7499fbe5c7419a91863fdb98a09982",
       "version_major": 2,
       "version_minor": 0
      },
      "text/plain": [
       "Downloading data:   0%|          | 0.00/19.1M [00:00<?, ?B/s]"
      ]
     },
     "metadata": {},
     "output_type": "display_data"
    },
    {
     "data": {
      "application/vnd.jupyter.widget-view+json": {
       "model_id": "79e6f113de6141fb9b6b3539b807a667",
       "version_major": 2,
       "version_minor": 0
      },
      "text/plain": [
       "Generating train split: 0 examples [00:00, ? examples/s]"
      ]
     },
     "metadata": {},
     "output_type": "display_data"
    },
    {
     "data": {
      "application/vnd.jupyter.widget-view+json": {
       "model_id": "eebb741d8b6342728d2c197554d558b9",
       "version_major": 2,
       "version_minor": 0
      },
      "text/plain": [
       "Downloading data:   0%|          | 0.00/19.9M [00:00<?, ?B/s]"
      ]
     },
     "metadata": {},
     "output_type": "display_data"
    },
    {
     "data": {
      "application/vnd.jupyter.widget-view+json": {
       "model_id": "40d12dcf69014c53a07ea9facbf55a5f",
       "version_major": 2,
       "version_minor": 0
      },
      "text/plain": [
       "Generating train split: 0 examples [00:00, ? examples/s]"
      ]
     },
     "metadata": {},
     "output_type": "display_data"
    },
    {
     "data": {
      "application/vnd.jupyter.widget-view+json": {
       "model_id": "eb9d2b2c4d9c4acf92fa529d3d32eefe",
       "version_major": 2,
       "version_minor": 0
      },
      "text/plain": [
       "Downloading data:   0%|          | 0.00/19.3M [00:00<?, ?B/s]"
      ]
     },
     "metadata": {},
     "output_type": "display_data"
    },
    {
     "data": {
      "application/vnd.jupyter.widget-view+json": {
       "model_id": "3184c72dd69746efa30694af7e6bac15",
       "version_major": 2,
       "version_minor": 0
      },
      "text/plain": [
       "Generating train split: 0 examples [00:00, ? examples/s]"
      ]
     },
     "metadata": {},
     "output_type": "display_data"
    },
    {
     "data": {
      "application/vnd.jupyter.widget-view+json": {
       "model_id": "c4297a758aff45bd8c981849a54a7cd0",
       "version_major": 2,
       "version_minor": 0
      },
      "text/plain": [
       "Downloading data:   0%|          | 0.00/22.2M [00:00<?, ?B/s]"
      ]
     },
     "metadata": {},
     "output_type": "display_data"
    },
    {
     "data": {
      "application/vnd.jupyter.widget-view+json": {
       "model_id": "1f74b57702dd4f2b94b42ed072e4ffff",
       "version_major": 2,
       "version_minor": 0
      },
      "text/plain": [
       "Generating train split: 0 examples [00:00, ? examples/s]"
      ]
     },
     "metadata": {},
     "output_type": "display_data"
    },
    {
     "data": {
      "application/vnd.jupyter.widget-view+json": {
       "model_id": "444b78c058b44550ae9d1c8ce19153fc",
       "version_major": 2,
       "version_minor": 0
      },
      "text/plain": [
       "Downloading data:   0%|          | 0.00/24.0M [00:00<?, ?B/s]"
      ]
     },
     "metadata": {},
     "output_type": "display_data"
    },
    {
     "data": {
      "application/vnd.jupyter.widget-view+json": {
       "model_id": "5c9d8414bafe44dc86a687f3c26339ea",
       "version_major": 2,
       "version_minor": 0
      },
      "text/plain": [
       "Generating train split: 0 examples [00:00, ? examples/s]"
      ]
     },
     "metadata": {},
     "output_type": "display_data"
    }
   ],
   "source": [
    "# Loop through each country code\n",
    "for country in country_codes[:]:\n",
    "    config_name = f\"{country}_data\"\n",
    "    \n",
    "    try:\n",
    "        # Load the dataset for this country\n",
    "        country_dataset = load_dataset(\"bkoyuncu/MacroEcon\", config_name)\n",
    "        # Save the dataset to a CSV file\n",
    "        country_df = pd.DataFrame(country_dataset['train'])\n",
    "        country_df.to_csv(os.path.join(csv_dataset_path, f\"{country}_features.csv\"), index=False)\n",
    "        # print(country_df.head())\n",
    "    except Exception as e:\n",
    "        print(f\"Error loading dataset for {country}: {e}\")\n",
    "        continue\n"
   ]
  },
  {
   "cell_type": "code",
   "execution_count": 88,
   "metadata": {},
   "outputs": [],
   "source": [
    "def flatten_list_of_lists(list_of_lists):\n",
    "    \"\"\"\n",
    "    Converts a list of lists into a single flattened list.\n",
    "    \n",
    "    Args:\n",
    "        list_of_lists: A list containing other lists\n",
    "        \n",
    "    Returns:\n",
    "        A single list with all elements from the sublists\n",
    "    \"\"\"\n",
    "    return [item for sublist in list_of_lists for item in sublist]\n",
    "\n",
    "\n",
    "def read_variate_names(dir, country_name):\n",
    "\n",
    "    file_path = os.path.join(dir, f\"{country_name}_variates.txt\")\n",
    "\n",
    "    with open(file_path, 'r') as file:\n",
    "        content = file.read()\n",
    "        csv_names = content.split(';')\n",
    "    return csv_names\n",
    "\n",
    "import pandas as pd\n",
    "\n",
    "def filter_dataframe_by_time_span(df, start_time, end_time):\n",
    "    \"\"\"\n",
    "    Filters the DataFrame based on the given time-span of start and end time indices.\n",
    "\n",
    "    Parameters:\n",
    "    df (pd.DataFrame): The input DataFrame with a datetime index.\n",
    "    start_time (str): The start time index as a string.\n",
    "    end_time (str): The end time index as a string.\n",
    "\n",
    "    Returns:\n",
    "    pd.DataFrame: The filtered DataFrame.\n",
    "    \"\"\"\n",
    "    # Ensure that the index is in datetime format\n",
    "    df.index = pd.to_datetime(df.index)\n",
    "\n",
    "    # Filter the DataFrame based on the time-span\n",
    "    filtered_df = df[(df.index >= start_time) & (df.index <= end_time)]\n",
    "\n",
    "    return filtered_df\n",
    "\n",
    "\n",
    "import pandas as pd\n",
    "import datasets\n",
    "from typing import Any, Generator, List\n",
    "from datasets import Features, Sequence, Value\n",
    "import pandas as pd\n",
    "import re\n",
    "from collections import defaultdict\n",
    "\n",
    "def extract_distinct_features(columns):\n",
    "    # Dictionary to store features and their row numbers\n",
    "    feature_rows = defaultdict(set)\n",
    "    \n",
    "    # Extract base feature and row for each column\n",
    "    for col in columns:\n",
    "        # Split the column name by underscore\n",
    "        parts = col.split('_')\n",
    "        \n",
    "        # Take the first two parts as the base feature\n",
    "        if len(parts) >= 2:\n",
    "            base_feature = f\"{parts[0]}_{parts[1]}\"\n",
    "            \n",
    "            # Find the row number\n",
    "            row_match = re.search(r'row_(\\d+)', col)\n",
    "            if row_match:\n",
    "                row_num = int(row_match.group(1))\n",
    "                feature_rows[base_feature].add(row_num)\n",
    "    \n",
    "    # Create the simplified feature list\n",
    "    distinct_features = []\n",
    "    for feature, rows in sorted(feature_rows.items()):\n",
    "        feature_rows_list = [f\"{feature}_row_{row}\" for row in sorted(rows)]\n",
    "        distinct_features.append(feature_rows_list)\n",
    "    # return sorted(list(distinct_features))\n",
    "    return flatten_list_of_lists(distinct_features)\n",
    "\n",
    "\n",
    "\n",
    "def multivar_example_gen_func(df: pd.DataFrame, feature_names, country_name, df_cov: pd.DataFrame, feature_names_cov) -> Generator[dict[str, Any], None, None]:\n",
    "    yield {\n",
    "        \"target\": df.to_numpy().T,  # array of shape (var, time)\n",
    "        # \"past_feat_dynamic_real\": df_cov.to_numpy().T,\n",
    "        \"start\": df.index[0],\n",
    "        \"freq\": pd.infer_freq(df.index),\n",
    "        \"item_id\": \"item_0\",\n",
    "        \"country_name\": country_name,\n",
    "        \"column_names\": df.columns.to_list(),\n",
    "        \"feature_names\": feature_names,# df.columns.to_list()\n",
    "        \"feature_names_cov\":feature_names_cov\n",
    "    }\n",
    "\n",
    "def create_hf_dataset_from_df(df: pd.DataFrame, df_cov: pd.DataFrame, output_dir: str, feature_names: List[str], country_name:str, feature_names_cov: List[str]):\n",
    "    features = Features(\n",
    "        dict(\n",
    "            target=Sequence(\n",
    "                Sequence(Value(\"float32\")), length=len(df.columns)\n",
    "            ),  # multivariate time series are saved as (var, time)\n",
    "            # past_feat_dynamic_real=Sequence(\n",
    "                # Sequence(Value(\"float32\")), length=len(df_cov.columns)\n",
    "            # ),\n",
    "            start=Value(\"timestamp[s]\"),\n",
    "            freq=Value(\"string\"),\n",
    "            item_id=Value(\"string\"),\n",
    "            country_name = Value(\"string\"),\n",
    "            column_names = Sequence(Value(\"string\")),\n",
    "            feature_names=Sequence(Value(\"string\")),\n",
    "            feature_names_cov=Sequence(Value(\"string\"))\n",
    "        )\n",
    "    )\n",
    "    \n",
    "    hf_dataset = datasets.Dataset.from_generator(\n",
    "        lambda: multivar_example_gen_func(df=df, feature_names = feature_names, country_name=country_name, df_cov=df_cov,feature_names_cov=feature_names_cov), features=features\n",
    "    )\n",
    "    hf_dataset.save_to_disk(output_dir)\n",
    "    print(f\"Dataset saved to {output_dir}\")"
   ]
  },
  {
   "cell_type": "code",
   "execution_count": 89,
   "metadata": {},
   "outputs": [
    {
     "name": "stdout",
     "output_type": "stream",
     "text": [
      "1 {'start_time': '1984-01-01', 'end_time': '1994-12-31'}\n",
      "['A_CPCH_row_0', 'A_CPI_row_0', 'A_FXSP_row_0', 'A_FXSP_row_1', 'A_GDPN_row_0', 'D_EE58_row_0', 'D_FXSP_row_0', 'D_FXSP_row_1', 'D_POLR_row_0', 'M_CPCH_row_0', 'M_CPI_row_0', 'M_CPI_row_2', 'M_CPI_row_3', 'M_CPI_row_4', 'M_EE58_row_0', 'M_FXSP_row_0', 'M_FXSP_row_1', 'M_FXSP_row_2', 'M_FXSP_row_3', 'M_POLR_row_0', 'Q_FXSP_row_0', 'Q_FXSP_row_1', 'Q_FXSP_row_2', 'Q_FXSP_row_3']\n"
     ]
    },
    {
     "data": {
      "application/vnd.jupyter.widget-view+json": {
       "model_id": "02e6709b99cb403ca47935883cca8c45",
       "version_major": 2,
       "version_minor": 0
      },
      "text/plain": [
       "Generating train split: 0 examples [00:00, ? examples/s]"
      ]
     },
     "metadata": {},
     "output_type": "display_data"
    },
    {
     "data": {
      "application/vnd.jupyter.widget-view+json": {
       "model_id": "080639cedd894c648ffd4a23e9b343b2",
       "version_major": 2,
       "version_minor": 0
      },
      "text/plain": [
       "Saving the dataset (0/1 shards):   0%|          | 0/1 [00:00<?, ? examples/s]"
      ]
     },
     "metadata": {},
     "output_type": "display_data"
    },
    {
     "name": "stdout",
     "output_type": "stream",
     "text": [
      "Dataset saved to ./dataset/train_val_split//hr_split_1\n",
      "2 {'start_time': '1996-01-01', 'end_time': '2004-12-31'}\n",
      "['A_CPCH_row_0', 'A_CPI_row_0', 'A_FXSP_row_0', 'A_FXSP_row_1', 'A_GDPN_row_0', 'D_EE58_row_0', 'D_FXSP_row_0', 'D_FXSP_row_1', 'D_POLR_row_0', 'M_CPCH_row_0', 'M_CPI_row_0', 'M_CPI_row_2', 'M_CPI_row_3', 'M_CPI_row_4', 'M_EE58_row_0', 'M_FXSP_row_0', 'M_FXSP_row_1', 'M_FXSP_row_2', 'M_FXSP_row_3', 'M_POLR_row_0', 'Q_FXSP_row_0', 'Q_FXSP_row_1', 'Q_FXSP_row_2', 'Q_FXSP_row_3']\n"
     ]
    },
    {
     "data": {
      "application/vnd.jupyter.widget-view+json": {
       "model_id": "17341fd529744aa2b1eadee00735b5ba",
       "version_major": 2,
       "version_minor": 0
      },
      "text/plain": [
       "Generating train split: 0 examples [00:00, ? examples/s]"
      ]
     },
     "metadata": {},
     "output_type": "display_data"
    },
    {
     "data": {
      "application/vnd.jupyter.widget-view+json": {
       "model_id": "521bae65c9f1434ca72d6531ee124534",
       "version_major": 2,
       "version_minor": 0
      },
      "text/plain": [
       "Saving the dataset (0/1 shards):   0%|          | 0/1 [00:00<?, ? examples/s]"
      ]
     },
     "metadata": {},
     "output_type": "display_data"
    },
    {
     "name": "stdout",
     "output_type": "stream",
     "text": [
      "Dataset saved to ./dataset/train_val_split//hr_split_2\n",
      "3 {'start_time': '2006-01-01', 'end_time': '2014-12-31'}\n",
      "['A_CPCH_row_0', 'A_CPI_row_0', 'A_FXSP_row_0', 'A_FXSP_row_1', 'A_GDPN_row_0', 'D_EE58_row_0', 'D_FXSP_row_0', 'D_FXSP_row_1', 'D_POLR_row_0', 'M_CPCH_row_0', 'M_CPI_row_0', 'M_CPI_row_2', 'M_CPI_row_3', 'M_CPI_row_4', 'M_EE58_row_0', 'M_FXSP_row_0', 'M_FXSP_row_1', 'M_FXSP_row_2', 'M_FXSP_row_3', 'M_POLR_row_0', 'Q_FXSP_row_0', 'Q_FXSP_row_1', 'Q_FXSP_row_2', 'Q_FXSP_row_3']\n"
     ]
    },
    {
     "data": {
      "application/vnd.jupyter.widget-view+json": {
       "model_id": "54db687a6e484f6f837e6489ee7a533d",
       "version_major": 2,
       "version_minor": 0
      },
      "text/plain": [
       "Generating train split: 0 examples [00:00, ? examples/s]"
      ]
     },
     "metadata": {},
     "output_type": "display_data"
    },
    {
     "data": {
      "application/vnd.jupyter.widget-view+json": {
       "model_id": "6d419876036a43388e968cd13f9c3a57",
       "version_major": 2,
       "version_minor": 0
      },
      "text/plain": [
       "Saving the dataset (0/1 shards):   0%|          | 0/1 [00:00<?, ? examples/s]"
      ]
     },
     "metadata": {},
     "output_type": "display_data"
    },
    {
     "name": "stdout",
     "output_type": "stream",
     "text": [
      "Dataset saved to ./dataset/train_val_split//hr_split_3\n",
      "4 {'start_time': '2016-01-01', 'end_time': '2022-12-31'}\n",
      "['A_CPCH_row_0', 'A_CPI_row_0', 'A_FXSP_row_0', 'A_FXSP_row_1', 'A_GDPN_row_0', 'D_EE58_row_0', 'D_FXSP_row_0', 'D_FXSP_row_1', 'D_POLR_row_0', 'M_CPCH_row_0', 'M_CPI_row_0', 'M_CPI_row_2', 'M_CPI_row_3', 'M_CPI_row_4', 'M_EE58_row_0', 'M_FXSP_row_0', 'M_FXSP_row_1', 'M_FXSP_row_2', 'M_FXSP_row_3', 'M_POLR_row_0', 'Q_FXSP_row_0', 'Q_FXSP_row_1', 'Q_FXSP_row_2', 'Q_FXSP_row_3']\n"
     ]
    },
    {
     "data": {
      "application/vnd.jupyter.widget-view+json": {
       "model_id": "bc6eaf92260e45ca8f29f6a046f421b3",
       "version_major": 2,
       "version_minor": 0
      },
      "text/plain": [
       "Generating train split: 0 examples [00:00, ? examples/s]"
      ]
     },
     "metadata": {},
     "output_type": "display_data"
    },
    {
     "data": {
      "application/vnd.jupyter.widget-view+json": {
       "model_id": "c1ada748ea014df6bfc95dd2cbb5fb1f",
       "version_major": 2,
       "version_minor": 0
      },
      "text/plain": [
       "Saving the dataset (0/1 shards):   0%|          | 0/1 [00:00<?, ? examples/s]"
      ]
     },
     "metadata": {},
     "output_type": "display_data"
    },
    {
     "name": "stdout",
     "output_type": "stream",
     "text": [
      "Dataset saved to ./dataset/train_val_split//hr_split_4\n",
      "1 {'start_time': '1984-01-01', 'end_time': '1994-12-31'}\n",
      "['A_CPCH_row_0', 'A_CPI_row_0', 'A_FXSP_row_0', 'A_FXSP_row_1', 'D_EE58_row_0', 'D_FXSP_row_0', 'D_FXSP_row_1', 'D_POLR_row_0', 'M_CPCH_row_0', 'M_CPI_row_0', 'M_CPI_row_1', 'M_CPI_row_2', 'M_EE58_row_0', 'M_FXSP_row_0', 'M_FXSP_row_1', 'M_FXSP_row_2', 'M_FXSP_row_3', 'M_POLR_row_0', 'Q_FXSP_row_0', 'Q_FXSP_row_1', 'Q_FXSP_row_2', 'Q_FXSP_row_3']\n"
     ]
    },
    {
     "data": {
      "application/vnd.jupyter.widget-view+json": {
       "model_id": "679b940722ad473c83343a96be7b1bcc",
       "version_major": 2,
       "version_minor": 0
      },
      "text/plain": [
       "Generating train split: 0 examples [00:00, ? examples/s]"
      ]
     },
     "metadata": {},
     "output_type": "display_data"
    },
    {
     "data": {
      "application/vnd.jupyter.widget-view+json": {
       "model_id": "f35afd0b2f734a1abbba9588b6b3bcad",
       "version_major": 2,
       "version_minor": 0
      },
      "text/plain": [
       "Saving the dataset (0/1 shards):   0%|          | 0/1 [00:00<?, ? examples/s]"
      ]
     },
     "metadata": {},
     "output_type": "display_data"
    },
    {
     "name": "stdout",
     "output_type": "stream",
     "text": [
      "Dataset saved to ./dataset/train_val_split//hu_split_1\n",
      "2 {'start_time': '1996-01-01', 'end_time': '2004-12-31'}\n",
      "['A_CPCH_row_0', 'A_CPI_row_0', 'A_FXSP_row_0', 'A_FXSP_row_1', 'D_EE58_row_0', 'D_FXSP_row_0', 'D_FXSP_row_1', 'D_POLR_row_0', 'M_CPCH_row_0', 'M_CPI_row_0', 'M_CPI_row_1', 'M_CPI_row_2', 'M_EE58_row_0', 'M_FXSP_row_0', 'M_FXSP_row_1', 'M_FXSP_row_2', 'M_FXSP_row_3', 'M_POLR_row_0', 'Q_FXSP_row_0', 'Q_FXSP_row_1', 'Q_FXSP_row_2', 'Q_FXSP_row_3']\n"
     ]
    },
    {
     "data": {
      "application/vnd.jupyter.widget-view+json": {
       "model_id": "ab7fb35760084d56aa880819be580af1",
       "version_major": 2,
       "version_minor": 0
      },
      "text/plain": [
       "Generating train split: 0 examples [00:00, ? examples/s]"
      ]
     },
     "metadata": {},
     "output_type": "display_data"
    },
    {
     "data": {
      "application/vnd.jupyter.widget-view+json": {
       "model_id": "d4213c0347da42318890dd1af04def92",
       "version_major": 2,
       "version_minor": 0
      },
      "text/plain": [
       "Saving the dataset (0/1 shards):   0%|          | 0/1 [00:00<?, ? examples/s]"
      ]
     },
     "metadata": {},
     "output_type": "display_data"
    },
    {
     "name": "stdout",
     "output_type": "stream",
     "text": [
      "Dataset saved to ./dataset/train_val_split//hu_split_2\n",
      "3 {'start_time': '2006-01-01', 'end_time': '2014-12-31'}\n",
      "['A_CPCH_row_0', 'A_CPI_row_0', 'A_FXSP_row_0', 'A_FXSP_row_1', 'D_EE58_row_0', 'D_FXSP_row_0', 'D_FXSP_row_1', 'D_POLR_row_0', 'M_CPCH_row_0', 'M_CPI_row_0', 'M_CPI_row_1', 'M_CPI_row_2', 'M_EE58_row_0', 'M_FXSP_row_0', 'M_FXSP_row_1', 'M_FXSP_row_2', 'M_FXSP_row_3', 'M_POLR_row_0', 'Q_FXSP_row_0', 'Q_FXSP_row_1', 'Q_FXSP_row_2', 'Q_FXSP_row_3']\n"
     ]
    },
    {
     "data": {
      "application/vnd.jupyter.widget-view+json": {
       "model_id": "953669a8bf774ef7b93823d0c92f6422",
       "version_major": 2,
       "version_minor": 0
      },
      "text/plain": [
       "Generating train split: 0 examples [00:00, ? examples/s]"
      ]
     },
     "metadata": {},
     "output_type": "display_data"
    },
    {
     "data": {
      "application/vnd.jupyter.widget-view+json": {
       "model_id": "56fd32e986854762a1f12440c9e0c2c6",
       "version_major": 2,
       "version_minor": 0
      },
      "text/plain": [
       "Saving the dataset (0/1 shards):   0%|          | 0/1 [00:00<?, ? examples/s]"
      ]
     },
     "metadata": {},
     "output_type": "display_data"
    },
    {
     "name": "stdout",
     "output_type": "stream",
     "text": [
      "Dataset saved to ./dataset/train_val_split//hu_split_3\n",
      "4 {'start_time': '2016-01-01', 'end_time': '2022-12-31'}\n",
      "['A_CPCH_row_0', 'A_CPI_row_0', 'A_FXSP_row_0', 'A_FXSP_row_1', 'D_EE58_row_0', 'D_FXSP_row_0', 'D_FXSP_row_1', 'D_POLR_row_0', 'M_CPCH_row_0', 'M_CPI_row_0', 'M_CPI_row_1', 'M_CPI_row_2', 'M_EE58_row_0', 'M_FXSP_row_0', 'M_FXSP_row_1', 'M_FXSP_row_2', 'M_FXSP_row_3', 'M_POLR_row_0', 'Q_FXSP_row_0', 'Q_FXSP_row_1', 'Q_FXSP_row_2', 'Q_FXSP_row_3']\n"
     ]
    },
    {
     "data": {
      "application/vnd.jupyter.widget-view+json": {
       "model_id": "70a6bbbc6f964f399411e743baf63283",
       "version_major": 2,
       "version_minor": 0
      },
      "text/plain": [
       "Generating train split: 0 examples [00:00, ? examples/s]"
      ]
     },
     "metadata": {},
     "output_type": "display_data"
    },
    {
     "data": {
      "application/vnd.jupyter.widget-view+json": {
       "model_id": "5cf605ff33c24c27af0fe92634ba8dbe",
       "version_major": 2,
       "version_minor": 0
      },
      "text/plain": [
       "Saving the dataset (0/1 shards):   0%|          | 0/1 [00:00<?, ? examples/s]"
      ]
     },
     "metadata": {},
     "output_type": "display_data"
    },
    {
     "name": "stdout",
     "output_type": "stream",
     "text": [
      "Dataset saved to ./dataset/train_val_split//hu_split_4\n",
      "1 {'start_time': '1984-01-01', 'end_time': '1994-12-31'}\n",
      "['A_CPCH_row_0', 'A_CPCH_row_1', 'A_CPI_row_0', 'A_FXSP_row_0', 'A_FXSP_row_1', 'A_GDPN_row_0', 'A_MNY1_row_0', 'A_MNY1_row_1', 'D_EE26_row_0', 'D_EE58_row_0', 'D_FXSP_row_0', 'D_FXSP_row_1', 'M_CPCH_row_0', 'M_CPI_row_0', 'M_CPI_row_1', 'M_EE26_row_0', 'M_EE58_row_0', 'M_FXSP_row_0', 'M_FXSP_row_1', 'M_FXSP_row_2', 'M_FXSP_row_3', 'Q_FXSP_row_0', 'Q_FXSP_row_1', 'Q_FXSP_row_2', 'Q_FXSP_row_3']\n"
     ]
    },
    {
     "data": {
      "application/vnd.jupyter.widget-view+json": {
       "model_id": "0ac8034d53014217b400a38f98e19685",
       "version_major": 2,
       "version_minor": 0
      },
      "text/plain": [
       "Generating train split: 0 examples [00:00, ? examples/s]"
      ]
     },
     "metadata": {},
     "output_type": "display_data"
    },
    {
     "data": {
      "application/vnd.jupyter.widget-view+json": {
       "model_id": "2c52103b5ab645cf90509eae3822e066",
       "version_major": 2,
       "version_minor": 0
      },
      "text/plain": [
       "Saving the dataset (0/1 shards):   0%|          | 0/1 [00:00<?, ? examples/s]"
      ]
     },
     "metadata": {},
     "output_type": "display_data"
    },
    {
     "name": "stdout",
     "output_type": "stream",
     "text": [
      "Dataset saved to ./dataset/train_val_split//sg_split_1\n",
      "2 {'start_time': '1996-01-01', 'end_time': '2004-12-31'}\n",
      "['A_CPCH_row_0', 'A_CPCH_row_1', 'A_CPI_row_0', 'A_FXSP_row_0', 'A_FXSP_row_1', 'A_GDPN_row_0', 'A_MNY1_row_0', 'A_MNY1_row_1', 'D_EE26_row_0', 'D_EE58_row_0', 'D_FXSP_row_0', 'D_FXSP_row_1', 'M_CPCH_row_0', 'M_CPI_row_0', 'M_CPI_row_1', 'M_EE26_row_0', 'M_EE58_row_0', 'M_FXSP_row_0', 'M_FXSP_row_1', 'M_FXSP_row_2', 'M_FXSP_row_3', 'Q_FXSP_row_0', 'Q_FXSP_row_1', 'Q_FXSP_row_2', 'Q_FXSP_row_3']\n"
     ]
    },
    {
     "data": {
      "application/vnd.jupyter.widget-view+json": {
       "model_id": "ca97181f8e784226b191535cfcd0045d",
       "version_major": 2,
       "version_minor": 0
      },
      "text/plain": [
       "Generating train split: 0 examples [00:00, ? examples/s]"
      ]
     },
     "metadata": {},
     "output_type": "display_data"
    },
    {
     "data": {
      "application/vnd.jupyter.widget-view+json": {
       "model_id": "ed3260aec0104b48ac8015bf7c64aad2",
       "version_major": 2,
       "version_minor": 0
      },
      "text/plain": [
       "Saving the dataset (0/1 shards):   0%|          | 0/1 [00:00<?, ? examples/s]"
      ]
     },
     "metadata": {},
     "output_type": "display_data"
    },
    {
     "name": "stdout",
     "output_type": "stream",
     "text": [
      "Dataset saved to ./dataset/train_val_split//sg_split_2\n",
      "3 {'start_time': '2006-01-01', 'end_time': '2014-12-31'}\n",
      "['A_CPCH_row_0', 'A_CPCH_row_1', 'A_CPI_row_0', 'A_FXSP_row_0', 'A_FXSP_row_1', 'A_GDPN_row_0', 'A_MNY1_row_0', 'A_MNY1_row_1', 'D_EE26_row_0', 'D_EE58_row_0', 'D_FXSP_row_0', 'D_FXSP_row_1', 'M_CPCH_row_0', 'M_CPI_row_0', 'M_CPI_row_1', 'M_EE26_row_0', 'M_EE58_row_0', 'M_FXSP_row_0', 'M_FXSP_row_1', 'M_FXSP_row_2', 'M_FXSP_row_3', 'Q_FXSP_row_0', 'Q_FXSP_row_1', 'Q_FXSP_row_2', 'Q_FXSP_row_3']\n"
     ]
    },
    {
     "data": {
      "application/vnd.jupyter.widget-view+json": {
       "model_id": "4d4b26d19e6b4fc7ba22509f694deb09",
       "version_major": 2,
       "version_minor": 0
      },
      "text/plain": [
       "Generating train split: 0 examples [00:00, ? examples/s]"
      ]
     },
     "metadata": {},
     "output_type": "display_data"
    },
    {
     "data": {
      "application/vnd.jupyter.widget-view+json": {
       "model_id": "c4aac7fd009043b7aba17f09e6debc45",
       "version_major": 2,
       "version_minor": 0
      },
      "text/plain": [
       "Saving the dataset (0/1 shards):   0%|          | 0/1 [00:00<?, ? examples/s]"
      ]
     },
     "metadata": {},
     "output_type": "display_data"
    },
    {
     "name": "stdout",
     "output_type": "stream",
     "text": [
      "Dataset saved to ./dataset/train_val_split//sg_split_3\n",
      "4 {'start_time': '2016-01-01', 'end_time': '2022-12-31'}\n",
      "['A_CPCH_row_0', 'A_CPCH_row_1', 'A_CPI_row_0', 'A_FXSP_row_0', 'A_FXSP_row_1', 'A_GDPN_row_0', 'A_MNY1_row_0', 'A_MNY1_row_1', 'D_EE26_row_0', 'D_EE58_row_0', 'D_FXSP_row_0', 'D_FXSP_row_1', 'M_CPCH_row_0', 'M_CPI_row_0', 'M_CPI_row_1', 'M_EE26_row_0', 'M_EE58_row_0', 'M_FXSP_row_0', 'M_FXSP_row_1', 'M_FXSP_row_2', 'M_FXSP_row_3', 'Q_FXSP_row_0', 'Q_FXSP_row_1', 'Q_FXSP_row_2', 'Q_FXSP_row_3']\n"
     ]
    },
    {
     "data": {
      "application/vnd.jupyter.widget-view+json": {
       "model_id": "cea31facafcc450186371f25f5a74fea",
       "version_major": 2,
       "version_minor": 0
      },
      "text/plain": [
       "Generating train split: 0 examples [00:00, ? examples/s]"
      ]
     },
     "metadata": {},
     "output_type": "display_data"
    },
    {
     "data": {
      "application/vnd.jupyter.widget-view+json": {
       "model_id": "0c5eb347c225448d953e9fd5844161de",
       "version_major": 2,
       "version_minor": 0
      },
      "text/plain": [
       "Saving the dataset (0/1 shards):   0%|          | 0/1 [00:00<?, ? examples/s]"
      ]
     },
     "metadata": {},
     "output_type": "display_data"
    },
    {
     "name": "stdout",
     "output_type": "stream",
     "text": [
      "Dataset saved to ./dataset/train_val_split//sg_split_4\n",
      "1 {'start_time': '1984-01-01', 'end_time': '1994-12-31'}\n",
      "['A_CPCH_row_0', 'A_CPI_row_0', 'A_FXSP_row_0', 'A_FXSP_row_1', 'D_EE58_row_0', 'D_FXSP_row_0', 'D_FXSP_row_1', 'D_POLR_row_0', 'M_CPCH_row_0', 'M_CPI_row_0', 'M_EE58_row_0', 'M_FXSP_row_0', 'M_FXSP_row_1', 'M_FXSP_row_2', 'M_FXSP_row_3', 'M_POLR_row_0', 'Q_FXSP_row_0', 'Q_FXSP_row_1', 'Q_FXSP_row_2', 'Q_FXSP_row_3']\n"
     ]
    },
    {
     "data": {
      "application/vnd.jupyter.widget-view+json": {
       "model_id": "7378139275a344dc8a9ac130438aae8b",
       "version_major": 2,
       "version_minor": 0
      },
      "text/plain": [
       "Generating train split: 0 examples [00:00, ? examples/s]"
      ]
     },
     "metadata": {},
     "output_type": "display_data"
    },
    {
     "data": {
      "application/vnd.jupyter.widget-view+json": {
       "model_id": "504f143966694960abdb3836c256134f",
       "version_major": 2,
       "version_minor": 0
      },
      "text/plain": [
       "Saving the dataset (0/1 shards):   0%|          | 0/1 [00:00<?, ? examples/s]"
      ]
     },
     "metadata": {},
     "output_type": "display_data"
    },
    {
     "name": "stdout",
     "output_type": "stream",
     "text": [
      "Dataset saved to ./dataset/train_val_split//cz_split_1\n",
      "2 {'start_time': '1996-01-01', 'end_time': '2004-12-31'}\n",
      "['A_CPCH_row_0', 'A_CPI_row_0', 'A_FXSP_row_0', 'A_FXSP_row_1', 'D_EE58_row_0', 'D_FXSP_row_0', 'D_FXSP_row_1', 'D_POLR_row_0', 'M_CPCH_row_0', 'M_CPI_row_0', 'M_EE58_row_0', 'M_FXSP_row_0', 'M_FXSP_row_1', 'M_FXSP_row_2', 'M_FXSP_row_3', 'M_POLR_row_0', 'Q_FXSP_row_0', 'Q_FXSP_row_1', 'Q_FXSP_row_2', 'Q_FXSP_row_3']\n"
     ]
    },
    {
     "data": {
      "application/vnd.jupyter.widget-view+json": {
       "model_id": "0762bb981a0d4a7a8c8a558be7197144",
       "version_major": 2,
       "version_minor": 0
      },
      "text/plain": [
       "Generating train split: 0 examples [00:00, ? examples/s]"
      ]
     },
     "metadata": {},
     "output_type": "display_data"
    },
    {
     "data": {
      "application/vnd.jupyter.widget-view+json": {
       "model_id": "cfeeefbb64994bbe9a9259a078983ca0",
       "version_major": 2,
       "version_minor": 0
      },
      "text/plain": [
       "Saving the dataset (0/1 shards):   0%|          | 0/1 [00:00<?, ? examples/s]"
      ]
     },
     "metadata": {},
     "output_type": "display_data"
    },
    {
     "name": "stdout",
     "output_type": "stream",
     "text": [
      "Dataset saved to ./dataset/train_val_split//cz_split_2\n",
      "3 {'start_time': '2006-01-01', 'end_time': '2014-12-31'}\n",
      "['A_CPCH_row_0', 'A_CPI_row_0', 'A_FXSP_row_0', 'A_FXSP_row_1', 'D_EE58_row_0', 'D_FXSP_row_0', 'D_FXSP_row_1', 'D_POLR_row_0', 'M_CPCH_row_0', 'M_CPI_row_0', 'M_EE58_row_0', 'M_FXSP_row_0', 'M_FXSP_row_1', 'M_FXSP_row_2', 'M_FXSP_row_3', 'M_POLR_row_0', 'Q_FXSP_row_0', 'Q_FXSP_row_1', 'Q_FXSP_row_2', 'Q_FXSP_row_3']\n"
     ]
    },
    {
     "data": {
      "application/vnd.jupyter.widget-view+json": {
       "model_id": "3260329e0e68484384f7f285324589bf",
       "version_major": 2,
       "version_minor": 0
      },
      "text/plain": [
       "Generating train split: 0 examples [00:00, ? examples/s]"
      ]
     },
     "metadata": {},
     "output_type": "display_data"
    },
    {
     "data": {
      "application/vnd.jupyter.widget-view+json": {
       "model_id": "3943db32b95c44878102c43e4fa1436d",
       "version_major": 2,
       "version_minor": 0
      },
      "text/plain": [
       "Saving the dataset (0/1 shards):   0%|          | 0/1 [00:00<?, ? examples/s]"
      ]
     },
     "metadata": {},
     "output_type": "display_data"
    },
    {
     "name": "stdout",
     "output_type": "stream",
     "text": [
      "Dataset saved to ./dataset/train_val_split//cz_split_3\n",
      "4 {'start_time': '2016-01-01', 'end_time': '2022-12-31'}\n",
      "['A_CPCH_row_0', 'A_CPI_row_0', 'A_FXSP_row_0', 'A_FXSP_row_1', 'D_EE58_row_0', 'D_FXSP_row_0', 'D_FXSP_row_1', 'D_POLR_row_0', 'M_CPCH_row_0', 'M_CPI_row_0', 'M_EE58_row_0', 'M_FXSP_row_0', 'M_FXSP_row_1', 'M_FXSP_row_2', 'M_FXSP_row_3', 'M_POLR_row_0', 'Q_FXSP_row_0', 'Q_FXSP_row_1', 'Q_FXSP_row_2', 'Q_FXSP_row_3']\n"
     ]
    },
    {
     "data": {
      "application/vnd.jupyter.widget-view+json": {
       "model_id": "85fb17949a164e39b97f014faff995e9",
       "version_major": 2,
       "version_minor": 0
      },
      "text/plain": [
       "Generating train split: 0 examples [00:00, ? examples/s]"
      ]
     },
     "metadata": {},
     "output_type": "display_data"
    },
    {
     "data": {
      "application/vnd.jupyter.widget-view+json": {
       "model_id": "c37637f483d34265a875c4fca9f202fe",
       "version_major": 2,
       "version_minor": 0
      },
      "text/plain": [
       "Saving the dataset (0/1 shards):   0%|          | 0/1 [00:00<?, ? examples/s]"
      ]
     },
     "metadata": {},
     "output_type": "display_data"
    },
    {
     "name": "stdout",
     "output_type": "stream",
     "text": [
      "Dataset saved to ./dataset/train_val_split//cz_split_4\n",
      "1 {'start_time': '1984-01-01', 'end_time': '1994-12-31'}\n",
      "['A_CPCH_row_0', 'A_CPI_row_0', 'A_FXSP_row_0', 'A_FXSP_row_1', 'D_EE58_row_0', 'D_FXSP_row_0', 'D_FXSP_row_1', 'M_CPCH_row_0', 'M_CPI_row_0', 'M_CPI_row_1', 'M_CPI_row_2', 'M_EE58_row_0', 'M_FXSP_row_0', 'M_FXSP_row_1', 'M_FXSP_row_2', 'M_FXSP_row_3', 'Q_FXSP_row_0', 'Q_FXSP_row_1', 'Q_FXSP_row_2', 'Q_FXSP_row_3']\n"
     ]
    },
    {
     "data": {
      "application/vnd.jupyter.widget-view+json": {
       "model_id": "bc3782ec3c35416892428630b762c5da",
       "version_major": 2,
       "version_minor": 0
      },
      "text/plain": [
       "Generating train split: 0 examples [00:00, ? examples/s]"
      ]
     },
     "metadata": {},
     "output_type": "display_data"
    },
    {
     "data": {
      "application/vnd.jupyter.widget-view+json": {
       "model_id": "86a67c1ded4d4811bf4802141f5be283",
       "version_major": 2,
       "version_minor": 0
      },
      "text/plain": [
       "Saving the dataset (0/1 shards):   0%|          | 0/1 [00:00<?, ? examples/s]"
      ]
     },
     "metadata": {},
     "output_type": "display_data"
    },
    {
     "name": "stdout",
     "output_type": "stream",
     "text": [
      "Dataset saved to ./dataset/train_val_split//lu_split_1\n",
      "2 {'start_time': '1996-01-01', 'end_time': '2004-12-31'}\n",
      "['A_CPCH_row_0', 'A_CPI_row_0', 'A_FXSP_row_0', 'A_FXSP_row_1', 'D_EE58_row_0', 'D_FXSP_row_0', 'D_FXSP_row_1', 'M_CPCH_row_0', 'M_CPI_row_0', 'M_CPI_row_1', 'M_CPI_row_2', 'M_EE58_row_0', 'M_FXSP_row_0', 'M_FXSP_row_1', 'M_FXSP_row_2', 'M_FXSP_row_3', 'Q_FXSP_row_0', 'Q_FXSP_row_1', 'Q_FXSP_row_2', 'Q_FXSP_row_3']\n"
     ]
    },
    {
     "data": {
      "application/vnd.jupyter.widget-view+json": {
       "model_id": "7016f6dcb01c4ed49a1778ac101b1242",
       "version_major": 2,
       "version_minor": 0
      },
      "text/plain": [
       "Generating train split: 0 examples [00:00, ? examples/s]"
      ]
     },
     "metadata": {},
     "output_type": "display_data"
    },
    {
     "data": {
      "application/vnd.jupyter.widget-view+json": {
       "model_id": "67e6471b801446768144d29afa76b8b3",
       "version_major": 2,
       "version_minor": 0
      },
      "text/plain": [
       "Saving the dataset (0/1 shards):   0%|          | 0/1 [00:00<?, ? examples/s]"
      ]
     },
     "metadata": {},
     "output_type": "display_data"
    },
    {
     "name": "stdout",
     "output_type": "stream",
     "text": [
      "Dataset saved to ./dataset/train_val_split//lu_split_2\n",
      "3 {'start_time': '2006-01-01', 'end_time': '2014-12-31'}\n",
      "['A_CPCH_row_0', 'A_CPI_row_0', 'A_FXSP_row_0', 'A_FXSP_row_1', 'D_EE58_row_0', 'D_FXSP_row_0', 'D_FXSP_row_1', 'M_CPCH_row_0', 'M_CPI_row_0', 'M_CPI_row_1', 'M_CPI_row_2', 'M_EE58_row_0', 'M_FXSP_row_0', 'M_FXSP_row_1', 'M_FXSP_row_2', 'M_FXSP_row_3', 'Q_FXSP_row_0', 'Q_FXSP_row_1', 'Q_FXSP_row_2', 'Q_FXSP_row_3']\n"
     ]
    },
    {
     "data": {
      "application/vnd.jupyter.widget-view+json": {
       "model_id": "3351498935e74599a9b97bfe9c1658d7",
       "version_major": 2,
       "version_minor": 0
      },
      "text/plain": [
       "Generating train split: 0 examples [00:00, ? examples/s]"
      ]
     },
     "metadata": {},
     "output_type": "display_data"
    },
    {
     "data": {
      "application/vnd.jupyter.widget-view+json": {
       "model_id": "c9698db7f960495c996073d87b4e567c",
       "version_major": 2,
       "version_minor": 0
      },
      "text/plain": [
       "Saving the dataset (0/1 shards):   0%|          | 0/1 [00:00<?, ? examples/s]"
      ]
     },
     "metadata": {},
     "output_type": "display_data"
    },
    {
     "name": "stdout",
     "output_type": "stream",
     "text": [
      "Dataset saved to ./dataset/train_val_split//lu_split_3\n",
      "4 {'start_time': '2016-01-01', 'end_time': '2022-12-31'}\n",
      "['A_CPCH_row_0', 'A_CPI_row_0', 'A_FXSP_row_0', 'A_FXSP_row_1', 'D_EE58_row_0', 'D_FXSP_row_0', 'D_FXSP_row_1', 'M_CPCH_row_0', 'M_CPI_row_0', 'M_CPI_row_1', 'M_CPI_row_2', 'M_EE58_row_0', 'M_FXSP_row_0', 'M_FXSP_row_1', 'M_FXSP_row_2', 'M_FXSP_row_3', 'Q_FXSP_row_0', 'Q_FXSP_row_1', 'Q_FXSP_row_2', 'Q_FXSP_row_3']\n"
     ]
    },
    {
     "data": {
      "application/vnd.jupyter.widget-view+json": {
       "model_id": "314db4805317404fbd2eb9561832e3c3",
       "version_major": 2,
       "version_minor": 0
      },
      "text/plain": [
       "Generating train split: 0 examples [00:00, ? examples/s]"
      ]
     },
     "metadata": {},
     "output_type": "display_data"
    },
    {
     "data": {
      "application/vnd.jupyter.widget-view+json": {
       "model_id": "8d125fedf7c94855af9c6c04374d0b88",
       "version_major": 2,
       "version_minor": 0
      },
      "text/plain": [
       "Saving the dataset (0/1 shards):   0%|          | 0/1 [00:00<?, ? examples/s]"
      ]
     },
     "metadata": {},
     "output_type": "display_data"
    },
    {
     "name": "stdout",
     "output_type": "stream",
     "text": [
      "Dataset saved to ./dataset/train_val_split//lu_split_4\n",
      "1 {'start_time': '1984-01-01', 'end_time': '1994-12-31'}\n",
      "['A_CPCH_row_0', 'A_CPI_row_0', 'A_FXSP_row_0', 'A_FXSP_row_1', 'D_EE58_row_0', 'D_FXSP_row_0', 'D_FXSP_row_1', 'M_CPCH_row_0', 'M_CPCH_row_1', 'M_CPI_row_0', 'M_CPI_row_1', 'M_EE58_row_0', 'M_FXSP_row_0', 'M_FXSP_row_1', 'M_FXSP_row_2', 'M_FXSP_row_3', 'Q_FXSP_row_0', 'Q_FXSP_row_1', 'Q_FXSP_row_2', 'Q_FXSP_row_3']\n"
     ]
    },
    {
     "data": {
      "application/vnd.jupyter.widget-view+json": {
       "model_id": "21cc52584bb9443e9d1ab971d790a3d1",
       "version_major": 2,
       "version_minor": 0
      },
      "text/plain": [
       "Generating train split: 0 examples [00:00, ? examples/s]"
      ]
     },
     "metadata": {},
     "output_type": "display_data"
    },
    {
     "data": {
      "application/vnd.jupyter.widget-view+json": {
       "model_id": "4636f26071af4606a6c689e1ebe34358",
       "version_major": 2,
       "version_minor": 0
      },
      "text/plain": [
       "Saving the dataset (0/1 shards):   0%|          | 0/1 [00:00<?, ? examples/s]"
      ]
     },
     "metadata": {},
     "output_type": "display_data"
    },
    {
     "name": "stdout",
     "output_type": "stream",
     "text": [
      "Dataset saved to ./dataset/train_val_split//bg_split_1\n",
      "2 {'start_time': '1996-01-01', 'end_time': '2004-12-31'}\n",
      "['A_CPCH_row_0', 'A_CPI_row_0', 'A_FXSP_row_0', 'A_FXSP_row_1', 'D_EE58_row_0', 'D_FXSP_row_0', 'D_FXSP_row_1', 'M_CPCH_row_0', 'M_CPCH_row_1', 'M_CPI_row_0', 'M_CPI_row_1', 'M_EE58_row_0', 'M_FXSP_row_0', 'M_FXSP_row_1', 'M_FXSP_row_2', 'M_FXSP_row_3', 'Q_FXSP_row_0', 'Q_FXSP_row_1', 'Q_FXSP_row_2', 'Q_FXSP_row_3']\n"
     ]
    },
    {
     "data": {
      "application/vnd.jupyter.widget-view+json": {
       "model_id": "052b78c9992d4ab79c59d3a8bc46f310",
       "version_major": 2,
       "version_minor": 0
      },
      "text/plain": [
       "Generating train split: 0 examples [00:00, ? examples/s]"
      ]
     },
     "metadata": {},
     "output_type": "display_data"
    },
    {
     "data": {
      "application/vnd.jupyter.widget-view+json": {
       "model_id": "1b2203ab291d4219a49d0abad5437ca4",
       "version_major": 2,
       "version_minor": 0
      },
      "text/plain": [
       "Saving the dataset (0/1 shards):   0%|          | 0/1 [00:00<?, ? examples/s]"
      ]
     },
     "metadata": {},
     "output_type": "display_data"
    },
    {
     "name": "stdout",
     "output_type": "stream",
     "text": [
      "Dataset saved to ./dataset/train_val_split//bg_split_2\n",
      "3 {'start_time': '2006-01-01', 'end_time': '2014-12-31'}\n",
      "['A_CPCH_row_0', 'A_CPI_row_0', 'A_FXSP_row_0', 'A_FXSP_row_1', 'D_EE58_row_0', 'D_FXSP_row_0', 'D_FXSP_row_1', 'M_CPCH_row_0', 'M_CPCH_row_1', 'M_CPI_row_0', 'M_CPI_row_1', 'M_EE58_row_0', 'M_FXSP_row_0', 'M_FXSP_row_1', 'M_FXSP_row_2', 'M_FXSP_row_3', 'Q_FXSP_row_0', 'Q_FXSP_row_1', 'Q_FXSP_row_2', 'Q_FXSP_row_3']\n"
     ]
    },
    {
     "data": {
      "application/vnd.jupyter.widget-view+json": {
       "model_id": "bb17ce4cee194d22bb4e0c742970811b",
       "version_major": 2,
       "version_minor": 0
      },
      "text/plain": [
       "Generating train split: 0 examples [00:00, ? examples/s]"
      ]
     },
     "metadata": {},
     "output_type": "display_data"
    },
    {
     "data": {
      "application/vnd.jupyter.widget-view+json": {
       "model_id": "6459c886baca4d37bf6b6ff44a9c4dce",
       "version_major": 2,
       "version_minor": 0
      },
      "text/plain": [
       "Saving the dataset (0/1 shards):   0%|          | 0/1 [00:00<?, ? examples/s]"
      ]
     },
     "metadata": {},
     "output_type": "display_data"
    },
    {
     "name": "stdout",
     "output_type": "stream",
     "text": [
      "Dataset saved to ./dataset/train_val_split//bg_split_3\n",
      "4 {'start_time': '2016-01-01', 'end_time': '2022-12-31'}\n",
      "['A_CPCH_row_0', 'A_CPI_row_0', 'A_FXSP_row_0', 'A_FXSP_row_1', 'D_EE58_row_0', 'D_FXSP_row_0', 'D_FXSP_row_1', 'M_CPCH_row_0', 'M_CPCH_row_1', 'M_CPI_row_0', 'M_CPI_row_1', 'M_EE58_row_0', 'M_FXSP_row_0', 'M_FXSP_row_1', 'M_FXSP_row_2', 'M_FXSP_row_3', 'Q_FXSP_row_0', 'Q_FXSP_row_1', 'Q_FXSP_row_2', 'Q_FXSP_row_3']\n"
     ]
    },
    {
     "data": {
      "application/vnd.jupyter.widget-view+json": {
       "model_id": "fa9374052c424267bb7b632f37c15d3d",
       "version_major": 2,
       "version_minor": 0
      },
      "text/plain": [
       "Generating train split: 0 examples [00:00, ? examples/s]"
      ]
     },
     "metadata": {},
     "output_type": "display_data"
    },
    {
     "data": {
      "application/vnd.jupyter.widget-view+json": {
       "model_id": "d0329256476346aabbda72de168ec607",
       "version_major": 2,
       "version_minor": 0
      },
      "text/plain": [
       "Saving the dataset (0/1 shards):   0%|          | 0/1 [00:00<?, ? examples/s]"
      ]
     },
     "metadata": {},
     "output_type": "display_data"
    },
    {
     "name": "stdout",
     "output_type": "stream",
     "text": [
      "Dataset saved to ./dataset/train_val_split//bg_split_4\n",
      "1 {'start_time': '1984-01-01', 'end_time': '1994-12-31'}\n",
      "['A_CPCH_row_0', 'A_CPI_row_0', 'A_CPI_row_2', 'A_CPI_row_3', 'A_FXSP_row_0', 'A_FXSP_row_1', 'A_GDPN_row_0', 'A_MNY1_row_0', 'D_EE26_row_0', 'D_EE58_row_0', 'D_FXSP_row_0', 'D_FXSP_row_1', 'D_POLR_row_0', 'D_POLR_row_1', 'M_CPCH_row_0', 'M_CPI_row_0', 'M_CPI_row_1', 'M_CPI_row_3', 'M_EE26_row_0', 'M_EE58_row_0', 'M_FXSP_row_0', 'M_FXSP_row_1', 'M_FXSP_row_2', 'M_FXSP_row_3', 'M_POLR_row_0', 'Q_FXSP_row_0', 'Q_FXSP_row_1', 'Q_FXSP_row_2', 'Q_FXSP_row_3']\n"
     ]
    },
    {
     "data": {
      "application/vnd.jupyter.widget-view+json": {
       "model_id": "605421195b224a989ac9578b73076a84",
       "version_major": 2,
       "version_minor": 0
      },
      "text/plain": [
       "Generating train split: 0 examples [00:00, ? examples/s]"
      ]
     },
     "metadata": {},
     "output_type": "display_data"
    },
    {
     "data": {
      "application/vnd.jupyter.widget-view+json": {
       "model_id": "7aa02eaf8c5c40ac8b5f86bcde7908cf",
       "version_major": 2,
       "version_minor": 0
      },
      "text/plain": [
       "Saving the dataset (0/1 shards):   0%|          | 0/1 [00:00<?, ? examples/s]"
      ]
     },
     "metadata": {},
     "output_type": "display_data"
    },
    {
     "name": "stdout",
     "output_type": "stream",
     "text": [
      "Dataset saved to ./dataset/train_val_split//gb_split_1\n",
      "2 {'start_time': '1996-01-01', 'end_time': '2004-12-31'}\n",
      "['A_CPCH_row_0', 'A_CPI_row_0', 'A_CPI_row_2', 'A_CPI_row_3', 'A_FXSP_row_0', 'A_FXSP_row_1', 'A_GDPN_row_0', 'A_MNY1_row_0', 'D_EE26_row_0', 'D_EE58_row_0', 'D_FXSP_row_0', 'D_FXSP_row_1', 'D_POLR_row_0', 'D_POLR_row_1', 'M_CPCH_row_0', 'M_CPI_row_0', 'M_CPI_row_1', 'M_CPI_row_3', 'M_EE26_row_0', 'M_EE58_row_0', 'M_FXSP_row_0', 'M_FXSP_row_1', 'M_FXSP_row_2', 'M_FXSP_row_3', 'M_POLR_row_0', 'Q_FXSP_row_0', 'Q_FXSP_row_1', 'Q_FXSP_row_2', 'Q_FXSP_row_3']\n"
     ]
    },
    {
     "data": {
      "application/vnd.jupyter.widget-view+json": {
       "model_id": "de024379e8eb46059e93ab9d0c55fa0b",
       "version_major": 2,
       "version_minor": 0
      },
      "text/plain": [
       "Generating train split: 0 examples [00:00, ? examples/s]"
      ]
     },
     "metadata": {},
     "output_type": "display_data"
    },
    {
     "data": {
      "application/vnd.jupyter.widget-view+json": {
       "model_id": "1f2363f6d9914976bf37f6e363ef2264",
       "version_major": 2,
       "version_minor": 0
      },
      "text/plain": [
       "Saving the dataset (0/1 shards):   0%|          | 0/1 [00:00<?, ? examples/s]"
      ]
     },
     "metadata": {},
     "output_type": "display_data"
    },
    {
     "name": "stdout",
     "output_type": "stream",
     "text": [
      "Dataset saved to ./dataset/train_val_split//gb_split_2\n",
      "3 {'start_time': '2006-01-01', 'end_time': '2014-12-31'}\n",
      "['A_CPCH_row_0', 'A_CPI_row_0', 'A_CPI_row_2', 'A_CPI_row_3', 'A_FXSP_row_0', 'A_FXSP_row_1', 'A_GDPN_row_0', 'A_MNY1_row_0', 'D_EE26_row_0', 'D_EE58_row_0', 'D_FXSP_row_0', 'D_FXSP_row_1', 'D_POLR_row_0', 'D_POLR_row_1', 'M_CPCH_row_0', 'M_CPI_row_0', 'M_CPI_row_1', 'M_CPI_row_3', 'M_EE26_row_0', 'M_EE58_row_0', 'M_FXSP_row_0', 'M_FXSP_row_1', 'M_FXSP_row_2', 'M_FXSP_row_3', 'M_POLR_row_0', 'Q_FXSP_row_0', 'Q_FXSP_row_1', 'Q_FXSP_row_2', 'Q_FXSP_row_3']\n"
     ]
    },
    {
     "data": {
      "application/vnd.jupyter.widget-view+json": {
       "model_id": "555343dd17454219bfbd4cbfe95af872",
       "version_major": 2,
       "version_minor": 0
      },
      "text/plain": [
       "Generating train split: 0 examples [00:00, ? examples/s]"
      ]
     },
     "metadata": {},
     "output_type": "display_data"
    },
    {
     "data": {
      "application/vnd.jupyter.widget-view+json": {
       "model_id": "f3f7fbd15706448b824577dfe0ee8e70",
       "version_major": 2,
       "version_minor": 0
      },
      "text/plain": [
       "Saving the dataset (0/1 shards):   0%|          | 0/1 [00:00<?, ? examples/s]"
      ]
     },
     "metadata": {},
     "output_type": "display_data"
    },
    {
     "name": "stdout",
     "output_type": "stream",
     "text": [
      "Dataset saved to ./dataset/train_val_split//gb_split_3\n",
      "4 {'start_time': '2016-01-01', 'end_time': '2022-12-31'}\n",
      "['A_CPCH_row_0', 'A_CPI_row_0', 'A_CPI_row_2', 'A_CPI_row_3', 'A_FXSP_row_0', 'A_FXSP_row_1', 'A_GDPN_row_0', 'A_MNY1_row_0', 'D_EE26_row_0', 'D_EE58_row_0', 'D_FXSP_row_0', 'D_FXSP_row_1', 'D_POLR_row_0', 'D_POLR_row_1', 'M_CPCH_row_0', 'M_CPI_row_0', 'M_CPI_row_1', 'M_CPI_row_3', 'M_EE26_row_0', 'M_EE58_row_0', 'M_FXSP_row_0', 'M_FXSP_row_1', 'M_FXSP_row_2', 'M_FXSP_row_3', 'M_POLR_row_0', 'Q_FXSP_row_0', 'Q_FXSP_row_1', 'Q_FXSP_row_2', 'Q_FXSP_row_3']\n"
     ]
    },
    {
     "data": {
      "application/vnd.jupyter.widget-view+json": {
       "model_id": "74dd8df3d7974940bbc524160c66c856",
       "version_major": 2,
       "version_minor": 0
      },
      "text/plain": [
       "Generating train split: 0 examples [00:00, ? examples/s]"
      ]
     },
     "metadata": {},
     "output_type": "display_data"
    },
    {
     "data": {
      "application/vnd.jupyter.widget-view+json": {
       "model_id": "cb3f9b8e725b4ff18bfea206671ebc50",
       "version_major": 2,
       "version_minor": 0
      },
      "text/plain": [
       "Saving the dataset (0/1 shards):   0%|          | 0/1 [00:00<?, ? examples/s]"
      ]
     },
     "metadata": {},
     "output_type": "display_data"
    },
    {
     "name": "stdout",
     "output_type": "stream",
     "text": [
      "Dataset saved to ./dataset/train_val_split//gb_split_4\n",
      "1 {'start_time': '1984-01-01', 'end_time': '1994-12-31'}\n",
      "['A_CPCH_row_0', 'A_CPI_row_0', 'A_FXSP_row_0', 'A_FXSP_row_1', 'A_GDPN_row_1', 'D_EE58_row_0', 'D_FXSP_row_0', 'D_FXSP_row_1', 'M_CPCH_row_0', 'M_CPI_row_0', 'M_CPI_row_1', 'M_EE58_row_0', 'M_FXSP_row_0', 'M_FXSP_row_1', 'M_FXSP_row_2', 'M_FXSP_row_3', 'Q_FXSP_row_0', 'Q_FXSP_row_1', 'Q_FXSP_row_2', 'Q_FXSP_row_3']\n"
     ]
    },
    {
     "data": {
      "application/vnd.jupyter.widget-view+json": {
       "model_id": "7cd6a0282832477e8a7e12a15ba6191c",
       "version_major": 2,
       "version_minor": 0
      },
      "text/plain": [
       "Generating train split: 0 examples [00:00, ? examples/s]"
      ]
     },
     "metadata": {},
     "output_type": "display_data"
    },
    {
     "data": {
      "application/vnd.jupyter.widget-view+json": {
       "model_id": "089d52da3a4441af92ec9f62afd75206",
       "version_major": 2,
       "version_minor": 0
      },
      "text/plain": [
       "Saving the dataset (0/1 shards):   0%|          | 0/1 [00:00<?, ? examples/s]"
      ]
     },
     "metadata": {},
     "output_type": "display_data"
    },
    {
     "name": "stdout",
     "output_type": "stream",
     "text": [
      "Dataset saved to ./dataset/train_val_split//lt_split_1\n",
      "2 {'start_time': '1996-01-01', 'end_time': '2004-12-31'}\n",
      "['A_CPCH_row_0', 'A_CPI_row_0', 'A_FXSP_row_0', 'A_FXSP_row_1', 'A_GDPN_row_1', 'D_EE58_row_0', 'D_FXSP_row_0', 'D_FXSP_row_1', 'M_CPCH_row_0', 'M_CPI_row_0', 'M_CPI_row_1', 'M_EE58_row_0', 'M_FXSP_row_0', 'M_FXSP_row_1', 'M_FXSP_row_2', 'M_FXSP_row_3', 'Q_FXSP_row_0', 'Q_FXSP_row_1', 'Q_FXSP_row_2', 'Q_FXSP_row_3']\n"
     ]
    },
    {
     "data": {
      "application/vnd.jupyter.widget-view+json": {
       "model_id": "0c60839355e6445c9b5b71bbec6a899b",
       "version_major": 2,
       "version_minor": 0
      },
      "text/plain": [
       "Generating train split: 0 examples [00:00, ? examples/s]"
      ]
     },
     "metadata": {},
     "output_type": "display_data"
    },
    {
     "data": {
      "application/vnd.jupyter.widget-view+json": {
       "model_id": "dac07176a6cb4c86b0c8673336610b51",
       "version_major": 2,
       "version_minor": 0
      },
      "text/plain": [
       "Saving the dataset (0/1 shards):   0%|          | 0/1 [00:00<?, ? examples/s]"
      ]
     },
     "metadata": {},
     "output_type": "display_data"
    },
    {
     "name": "stdout",
     "output_type": "stream",
     "text": [
      "Dataset saved to ./dataset/train_val_split//lt_split_2\n",
      "3 {'start_time': '2006-01-01', 'end_time': '2014-12-31'}\n",
      "['A_CPCH_row_0', 'A_CPI_row_0', 'A_FXSP_row_0', 'A_FXSP_row_1', 'A_GDPN_row_1', 'D_EE58_row_0', 'D_FXSP_row_0', 'D_FXSP_row_1', 'M_CPCH_row_0', 'M_CPI_row_0', 'M_CPI_row_1', 'M_EE58_row_0', 'M_FXSP_row_0', 'M_FXSP_row_1', 'M_FXSP_row_2', 'M_FXSP_row_3', 'Q_FXSP_row_0', 'Q_FXSP_row_1', 'Q_FXSP_row_2', 'Q_FXSP_row_3']\n"
     ]
    },
    {
     "data": {
      "application/vnd.jupyter.widget-view+json": {
       "model_id": "d9e7c33311f34c21b238ead93969ea14",
       "version_major": 2,
       "version_minor": 0
      },
      "text/plain": [
       "Generating train split: 0 examples [00:00, ? examples/s]"
      ]
     },
     "metadata": {},
     "output_type": "display_data"
    },
    {
     "data": {
      "application/vnd.jupyter.widget-view+json": {
       "model_id": "09928ce1bd574bccb4acd1852ac30baa",
       "version_major": 2,
       "version_minor": 0
      },
      "text/plain": [
       "Saving the dataset (0/1 shards):   0%|          | 0/1 [00:00<?, ? examples/s]"
      ]
     },
     "metadata": {},
     "output_type": "display_data"
    },
    {
     "name": "stdout",
     "output_type": "stream",
     "text": [
      "Dataset saved to ./dataset/train_val_split//lt_split_3\n",
      "4 {'start_time': '2016-01-01', 'end_time': '2022-12-31'}\n",
      "['A_CPCH_row_0', 'A_CPI_row_0', 'A_FXSP_row_0', 'A_FXSP_row_1', 'A_GDPN_row_1', 'D_EE58_row_0', 'D_FXSP_row_0', 'D_FXSP_row_1', 'M_CPCH_row_0', 'M_CPI_row_0', 'M_CPI_row_1', 'M_EE58_row_0', 'M_FXSP_row_0', 'M_FXSP_row_1', 'M_FXSP_row_2', 'M_FXSP_row_3', 'Q_FXSP_row_0', 'Q_FXSP_row_1', 'Q_FXSP_row_2', 'Q_FXSP_row_3']\n"
     ]
    },
    {
     "data": {
      "application/vnd.jupyter.widget-view+json": {
       "model_id": "118c0ef510084adfab18a7f3990e54f8",
       "version_major": 2,
       "version_minor": 0
      },
      "text/plain": [
       "Generating train split: 0 examples [00:00, ? examples/s]"
      ]
     },
     "metadata": {},
     "output_type": "display_data"
    },
    {
     "data": {
      "application/vnd.jupyter.widget-view+json": {
       "model_id": "6d36ccff46384820af4551a6b6ad8556",
       "version_major": 2,
       "version_minor": 0
      },
      "text/plain": [
       "Saving the dataset (0/1 shards):   0%|          | 0/1 [00:00<?, ? examples/s]"
      ]
     },
     "metadata": {},
     "output_type": "display_data"
    },
    {
     "name": "stdout",
     "output_type": "stream",
     "text": [
      "Dataset saved to ./dataset/train_val_split//lt_split_4\n",
      "1 {'start_time': '1984-01-01', 'end_time': '1994-12-31'}\n",
      "['A_CPCH_row_0', 'A_CPI_row_1', 'A_FXSP_row_0', 'A_FXSP_row_1', 'D_EE26_row_0', 'D_EE58_row_0', 'D_FXSP_row_0', 'D_FXSP_row_1', 'D_POLR_row_0', 'M_CPCH_row_0', 'M_CPI_row_0', 'M_CPI_row_1', 'M_EE26_row_0', 'M_EE58_row_0', 'M_FXSP_row_0', 'M_FXSP_row_1', 'M_FXSP_row_2', 'M_FXSP_row_3', 'M_POLR_row_0', 'Q_FXSP_row_0', 'Q_FXSP_row_1', 'Q_FXSP_row_2', 'Q_FXSP_row_3']\n"
     ]
    },
    {
     "data": {
      "application/vnd.jupyter.widget-view+json": {
       "model_id": "6e9f07ce8ba94fbbba36e61f54667374",
       "version_major": 2,
       "version_minor": 0
      },
      "text/plain": [
       "Generating train split: 0 examples [00:00, ? examples/s]"
      ]
     },
     "metadata": {},
     "output_type": "display_data"
    },
    {
     "data": {
      "application/vnd.jupyter.widget-view+json": {
       "model_id": "60b3a3b9f7614fe3925ebbbe3f5f8cc6",
       "version_major": 2,
       "version_minor": 0
      },
      "text/plain": [
       "Saving the dataset (0/1 shards):   0%|          | 0/1 [00:00<?, ? examples/s]"
      ]
     },
     "metadata": {},
     "output_type": "display_data"
    },
    {
     "name": "stdout",
     "output_type": "stream",
     "text": [
      "Dataset saved to ./dataset/train_val_split//no_split_1\n",
      "2 {'start_time': '1996-01-01', 'end_time': '2004-12-31'}\n",
      "['A_CPCH_row_0', 'A_CPI_row_1', 'A_FXSP_row_0', 'A_FXSP_row_1', 'D_EE26_row_0', 'D_EE58_row_0', 'D_FXSP_row_0', 'D_FXSP_row_1', 'D_POLR_row_0', 'M_CPCH_row_0', 'M_CPI_row_0', 'M_CPI_row_1', 'M_EE26_row_0', 'M_EE58_row_0', 'M_FXSP_row_0', 'M_FXSP_row_1', 'M_FXSP_row_2', 'M_FXSP_row_3', 'M_POLR_row_0', 'Q_FXSP_row_0', 'Q_FXSP_row_1', 'Q_FXSP_row_2', 'Q_FXSP_row_3']\n"
     ]
    },
    {
     "data": {
      "application/vnd.jupyter.widget-view+json": {
       "model_id": "c89e6469773c497184701487ced06531",
       "version_major": 2,
       "version_minor": 0
      },
      "text/plain": [
       "Generating train split: 0 examples [00:00, ? examples/s]"
      ]
     },
     "metadata": {},
     "output_type": "display_data"
    },
    {
     "data": {
      "application/vnd.jupyter.widget-view+json": {
       "model_id": "bb8e13842b6d4ff081c569dd054a3f40",
       "version_major": 2,
       "version_minor": 0
      },
      "text/plain": [
       "Saving the dataset (0/1 shards):   0%|          | 0/1 [00:00<?, ? examples/s]"
      ]
     },
     "metadata": {},
     "output_type": "display_data"
    },
    {
     "name": "stdout",
     "output_type": "stream",
     "text": [
      "Dataset saved to ./dataset/train_val_split//no_split_2\n",
      "3 {'start_time': '2006-01-01', 'end_time': '2014-12-31'}\n",
      "['A_CPCH_row_0', 'A_CPI_row_1', 'A_FXSP_row_0', 'A_FXSP_row_1', 'D_EE26_row_0', 'D_EE58_row_0', 'D_FXSP_row_0', 'D_FXSP_row_1', 'D_POLR_row_0', 'M_CPCH_row_0', 'M_CPI_row_0', 'M_CPI_row_1', 'M_EE26_row_0', 'M_EE58_row_0', 'M_FXSP_row_0', 'M_FXSP_row_1', 'M_FXSP_row_2', 'M_FXSP_row_3', 'M_POLR_row_0', 'Q_FXSP_row_0', 'Q_FXSP_row_1', 'Q_FXSP_row_2', 'Q_FXSP_row_3']\n"
     ]
    },
    {
     "data": {
      "application/vnd.jupyter.widget-view+json": {
       "model_id": "0649872dad3c466ea0f09c2ca58302c8",
       "version_major": 2,
       "version_minor": 0
      },
      "text/plain": [
       "Generating train split: 0 examples [00:00, ? examples/s]"
      ]
     },
     "metadata": {},
     "output_type": "display_data"
    },
    {
     "data": {
      "application/vnd.jupyter.widget-view+json": {
       "model_id": "f5618fc0a9864c2db56dfec17333e32a",
       "version_major": 2,
       "version_minor": 0
      },
      "text/plain": [
       "Saving the dataset (0/1 shards):   0%|          | 0/1 [00:00<?, ? examples/s]"
      ]
     },
     "metadata": {},
     "output_type": "display_data"
    },
    {
     "name": "stdout",
     "output_type": "stream",
     "text": [
      "Dataset saved to ./dataset/train_val_split//no_split_3\n",
      "4 {'start_time': '2016-01-01', 'end_time': '2022-12-31'}\n",
      "['A_CPCH_row_0', 'A_CPI_row_1', 'A_FXSP_row_0', 'A_FXSP_row_1', 'D_EE26_row_0', 'D_EE58_row_0', 'D_FXSP_row_0', 'D_FXSP_row_1', 'D_POLR_row_0', 'M_CPCH_row_0', 'M_CPI_row_0', 'M_CPI_row_1', 'M_EE26_row_0', 'M_EE58_row_0', 'M_FXSP_row_0', 'M_FXSP_row_1', 'M_FXSP_row_2', 'M_FXSP_row_3', 'M_POLR_row_0', 'Q_FXSP_row_0', 'Q_FXSP_row_1', 'Q_FXSP_row_2', 'Q_FXSP_row_3']\n"
     ]
    },
    {
     "data": {
      "application/vnd.jupyter.widget-view+json": {
       "model_id": "37faa9c19fa240aea3f398ab0ba56183",
       "version_major": 2,
       "version_minor": 0
      },
      "text/plain": [
       "Generating train split: 0 examples [00:00, ? examples/s]"
      ]
     },
     "metadata": {},
     "output_type": "display_data"
    },
    {
     "data": {
      "application/vnd.jupyter.widget-view+json": {
       "model_id": "de182d4c2a374f1ba63aca52c8ca21a3",
       "version_major": 2,
       "version_minor": 0
      },
      "text/plain": [
       "Saving the dataset (0/1 shards):   0%|          | 0/1 [00:00<?, ? examples/s]"
      ]
     },
     "metadata": {},
     "output_type": "display_data"
    },
    {
     "name": "stdout",
     "output_type": "stream",
     "text": [
      "Dataset saved to ./dataset/train_val_split//no_split_4\n",
      "1 {'start_time': '1984-01-01', 'end_time': '1994-12-31'}\n",
      "['A_CPCH_row_0', 'A_CPCH_row_1', 'A_CPI_row_0', 'A_FXSP_row_0', 'A_FXSP_row_1', 'A_GDPN_row_0', 'A_GDPN_row_1', 'A_MNY1_row_0', 'D_EE26_row_0', 'D_EE58_row_0', 'D_FXSP_row_0', 'D_FXSP_row_1', 'D_POLR_row_0', 'M_CPCH_row_0', 'M_CPI_row_0', 'M_EE26_row_0', 'M_EE58_row_0', 'M_FXSP_row_0', 'M_FXSP_row_1', 'M_FXSP_row_2', 'M_FXSP_row_3', 'M_POLR_row_0', 'Q_FXSP_row_0', 'Q_FXSP_row_1', 'Q_FXSP_row_2', 'Q_FXSP_row_3']\n"
     ]
    },
    {
     "data": {
      "application/vnd.jupyter.widget-view+json": {
       "model_id": "a2d6e7a84ac7401ab0f8b29002264442",
       "version_major": 2,
       "version_minor": 0
      },
      "text/plain": [
       "Generating train split: 0 examples [00:00, ? examples/s]"
      ]
     },
     "metadata": {},
     "output_type": "display_data"
    },
    {
     "data": {
      "application/vnd.jupyter.widget-view+json": {
       "model_id": "ba439883804141a9b9b35434b9163d5f",
       "version_major": 2,
       "version_minor": 0
      },
      "text/plain": [
       "Saving the dataset (0/1 shards):   0%|          | 0/1 [00:00<?, ? examples/s]"
      ]
     },
     "metadata": {},
     "output_type": "display_data"
    },
    {
     "name": "stdout",
     "output_type": "stream",
     "text": [
      "Dataset saved to ./dataset/train_val_split//de_split_1\n",
      "2 {'start_time': '1996-01-01', 'end_time': '2004-12-31'}\n",
      "['A_CPCH_row_0', 'A_CPCH_row_1', 'A_CPI_row_0', 'A_FXSP_row_0', 'A_FXSP_row_1', 'A_GDPN_row_0', 'A_GDPN_row_1', 'A_MNY1_row_0', 'D_EE26_row_0', 'D_EE58_row_0', 'D_FXSP_row_0', 'D_FXSP_row_1', 'D_POLR_row_0', 'M_CPCH_row_0', 'M_CPI_row_0', 'M_EE26_row_0', 'M_EE58_row_0', 'M_FXSP_row_0', 'M_FXSP_row_1', 'M_FXSP_row_2', 'M_FXSP_row_3', 'M_POLR_row_0', 'Q_FXSP_row_0', 'Q_FXSP_row_1', 'Q_FXSP_row_2', 'Q_FXSP_row_3']\n"
     ]
    },
    {
     "data": {
      "application/vnd.jupyter.widget-view+json": {
       "model_id": "9e89bd3326c54f2fa272a98adfc687e3",
       "version_major": 2,
       "version_minor": 0
      },
      "text/plain": [
       "Generating train split: 0 examples [00:00, ? examples/s]"
      ]
     },
     "metadata": {},
     "output_type": "display_data"
    },
    {
     "data": {
      "application/vnd.jupyter.widget-view+json": {
       "model_id": "51c7192bf07f405c9c8d0644ed3b9625",
       "version_major": 2,
       "version_minor": 0
      },
      "text/plain": [
       "Saving the dataset (0/1 shards):   0%|          | 0/1 [00:00<?, ? examples/s]"
      ]
     },
     "metadata": {},
     "output_type": "display_data"
    },
    {
     "name": "stdout",
     "output_type": "stream",
     "text": [
      "Dataset saved to ./dataset/train_val_split//de_split_2\n",
      "3 {'start_time': '2006-01-01', 'end_time': '2014-12-31'}\n",
      "['A_CPCH_row_0', 'A_CPCH_row_1', 'A_CPI_row_0', 'A_FXSP_row_0', 'A_FXSP_row_1', 'A_GDPN_row_0', 'A_GDPN_row_1', 'A_MNY1_row_0', 'D_EE26_row_0', 'D_EE58_row_0', 'D_FXSP_row_0', 'D_FXSP_row_1', 'D_POLR_row_0', 'M_CPCH_row_0', 'M_CPI_row_0', 'M_EE26_row_0', 'M_EE58_row_0', 'M_FXSP_row_0', 'M_FXSP_row_1', 'M_FXSP_row_2', 'M_FXSP_row_3', 'M_POLR_row_0', 'Q_FXSP_row_0', 'Q_FXSP_row_1', 'Q_FXSP_row_2', 'Q_FXSP_row_3']\n"
     ]
    },
    {
     "data": {
      "application/vnd.jupyter.widget-view+json": {
       "model_id": "3b4ab8bb7dd84d0ca320e04a613673af",
       "version_major": 2,
       "version_minor": 0
      },
      "text/plain": [
       "Generating train split: 0 examples [00:00, ? examples/s]"
      ]
     },
     "metadata": {},
     "output_type": "display_data"
    },
    {
     "data": {
      "application/vnd.jupyter.widget-view+json": {
       "model_id": "996bd172ec2a475bb11e8fe9c4ea091b",
       "version_major": 2,
       "version_minor": 0
      },
      "text/plain": [
       "Saving the dataset (0/1 shards):   0%|          | 0/1 [00:00<?, ? examples/s]"
      ]
     },
     "metadata": {},
     "output_type": "display_data"
    },
    {
     "name": "stdout",
     "output_type": "stream",
     "text": [
      "Dataset saved to ./dataset/train_val_split//de_split_3\n",
      "4 {'start_time': '2016-01-01', 'end_time': '2022-12-31'}\n",
      "['A_CPCH_row_0', 'A_CPCH_row_1', 'A_CPI_row_0', 'A_FXSP_row_0', 'A_FXSP_row_1', 'A_GDPN_row_0', 'A_GDPN_row_1', 'A_MNY1_row_0', 'D_EE26_row_0', 'D_EE58_row_0', 'D_FXSP_row_0', 'D_FXSP_row_1', 'D_POLR_row_0', 'M_CPCH_row_0', 'M_CPI_row_0', 'M_EE26_row_0', 'M_EE58_row_0', 'M_FXSP_row_0', 'M_FXSP_row_1', 'M_FXSP_row_2', 'M_FXSP_row_3', 'M_POLR_row_0', 'Q_FXSP_row_0', 'Q_FXSP_row_1', 'Q_FXSP_row_2', 'Q_FXSP_row_3']\n"
     ]
    },
    {
     "data": {
      "application/vnd.jupyter.widget-view+json": {
       "model_id": "90a92aa3912b402dbf2e459e42b46cfd",
       "version_major": 2,
       "version_minor": 0
      },
      "text/plain": [
       "Generating train split: 0 examples [00:00, ? examples/s]"
      ]
     },
     "metadata": {},
     "output_type": "display_data"
    },
    {
     "data": {
      "application/vnd.jupyter.widget-view+json": {
       "model_id": "e9493e29e43a4e66b4ed75a35f0e141d",
       "version_major": 2,
       "version_minor": 0
      },
      "text/plain": [
       "Saving the dataset (0/1 shards):   0%|          | 0/1 [00:00<?, ? examples/s]"
      ]
     },
     "metadata": {},
     "output_type": "display_data"
    },
    {
     "name": "stdout",
     "output_type": "stream",
     "text": [
      "Dataset saved to ./dataset/train_val_split//de_split_4\n",
      "1 {'start_time': '1984-01-01', 'end_time': '1994-12-31'}\n",
      "['A_CPCH_row_0', 'A_CPI_row_0', 'A_FXSP_row_0', 'A_FXSP_row_1', 'A_GDPN_row_0', 'A_GDPN_row_1', 'A_MNY1_row_0', 'A_MNY1_row_1', 'D_EE58_row_0', 'D_FXSP_row_0', 'D_POLR_row_0', 'M_CPCH_row_0', 'M_CPI_row_0', 'M_CPI_row_2', 'M_EE58_row_0', 'M_FXSP_row_0', 'M_FXSP_row_1', 'M_POLR_row_0', 'Q_FXSP_row_0', 'Q_FXSP_row_1']\n"
     ]
    },
    {
     "data": {
      "application/vnd.jupyter.widget-view+json": {
       "model_id": "6909c63cc2db431392109faa58240662",
       "version_major": 2,
       "version_minor": 0
      },
      "text/plain": [
       "Generating train split: 0 examples [00:00, ? examples/s]"
      ]
     },
     "metadata": {},
     "output_type": "display_data"
    },
    {
     "data": {
      "application/vnd.jupyter.widget-view+json": {
       "model_id": "01df1fad3dd6405c98d513ee0f60aa92",
       "version_major": 2,
       "version_minor": 0
      },
      "text/plain": [
       "Saving the dataset (0/1 shards):   0%|          | 0/1 [00:00<?, ? examples/s]"
      ]
     },
     "metadata": {},
     "output_type": "display_data"
    },
    {
     "name": "stdout",
     "output_type": "stream",
     "text": [
      "Dataset saved to ./dataset/train_val_split//sa_split_1\n",
      "2 {'start_time': '1996-01-01', 'end_time': '2004-12-31'}\n",
      "['A_CPCH_row_0', 'A_CPI_row_0', 'A_FXSP_row_0', 'A_FXSP_row_1', 'A_GDPN_row_0', 'A_GDPN_row_1', 'A_MNY1_row_0', 'A_MNY1_row_1', 'D_EE58_row_0', 'D_FXSP_row_0', 'D_POLR_row_0', 'M_CPCH_row_0', 'M_CPI_row_0', 'M_CPI_row_2', 'M_EE58_row_0', 'M_FXSP_row_0', 'M_FXSP_row_1', 'M_POLR_row_0', 'Q_FXSP_row_0', 'Q_FXSP_row_1']\n"
     ]
    },
    {
     "data": {
      "application/vnd.jupyter.widget-view+json": {
       "model_id": "0d19feb224d04b8b90c7ca1afacdb4e1",
       "version_major": 2,
       "version_minor": 0
      },
      "text/plain": [
       "Generating train split: 0 examples [00:00, ? examples/s]"
      ]
     },
     "metadata": {},
     "output_type": "display_data"
    },
    {
     "data": {
      "application/vnd.jupyter.widget-view+json": {
       "model_id": "1129e2a1b40c448185fb01ca1b741c51",
       "version_major": 2,
       "version_minor": 0
      },
      "text/plain": [
       "Saving the dataset (0/1 shards):   0%|          | 0/1 [00:00<?, ? examples/s]"
      ]
     },
     "metadata": {},
     "output_type": "display_data"
    },
    {
     "name": "stdout",
     "output_type": "stream",
     "text": [
      "Dataset saved to ./dataset/train_val_split//sa_split_2\n",
      "3 {'start_time': '2006-01-01', 'end_time': '2014-12-31'}\n",
      "['A_CPCH_row_0', 'A_CPI_row_0', 'A_FXSP_row_0', 'A_FXSP_row_1', 'A_GDPN_row_0', 'A_GDPN_row_1', 'A_MNY1_row_0', 'A_MNY1_row_1', 'D_EE58_row_0', 'D_FXSP_row_0', 'D_POLR_row_0', 'M_CPCH_row_0', 'M_CPI_row_0', 'M_CPI_row_2', 'M_EE58_row_0', 'M_FXSP_row_0', 'M_FXSP_row_1', 'M_POLR_row_0', 'Q_FXSP_row_0', 'Q_FXSP_row_1']\n"
     ]
    },
    {
     "data": {
      "application/vnd.jupyter.widget-view+json": {
       "model_id": "bdd71fb0480648478c5160bd0832c777",
       "version_major": 2,
       "version_minor": 0
      },
      "text/plain": [
       "Generating train split: 0 examples [00:00, ? examples/s]"
      ]
     },
     "metadata": {},
     "output_type": "display_data"
    },
    {
     "data": {
      "application/vnd.jupyter.widget-view+json": {
       "model_id": "41038260ead84ce49d17ef6e466a5501",
       "version_major": 2,
       "version_minor": 0
      },
      "text/plain": [
       "Saving the dataset (0/1 shards):   0%|          | 0/1 [00:00<?, ? examples/s]"
      ]
     },
     "metadata": {},
     "output_type": "display_data"
    },
    {
     "name": "stdout",
     "output_type": "stream",
     "text": [
      "Dataset saved to ./dataset/train_val_split//sa_split_3\n",
      "4 {'start_time': '2016-01-01', 'end_time': '2022-12-31'}\n",
      "['A_CPCH_row_0', 'A_CPI_row_0', 'A_FXSP_row_0', 'A_FXSP_row_1', 'A_GDPN_row_0', 'A_GDPN_row_1', 'A_MNY1_row_0', 'A_MNY1_row_1', 'D_EE58_row_0', 'D_FXSP_row_0', 'D_POLR_row_0', 'M_CPCH_row_0', 'M_CPI_row_0', 'M_CPI_row_2', 'M_EE58_row_0', 'M_FXSP_row_0', 'M_FXSP_row_1', 'M_POLR_row_0', 'Q_FXSP_row_0', 'Q_FXSP_row_1']\n"
     ]
    },
    {
     "data": {
      "application/vnd.jupyter.widget-view+json": {
       "model_id": "3a26551869904969b60fabfb941fab93",
       "version_major": 2,
       "version_minor": 0
      },
      "text/plain": [
       "Generating train split: 0 examples [00:00, ? examples/s]"
      ]
     },
     "metadata": {},
     "output_type": "display_data"
    },
    {
     "data": {
      "application/vnd.jupyter.widget-view+json": {
       "model_id": "04b93d0177f84071b288b4d42c7dd80b",
       "version_major": 2,
       "version_minor": 0
      },
      "text/plain": [
       "Saving the dataset (0/1 shards):   0%|          | 0/1 [00:00<?, ? examples/s]"
      ]
     },
     "metadata": {},
     "output_type": "display_data"
    },
    {
     "name": "stdout",
     "output_type": "stream",
     "text": [
      "Dataset saved to ./dataset/train_val_split//sa_split_4\n",
      "1 {'start_time': '1984-01-01', 'end_time': '1994-12-31'}\n",
      "['A_CPCH_row_0', 'A_CPI_row_0', 'A_FXSP_row_0', 'A_FXSP_row_1', 'A_GDPN_row_0', 'D_EE58_row_0', 'D_FXSP_row_0', 'M_CPCH_row_0', 'M_CPI_row_1', 'M_CPI_row_2', 'M_EE58_row_0', 'M_FXSP_row_0', 'M_FXSP_row_1', 'Q_FXSP_row_0', 'Q_FXSP_row_1']\n"
     ]
    },
    {
     "data": {
      "application/vnd.jupyter.widget-view+json": {
       "model_id": "ff18a2ef32d3431c92c4e624603b61fe",
       "version_major": 2,
       "version_minor": 0
      },
      "text/plain": [
       "Generating train split: 0 examples [00:00, ? examples/s]"
      ]
     },
     "metadata": {},
     "output_type": "display_data"
    },
    {
     "data": {
      "application/vnd.jupyter.widget-view+json": {
       "model_id": "1f09611066ad4fd08d4729bb242caaaf",
       "version_major": 2,
       "version_minor": 0
      },
      "text/plain": [
       "Saving the dataset (0/1 shards):   0%|          | 0/1 [00:00<?, ? examples/s]"
      ]
     },
     "metadata": {},
     "output_type": "display_data"
    },
    {
     "name": "stdout",
     "output_type": "stream",
     "text": [
      "Dataset saved to ./dataset/train_val_split//dz_split_1\n",
      "2 {'start_time': '1996-01-01', 'end_time': '2004-12-31'}\n",
      "['A_CPCH_row_0', 'A_CPI_row_0', 'A_FXSP_row_0', 'A_FXSP_row_1', 'A_GDPN_row_0', 'D_EE58_row_0', 'D_FXSP_row_0', 'M_CPCH_row_0', 'M_CPI_row_1', 'M_CPI_row_2', 'M_EE58_row_0', 'M_FXSP_row_0', 'M_FXSP_row_1', 'Q_FXSP_row_0', 'Q_FXSP_row_1']\n"
     ]
    },
    {
     "data": {
      "application/vnd.jupyter.widget-view+json": {
       "model_id": "9298545a284f42a2b3ef4bb616de8106",
       "version_major": 2,
       "version_minor": 0
      },
      "text/plain": [
       "Generating train split: 0 examples [00:00, ? examples/s]"
      ]
     },
     "metadata": {},
     "output_type": "display_data"
    },
    {
     "data": {
      "application/vnd.jupyter.widget-view+json": {
       "model_id": "8dc5dddc926b4212b38b85e593825f54",
       "version_major": 2,
       "version_minor": 0
      },
      "text/plain": [
       "Saving the dataset (0/1 shards):   0%|          | 0/1 [00:00<?, ? examples/s]"
      ]
     },
     "metadata": {},
     "output_type": "display_data"
    },
    {
     "name": "stdout",
     "output_type": "stream",
     "text": [
      "Dataset saved to ./dataset/train_val_split//dz_split_2\n",
      "3 {'start_time': '2006-01-01', 'end_time': '2014-12-31'}\n",
      "['A_CPCH_row_0', 'A_CPI_row_0', 'A_FXSP_row_0', 'A_FXSP_row_1', 'A_GDPN_row_0', 'D_EE58_row_0', 'D_FXSP_row_0', 'M_CPCH_row_0', 'M_CPI_row_1', 'M_CPI_row_2', 'M_EE58_row_0', 'M_FXSP_row_0', 'M_FXSP_row_1', 'Q_FXSP_row_0', 'Q_FXSP_row_1']\n"
     ]
    },
    {
     "data": {
      "application/vnd.jupyter.widget-view+json": {
       "model_id": "2c6585cd280a49728fd37a3b756df814",
       "version_major": 2,
       "version_minor": 0
      },
      "text/plain": [
       "Generating train split: 0 examples [00:00, ? examples/s]"
      ]
     },
     "metadata": {},
     "output_type": "display_data"
    },
    {
     "data": {
      "application/vnd.jupyter.widget-view+json": {
       "model_id": "d3d7f9a6f130456d807650f5dc52ebbe",
       "version_major": 2,
       "version_minor": 0
      },
      "text/plain": [
       "Saving the dataset (0/1 shards):   0%|          | 0/1 [00:00<?, ? examples/s]"
      ]
     },
     "metadata": {},
     "output_type": "display_data"
    },
    {
     "name": "stdout",
     "output_type": "stream",
     "text": [
      "Dataset saved to ./dataset/train_val_split//dz_split_3\n",
      "4 {'start_time': '2016-01-01', 'end_time': '2022-12-31'}\n",
      "['A_CPCH_row_0', 'A_CPI_row_0', 'A_FXSP_row_0', 'A_FXSP_row_1', 'A_GDPN_row_0', 'D_EE58_row_0', 'D_FXSP_row_0', 'M_CPCH_row_0', 'M_CPI_row_1', 'M_CPI_row_2', 'M_EE58_row_0', 'M_FXSP_row_0', 'M_FXSP_row_1', 'Q_FXSP_row_0', 'Q_FXSP_row_1']\n"
     ]
    },
    {
     "data": {
      "application/vnd.jupyter.widget-view+json": {
       "model_id": "37d04002ae8f433780da6fd114f1a1e8",
       "version_major": 2,
       "version_minor": 0
      },
      "text/plain": [
       "Generating train split: 0 examples [00:00, ? examples/s]"
      ]
     },
     "metadata": {},
     "output_type": "display_data"
    },
    {
     "data": {
      "application/vnd.jupyter.widget-view+json": {
       "model_id": "789a3f64ae4a40c49e22abf6a45adcf4",
       "version_major": 2,
       "version_minor": 0
      },
      "text/plain": [
       "Saving the dataset (0/1 shards):   0%|          | 0/1 [00:00<?, ? examples/s]"
      ]
     },
     "metadata": {},
     "output_type": "display_data"
    },
    {
     "name": "stdout",
     "output_type": "stream",
     "text": [
      "Dataset saved to ./dataset/train_val_split//dz_split_4\n",
      "1 {'start_time': '1984-01-01', 'end_time': '1994-12-31'}\n",
      "['A_CPCH_row_0', 'A_CPCH_row_1', 'A_CPI_row_0', 'A_FXSP_row_0', 'A_FXSP_row_1', 'A_MNY1_row_0', 'A_MNY1_row_1', 'D_EE26_row_0', 'D_EE58_row_0', 'D_FXSP_row_0', 'D_FXSP_row_1', 'D_POLR_row_0', 'M_CPCH_row_0', 'M_CPCH_row_1', 'M_CPI_row_0', 'M_CPI_row_1', 'M_EE26_row_0', 'M_EE58_row_0', 'M_FXSP_row_0', 'M_FXSP_row_1', 'M_FXSP_row_2', 'M_FXSP_row_3', 'M_POLR_row_0', 'Q_FXSP_row_0', 'Q_FXSP_row_1', 'Q_FXSP_row_2', 'Q_FXSP_row_3']\n"
     ]
    },
    {
     "data": {
      "application/vnd.jupyter.widget-view+json": {
       "model_id": "9264470a4cab40d29807080aab03f99b",
       "version_major": 2,
       "version_minor": 0
      },
      "text/plain": [
       "Generating train split: 0 examples [00:00, ? examples/s]"
      ]
     },
     "metadata": {},
     "output_type": "display_data"
    },
    {
     "data": {
      "application/vnd.jupyter.widget-view+json": {
       "model_id": "8b797bbcec5c4805843f554b759a83d2",
       "version_major": 2,
       "version_minor": 0
      },
      "text/plain": [
       "Saving the dataset (0/1 shards):   0%|          | 0/1 [00:00<?, ? examples/s]"
      ]
     },
     "metadata": {},
     "output_type": "display_data"
    },
    {
     "name": "stdout",
     "output_type": "stream",
     "text": [
      "Dataset saved to ./dataset/train_val_split//kr_split_1\n",
      "2 {'start_time': '1996-01-01', 'end_time': '2004-12-31'}\n",
      "['A_CPCH_row_0', 'A_CPCH_row_1', 'A_CPI_row_0', 'A_FXSP_row_0', 'A_FXSP_row_1', 'A_MNY1_row_0', 'A_MNY1_row_1', 'D_EE26_row_0', 'D_EE58_row_0', 'D_FXSP_row_0', 'D_FXSP_row_1', 'D_POLR_row_0', 'M_CPCH_row_0', 'M_CPCH_row_1', 'M_CPI_row_0', 'M_CPI_row_1', 'M_EE26_row_0', 'M_EE58_row_0', 'M_FXSP_row_0', 'M_FXSP_row_1', 'M_FXSP_row_2', 'M_FXSP_row_3', 'M_POLR_row_0', 'Q_FXSP_row_0', 'Q_FXSP_row_1', 'Q_FXSP_row_2', 'Q_FXSP_row_3']\n"
     ]
    },
    {
     "data": {
      "application/vnd.jupyter.widget-view+json": {
       "model_id": "15fe9bb19a3b4819805c32a413ecdbe0",
       "version_major": 2,
       "version_minor": 0
      },
      "text/plain": [
       "Generating train split: 0 examples [00:00, ? examples/s]"
      ]
     },
     "metadata": {},
     "output_type": "display_data"
    },
    {
     "data": {
      "application/vnd.jupyter.widget-view+json": {
       "model_id": "e06bea484d09422cb8329fc685813cc9",
       "version_major": 2,
       "version_minor": 0
      },
      "text/plain": [
       "Saving the dataset (0/1 shards):   0%|          | 0/1 [00:00<?, ? examples/s]"
      ]
     },
     "metadata": {},
     "output_type": "display_data"
    },
    {
     "name": "stdout",
     "output_type": "stream",
     "text": [
      "Dataset saved to ./dataset/train_val_split//kr_split_2\n",
      "3 {'start_time': '2006-01-01', 'end_time': '2014-12-31'}\n",
      "['A_CPCH_row_0', 'A_CPCH_row_1', 'A_CPI_row_0', 'A_FXSP_row_0', 'A_FXSP_row_1', 'A_MNY1_row_0', 'A_MNY1_row_1', 'D_EE26_row_0', 'D_EE58_row_0', 'D_FXSP_row_0', 'D_FXSP_row_1', 'D_POLR_row_0', 'M_CPCH_row_0', 'M_CPCH_row_1', 'M_CPI_row_0', 'M_CPI_row_1', 'M_EE26_row_0', 'M_EE58_row_0', 'M_FXSP_row_0', 'M_FXSP_row_1', 'M_FXSP_row_2', 'M_FXSP_row_3', 'M_POLR_row_0', 'Q_FXSP_row_0', 'Q_FXSP_row_1', 'Q_FXSP_row_2', 'Q_FXSP_row_3']\n"
     ]
    },
    {
     "data": {
      "application/vnd.jupyter.widget-view+json": {
       "model_id": "62b42a1ed1d9402a8af24cf64b68e806",
       "version_major": 2,
       "version_minor": 0
      },
      "text/plain": [
       "Generating train split: 0 examples [00:00, ? examples/s]"
      ]
     },
     "metadata": {},
     "output_type": "display_data"
    },
    {
     "data": {
      "application/vnd.jupyter.widget-view+json": {
       "model_id": "7b63b73e45af48bbb4d640d6cd08be0d",
       "version_major": 2,
       "version_minor": 0
      },
      "text/plain": [
       "Saving the dataset (0/1 shards):   0%|          | 0/1 [00:00<?, ? examples/s]"
      ]
     },
     "metadata": {},
     "output_type": "display_data"
    },
    {
     "name": "stdout",
     "output_type": "stream",
     "text": [
      "Dataset saved to ./dataset/train_val_split//kr_split_3\n",
      "4 {'start_time': '2016-01-01', 'end_time': '2022-12-31'}\n",
      "['A_CPCH_row_0', 'A_CPCH_row_1', 'A_CPI_row_0', 'A_FXSP_row_0', 'A_FXSP_row_1', 'A_MNY1_row_0', 'A_MNY1_row_1', 'D_EE26_row_0', 'D_EE58_row_0', 'D_FXSP_row_0', 'D_FXSP_row_1', 'D_POLR_row_0', 'M_CPCH_row_0', 'M_CPCH_row_1', 'M_CPI_row_0', 'M_CPI_row_1', 'M_EE26_row_0', 'M_EE58_row_0', 'M_FXSP_row_0', 'M_FXSP_row_1', 'M_FXSP_row_2', 'M_FXSP_row_3', 'M_POLR_row_0', 'Q_FXSP_row_0', 'Q_FXSP_row_1', 'Q_FXSP_row_2', 'Q_FXSP_row_3']\n"
     ]
    },
    {
     "data": {
      "application/vnd.jupyter.widget-view+json": {
       "model_id": "3fcd1c176ab54290a8ed30b156099e4e",
       "version_major": 2,
       "version_minor": 0
      },
      "text/plain": [
       "Generating train split: 0 examples [00:00, ? examples/s]"
      ]
     },
     "metadata": {},
     "output_type": "display_data"
    },
    {
     "data": {
      "application/vnd.jupyter.widget-view+json": {
       "model_id": "c56f1eb83246448a9b1b04f6f703adc7",
       "version_major": 2,
       "version_minor": 0
      },
      "text/plain": [
       "Saving the dataset (0/1 shards):   0%|          | 0/1 [00:00<?, ? examples/s]"
      ]
     },
     "metadata": {},
     "output_type": "display_data"
    },
    {
     "name": "stdout",
     "output_type": "stream",
     "text": [
      "Dataset saved to ./dataset/train_val_split//kr_split_4\n",
      "1 {'start_time': '1984-01-01', 'end_time': '1994-12-31'}\n",
      "['A_CPCH_row_0', 'A_CPI_row_0', 'A_FXSP_row_0', 'A_FXSP_row_1', 'A_GDPN_row_1', 'A_GDPN_row_2', 'A_MNY1_row_0', 'D_EE58_row_0', 'D_FXSP_row_0', 'D_POLR_row_0', 'M_CPCH_row_0', 'M_CPI_row_0', 'M_CPI_row_1', 'M_CPI_row_3', 'M_EE58_row_0', 'M_FXSP_row_0', 'M_FXSP_row_1', 'M_POLR_row_0', 'Q_FXSP_row_0', 'Q_FXSP_row_1']\n"
     ]
    },
    {
     "data": {
      "application/vnd.jupyter.widget-view+json": {
       "model_id": "8e0756191aed4c96935ce4e49202c78c",
       "version_major": 2,
       "version_minor": 0
      },
      "text/plain": [
       "Generating train split: 0 examples [00:00, ? examples/s]"
      ]
     },
     "metadata": {},
     "output_type": "display_data"
    },
    {
     "data": {
      "application/vnd.jupyter.widget-view+json": {
       "model_id": "a724d178a856413980e570053daab057",
       "version_major": 2,
       "version_minor": 0
      },
      "text/plain": [
       "Saving the dataset (0/1 shards):   0%|          | 0/1 [00:00<?, ? examples/s]"
      ]
     },
     "metadata": {},
     "output_type": "display_data"
    },
    {
     "name": "stdout",
     "output_type": "stream",
     "text": [
      "Dataset saved to ./dataset/train_val_split//in_split_1\n",
      "2 {'start_time': '1996-01-01', 'end_time': '2004-12-31'}\n",
      "['A_CPCH_row_0', 'A_CPI_row_0', 'A_FXSP_row_0', 'A_FXSP_row_1', 'A_GDPN_row_1', 'A_GDPN_row_2', 'A_MNY1_row_0', 'D_EE58_row_0', 'D_FXSP_row_0', 'D_POLR_row_0', 'M_CPCH_row_0', 'M_CPI_row_0', 'M_CPI_row_1', 'M_CPI_row_3', 'M_EE58_row_0', 'M_FXSP_row_0', 'M_FXSP_row_1', 'M_POLR_row_0', 'Q_FXSP_row_0', 'Q_FXSP_row_1']\n"
     ]
    },
    {
     "data": {
      "application/vnd.jupyter.widget-view+json": {
       "model_id": "0218ef8696b4494da88a8ef008d9a1dc",
       "version_major": 2,
       "version_minor": 0
      },
      "text/plain": [
       "Generating train split: 0 examples [00:00, ? examples/s]"
      ]
     },
     "metadata": {},
     "output_type": "display_data"
    },
    {
     "data": {
      "application/vnd.jupyter.widget-view+json": {
       "model_id": "5fc0d957e50d4219bb72930829710406",
       "version_major": 2,
       "version_minor": 0
      },
      "text/plain": [
       "Saving the dataset (0/1 shards):   0%|          | 0/1 [00:00<?, ? examples/s]"
      ]
     },
     "metadata": {},
     "output_type": "display_data"
    },
    {
     "name": "stdout",
     "output_type": "stream",
     "text": [
      "Dataset saved to ./dataset/train_val_split//in_split_2\n",
      "3 {'start_time': '2006-01-01', 'end_time': '2014-12-31'}\n",
      "['A_CPCH_row_0', 'A_CPI_row_0', 'A_FXSP_row_0', 'A_FXSP_row_1', 'A_GDPN_row_1', 'A_GDPN_row_2', 'A_MNY1_row_0', 'D_EE58_row_0', 'D_FXSP_row_0', 'D_POLR_row_0', 'M_CPCH_row_0', 'M_CPI_row_0', 'M_CPI_row_1', 'M_CPI_row_3', 'M_EE58_row_0', 'M_FXSP_row_0', 'M_FXSP_row_1', 'M_POLR_row_0', 'Q_FXSP_row_0', 'Q_FXSP_row_1']\n"
     ]
    },
    {
     "data": {
      "application/vnd.jupyter.widget-view+json": {
       "model_id": "794cba86a2de4b87bff6de1cc356f3b1",
       "version_major": 2,
       "version_minor": 0
      },
      "text/plain": [
       "Generating train split: 0 examples [00:00, ? examples/s]"
      ]
     },
     "metadata": {},
     "output_type": "display_data"
    },
    {
     "data": {
      "application/vnd.jupyter.widget-view+json": {
       "model_id": "47cb0e7667e34446ad9d4d3fec4c2d2b",
       "version_major": 2,
       "version_minor": 0
      },
      "text/plain": [
       "Saving the dataset (0/1 shards):   0%|          | 0/1 [00:00<?, ? examples/s]"
      ]
     },
     "metadata": {},
     "output_type": "display_data"
    },
    {
     "name": "stdout",
     "output_type": "stream",
     "text": [
      "Dataset saved to ./dataset/train_val_split//in_split_3\n",
      "4 {'start_time': '2016-01-01', 'end_time': '2022-12-31'}\n",
      "['A_CPCH_row_0', 'A_CPI_row_0', 'A_FXSP_row_0', 'A_FXSP_row_1', 'A_GDPN_row_1', 'A_GDPN_row_2', 'A_MNY1_row_0', 'D_EE58_row_0', 'D_FXSP_row_0', 'D_POLR_row_0', 'M_CPCH_row_0', 'M_CPI_row_0', 'M_CPI_row_1', 'M_CPI_row_3', 'M_EE58_row_0', 'M_FXSP_row_0', 'M_FXSP_row_1', 'M_POLR_row_0', 'Q_FXSP_row_0', 'Q_FXSP_row_1']\n"
     ]
    },
    {
     "data": {
      "application/vnd.jupyter.widget-view+json": {
       "model_id": "c028fceca8ea4df8a5719c4f821b45a2",
       "version_major": 2,
       "version_minor": 0
      },
      "text/plain": [
       "Generating train split: 0 examples [00:00, ? examples/s]"
      ]
     },
     "metadata": {},
     "output_type": "display_data"
    },
    {
     "data": {
      "application/vnd.jupyter.widget-view+json": {
       "model_id": "41c50a0676684f2587d3196ff8fa024c",
       "version_major": 2,
       "version_minor": 0
      },
      "text/plain": [
       "Saving the dataset (0/1 shards):   0%|          | 0/1 [00:00<?, ? examples/s]"
      ]
     },
     "metadata": {},
     "output_type": "display_data"
    },
    {
     "name": "stdout",
     "output_type": "stream",
     "text": [
      "Dataset saved to ./dataset/train_val_split//in_split_4\n",
      "1 {'start_time': '1984-01-01', 'end_time': '1994-12-31'}\n",
      "['A_CPCH_row_0', 'A_CPI_row_0', 'A_FXSP_row_0', 'A_FXSP_row_1', 'A_GDPN_row_0', 'A_GDPN_row_1', 'A_MNY1_row_0', 'D_EE26_row_0', 'D_EE58_row_0', 'D_FXSP_row_0', 'D_FXSP_row_1', 'D_POLR_row_0', 'M_CPCH_row_0', 'M_CPI_row_0', 'M_EE26_row_0', 'M_EE58_row_0', 'M_FXSP_row_0', 'M_FXSP_row_1', 'M_FXSP_row_2', 'M_FXSP_row_3', 'M_POLR_row_0', 'Q_FXSP_row_0', 'Q_FXSP_row_1', 'Q_FXSP_row_2', 'Q_FXSP_row_3']\n"
     ]
    },
    {
     "data": {
      "application/vnd.jupyter.widget-view+json": {
       "model_id": "209517681573459283a1872682ce65af",
       "version_major": 2,
       "version_minor": 0
      },
      "text/plain": [
       "Generating train split: 0 examples [00:00, ? examples/s]"
      ]
     },
     "metadata": {},
     "output_type": "display_data"
    },
    {
     "data": {
      "application/vnd.jupyter.widget-view+json": {
       "model_id": "15e55a55074c4116b0be6c95f112ada7",
       "version_major": 2,
       "version_minor": 0
      },
      "text/plain": [
       "Saving the dataset (0/1 shards):   0%|          | 0/1 [00:00<?, ? examples/s]"
      ]
     },
     "metadata": {},
     "output_type": "display_data"
    },
    {
     "name": "stdout",
     "output_type": "stream",
     "text": [
      "Dataset saved to ./dataset/train_val_split//jp_split_1\n",
      "2 {'start_time': '1996-01-01', 'end_time': '2004-12-31'}\n",
      "['A_CPCH_row_0', 'A_CPI_row_0', 'A_FXSP_row_0', 'A_FXSP_row_1', 'A_GDPN_row_0', 'A_GDPN_row_1', 'A_MNY1_row_0', 'D_EE26_row_0', 'D_EE58_row_0', 'D_FXSP_row_0', 'D_FXSP_row_1', 'D_POLR_row_0', 'M_CPCH_row_0', 'M_CPI_row_0', 'M_EE26_row_0', 'M_EE58_row_0', 'M_FXSP_row_0', 'M_FXSP_row_1', 'M_FXSP_row_2', 'M_FXSP_row_3', 'M_POLR_row_0', 'Q_FXSP_row_0', 'Q_FXSP_row_1', 'Q_FXSP_row_2', 'Q_FXSP_row_3']\n"
     ]
    },
    {
     "data": {
      "application/vnd.jupyter.widget-view+json": {
       "model_id": "8fc874255e1f4d35b305103e3ebfc8d6",
       "version_major": 2,
       "version_minor": 0
      },
      "text/plain": [
       "Generating train split: 0 examples [00:00, ? examples/s]"
      ]
     },
     "metadata": {},
     "output_type": "display_data"
    },
    {
     "data": {
      "application/vnd.jupyter.widget-view+json": {
       "model_id": "16de4b0f393442bb9db1ac69f31d70cc",
       "version_major": 2,
       "version_minor": 0
      },
      "text/plain": [
       "Saving the dataset (0/1 shards):   0%|          | 0/1 [00:00<?, ? examples/s]"
      ]
     },
     "metadata": {},
     "output_type": "display_data"
    },
    {
     "name": "stdout",
     "output_type": "stream",
     "text": [
      "Dataset saved to ./dataset/train_val_split//jp_split_2\n",
      "3 {'start_time': '2006-01-01', 'end_time': '2014-12-31'}\n",
      "['A_CPCH_row_0', 'A_CPI_row_0', 'A_FXSP_row_0', 'A_FXSP_row_1', 'A_GDPN_row_0', 'A_GDPN_row_1', 'A_MNY1_row_0', 'D_EE26_row_0', 'D_EE58_row_0', 'D_FXSP_row_0', 'D_FXSP_row_1', 'D_POLR_row_0', 'M_CPCH_row_0', 'M_CPI_row_0', 'M_EE26_row_0', 'M_EE58_row_0', 'M_FXSP_row_0', 'M_FXSP_row_1', 'M_FXSP_row_2', 'M_FXSP_row_3', 'M_POLR_row_0', 'Q_FXSP_row_0', 'Q_FXSP_row_1', 'Q_FXSP_row_2', 'Q_FXSP_row_3']\n"
     ]
    },
    {
     "data": {
      "application/vnd.jupyter.widget-view+json": {
       "model_id": "0d29a38cfd944d96866dbaf6a22f001e",
       "version_major": 2,
       "version_minor": 0
      },
      "text/plain": [
       "Generating train split: 0 examples [00:00, ? examples/s]"
      ]
     },
     "metadata": {},
     "output_type": "display_data"
    },
    {
     "data": {
      "application/vnd.jupyter.widget-view+json": {
       "model_id": "36890ad72e4f4dc3b7eee8cabdf60bfb",
       "version_major": 2,
       "version_minor": 0
      },
      "text/plain": [
       "Saving the dataset (0/1 shards):   0%|          | 0/1 [00:00<?, ? examples/s]"
      ]
     },
     "metadata": {},
     "output_type": "display_data"
    },
    {
     "name": "stdout",
     "output_type": "stream",
     "text": [
      "Dataset saved to ./dataset/train_val_split//jp_split_3\n",
      "4 {'start_time': '2016-01-01', 'end_time': '2022-12-31'}\n",
      "['A_CPCH_row_0', 'A_CPI_row_0', 'A_FXSP_row_0', 'A_FXSP_row_1', 'A_GDPN_row_0', 'A_GDPN_row_1', 'A_MNY1_row_0', 'D_EE26_row_0', 'D_EE58_row_0', 'D_FXSP_row_0', 'D_FXSP_row_1', 'D_POLR_row_0', 'M_CPCH_row_0', 'M_CPI_row_0', 'M_EE26_row_0', 'M_EE58_row_0', 'M_FXSP_row_0', 'M_FXSP_row_1', 'M_FXSP_row_2', 'M_FXSP_row_3', 'M_POLR_row_0', 'Q_FXSP_row_0', 'Q_FXSP_row_1', 'Q_FXSP_row_2', 'Q_FXSP_row_3']\n"
     ]
    },
    {
     "data": {
      "application/vnd.jupyter.widget-view+json": {
       "model_id": "456b84d766b34a6ba6d08c065dc6d14a",
       "version_major": 2,
       "version_minor": 0
      },
      "text/plain": [
       "Generating train split: 0 examples [00:00, ? examples/s]"
      ]
     },
     "metadata": {},
     "output_type": "display_data"
    },
    {
     "data": {
      "application/vnd.jupyter.widget-view+json": {
       "model_id": "89d82de6169c40268d056473d2773025",
       "version_major": 2,
       "version_minor": 0
      },
      "text/plain": [
       "Saving the dataset (0/1 shards):   0%|          | 0/1 [00:00<?, ? examples/s]"
      ]
     },
     "metadata": {},
     "output_type": "display_data"
    },
    {
     "name": "stdout",
     "output_type": "stream",
     "text": [
      "Dataset saved to ./dataset/train_val_split//jp_split_4\n",
      "1 {'start_time': '1984-01-01', 'end_time': '1994-12-31'}\n",
      "['A_CPCH_row_0', 'A_CPCH_row_1', 'A_CPI_row_0', 'A_FXSP_row_0', 'A_FXSP_row_1', 'A_GDPN_row_0', 'A_GDPN_row_1', 'A_MNY1_row_0', 'A_MNY1_row_1', 'D_EE26_row_0', 'D_EE58_row_0', 'D_FXSP_row_0', 'D_FXSP_row_1', 'D_POLR_row_0', 'M_CPCH_row_0', 'M_CPI_row_0', 'M_CPI_row_3', 'M_EE26_row_0', 'M_EE58_row_0', 'M_FXSP_row_0', 'M_FXSP_row_1', 'M_FXSP_row_2', 'M_FXSP_row_3', 'M_POLR_row_0', 'Q_FXSP_row_0', 'Q_FXSP_row_1', 'Q_FXSP_row_2']\n"
     ]
    },
    {
     "data": {
      "application/vnd.jupyter.widget-view+json": {
       "model_id": "f7856d23769e40ee89a4d2882f7ad73e",
       "version_major": 2,
       "version_minor": 0
      },
      "text/plain": [
       "Generating train split: 0 examples [00:00, ? examples/s]"
      ]
     },
     "metadata": {},
     "output_type": "display_data"
    },
    {
     "data": {
      "application/vnd.jupyter.widget-view+json": {
       "model_id": "b372bf43672946568a0f9a70c09f08c6",
       "version_major": 2,
       "version_minor": 0
      },
      "text/plain": [
       "Saving the dataset (0/1 shards):   0%|          | 0/1 [00:00<?, ? examples/s]"
      ]
     },
     "metadata": {},
     "output_type": "display_data"
    },
    {
     "name": "stdout",
     "output_type": "stream",
     "text": [
      "Dataset saved to ./dataset/train_val_split//hk_split_1\n",
      "2 {'start_time': '1996-01-01', 'end_time': '2004-12-31'}\n",
      "['A_CPCH_row_0', 'A_CPCH_row_1', 'A_CPI_row_0', 'A_FXSP_row_0', 'A_FXSP_row_1', 'A_GDPN_row_0', 'A_GDPN_row_1', 'A_MNY1_row_0', 'A_MNY1_row_1', 'D_EE26_row_0', 'D_EE58_row_0', 'D_FXSP_row_0', 'D_FXSP_row_1', 'D_POLR_row_0', 'M_CPCH_row_0', 'M_CPI_row_0', 'M_CPI_row_3', 'M_EE26_row_0', 'M_EE58_row_0', 'M_FXSP_row_0', 'M_FXSP_row_1', 'M_FXSP_row_2', 'M_FXSP_row_3', 'M_POLR_row_0', 'Q_FXSP_row_0', 'Q_FXSP_row_1', 'Q_FXSP_row_2']\n"
     ]
    },
    {
     "data": {
      "application/vnd.jupyter.widget-view+json": {
       "model_id": "89c0b08012b1496ca27645b4c089388d",
       "version_major": 2,
       "version_minor": 0
      },
      "text/plain": [
       "Generating train split: 0 examples [00:00, ? examples/s]"
      ]
     },
     "metadata": {},
     "output_type": "display_data"
    },
    {
     "data": {
      "application/vnd.jupyter.widget-view+json": {
       "model_id": "55a435f7289045248698c9a4a8ab40c2",
       "version_major": 2,
       "version_minor": 0
      },
      "text/plain": [
       "Saving the dataset (0/1 shards):   0%|          | 0/1 [00:00<?, ? examples/s]"
      ]
     },
     "metadata": {},
     "output_type": "display_data"
    },
    {
     "name": "stdout",
     "output_type": "stream",
     "text": [
      "Dataset saved to ./dataset/train_val_split//hk_split_2\n",
      "3 {'start_time': '2006-01-01', 'end_time': '2014-12-31'}\n",
      "['A_CPCH_row_0', 'A_CPCH_row_1', 'A_CPI_row_0', 'A_FXSP_row_0', 'A_FXSP_row_1', 'A_GDPN_row_0', 'A_GDPN_row_1', 'A_MNY1_row_0', 'A_MNY1_row_1', 'D_EE26_row_0', 'D_EE58_row_0', 'D_FXSP_row_0', 'D_FXSP_row_1', 'D_POLR_row_0', 'M_CPCH_row_0', 'M_CPI_row_0', 'M_CPI_row_3', 'M_EE26_row_0', 'M_EE58_row_0', 'M_FXSP_row_0', 'M_FXSP_row_1', 'M_FXSP_row_2', 'M_FXSP_row_3', 'M_POLR_row_0', 'Q_FXSP_row_0', 'Q_FXSP_row_1', 'Q_FXSP_row_2']\n"
     ]
    },
    {
     "data": {
      "application/vnd.jupyter.widget-view+json": {
       "model_id": "8102af0ca7454d6f9c88bc11d62efb2b",
       "version_major": 2,
       "version_minor": 0
      },
      "text/plain": [
       "Generating train split: 0 examples [00:00, ? examples/s]"
      ]
     },
     "metadata": {},
     "output_type": "display_data"
    },
    {
     "data": {
      "application/vnd.jupyter.widget-view+json": {
       "model_id": "0f7d7b621c574e9f8ba6d1765e6f63f4",
       "version_major": 2,
       "version_minor": 0
      },
      "text/plain": [
       "Saving the dataset (0/1 shards):   0%|          | 0/1 [00:00<?, ? examples/s]"
      ]
     },
     "metadata": {},
     "output_type": "display_data"
    },
    {
     "name": "stdout",
     "output_type": "stream",
     "text": [
      "Dataset saved to ./dataset/train_val_split//hk_split_3\n",
      "4 {'start_time': '2016-01-01', 'end_time': '2022-12-31'}\n",
      "['A_CPCH_row_0', 'A_CPCH_row_1', 'A_CPI_row_0', 'A_FXSP_row_0', 'A_FXSP_row_1', 'A_GDPN_row_0', 'A_GDPN_row_1', 'A_MNY1_row_0', 'A_MNY1_row_1', 'D_EE26_row_0', 'D_EE58_row_0', 'D_FXSP_row_0', 'D_FXSP_row_1', 'D_POLR_row_0', 'M_CPCH_row_0', 'M_CPI_row_0', 'M_CPI_row_3', 'M_EE26_row_0', 'M_EE58_row_0', 'M_FXSP_row_0', 'M_FXSP_row_1', 'M_FXSP_row_2', 'M_FXSP_row_3', 'M_POLR_row_0', 'Q_FXSP_row_0', 'Q_FXSP_row_1', 'Q_FXSP_row_2']\n"
     ]
    },
    {
     "data": {
      "application/vnd.jupyter.widget-view+json": {
       "model_id": "82a039c0582341a8b0f9177af221b893",
       "version_major": 2,
       "version_minor": 0
      },
      "text/plain": [
       "Generating train split: 0 examples [00:00, ? examples/s]"
      ]
     },
     "metadata": {},
     "output_type": "display_data"
    },
    {
     "data": {
      "application/vnd.jupyter.widget-view+json": {
       "model_id": "41761cdb1b5f4170bf6b9250ef15adc4",
       "version_major": 2,
       "version_minor": 0
      },
      "text/plain": [
       "Saving the dataset (0/1 shards):   0%|          | 0/1 [00:00<?, ? examples/s]"
      ]
     },
     "metadata": {},
     "output_type": "display_data"
    },
    {
     "name": "stdout",
     "output_type": "stream",
     "text": [
      "Dataset saved to ./dataset/train_val_split//hk_split_4\n",
      "1 {'start_time': '1984-01-01', 'end_time': '1994-12-31'}\n",
      "['A_FXSP_row_0', 'A_FXSP_row_1', 'A_GDPN_row_0', 'D_EE58_row_0', 'D_FXSP_row_0', 'M_CPCH_row_0', 'M_EE58_row_0', 'M_FXSP_row_0', 'M_FXSP_row_1', 'Q_FXSP_row_0', 'Q_FXSP_row_1']\n"
     ]
    },
    {
     "data": {
      "application/vnd.jupyter.widget-view+json": {
       "model_id": "fbd59de7b2664d5cbc0574dc29fc6991",
       "version_major": 2,
       "version_minor": 0
      },
      "text/plain": [
       "Generating train split: 0 examples [00:00, ? examples/s]"
      ]
     },
     "metadata": {},
     "output_type": "display_data"
    },
    {
     "data": {
      "application/vnd.jupyter.widget-view+json": {
       "model_id": "086d5c93214049b1889f0be54f4a01c0",
       "version_major": 2,
       "version_minor": 0
      },
      "text/plain": [
       "Saving the dataset (0/1 shards):   0%|          | 0/1 [00:00<?, ? examples/s]"
      ]
     },
     "metadata": {},
     "output_type": "display_data"
    },
    {
     "name": "stdout",
     "output_type": "stream",
     "text": [
      "Dataset saved to ./dataset/train_val_split//ba_split_1\n",
      "2 {'start_time': '1996-01-01', 'end_time': '2004-12-31'}\n",
      "['A_FXSP_row_0', 'A_FXSP_row_1', 'A_GDPN_row_0', 'D_EE58_row_0', 'D_FXSP_row_0', 'M_CPCH_row_0', 'M_EE58_row_0', 'M_FXSP_row_0', 'M_FXSP_row_1', 'Q_FXSP_row_0', 'Q_FXSP_row_1']\n"
     ]
    },
    {
     "data": {
      "application/vnd.jupyter.widget-view+json": {
       "model_id": "ef162c95b31a470398e66e9b7e755fc9",
       "version_major": 2,
       "version_minor": 0
      },
      "text/plain": [
       "Generating train split: 0 examples [00:00, ? examples/s]"
      ]
     },
     "metadata": {},
     "output_type": "display_data"
    },
    {
     "data": {
      "application/vnd.jupyter.widget-view+json": {
       "model_id": "3476178803334446b0ec0e5de1d8084c",
       "version_major": 2,
       "version_minor": 0
      },
      "text/plain": [
       "Saving the dataset (0/1 shards):   0%|          | 0/1 [00:00<?, ? examples/s]"
      ]
     },
     "metadata": {},
     "output_type": "display_data"
    },
    {
     "name": "stdout",
     "output_type": "stream",
     "text": [
      "Dataset saved to ./dataset/train_val_split//ba_split_2\n",
      "3 {'start_time': '2006-01-01', 'end_time': '2014-12-31'}\n",
      "['A_FXSP_row_0', 'A_FXSP_row_1', 'A_GDPN_row_0', 'D_EE58_row_0', 'D_FXSP_row_0', 'M_CPCH_row_0', 'M_EE58_row_0', 'M_FXSP_row_0', 'M_FXSP_row_1', 'Q_FXSP_row_0', 'Q_FXSP_row_1']\n"
     ]
    },
    {
     "data": {
      "application/vnd.jupyter.widget-view+json": {
       "model_id": "261d5ab9461844fc87723230b7eccef6",
       "version_major": 2,
       "version_minor": 0
      },
      "text/plain": [
       "Generating train split: 0 examples [00:00, ? examples/s]"
      ]
     },
     "metadata": {},
     "output_type": "display_data"
    },
    {
     "data": {
      "application/vnd.jupyter.widget-view+json": {
       "model_id": "4ee8c8dff4654407b2c926893e88c39f",
       "version_major": 2,
       "version_minor": 0
      },
      "text/plain": [
       "Saving the dataset (0/1 shards):   0%|          | 0/1 [00:00<?, ? examples/s]"
      ]
     },
     "metadata": {},
     "output_type": "display_data"
    },
    {
     "name": "stdout",
     "output_type": "stream",
     "text": [
      "Dataset saved to ./dataset/train_val_split//ba_split_3\n",
      "4 {'start_time': '2016-01-01', 'end_time': '2022-12-31'}\n",
      "['A_FXSP_row_0', 'A_FXSP_row_1', 'A_GDPN_row_0', 'D_EE58_row_0', 'D_FXSP_row_0', 'M_CPCH_row_0', 'M_EE58_row_0', 'M_FXSP_row_0', 'M_FXSP_row_1', 'Q_FXSP_row_0', 'Q_FXSP_row_1']\n"
     ]
    },
    {
     "data": {
      "application/vnd.jupyter.widget-view+json": {
       "model_id": "ad6167fcbe904edbaa0dd7d024290b96",
       "version_major": 2,
       "version_minor": 0
      },
      "text/plain": [
       "Generating train split: 0 examples [00:00, ? examples/s]"
      ]
     },
     "metadata": {},
     "output_type": "display_data"
    },
    {
     "data": {
      "application/vnd.jupyter.widget-view+json": {
       "model_id": "fe739758a2ac4dcebf4399b0a60d2889",
       "version_major": 2,
       "version_minor": 0
      },
      "text/plain": [
       "Saving the dataset (0/1 shards):   0%|          | 0/1 [00:00<?, ? examples/s]"
      ]
     },
     "metadata": {},
     "output_type": "display_data"
    },
    {
     "name": "stdout",
     "output_type": "stream",
     "text": [
      "Dataset saved to ./dataset/train_val_split//ba_split_4\n",
      "1 {'start_time': '1984-01-01', 'end_time': '1994-12-31'}\n",
      "['A_CPCH_row_0', 'A_CPI_row_0', 'A_FXSP_row_0', 'A_FXSP_row_1', 'A_GDPN_row_0', 'A_MNY1_row_0', 'D_EE58_row_0', 'D_FXSP_row_0', 'D_POLR_row_0', 'M_CPCH_row_0', 'M_CPI_row_0', 'M_CPI_row_1', 'M_CPI_row_3', 'M_CPI_row_5', 'M_EE58_row_0', 'M_FXSP_row_0', 'M_FXSP_row_1', 'M_POLR_row_0', 'Q_FXSP_row_0', 'Q_FXSP_row_1']\n"
     ]
    },
    {
     "data": {
      "application/vnd.jupyter.widget-view+json": {
       "model_id": "c7d17dc0ff3c4b6bab2801283186b44a",
       "version_major": 2,
       "version_minor": 0
      },
      "text/plain": [
       "Generating train split: 0 examples [00:00, ? examples/s]"
      ]
     },
     "metadata": {},
     "output_type": "display_data"
    },
    {
     "data": {
      "application/vnd.jupyter.widget-view+json": {
       "model_id": "2e6aca6b980e44bbbdece3a8d84ce51e",
       "version_major": 2,
       "version_minor": 0
      },
      "text/plain": [
       "Saving the dataset (0/1 shards):   0%|          | 0/1 [00:00<?, ? examples/s]"
      ]
     },
     "metadata": {},
     "output_type": "display_data"
    },
    {
     "name": "stdout",
     "output_type": "stream",
     "text": [
      "Dataset saved to ./dataset/train_val_split//ar_split_1\n",
      "2 {'start_time': '1996-01-01', 'end_time': '2004-12-31'}\n",
      "['A_CPCH_row_0', 'A_CPI_row_0', 'A_FXSP_row_0', 'A_FXSP_row_1', 'A_GDPN_row_0', 'A_MNY1_row_0', 'D_EE58_row_0', 'D_FXSP_row_0', 'D_POLR_row_0', 'M_CPCH_row_0', 'M_CPI_row_0', 'M_CPI_row_1', 'M_CPI_row_3', 'M_CPI_row_5', 'M_EE58_row_0', 'M_FXSP_row_0', 'M_FXSP_row_1', 'M_POLR_row_0', 'Q_FXSP_row_0', 'Q_FXSP_row_1']\n"
     ]
    },
    {
     "data": {
      "application/vnd.jupyter.widget-view+json": {
       "model_id": "dbe79f9557f64ffa81e14b10de046187",
       "version_major": 2,
       "version_minor": 0
      },
      "text/plain": [
       "Generating train split: 0 examples [00:00, ? examples/s]"
      ]
     },
     "metadata": {},
     "output_type": "display_data"
    },
    {
     "data": {
      "application/vnd.jupyter.widget-view+json": {
       "model_id": "eed1acfec0e04db1b782671903593c28",
       "version_major": 2,
       "version_minor": 0
      },
      "text/plain": [
       "Saving the dataset (0/1 shards):   0%|          | 0/1 [00:00<?, ? examples/s]"
      ]
     },
     "metadata": {},
     "output_type": "display_data"
    },
    {
     "name": "stdout",
     "output_type": "stream",
     "text": [
      "Dataset saved to ./dataset/train_val_split//ar_split_2\n",
      "3 {'start_time': '2006-01-01', 'end_time': '2014-12-31'}\n",
      "['A_CPCH_row_0', 'A_CPI_row_0', 'A_FXSP_row_0', 'A_FXSP_row_1', 'A_GDPN_row_0', 'A_MNY1_row_0', 'D_EE58_row_0', 'D_FXSP_row_0', 'D_POLR_row_0', 'M_CPCH_row_0', 'M_CPI_row_0', 'M_CPI_row_1', 'M_CPI_row_3', 'M_CPI_row_5', 'M_EE58_row_0', 'M_FXSP_row_0', 'M_FXSP_row_1', 'M_POLR_row_0', 'Q_FXSP_row_0', 'Q_FXSP_row_1']\n"
     ]
    },
    {
     "data": {
      "application/vnd.jupyter.widget-view+json": {
       "model_id": "5a9d338de31b46ffa2b95bdb30162caa",
       "version_major": 2,
       "version_minor": 0
      },
      "text/plain": [
       "Generating train split: 0 examples [00:00, ? examples/s]"
      ]
     },
     "metadata": {},
     "output_type": "display_data"
    },
    {
     "data": {
      "application/vnd.jupyter.widget-view+json": {
       "model_id": "26839e00042e4bf787c6292472333bae",
       "version_major": 2,
       "version_minor": 0
      },
      "text/plain": [
       "Saving the dataset (0/1 shards):   0%|          | 0/1 [00:00<?, ? examples/s]"
      ]
     },
     "metadata": {},
     "output_type": "display_data"
    },
    {
     "name": "stdout",
     "output_type": "stream",
     "text": [
      "Dataset saved to ./dataset/train_val_split//ar_split_3\n",
      "4 {'start_time': '2016-01-01', 'end_time': '2022-12-31'}\n",
      "['A_CPCH_row_0', 'A_CPI_row_0', 'A_FXSP_row_0', 'A_FXSP_row_1', 'A_GDPN_row_0', 'A_MNY1_row_0', 'D_EE58_row_0', 'D_FXSP_row_0', 'D_POLR_row_0', 'M_CPCH_row_0', 'M_CPI_row_0', 'M_CPI_row_1', 'M_CPI_row_3', 'M_CPI_row_5', 'M_EE58_row_0', 'M_FXSP_row_0', 'M_FXSP_row_1', 'M_POLR_row_0', 'Q_FXSP_row_0', 'Q_FXSP_row_1']\n"
     ]
    },
    {
     "data": {
      "application/vnd.jupyter.widget-view+json": {
       "model_id": "620766d03f364651b0792590e6620202",
       "version_major": 2,
       "version_minor": 0
      },
      "text/plain": [
       "Generating train split: 0 examples [00:00, ? examples/s]"
      ]
     },
     "metadata": {},
     "output_type": "display_data"
    },
    {
     "data": {
      "application/vnd.jupyter.widget-view+json": {
       "model_id": "e2e40b3bfa2b45dd84287c215b0ade63",
       "version_major": 2,
       "version_minor": 0
      },
      "text/plain": [
       "Saving the dataset (0/1 shards):   0%|          | 0/1 [00:00<?, ? examples/s]"
      ]
     },
     "metadata": {},
     "output_type": "display_data"
    },
    {
     "name": "stdout",
     "output_type": "stream",
     "text": [
      "Dataset saved to ./dataset/train_val_split//ar_split_4\n",
      "1 {'start_time': '1984-01-01', 'end_time': '1994-12-31'}\n",
      "['A_CPCH_row_0', 'A_CPI_row_0', 'A_FXSP_row_0', 'A_FXSP_row_1', 'A_GDPN_row_0', 'A_GDPN_row_1', 'A_MNY1_row_0', 'D_EE26_row_0', 'D_EE58_row_0', 'D_FXSP_row_0', 'D_FXSP_row_1', 'D_POLR_row_0', 'M_CPCH_row_0', 'M_CPI_row_0', 'M_EE26_row_0', 'M_EE58_row_0', 'M_FXSP_row_0', 'M_FXSP_row_1', 'M_FXSP_row_2', 'M_FXSP_row_3', 'M_POLR_row_0', 'Q_FXSP_row_0', 'Q_FXSP_row_1', 'Q_FXSP_row_2', 'Q_FXSP_row_3']\n"
     ]
    },
    {
     "data": {
      "application/vnd.jupyter.widget-view+json": {
       "model_id": "7d936d00a4be462c9fe58fb14ad9ff92",
       "version_major": 2,
       "version_minor": 0
      },
      "text/plain": [
       "Generating train split: 0 examples [00:00, ? examples/s]"
      ]
     },
     "metadata": {},
     "output_type": "display_data"
    },
    {
     "data": {
      "application/vnd.jupyter.widget-view+json": {
       "model_id": "a8ae54baf1664deea3bb015bcb325279",
       "version_major": 2,
       "version_minor": 0
      },
      "text/plain": [
       "Saving the dataset (0/1 shards):   0%|          | 0/1 [00:00<?, ? examples/s]"
      ]
     },
     "metadata": {},
     "output_type": "display_data"
    },
    {
     "name": "stdout",
     "output_type": "stream",
     "text": [
      "Dataset saved to ./dataset/train_val_split//au_split_1\n",
      "2 {'start_time': '1996-01-01', 'end_time': '2004-12-31'}\n",
      "['A_CPCH_row_0', 'A_CPI_row_0', 'A_FXSP_row_0', 'A_FXSP_row_1', 'A_GDPN_row_0', 'A_GDPN_row_1', 'A_MNY1_row_0', 'D_EE26_row_0', 'D_EE58_row_0', 'D_FXSP_row_0', 'D_FXSP_row_1', 'D_POLR_row_0', 'M_CPCH_row_0', 'M_CPI_row_0', 'M_EE26_row_0', 'M_EE58_row_0', 'M_FXSP_row_0', 'M_FXSP_row_1', 'M_FXSP_row_2', 'M_FXSP_row_3', 'M_POLR_row_0', 'Q_FXSP_row_0', 'Q_FXSP_row_1', 'Q_FXSP_row_2', 'Q_FXSP_row_3']\n"
     ]
    },
    {
     "data": {
      "application/vnd.jupyter.widget-view+json": {
       "model_id": "5d7eab9f2f524de09cfe2edea39395fa",
       "version_major": 2,
       "version_minor": 0
      },
      "text/plain": [
       "Generating train split: 0 examples [00:00, ? examples/s]"
      ]
     },
     "metadata": {},
     "output_type": "display_data"
    },
    {
     "data": {
      "application/vnd.jupyter.widget-view+json": {
       "model_id": "f58ed03f5b884849993f284f63a0768a",
       "version_major": 2,
       "version_minor": 0
      },
      "text/plain": [
       "Saving the dataset (0/1 shards):   0%|          | 0/1 [00:00<?, ? examples/s]"
      ]
     },
     "metadata": {},
     "output_type": "display_data"
    },
    {
     "name": "stdout",
     "output_type": "stream",
     "text": [
      "Dataset saved to ./dataset/train_val_split//au_split_2\n",
      "3 {'start_time': '2006-01-01', 'end_time': '2014-12-31'}\n",
      "['A_CPCH_row_0', 'A_CPI_row_0', 'A_FXSP_row_0', 'A_FXSP_row_1', 'A_GDPN_row_0', 'A_GDPN_row_1', 'A_MNY1_row_0', 'D_EE26_row_0', 'D_EE58_row_0', 'D_FXSP_row_0', 'D_FXSP_row_1', 'D_POLR_row_0', 'M_CPCH_row_0', 'M_CPI_row_0', 'M_EE26_row_0', 'M_EE58_row_0', 'M_FXSP_row_0', 'M_FXSP_row_1', 'M_FXSP_row_2', 'M_FXSP_row_3', 'M_POLR_row_0', 'Q_FXSP_row_0', 'Q_FXSP_row_1', 'Q_FXSP_row_2', 'Q_FXSP_row_3']\n"
     ]
    },
    {
     "data": {
      "application/vnd.jupyter.widget-view+json": {
       "model_id": "798dffb38a10473a99d962a92b41be86",
       "version_major": 2,
       "version_minor": 0
      },
      "text/plain": [
       "Generating train split: 0 examples [00:00, ? examples/s]"
      ]
     },
     "metadata": {},
     "output_type": "display_data"
    },
    {
     "data": {
      "application/vnd.jupyter.widget-view+json": {
       "model_id": "33e42c5bb4a0456aa29224dac2286eff",
       "version_major": 2,
       "version_minor": 0
      },
      "text/plain": [
       "Saving the dataset (0/1 shards):   0%|          | 0/1 [00:00<?, ? examples/s]"
      ]
     },
     "metadata": {},
     "output_type": "display_data"
    },
    {
     "name": "stdout",
     "output_type": "stream",
     "text": [
      "Dataset saved to ./dataset/train_val_split//au_split_3\n",
      "4 {'start_time': '2016-01-01', 'end_time': '2022-12-31'}\n",
      "['A_CPCH_row_0', 'A_CPI_row_0', 'A_FXSP_row_0', 'A_FXSP_row_1', 'A_GDPN_row_0', 'A_GDPN_row_1', 'A_MNY1_row_0', 'D_EE26_row_0', 'D_EE58_row_0', 'D_FXSP_row_0', 'D_FXSP_row_1', 'D_POLR_row_0', 'M_CPCH_row_0', 'M_CPI_row_0', 'M_EE26_row_0', 'M_EE58_row_0', 'M_FXSP_row_0', 'M_FXSP_row_1', 'M_FXSP_row_2', 'M_FXSP_row_3', 'M_POLR_row_0', 'Q_FXSP_row_0', 'Q_FXSP_row_1', 'Q_FXSP_row_2', 'Q_FXSP_row_3']\n"
     ]
    },
    {
     "data": {
      "application/vnd.jupyter.widget-view+json": {
       "model_id": "2e6fd0e4b18040f683ee61343618ba24",
       "version_major": 2,
       "version_minor": 0
      },
      "text/plain": [
       "Generating train split: 0 examples [00:00, ? examples/s]"
      ]
     },
     "metadata": {},
     "output_type": "display_data"
    },
    {
     "data": {
      "application/vnd.jupyter.widget-view+json": {
       "model_id": "ac5e06f2698748088a04cd0a6ade305a",
       "version_major": 2,
       "version_minor": 0
      },
      "text/plain": [
       "Saving the dataset (0/1 shards):   0%|          | 0/1 [00:00<?, ? examples/s]"
      ]
     },
     "metadata": {},
     "output_type": "display_data"
    },
    {
     "name": "stdout",
     "output_type": "stream",
     "text": [
      "Dataset saved to ./dataset/train_val_split//au_split_4\n",
      "1 {'start_time': '1984-01-01', 'end_time': '1994-12-31'}\n",
      "['A_CPCH_row_0', 'A_CPI_row_0', 'A_FXSP_row_0', 'A_FXSP_row_1', 'A_GDPN_row_0', 'A_GDPN_row_1', 'D_EE26_row_0', 'D_EE58_row_0', 'D_FXSP_row_0', 'D_FXSP_row_1', 'D_POLR_row_0', 'M_CPCH_row_0', 'M_CPI_row_0', 'M_EE26_row_0', 'M_EE58_row_0', 'M_FXSP_row_0', 'M_FXSP_row_1', 'M_FXSP_row_2', 'M_FXSP_row_3', 'M_POLR_row_0', 'Q_FXSP_row_0', 'Q_FXSP_row_1', 'Q_FXSP_row_2', 'Q_FXSP_row_3']\n"
     ]
    },
    {
     "data": {
      "application/vnd.jupyter.widget-view+json": {
       "model_id": "9c507461bbc34df386f66989eac24ecb",
       "version_major": 2,
       "version_minor": 0
      },
      "text/plain": [
       "Generating train split: 0 examples [00:00, ? examples/s]"
      ]
     },
     "metadata": {},
     "output_type": "display_data"
    },
    {
     "data": {
      "application/vnd.jupyter.widget-view+json": {
       "model_id": "ca945de9cbd64159b1f40e13f7e5efe1",
       "version_major": 2,
       "version_minor": 0
      },
      "text/plain": [
       "Saving the dataset (0/1 shards):   0%|          | 0/1 [00:00<?, ? examples/s]"
      ]
     },
     "metadata": {},
     "output_type": "display_data"
    },
    {
     "name": "stdout",
     "output_type": "stream",
     "text": [
      "Dataset saved to ./dataset/train_val_split//nz_split_1\n",
      "2 {'start_time': '1996-01-01', 'end_time': '2004-12-31'}\n",
      "['A_CPCH_row_0', 'A_CPI_row_0', 'A_FXSP_row_0', 'A_FXSP_row_1', 'A_GDPN_row_0', 'A_GDPN_row_1', 'D_EE26_row_0', 'D_EE58_row_0', 'D_FXSP_row_0', 'D_FXSP_row_1', 'D_POLR_row_0', 'M_CPCH_row_0', 'M_CPI_row_0', 'M_EE26_row_0', 'M_EE58_row_0', 'M_FXSP_row_0', 'M_FXSP_row_1', 'M_FXSP_row_2', 'M_FXSP_row_3', 'M_POLR_row_0', 'Q_FXSP_row_0', 'Q_FXSP_row_1', 'Q_FXSP_row_2', 'Q_FXSP_row_3']\n"
     ]
    },
    {
     "data": {
      "application/vnd.jupyter.widget-view+json": {
       "model_id": "d266d38d1b7e4f758b967a55831de1b2",
       "version_major": 2,
       "version_minor": 0
      },
      "text/plain": [
       "Generating train split: 0 examples [00:00, ? examples/s]"
      ]
     },
     "metadata": {},
     "output_type": "display_data"
    },
    {
     "data": {
      "application/vnd.jupyter.widget-view+json": {
       "model_id": "ade506fa94c94811b16734c27d9766bf",
       "version_major": 2,
       "version_minor": 0
      },
      "text/plain": [
       "Saving the dataset (0/1 shards):   0%|          | 0/1 [00:00<?, ? examples/s]"
      ]
     },
     "metadata": {},
     "output_type": "display_data"
    },
    {
     "name": "stdout",
     "output_type": "stream",
     "text": [
      "Dataset saved to ./dataset/train_val_split//nz_split_2\n",
      "3 {'start_time': '2006-01-01', 'end_time': '2014-12-31'}\n",
      "['A_CPCH_row_0', 'A_CPI_row_0', 'A_FXSP_row_0', 'A_FXSP_row_1', 'A_GDPN_row_0', 'A_GDPN_row_1', 'D_EE26_row_0', 'D_EE58_row_0', 'D_FXSP_row_0', 'D_FXSP_row_1', 'D_POLR_row_0', 'M_CPCH_row_0', 'M_CPI_row_0', 'M_EE26_row_0', 'M_EE58_row_0', 'M_FXSP_row_0', 'M_FXSP_row_1', 'M_FXSP_row_2', 'M_FXSP_row_3', 'M_POLR_row_0', 'Q_FXSP_row_0', 'Q_FXSP_row_1', 'Q_FXSP_row_2', 'Q_FXSP_row_3']\n"
     ]
    },
    {
     "data": {
      "application/vnd.jupyter.widget-view+json": {
       "model_id": "a6dd9f063e3a4abf939a8383b5bffb12",
       "version_major": 2,
       "version_minor": 0
      },
      "text/plain": [
       "Generating train split: 0 examples [00:00, ? examples/s]"
      ]
     },
     "metadata": {},
     "output_type": "display_data"
    },
    {
     "data": {
      "application/vnd.jupyter.widget-view+json": {
       "model_id": "c70ff0a75baa489f93fc88fd30b166e6",
       "version_major": 2,
       "version_minor": 0
      },
      "text/plain": [
       "Saving the dataset (0/1 shards):   0%|          | 0/1 [00:00<?, ? examples/s]"
      ]
     },
     "metadata": {},
     "output_type": "display_data"
    },
    {
     "name": "stdout",
     "output_type": "stream",
     "text": [
      "Dataset saved to ./dataset/train_val_split//nz_split_3\n",
      "4 {'start_time': '2016-01-01', 'end_time': '2022-12-31'}\n",
      "['A_CPCH_row_0', 'A_CPI_row_0', 'A_FXSP_row_0', 'A_FXSP_row_1', 'A_GDPN_row_0', 'A_GDPN_row_1', 'D_EE26_row_0', 'D_EE58_row_0', 'D_FXSP_row_0', 'D_FXSP_row_1', 'D_POLR_row_0', 'M_CPCH_row_0', 'M_CPI_row_0', 'M_EE26_row_0', 'M_EE58_row_0', 'M_FXSP_row_0', 'M_FXSP_row_1', 'M_FXSP_row_2', 'M_FXSP_row_3', 'M_POLR_row_0', 'Q_FXSP_row_0', 'Q_FXSP_row_1', 'Q_FXSP_row_2', 'Q_FXSP_row_3']\n"
     ]
    },
    {
     "data": {
      "application/vnd.jupyter.widget-view+json": {
       "model_id": "de00ef354cf741ee917a89841ec20a0f",
       "version_major": 2,
       "version_minor": 0
      },
      "text/plain": [
       "Generating train split: 0 examples [00:00, ? examples/s]"
      ]
     },
     "metadata": {},
     "output_type": "display_data"
    },
    {
     "data": {
      "application/vnd.jupyter.widget-view+json": {
       "model_id": "aafef698851d43598de840fddb345bf4",
       "version_major": 2,
       "version_minor": 0
      },
      "text/plain": [
       "Saving the dataset (0/1 shards):   0%|          | 0/1 [00:00<?, ? examples/s]"
      ]
     },
     "metadata": {},
     "output_type": "display_data"
    },
    {
     "name": "stdout",
     "output_type": "stream",
     "text": [
      "Dataset saved to ./dataset/train_val_split//nz_split_4\n",
      "1 {'start_time': '1984-01-01', 'end_time': '1994-12-31'}\n",
      "['A_CPCH_row_0', 'A_CPI_row_1', 'A_FXSP_row_0', 'A_FXSP_row_1', 'A_GDPN_row_0', 'A_GDPN_row_1', 'A_MNY1_row_0', 'D_EE58_row_0', 'D_FXSP_row_0', 'D_FXSP_row_1', 'D_POLR_row_0', 'M_CPCH_row_0', 'M_CPCH_row_1', 'M_CPCH_row_2', 'M_CPCH_row_3', 'M_CPI_row_0', 'M_CPI_row_1', 'M_EE58_row_0', 'M_FXSP_row_0', 'M_FXSP_row_1', 'M_FXSP_row_2', 'M_FXSP_row_3', 'M_POLR_row_0', 'Q_FXSP_row_0', 'Q_FXSP_row_1', 'Q_FXSP_row_2', 'Q_FXSP_row_3']\n"
     ]
    },
    {
     "data": {
      "application/vnd.jupyter.widget-view+json": {
       "model_id": "5056282b76014fb6a537ba88ee1c1f71",
       "version_major": 2,
       "version_minor": 0
      },
      "text/plain": [
       "Generating train split: 0 examples [00:00, ? examples/s]"
      ]
     },
     "metadata": {},
     "output_type": "display_data"
    },
    {
     "data": {
      "application/vnd.jupyter.widget-view+json": {
       "model_id": "e4db112be9eb47758aec97a479c8c467",
       "version_major": 2,
       "version_minor": 0
      },
      "text/plain": [
       "Saving the dataset (0/1 shards):   0%|          | 0/1 [00:00<?, ? examples/s]"
      ]
     },
     "metadata": {},
     "output_type": "display_data"
    },
    {
     "name": "stdout",
     "output_type": "stream",
     "text": [
      "Dataset saved to ./dataset/train_val_split//cn_split_1\n",
      "2 {'start_time': '1996-01-01', 'end_time': '2004-12-31'}\n",
      "['A_CPCH_row_0', 'A_CPI_row_1', 'A_FXSP_row_0', 'A_FXSP_row_1', 'A_GDPN_row_0', 'A_GDPN_row_1', 'A_MNY1_row_0', 'D_EE58_row_0', 'D_FXSP_row_0', 'D_FXSP_row_1', 'D_POLR_row_0', 'M_CPCH_row_0', 'M_CPCH_row_1', 'M_CPCH_row_2', 'M_CPCH_row_3', 'M_CPI_row_0', 'M_CPI_row_1', 'M_EE58_row_0', 'M_FXSP_row_0', 'M_FXSP_row_1', 'M_FXSP_row_2', 'M_FXSP_row_3', 'M_POLR_row_0', 'Q_FXSP_row_0', 'Q_FXSP_row_1', 'Q_FXSP_row_2', 'Q_FXSP_row_3']\n"
     ]
    },
    {
     "data": {
      "application/vnd.jupyter.widget-view+json": {
       "model_id": "bba42721fd7341c4929c2628cbe2cf3b",
       "version_major": 2,
       "version_minor": 0
      },
      "text/plain": [
       "Generating train split: 0 examples [00:00, ? examples/s]"
      ]
     },
     "metadata": {},
     "output_type": "display_data"
    },
    {
     "data": {
      "application/vnd.jupyter.widget-view+json": {
       "model_id": "0ef0f0bb3acb474d8e8404639d79f640",
       "version_major": 2,
       "version_minor": 0
      },
      "text/plain": [
       "Saving the dataset (0/1 shards):   0%|          | 0/1 [00:00<?, ? examples/s]"
      ]
     },
     "metadata": {},
     "output_type": "display_data"
    },
    {
     "name": "stdout",
     "output_type": "stream",
     "text": [
      "Dataset saved to ./dataset/train_val_split//cn_split_2\n",
      "3 {'start_time': '2006-01-01', 'end_time': '2014-12-31'}\n",
      "['A_CPCH_row_0', 'A_CPI_row_1', 'A_FXSP_row_0', 'A_FXSP_row_1', 'A_GDPN_row_0', 'A_GDPN_row_1', 'A_MNY1_row_0', 'D_EE58_row_0', 'D_FXSP_row_0', 'D_FXSP_row_1', 'D_POLR_row_0', 'M_CPCH_row_0', 'M_CPCH_row_1', 'M_CPCH_row_2', 'M_CPCH_row_3', 'M_CPI_row_0', 'M_CPI_row_1', 'M_EE58_row_0', 'M_FXSP_row_0', 'M_FXSP_row_1', 'M_FXSP_row_2', 'M_FXSP_row_3', 'M_POLR_row_0', 'Q_FXSP_row_0', 'Q_FXSP_row_1', 'Q_FXSP_row_2', 'Q_FXSP_row_3']\n"
     ]
    },
    {
     "data": {
      "application/vnd.jupyter.widget-view+json": {
       "model_id": "95a53570127e42e18b488f0fc0e30289",
       "version_major": 2,
       "version_minor": 0
      },
      "text/plain": [
       "Generating train split: 0 examples [00:00, ? examples/s]"
      ]
     },
     "metadata": {},
     "output_type": "display_data"
    },
    {
     "data": {
      "application/vnd.jupyter.widget-view+json": {
       "model_id": "53019c408b0b49c3b6914c1c7e2b7958",
       "version_major": 2,
       "version_minor": 0
      },
      "text/plain": [
       "Saving the dataset (0/1 shards):   0%|          | 0/1 [00:00<?, ? examples/s]"
      ]
     },
     "metadata": {},
     "output_type": "display_data"
    },
    {
     "name": "stdout",
     "output_type": "stream",
     "text": [
      "Dataset saved to ./dataset/train_val_split//cn_split_3\n",
      "4 {'start_time': '2016-01-01', 'end_time': '2022-12-31'}\n",
      "['A_CPCH_row_0', 'A_CPI_row_1', 'A_FXSP_row_0', 'A_FXSP_row_1', 'A_GDPN_row_0', 'A_GDPN_row_1', 'A_MNY1_row_0', 'D_EE58_row_0', 'D_FXSP_row_0', 'D_FXSP_row_1', 'D_POLR_row_0', 'M_CPCH_row_0', 'M_CPCH_row_1', 'M_CPCH_row_2', 'M_CPCH_row_3', 'M_CPI_row_0', 'M_CPI_row_1', 'M_EE58_row_0', 'M_FXSP_row_0', 'M_FXSP_row_1', 'M_FXSP_row_2', 'M_FXSP_row_3', 'M_POLR_row_0', 'Q_FXSP_row_0', 'Q_FXSP_row_1', 'Q_FXSP_row_2', 'Q_FXSP_row_3']\n"
     ]
    },
    {
     "data": {
      "application/vnd.jupyter.widget-view+json": {
       "model_id": "da5d3a4b66644f42a6ad79c799b2dc37",
       "version_major": 2,
       "version_minor": 0
      },
      "text/plain": [
       "Generating train split: 0 examples [00:00, ? examples/s]"
      ]
     },
     "metadata": {},
     "output_type": "display_data"
    },
    {
     "data": {
      "application/vnd.jupyter.widget-view+json": {
       "model_id": "175b0ae98da24188823a70e23971873b",
       "version_major": 2,
       "version_minor": 0
      },
      "text/plain": [
       "Saving the dataset (0/1 shards):   0%|          | 0/1 [00:00<?, ? examples/s]"
      ]
     },
     "metadata": {},
     "output_type": "display_data"
    },
    {
     "name": "stdout",
     "output_type": "stream",
     "text": [
      "Dataset saved to ./dataset/train_val_split//cn_split_4\n",
      "1 {'start_time': '1984-01-01', 'end_time': '1994-12-31'}\n",
      "['A_CPCH_row_0', 'A_CPI_row_0', 'A_FXSP_row_0', 'A_FXSP_row_1', 'A_GDPN_row_0', 'A_MNY1_row_0', 'D_EE58_row_0', 'D_FXSP_row_0', 'D_FXSP_row_1', 'D_POLR_row_0', 'M_CPCH_row_0', 'M_CPI_row_0', 'M_CPI_row_3', 'M_EE58_row_0', 'M_FXSP_row_0', 'M_FXSP_row_1', 'M_FXSP_row_2', 'M_FXSP_row_3', 'M_POLR_row_0', 'Q_FXSP_row_0', 'Q_FXSP_row_1', 'Q_FXSP_row_2', 'Q_FXSP_row_3']\n"
     ]
    },
    {
     "data": {
      "application/vnd.jupyter.widget-view+json": {
       "model_id": "b8326e58780a4234adb8dc2991a661f9",
       "version_major": 2,
       "version_minor": 0
      },
      "text/plain": [
       "Generating train split: 0 examples [00:00, ? examples/s]"
      ]
     },
     "metadata": {},
     "output_type": "display_data"
    },
    {
     "data": {
      "application/vnd.jupyter.widget-view+json": {
       "model_id": "abd64dfd6e95464bba38f014d0707969",
       "version_major": 2,
       "version_minor": 0
      },
      "text/plain": [
       "Saving the dataset (0/1 shards):   0%|          | 0/1 [00:00<?, ? examples/s]"
      ]
     },
     "metadata": {},
     "output_type": "display_data"
    },
    {
     "name": "stdout",
     "output_type": "stream",
     "text": [
      "Dataset saved to ./dataset/train_val_split//id_split_1\n",
      "2 {'start_time': '1996-01-01', 'end_time': '2004-12-31'}\n",
      "['A_CPCH_row_0', 'A_CPI_row_0', 'A_FXSP_row_0', 'A_FXSP_row_1', 'A_GDPN_row_0', 'A_MNY1_row_0', 'D_EE58_row_0', 'D_FXSP_row_0', 'D_FXSP_row_1', 'D_POLR_row_0', 'M_CPCH_row_0', 'M_CPI_row_0', 'M_CPI_row_3', 'M_EE58_row_0', 'M_FXSP_row_0', 'M_FXSP_row_1', 'M_FXSP_row_2', 'M_FXSP_row_3', 'M_POLR_row_0', 'Q_FXSP_row_0', 'Q_FXSP_row_1', 'Q_FXSP_row_2', 'Q_FXSP_row_3']\n"
     ]
    },
    {
     "data": {
      "application/vnd.jupyter.widget-view+json": {
       "model_id": "5a07fd921ed54d00b21acc0435832eba",
       "version_major": 2,
       "version_minor": 0
      },
      "text/plain": [
       "Generating train split: 0 examples [00:00, ? examples/s]"
      ]
     },
     "metadata": {},
     "output_type": "display_data"
    },
    {
     "data": {
      "application/vnd.jupyter.widget-view+json": {
       "model_id": "c45885d1edb848d1a577905dd539e916",
       "version_major": 2,
       "version_minor": 0
      },
      "text/plain": [
       "Saving the dataset (0/1 shards):   0%|          | 0/1 [00:00<?, ? examples/s]"
      ]
     },
     "metadata": {},
     "output_type": "display_data"
    },
    {
     "name": "stdout",
     "output_type": "stream",
     "text": [
      "Dataset saved to ./dataset/train_val_split//id_split_2\n",
      "3 {'start_time': '2006-01-01', 'end_time': '2014-12-31'}\n",
      "['A_CPCH_row_0', 'A_CPI_row_0', 'A_FXSP_row_0', 'A_FXSP_row_1', 'A_GDPN_row_0', 'A_MNY1_row_0', 'D_EE58_row_0', 'D_FXSP_row_0', 'D_FXSP_row_1', 'D_POLR_row_0', 'M_CPCH_row_0', 'M_CPI_row_0', 'M_CPI_row_3', 'M_EE58_row_0', 'M_FXSP_row_0', 'M_FXSP_row_1', 'M_FXSP_row_2', 'M_FXSP_row_3', 'M_POLR_row_0', 'Q_FXSP_row_0', 'Q_FXSP_row_1', 'Q_FXSP_row_2', 'Q_FXSP_row_3']\n"
     ]
    },
    {
     "data": {
      "application/vnd.jupyter.widget-view+json": {
       "model_id": "99f8ff2cbb2a4ff7885333e6120adba5",
       "version_major": 2,
       "version_minor": 0
      },
      "text/plain": [
       "Generating train split: 0 examples [00:00, ? examples/s]"
      ]
     },
     "metadata": {},
     "output_type": "display_data"
    },
    {
     "data": {
      "application/vnd.jupyter.widget-view+json": {
       "model_id": "93e94d9fdfca49f8942293afd2171d60",
       "version_major": 2,
       "version_minor": 0
      },
      "text/plain": [
       "Saving the dataset (0/1 shards):   0%|          | 0/1 [00:00<?, ? examples/s]"
      ]
     },
     "metadata": {},
     "output_type": "display_data"
    },
    {
     "name": "stdout",
     "output_type": "stream",
     "text": [
      "Dataset saved to ./dataset/train_val_split//id_split_3\n",
      "4 {'start_time': '2016-01-01', 'end_time': '2022-12-31'}\n",
      "['A_CPCH_row_0', 'A_CPI_row_0', 'A_FXSP_row_0', 'A_FXSP_row_1', 'A_GDPN_row_0', 'A_MNY1_row_0', 'D_EE58_row_0', 'D_FXSP_row_0', 'D_FXSP_row_1', 'D_POLR_row_0', 'M_CPCH_row_0', 'M_CPI_row_0', 'M_CPI_row_3', 'M_EE58_row_0', 'M_FXSP_row_0', 'M_FXSP_row_1', 'M_FXSP_row_2', 'M_FXSP_row_3', 'M_POLR_row_0', 'Q_FXSP_row_0', 'Q_FXSP_row_1', 'Q_FXSP_row_2', 'Q_FXSP_row_3']\n"
     ]
    },
    {
     "data": {
      "application/vnd.jupyter.widget-view+json": {
       "model_id": "5ea6e6e8dcda497da7972d04acfbd3d1",
       "version_major": 2,
       "version_minor": 0
      },
      "text/plain": [
       "Generating train split: 0 examples [00:00, ? examples/s]"
      ]
     },
     "metadata": {},
     "output_type": "display_data"
    },
    {
     "data": {
      "application/vnd.jupyter.widget-view+json": {
       "model_id": "f2b92ad4ddcf41d685ab5d6e0b0f1611",
       "version_major": 2,
       "version_minor": 0
      },
      "text/plain": [
       "Saving the dataset (0/1 shards):   0%|          | 0/1 [00:00<?, ? examples/s]"
      ]
     },
     "metadata": {},
     "output_type": "display_data"
    },
    {
     "name": "stdout",
     "output_type": "stream",
     "text": [
      "Dataset saved to ./dataset/train_val_split//id_split_4\n",
      "1 {'start_time': '1984-01-01', 'end_time': '1994-12-31'}\n",
      "['A_CPCH_row_0', 'A_CPI_row_1', 'A_FXSP_row_0', 'A_FXSP_row_1', 'A_GDPN_row_0', 'A_MNY1_row_0', 'A_MNY1_row_1', 'D_EE58_row_0', 'D_FXSP_row_1', 'D_FXSP_row_2', 'D_POLR_row_0', 'M_CPCH_row_0', 'M_CPI_row_0', 'M_CPI_row_2', 'M_EE58_row_0', 'M_FXSP_row_0', 'M_FXSP_row_1', 'M_FXSP_row_2', 'M_FXSP_row_3', 'M_POLR_row_0', 'Q_FXSP_row_0', 'Q_FXSP_row_1', 'Q_FXSP_row_2', 'Q_FXSP_row_3']\n"
     ]
    },
    {
     "data": {
      "application/vnd.jupyter.widget-view+json": {
       "model_id": "3073bb900cb74834a074601a40713d6e",
       "version_major": 2,
       "version_minor": 0
      },
      "text/plain": [
       "Generating train split: 0 examples [00:00, ? examples/s]"
      ]
     },
     "metadata": {},
     "output_type": "display_data"
    },
    {
     "data": {
      "application/vnd.jupyter.widget-view+json": {
       "model_id": "3fbaf84e786442e2b0ad48eaf6be80b8",
       "version_major": 2,
       "version_minor": 0
      },
      "text/plain": [
       "Saving the dataset (0/1 shards):   0%|          | 0/1 [00:00<?, ? examples/s]"
      ]
     },
     "metadata": {},
     "output_type": "display_data"
    },
    {
     "name": "stdout",
     "output_type": "stream",
     "text": [
      "Dataset saved to ./dataset/train_val_split//tr_split_1\n",
      "2 {'start_time': '1996-01-01', 'end_time': '2004-12-31'}\n",
      "['A_CPCH_row_0', 'A_CPI_row_1', 'A_FXSP_row_0', 'A_FXSP_row_1', 'A_GDPN_row_0', 'A_MNY1_row_0', 'A_MNY1_row_1', 'D_EE58_row_0', 'D_FXSP_row_1', 'D_FXSP_row_2', 'D_POLR_row_0', 'M_CPCH_row_0', 'M_CPI_row_0', 'M_CPI_row_2', 'M_EE58_row_0', 'M_FXSP_row_0', 'M_FXSP_row_1', 'M_FXSP_row_2', 'M_FXSP_row_3', 'M_POLR_row_0', 'Q_FXSP_row_0', 'Q_FXSP_row_1', 'Q_FXSP_row_2', 'Q_FXSP_row_3']\n"
     ]
    },
    {
     "data": {
      "application/vnd.jupyter.widget-view+json": {
       "model_id": "280f1e81349148bbafdbf3fc9048848f",
       "version_major": 2,
       "version_minor": 0
      },
      "text/plain": [
       "Generating train split: 0 examples [00:00, ? examples/s]"
      ]
     },
     "metadata": {},
     "output_type": "display_data"
    },
    {
     "data": {
      "application/vnd.jupyter.widget-view+json": {
       "model_id": "20afcbaf7ea54f18a090f4f93309ca5f",
       "version_major": 2,
       "version_minor": 0
      },
      "text/plain": [
       "Saving the dataset (0/1 shards):   0%|          | 0/1 [00:00<?, ? examples/s]"
      ]
     },
     "metadata": {},
     "output_type": "display_data"
    },
    {
     "name": "stdout",
     "output_type": "stream",
     "text": [
      "Dataset saved to ./dataset/train_val_split//tr_split_2\n",
      "3 {'start_time': '2006-01-01', 'end_time': '2014-12-31'}\n",
      "['A_CPCH_row_0', 'A_CPI_row_1', 'A_FXSP_row_0', 'A_FXSP_row_1', 'A_GDPN_row_0', 'A_MNY1_row_0', 'A_MNY1_row_1', 'D_EE58_row_0', 'D_FXSP_row_1', 'D_FXSP_row_2', 'D_POLR_row_0', 'M_CPCH_row_0', 'M_CPI_row_0', 'M_CPI_row_2', 'M_EE58_row_0', 'M_FXSP_row_0', 'M_FXSP_row_1', 'M_FXSP_row_2', 'M_FXSP_row_3', 'M_POLR_row_0', 'Q_FXSP_row_0', 'Q_FXSP_row_1', 'Q_FXSP_row_2', 'Q_FXSP_row_3']\n"
     ]
    },
    {
     "data": {
      "application/vnd.jupyter.widget-view+json": {
       "model_id": "f19c16627c034efa8eb9b5d443452780",
       "version_major": 2,
       "version_minor": 0
      },
      "text/plain": [
       "Generating train split: 0 examples [00:00, ? examples/s]"
      ]
     },
     "metadata": {},
     "output_type": "display_data"
    },
    {
     "data": {
      "application/vnd.jupyter.widget-view+json": {
       "model_id": "46765ea167db433392ece5f5f307bc26",
       "version_major": 2,
       "version_minor": 0
      },
      "text/plain": [
       "Saving the dataset (0/1 shards):   0%|          | 0/1 [00:00<?, ? examples/s]"
      ]
     },
     "metadata": {},
     "output_type": "display_data"
    },
    {
     "name": "stdout",
     "output_type": "stream",
     "text": [
      "Dataset saved to ./dataset/train_val_split//tr_split_3\n",
      "4 {'start_time': '2016-01-01', 'end_time': '2022-12-31'}\n",
      "['A_CPCH_row_0', 'A_CPI_row_1', 'A_FXSP_row_0', 'A_FXSP_row_1', 'A_GDPN_row_0', 'A_MNY1_row_0', 'A_MNY1_row_1', 'D_EE58_row_0', 'D_FXSP_row_1', 'D_FXSP_row_2', 'D_POLR_row_0', 'M_CPCH_row_0', 'M_CPI_row_0', 'M_CPI_row_2', 'M_EE58_row_0', 'M_FXSP_row_0', 'M_FXSP_row_1', 'M_FXSP_row_2', 'M_FXSP_row_3', 'M_POLR_row_0', 'Q_FXSP_row_0', 'Q_FXSP_row_1', 'Q_FXSP_row_2', 'Q_FXSP_row_3']\n"
     ]
    },
    {
     "data": {
      "application/vnd.jupyter.widget-view+json": {
       "model_id": "ca1e28baf07e4766aa8dfc9b4640cec5",
       "version_major": 2,
       "version_minor": 0
      },
      "text/plain": [
       "Generating train split: 0 examples [00:00, ? examples/s]"
      ]
     },
     "metadata": {},
     "output_type": "display_data"
    },
    {
     "data": {
      "application/vnd.jupyter.widget-view+json": {
       "model_id": "15e3fa3356ef42f1a44a16634166bee7",
       "version_major": 2,
       "version_minor": 0
      },
      "text/plain": [
       "Saving the dataset (0/1 shards):   0%|          | 0/1 [00:00<?, ? examples/s]"
      ]
     },
     "metadata": {},
     "output_type": "display_data"
    },
    {
     "name": "stdout",
     "output_type": "stream",
     "text": [
      "Dataset saved to ./dataset/train_val_split//tr_split_4\n",
      "1 {'start_time': '1984-01-01', 'end_time': '1994-12-31'}\n",
      "['A_CPCH_row_0', 'A_CPI_row_0', 'A_FXSP_row_0', 'A_FXSP_row_1', 'D_EE58_row_0', 'D_FXSP_row_0', 'D_FXSP_row_1', 'M_CPCH_row_0', 'M_CPI_row_0', 'M_EE58_row_0', 'M_FXSP_row_0', 'M_FXSP_row_1', 'M_FXSP_row_2', 'M_FXSP_row_3', 'Q_FXSP_row_0', 'Q_FXSP_row_1', 'Q_FXSP_row_2', 'Q_FXSP_row_3']\n"
     ]
    },
    {
     "data": {
      "application/vnd.jupyter.widget-view+json": {
       "model_id": "bebba16a2c9643f2ba45ea67f7eb17d1",
       "version_major": 2,
       "version_minor": 0
      },
      "text/plain": [
       "Generating train split: 0 examples [00:00, ? examples/s]"
      ]
     },
     "metadata": {},
     "output_type": "display_data"
    },
    {
     "data": {
      "application/vnd.jupyter.widget-view+json": {
       "model_id": "151d82ac88274061bc6dab59aa928195",
       "version_major": 2,
       "version_minor": 0
      },
      "text/plain": [
       "Saving the dataset (0/1 shards):   0%|          | 0/1 [00:00<?, ? examples/s]"
      ]
     },
     "metadata": {},
     "output_type": "display_data"
    },
    {
     "name": "stdout",
     "output_type": "stream",
     "text": [
      "Dataset saved to ./dataset/train_val_split//sk_split_1\n",
      "2 {'start_time': '1996-01-01', 'end_time': '2004-12-31'}\n",
      "['A_CPCH_row_0', 'A_CPI_row_0', 'A_FXSP_row_0', 'A_FXSP_row_1', 'D_EE58_row_0', 'D_FXSP_row_0', 'D_FXSP_row_1', 'M_CPCH_row_0', 'M_CPI_row_0', 'M_EE58_row_0', 'M_FXSP_row_0', 'M_FXSP_row_1', 'M_FXSP_row_2', 'M_FXSP_row_3', 'Q_FXSP_row_0', 'Q_FXSP_row_1', 'Q_FXSP_row_2', 'Q_FXSP_row_3']\n"
     ]
    },
    {
     "data": {
      "application/vnd.jupyter.widget-view+json": {
       "model_id": "a43891d684c64159835981aa0407169a",
       "version_major": 2,
       "version_minor": 0
      },
      "text/plain": [
       "Generating train split: 0 examples [00:00, ? examples/s]"
      ]
     },
     "metadata": {},
     "output_type": "display_data"
    },
    {
     "data": {
      "application/vnd.jupyter.widget-view+json": {
       "model_id": "11f64a3eb6704f6e9286d118a1e54e99",
       "version_major": 2,
       "version_minor": 0
      },
      "text/plain": [
       "Saving the dataset (0/1 shards):   0%|          | 0/1 [00:00<?, ? examples/s]"
      ]
     },
     "metadata": {},
     "output_type": "display_data"
    },
    {
     "name": "stdout",
     "output_type": "stream",
     "text": [
      "Dataset saved to ./dataset/train_val_split//sk_split_2\n",
      "3 {'start_time': '2006-01-01', 'end_time': '2014-12-31'}\n",
      "['A_CPCH_row_0', 'A_CPI_row_0', 'A_FXSP_row_0', 'A_FXSP_row_1', 'D_EE58_row_0', 'D_FXSP_row_0', 'D_FXSP_row_1', 'M_CPCH_row_0', 'M_CPI_row_0', 'M_EE58_row_0', 'M_FXSP_row_0', 'M_FXSP_row_1', 'M_FXSP_row_2', 'M_FXSP_row_3', 'Q_FXSP_row_0', 'Q_FXSP_row_1', 'Q_FXSP_row_2', 'Q_FXSP_row_3']\n"
     ]
    },
    {
     "data": {
      "application/vnd.jupyter.widget-view+json": {
       "model_id": "80b3813fea314e60ab171160cd107b05",
       "version_major": 2,
       "version_minor": 0
      },
      "text/plain": [
       "Generating train split: 0 examples [00:00, ? examples/s]"
      ]
     },
     "metadata": {},
     "output_type": "display_data"
    },
    {
     "data": {
      "application/vnd.jupyter.widget-view+json": {
       "model_id": "18e41c774cc8401bb7f20e7d37da4928",
       "version_major": 2,
       "version_minor": 0
      },
      "text/plain": [
       "Saving the dataset (0/1 shards):   0%|          | 0/1 [00:00<?, ? examples/s]"
      ]
     },
     "metadata": {},
     "output_type": "display_data"
    },
    {
     "name": "stdout",
     "output_type": "stream",
     "text": [
      "Dataset saved to ./dataset/train_val_split//sk_split_3\n",
      "4 {'start_time': '2016-01-01', 'end_time': '2022-12-31'}\n",
      "['A_CPCH_row_0', 'A_CPI_row_0', 'A_FXSP_row_0', 'A_FXSP_row_1', 'D_EE58_row_0', 'D_FXSP_row_0', 'D_FXSP_row_1', 'M_CPCH_row_0', 'M_CPI_row_0', 'M_EE58_row_0', 'M_FXSP_row_0', 'M_FXSP_row_1', 'M_FXSP_row_2', 'M_FXSP_row_3', 'Q_FXSP_row_0', 'Q_FXSP_row_1', 'Q_FXSP_row_2', 'Q_FXSP_row_3']\n"
     ]
    },
    {
     "data": {
      "application/vnd.jupyter.widget-view+json": {
       "model_id": "397f6e9593094b6f9e08b8b0165209ae",
       "version_major": 2,
       "version_minor": 0
      },
      "text/plain": [
       "Generating train split: 0 examples [00:00, ? examples/s]"
      ]
     },
     "metadata": {},
     "output_type": "display_data"
    },
    {
     "data": {
      "application/vnd.jupyter.widget-view+json": {
       "model_id": "6caa1297083f443a817c39946720da62",
       "version_major": 2,
       "version_minor": 0
      },
      "text/plain": [
       "Saving the dataset (0/1 shards):   0%|          | 0/1 [00:00<?, ? examples/s]"
      ]
     },
     "metadata": {},
     "output_type": "display_data"
    },
    {
     "name": "stdout",
     "output_type": "stream",
     "text": [
      "Dataset saved to ./dataset/train_val_split//sk_split_4\n",
      "1 {'start_time': '1984-01-01', 'end_time': '1994-12-31'}\n",
      "['A_CPCH_row_0', 'A_CPCH_row_1', 'A_CPI_row_0', 'A_FXSP_row_0', 'A_FXSP_row_1', 'D_EE26_row_0', 'D_EE58_row_0', 'D_FXSP_row_0', 'D_FXSP_row_1', 'M_CPCH_row_0', 'M_CPCH_row_1', 'M_CPI_row_1', 'M_CPI_row_2', 'M_EE26_row_0', 'M_EE58_row_0', 'M_FXSP_row_0', 'M_FXSP_row_1', 'M_FXSP_row_2', 'M_FXSP_row_3', 'Q_FXSP_row_0', 'Q_FXSP_row_1', 'Q_FXSP_row_2', 'Q_FXSP_row_3']\n"
     ]
    },
    {
     "data": {
      "application/vnd.jupyter.widget-view+json": {
       "model_id": "2a9722cdd6464963808c9aa0689e8e83",
       "version_major": 2,
       "version_minor": 0
      },
      "text/plain": [
       "Generating train split: 0 examples [00:00, ? examples/s]"
      ]
     },
     "metadata": {},
     "output_type": "display_data"
    },
    {
     "data": {
      "application/vnd.jupyter.widget-view+json": {
       "model_id": "73d1776f77714d8593a7d838577320d4",
       "version_major": 2,
       "version_minor": 0
      },
      "text/plain": [
       "Saving the dataset (0/1 shards):   0%|          | 0/1 [00:00<?, ? examples/s]"
      ]
     },
     "metadata": {},
     "output_type": "display_data"
    },
    {
     "name": "stdout",
     "output_type": "stream",
     "text": [
      "Dataset saved to ./dataset/train_val_split//at_split_1\n",
      "2 {'start_time': '1996-01-01', 'end_time': '2004-12-31'}\n",
      "['A_CPCH_row_0', 'A_CPCH_row_1', 'A_CPI_row_0', 'A_FXSP_row_0', 'A_FXSP_row_1', 'D_EE26_row_0', 'D_EE58_row_0', 'D_FXSP_row_0', 'D_FXSP_row_1', 'M_CPCH_row_0', 'M_CPCH_row_1', 'M_CPI_row_1', 'M_CPI_row_2', 'M_EE26_row_0', 'M_EE58_row_0', 'M_FXSP_row_0', 'M_FXSP_row_1', 'M_FXSP_row_2', 'M_FXSP_row_3', 'Q_FXSP_row_0', 'Q_FXSP_row_1', 'Q_FXSP_row_2', 'Q_FXSP_row_3']\n"
     ]
    },
    {
     "data": {
      "application/vnd.jupyter.widget-view+json": {
       "model_id": "90868466d8d942258660771e8639b93d",
       "version_major": 2,
       "version_minor": 0
      },
      "text/plain": [
       "Generating train split: 0 examples [00:00, ? examples/s]"
      ]
     },
     "metadata": {},
     "output_type": "display_data"
    },
    {
     "data": {
      "application/vnd.jupyter.widget-view+json": {
       "model_id": "d925d91a630b4c02be4ef97508c08541",
       "version_major": 2,
       "version_minor": 0
      },
      "text/plain": [
       "Saving the dataset (0/1 shards):   0%|          | 0/1 [00:00<?, ? examples/s]"
      ]
     },
     "metadata": {},
     "output_type": "display_data"
    },
    {
     "name": "stdout",
     "output_type": "stream",
     "text": [
      "Dataset saved to ./dataset/train_val_split//at_split_2\n",
      "3 {'start_time': '2006-01-01', 'end_time': '2014-12-31'}\n",
      "['A_CPCH_row_0', 'A_CPCH_row_1', 'A_CPI_row_0', 'A_FXSP_row_0', 'A_FXSP_row_1', 'D_EE26_row_0', 'D_EE58_row_0', 'D_FXSP_row_0', 'D_FXSP_row_1', 'M_CPCH_row_0', 'M_CPCH_row_1', 'M_CPI_row_1', 'M_CPI_row_2', 'M_EE26_row_0', 'M_EE58_row_0', 'M_FXSP_row_0', 'M_FXSP_row_1', 'M_FXSP_row_2', 'M_FXSP_row_3', 'Q_FXSP_row_0', 'Q_FXSP_row_1', 'Q_FXSP_row_2', 'Q_FXSP_row_3']\n"
     ]
    },
    {
     "data": {
      "application/vnd.jupyter.widget-view+json": {
       "model_id": "4362e35315eb4d45a1537fc3b286d980",
       "version_major": 2,
       "version_minor": 0
      },
      "text/plain": [
       "Generating train split: 0 examples [00:00, ? examples/s]"
      ]
     },
     "metadata": {},
     "output_type": "display_data"
    },
    {
     "data": {
      "application/vnd.jupyter.widget-view+json": {
       "model_id": "a49cfa418ca74be990ddf4be38858134",
       "version_major": 2,
       "version_minor": 0
      },
      "text/plain": [
       "Saving the dataset (0/1 shards):   0%|          | 0/1 [00:00<?, ? examples/s]"
      ]
     },
     "metadata": {},
     "output_type": "display_data"
    },
    {
     "name": "stdout",
     "output_type": "stream",
     "text": [
      "Dataset saved to ./dataset/train_val_split//at_split_3\n",
      "4 {'start_time': '2016-01-01', 'end_time': '2022-12-31'}\n",
      "['A_CPCH_row_0', 'A_CPCH_row_1', 'A_CPI_row_0', 'A_FXSP_row_0', 'A_FXSP_row_1', 'D_EE26_row_0', 'D_EE58_row_0', 'D_FXSP_row_0', 'D_FXSP_row_1', 'M_CPCH_row_0', 'M_CPCH_row_1', 'M_CPI_row_1', 'M_CPI_row_2', 'M_EE26_row_0', 'M_EE58_row_0', 'M_FXSP_row_0', 'M_FXSP_row_1', 'M_FXSP_row_2', 'M_FXSP_row_3', 'Q_FXSP_row_0', 'Q_FXSP_row_1', 'Q_FXSP_row_2', 'Q_FXSP_row_3']\n"
     ]
    },
    {
     "data": {
      "application/vnd.jupyter.widget-view+json": {
       "model_id": "994588869a144385a738ee04a1d32c95",
       "version_major": 2,
       "version_minor": 0
      },
      "text/plain": [
       "Generating train split: 0 examples [00:00, ? examples/s]"
      ]
     },
     "metadata": {},
     "output_type": "display_data"
    },
    {
     "data": {
      "application/vnd.jupyter.widget-view+json": {
       "model_id": "86083eb35d91499dad9f1a9340253343",
       "version_major": 2,
       "version_minor": 0
      },
      "text/plain": [
       "Saving the dataset (0/1 shards):   0%|          | 0/1 [00:00<?, ? examples/s]"
      ]
     },
     "metadata": {},
     "output_type": "display_data"
    },
    {
     "name": "stdout",
     "output_type": "stream",
     "text": [
      "Dataset saved to ./dataset/train_val_split//at_split_4\n",
      "1 {'start_time': '1984-01-01', 'end_time': '1994-12-31'}\n",
      "['A_CPCH_row_0', 'A_CPI_row_0', 'A_FXSP_row_0', 'A_FXSP_row_1', 'D_EE26_row_0', 'D_EE58_row_0', 'D_FXSP_row_0', 'D_FXSP_row_1', 'M_CPCH_row_0', 'M_CPI_row_0', 'M_CPI_row_3', 'M_EE26_row_0', 'M_EE58_row_0', 'M_FXSP_row_0', 'M_FXSP_row_1', 'M_FXSP_row_2', 'M_FXSP_row_3', 'Q_FXSP_row_0', 'Q_FXSP_row_1', 'Q_FXSP_row_2', 'Q_FXSP_row_3']\n"
     ]
    },
    {
     "data": {
      "application/vnd.jupyter.widget-view+json": {
       "model_id": "af43ecd10dc34a19b8ad65b0e642dc16",
       "version_major": 2,
       "version_minor": 0
      },
      "text/plain": [
       "Generating train split: 0 examples [00:00, ? examples/s]"
      ]
     },
     "metadata": {},
     "output_type": "display_data"
    },
    {
     "data": {
      "application/vnd.jupyter.widget-view+json": {
       "model_id": "8dbb361822ee4d7faa7dcd9dbffcea71",
       "version_major": 2,
       "version_minor": 0
      },
      "text/plain": [
       "Saving the dataset (0/1 shards):   0%|          | 0/1 [00:00<?, ? examples/s]"
      ]
     },
     "metadata": {},
     "output_type": "display_data"
    },
    {
     "name": "stdout",
     "output_type": "stream",
     "text": [
      "Dataset saved to ./dataset/train_val_split//ie_split_1\n",
      "2 {'start_time': '1996-01-01', 'end_time': '2004-12-31'}\n",
      "['A_CPCH_row_0', 'A_CPI_row_0', 'A_FXSP_row_0', 'A_FXSP_row_1', 'D_EE26_row_0', 'D_EE58_row_0', 'D_FXSP_row_0', 'D_FXSP_row_1', 'M_CPCH_row_0', 'M_CPI_row_0', 'M_CPI_row_3', 'M_EE26_row_0', 'M_EE58_row_0', 'M_FXSP_row_0', 'M_FXSP_row_1', 'M_FXSP_row_2', 'M_FXSP_row_3', 'Q_FXSP_row_0', 'Q_FXSP_row_1', 'Q_FXSP_row_2', 'Q_FXSP_row_3']\n"
     ]
    },
    {
     "data": {
      "application/vnd.jupyter.widget-view+json": {
       "model_id": "802cb1e0cf054facbb4982d6c3f01152",
       "version_major": 2,
       "version_minor": 0
      },
      "text/plain": [
       "Generating train split: 0 examples [00:00, ? examples/s]"
      ]
     },
     "metadata": {},
     "output_type": "display_data"
    },
    {
     "data": {
      "application/vnd.jupyter.widget-view+json": {
       "model_id": "6e6cbc9989b1451fb7c6425a4249aa44",
       "version_major": 2,
       "version_minor": 0
      },
      "text/plain": [
       "Saving the dataset (0/1 shards):   0%|          | 0/1 [00:00<?, ? examples/s]"
      ]
     },
     "metadata": {},
     "output_type": "display_data"
    },
    {
     "name": "stdout",
     "output_type": "stream",
     "text": [
      "Dataset saved to ./dataset/train_val_split//ie_split_2\n",
      "3 {'start_time': '2006-01-01', 'end_time': '2014-12-31'}\n",
      "['A_CPCH_row_0', 'A_CPI_row_0', 'A_FXSP_row_0', 'A_FXSP_row_1', 'D_EE26_row_0', 'D_EE58_row_0', 'D_FXSP_row_0', 'D_FXSP_row_1', 'M_CPCH_row_0', 'M_CPI_row_0', 'M_CPI_row_3', 'M_EE26_row_0', 'M_EE58_row_0', 'M_FXSP_row_0', 'M_FXSP_row_1', 'M_FXSP_row_2', 'M_FXSP_row_3', 'Q_FXSP_row_0', 'Q_FXSP_row_1', 'Q_FXSP_row_2', 'Q_FXSP_row_3']\n"
     ]
    },
    {
     "data": {
      "application/vnd.jupyter.widget-view+json": {
       "model_id": "d9f2df706ba7427982b9e088fded512f",
       "version_major": 2,
       "version_minor": 0
      },
      "text/plain": [
       "Generating train split: 0 examples [00:00, ? examples/s]"
      ]
     },
     "metadata": {},
     "output_type": "display_data"
    },
    {
     "data": {
      "application/vnd.jupyter.widget-view+json": {
       "model_id": "a6c48b6bab074555ab7ef73881db8a93",
       "version_major": 2,
       "version_minor": 0
      },
      "text/plain": [
       "Saving the dataset (0/1 shards):   0%|          | 0/1 [00:00<?, ? examples/s]"
      ]
     },
     "metadata": {},
     "output_type": "display_data"
    },
    {
     "name": "stdout",
     "output_type": "stream",
     "text": [
      "Dataset saved to ./dataset/train_val_split//ie_split_3\n",
      "4 {'start_time': '2016-01-01', 'end_time': '2022-12-31'}\n",
      "['A_CPCH_row_0', 'A_CPI_row_0', 'A_FXSP_row_0', 'A_FXSP_row_1', 'D_EE26_row_0', 'D_EE58_row_0', 'D_FXSP_row_0', 'D_FXSP_row_1', 'M_CPCH_row_0', 'M_CPI_row_0', 'M_CPI_row_3', 'M_EE26_row_0', 'M_EE58_row_0', 'M_FXSP_row_0', 'M_FXSP_row_1', 'M_FXSP_row_2', 'M_FXSP_row_3', 'Q_FXSP_row_0', 'Q_FXSP_row_1', 'Q_FXSP_row_2', 'Q_FXSP_row_3']\n"
     ]
    },
    {
     "data": {
      "application/vnd.jupyter.widget-view+json": {
       "model_id": "27f22e7daae74ebbb1378ef8bf2df372",
       "version_major": 2,
       "version_minor": 0
      },
      "text/plain": [
       "Generating train split: 0 examples [00:00, ? examples/s]"
      ]
     },
     "metadata": {},
     "output_type": "display_data"
    },
    {
     "data": {
      "application/vnd.jupyter.widget-view+json": {
       "model_id": "473c85333cb844b1aaaad14e494dea4f",
       "version_major": 2,
       "version_minor": 0
      },
      "text/plain": [
       "Saving the dataset (0/1 shards):   0%|          | 0/1 [00:00<?, ? examples/s]"
      ]
     },
     "metadata": {},
     "output_type": "display_data"
    },
    {
     "name": "stdout",
     "output_type": "stream",
     "text": [
      "Dataset saved to ./dataset/train_val_split//ie_split_4\n",
      "1 {'start_time': '1984-01-01', 'end_time': '1994-12-31'}\n",
      "['A_CPCH_row_0', 'A_CPI_row_0', 'A_FXSP_row_0', 'A_FXSP_row_1', 'D_EE58_row_0', 'D_FXSP_row_0', 'D_POLR_row_0', 'M_CPCH_row_0', 'M_CPI_row_0', 'M_CPI_row_1', 'M_EE58_row_0', 'M_FXSP_row_0', 'M_FXSP_row_1', 'M_POLR_row_0', 'Q_FXSP_row_0', 'Q_FXSP_row_1']\n"
     ]
    },
    {
     "data": {
      "application/vnd.jupyter.widget-view+json": {
       "model_id": "750a1fae03fb4c4aac4b48a437b397e0",
       "version_major": 2,
       "version_minor": 0
      },
      "text/plain": [
       "Generating train split: 0 examples [00:00, ? examples/s]"
      ]
     },
     "metadata": {},
     "output_type": "display_data"
    },
    {
     "data": {
      "application/vnd.jupyter.widget-view+json": {
       "model_id": "3e7d4acf4f2e49dbadb579f9a0e2b150",
       "version_major": 2,
       "version_minor": 0
      },
      "text/plain": [
       "Saving the dataset (0/1 shards):   0%|          | 0/1 [00:00<?, ? examples/s]"
      ]
     },
     "metadata": {},
     "output_type": "display_data"
    },
    {
     "name": "stdout",
     "output_type": "stream",
     "text": [
      "Dataset saved to ./dataset/train_val_split//co_split_1\n",
      "2 {'start_time': '1996-01-01', 'end_time': '2004-12-31'}\n",
      "['A_CPCH_row_0', 'A_CPI_row_0', 'A_FXSP_row_0', 'A_FXSP_row_1', 'D_EE58_row_0', 'D_FXSP_row_0', 'D_POLR_row_0', 'M_CPCH_row_0', 'M_CPI_row_0', 'M_CPI_row_1', 'M_EE58_row_0', 'M_FXSP_row_0', 'M_FXSP_row_1', 'M_POLR_row_0', 'Q_FXSP_row_0', 'Q_FXSP_row_1']\n"
     ]
    },
    {
     "data": {
      "application/vnd.jupyter.widget-view+json": {
       "model_id": "e9c474e33e92476eade0b3911fb19248",
       "version_major": 2,
       "version_minor": 0
      },
      "text/plain": [
       "Generating train split: 0 examples [00:00, ? examples/s]"
      ]
     },
     "metadata": {},
     "output_type": "display_data"
    },
    {
     "data": {
      "application/vnd.jupyter.widget-view+json": {
       "model_id": "4bcfe2c8f64e4d3fa21075598abdb6b6",
       "version_major": 2,
       "version_minor": 0
      },
      "text/plain": [
       "Saving the dataset (0/1 shards):   0%|          | 0/1 [00:00<?, ? examples/s]"
      ]
     },
     "metadata": {},
     "output_type": "display_data"
    },
    {
     "name": "stdout",
     "output_type": "stream",
     "text": [
      "Dataset saved to ./dataset/train_val_split//co_split_2\n",
      "3 {'start_time': '2006-01-01', 'end_time': '2014-12-31'}\n",
      "['A_CPCH_row_0', 'A_CPI_row_0', 'A_FXSP_row_0', 'A_FXSP_row_1', 'D_EE58_row_0', 'D_FXSP_row_0', 'D_POLR_row_0', 'M_CPCH_row_0', 'M_CPI_row_0', 'M_CPI_row_1', 'M_EE58_row_0', 'M_FXSP_row_0', 'M_FXSP_row_1', 'M_POLR_row_0', 'Q_FXSP_row_0', 'Q_FXSP_row_1']\n"
     ]
    },
    {
     "data": {
      "application/vnd.jupyter.widget-view+json": {
       "model_id": "94ca1c1a4aab4d7a9745eb9ef5672092",
       "version_major": 2,
       "version_minor": 0
      },
      "text/plain": [
       "Generating train split: 0 examples [00:00, ? examples/s]"
      ]
     },
     "metadata": {},
     "output_type": "display_data"
    },
    {
     "data": {
      "application/vnd.jupyter.widget-view+json": {
       "model_id": "d57c076b4bda4c6aa0a8afb7022a9add",
       "version_major": 2,
       "version_minor": 0
      },
      "text/plain": [
       "Saving the dataset (0/1 shards):   0%|          | 0/1 [00:00<?, ? examples/s]"
      ]
     },
     "metadata": {},
     "output_type": "display_data"
    },
    {
     "name": "stdout",
     "output_type": "stream",
     "text": [
      "Dataset saved to ./dataset/train_val_split//co_split_3\n",
      "4 {'start_time': '2016-01-01', 'end_time': '2022-12-31'}\n",
      "['A_CPCH_row_0', 'A_CPI_row_0', 'A_FXSP_row_0', 'A_FXSP_row_1', 'D_EE58_row_0', 'D_FXSP_row_0', 'D_POLR_row_0', 'M_CPCH_row_0', 'M_CPI_row_0', 'M_CPI_row_1', 'M_EE58_row_0', 'M_FXSP_row_0', 'M_FXSP_row_1', 'M_POLR_row_0', 'Q_FXSP_row_0', 'Q_FXSP_row_1']\n"
     ]
    },
    {
     "data": {
      "application/vnd.jupyter.widget-view+json": {
       "model_id": "492831b5f33c4aafafd3a0f4a26367f7",
       "version_major": 2,
       "version_minor": 0
      },
      "text/plain": [
       "Generating train split: 0 examples [00:00, ? examples/s]"
      ]
     },
     "metadata": {},
     "output_type": "display_data"
    },
    {
     "data": {
      "application/vnd.jupyter.widget-view+json": {
       "model_id": "4650712dc7b94b7998a0a514287741bd",
       "version_major": 2,
       "version_minor": 0
      },
      "text/plain": [
       "Saving the dataset (0/1 shards):   0%|          | 0/1 [00:00<?, ? examples/s]"
      ]
     },
     "metadata": {},
     "output_type": "display_data"
    },
    {
     "name": "stdout",
     "output_type": "stream",
     "text": [
      "Dataset saved to ./dataset/train_val_split//co_split_4\n",
      "1 {'start_time': '1984-01-01', 'end_time': '1994-12-31'}\n",
      "['A_CPCH_row_0', 'A_CPI_row_0', 'A_FXSP_row_0', 'A_FXSP_row_1', 'A_GDPN_row_0', 'A_GDPN_row_1', 'A_MNY1_row_0', 'A_MNY1_row_1', 'D_EE58_row_0', 'D_FXSP_row_0', 'D_FXSP_row_1', 'D_POLR_row_0', 'M_CPCH_row_0', 'M_CPI_row_0', 'M_CPI_row_3', 'M_EE58_row_0', 'M_FXSP_row_0', 'M_FXSP_row_1', 'M_FXSP_row_2', 'M_FXSP_row_3', 'M_POLR_row_0', 'Q_FXSP_row_0', 'Q_FXSP_row_1', 'Q_FXSP_row_2', 'Q_FXSP_row_3']\n"
     ]
    },
    {
     "data": {
      "application/vnd.jupyter.widget-view+json": {
       "model_id": "d172c05d45e24bcaac1ba8be10ef3171",
       "version_major": 2,
       "version_minor": 0
      },
      "text/plain": [
       "Generating train split: 0 examples [00:00, ? examples/s]"
      ]
     },
     "metadata": {},
     "output_type": "display_data"
    },
    {
     "data": {
      "application/vnd.jupyter.widget-view+json": {
       "model_id": "63c1729b493747ca93756504534124fd",
       "version_major": 2,
       "version_minor": 0
      },
      "text/plain": [
       "Saving the dataset (0/1 shards):   0%|          | 0/1 [00:00<?, ? examples/s]"
      ]
     },
     "metadata": {},
     "output_type": "display_data"
    },
    {
     "name": "stdout",
     "output_type": "stream",
     "text": [
      "Dataset saved to ./dataset/train_val_split//za_split_1\n",
      "2 {'start_time': '1996-01-01', 'end_time': '2004-12-31'}\n",
      "['A_CPCH_row_0', 'A_CPI_row_0', 'A_FXSP_row_0', 'A_FXSP_row_1', 'A_GDPN_row_0', 'A_GDPN_row_1', 'A_MNY1_row_0', 'A_MNY1_row_1', 'D_EE58_row_0', 'D_FXSP_row_0', 'D_FXSP_row_1', 'D_POLR_row_0', 'M_CPCH_row_0', 'M_CPI_row_0', 'M_CPI_row_3', 'M_EE58_row_0', 'M_FXSP_row_0', 'M_FXSP_row_1', 'M_FXSP_row_2', 'M_FXSP_row_3', 'M_POLR_row_0', 'Q_FXSP_row_0', 'Q_FXSP_row_1', 'Q_FXSP_row_2', 'Q_FXSP_row_3']\n"
     ]
    },
    {
     "data": {
      "application/vnd.jupyter.widget-view+json": {
       "model_id": "f7e4fd3213e3428bb623b9c5016137b2",
       "version_major": 2,
       "version_minor": 0
      },
      "text/plain": [
       "Generating train split: 0 examples [00:00, ? examples/s]"
      ]
     },
     "metadata": {},
     "output_type": "display_data"
    },
    {
     "data": {
      "application/vnd.jupyter.widget-view+json": {
       "model_id": "73b2b475a7b84b05b30934a48e9e17ef",
       "version_major": 2,
       "version_minor": 0
      },
      "text/plain": [
       "Saving the dataset (0/1 shards):   0%|          | 0/1 [00:00<?, ? examples/s]"
      ]
     },
     "metadata": {},
     "output_type": "display_data"
    },
    {
     "name": "stdout",
     "output_type": "stream",
     "text": [
      "Dataset saved to ./dataset/train_val_split//za_split_2\n",
      "3 {'start_time': '2006-01-01', 'end_time': '2014-12-31'}\n",
      "['A_CPCH_row_0', 'A_CPI_row_0', 'A_FXSP_row_0', 'A_FXSP_row_1', 'A_GDPN_row_0', 'A_GDPN_row_1', 'A_MNY1_row_0', 'A_MNY1_row_1', 'D_EE58_row_0', 'D_FXSP_row_0', 'D_FXSP_row_1', 'D_POLR_row_0', 'M_CPCH_row_0', 'M_CPI_row_0', 'M_CPI_row_3', 'M_EE58_row_0', 'M_FXSP_row_0', 'M_FXSP_row_1', 'M_FXSP_row_2', 'M_FXSP_row_3', 'M_POLR_row_0', 'Q_FXSP_row_0', 'Q_FXSP_row_1', 'Q_FXSP_row_2', 'Q_FXSP_row_3']\n"
     ]
    },
    {
     "data": {
      "application/vnd.jupyter.widget-view+json": {
       "model_id": "e189865d19074162ac859476310f1f0f",
       "version_major": 2,
       "version_minor": 0
      },
      "text/plain": [
       "Generating train split: 0 examples [00:00, ? examples/s]"
      ]
     },
     "metadata": {},
     "output_type": "display_data"
    },
    {
     "data": {
      "application/vnd.jupyter.widget-view+json": {
       "model_id": "6c8b63685daa442d9bd81ab50c7d5174",
       "version_major": 2,
       "version_minor": 0
      },
      "text/plain": [
       "Saving the dataset (0/1 shards):   0%|          | 0/1 [00:00<?, ? examples/s]"
      ]
     },
     "metadata": {},
     "output_type": "display_data"
    },
    {
     "name": "stdout",
     "output_type": "stream",
     "text": [
      "Dataset saved to ./dataset/train_val_split//za_split_3\n",
      "4 {'start_time': '2016-01-01', 'end_time': '2022-12-31'}\n",
      "['A_CPCH_row_0', 'A_CPI_row_0', 'A_FXSP_row_0', 'A_FXSP_row_1', 'A_GDPN_row_0', 'A_GDPN_row_1', 'A_MNY1_row_0', 'A_MNY1_row_1', 'D_EE58_row_0', 'D_FXSP_row_0', 'D_FXSP_row_1', 'D_POLR_row_0', 'M_CPCH_row_0', 'M_CPI_row_0', 'M_CPI_row_3', 'M_EE58_row_0', 'M_FXSP_row_0', 'M_FXSP_row_1', 'M_FXSP_row_2', 'M_FXSP_row_3', 'M_POLR_row_0', 'Q_FXSP_row_0', 'Q_FXSP_row_1', 'Q_FXSP_row_2', 'Q_FXSP_row_3']\n"
     ]
    },
    {
     "data": {
      "application/vnd.jupyter.widget-view+json": {
       "model_id": "5c58ff34301c48088f6e81d008ebd8fb",
       "version_major": 2,
       "version_minor": 0
      },
      "text/plain": [
       "Generating train split: 0 examples [00:00, ? examples/s]"
      ]
     },
     "metadata": {},
     "output_type": "display_data"
    },
    {
     "data": {
      "application/vnd.jupyter.widget-view+json": {
       "model_id": "8cadd35c04524dc1b3927e0c253778a2",
       "version_major": 2,
       "version_minor": 0
      },
      "text/plain": [
       "Saving the dataset (0/1 shards):   0%|          | 0/1 [00:00<?, ? examples/s]"
      ]
     },
     "metadata": {},
     "output_type": "display_data"
    },
    {
     "name": "stdout",
     "output_type": "stream",
     "text": [
      "Dataset saved to ./dataset/train_val_split//za_split_4\n",
      "1 {'start_time': '1984-01-01', 'end_time': '1994-12-31'}\n",
      "['A_CPCH_row_0', 'A_CPCH_row_1', 'A_CPI_row_0', 'A_FXSP_row_0', 'A_FXSP_row_1', 'A_GDPN_row_0', 'A_GDPN_row_3', 'A_MNY1_row_0', 'A_MNY1_row_1', 'D_EE26_row_0', 'D_EE58_row_0', 'D_FXSP_row_0', 'D_FXSP_row_1', 'D_POLR_row_0', 'M_CPCH_row_0', 'M_CPI_row_0', 'M_EE26_row_0', 'M_EE58_row_0', 'M_FXSP_row_0', 'M_FXSP_row_1', 'M_FXSP_row_2', 'M_FXSP_row_3', 'M_POLR_row_0', 'Q_FXSP_row_0', 'Q_FXSP_row_1', 'Q_FXSP_row_2', 'Q_FXSP_row_3']\n"
     ]
    },
    {
     "data": {
      "application/vnd.jupyter.widget-view+json": {
       "model_id": "c63ac78558f54b319f44c6a76fa69de6",
       "version_major": 2,
       "version_minor": 0
      },
      "text/plain": [
       "Generating train split: 0 examples [00:00, ? examples/s]"
      ]
     },
     "metadata": {},
     "output_type": "display_data"
    },
    {
     "data": {
      "application/vnd.jupyter.widget-view+json": {
       "model_id": "f2251450e8684a7a8443cc217a4c9584",
       "version_major": 2,
       "version_minor": 0
      },
      "text/plain": [
       "Saving the dataset (0/1 shards):   0%|          | 0/1 [00:00<?, ? examples/s]"
      ]
     },
     "metadata": {},
     "output_type": "display_data"
    },
    {
     "name": "stdout",
     "output_type": "stream",
     "text": [
      "Dataset saved to ./dataset/train_val_split//ch_split_1\n",
      "2 {'start_time': '1996-01-01', 'end_time': '2004-12-31'}\n",
      "['A_CPCH_row_0', 'A_CPCH_row_1', 'A_CPI_row_0', 'A_FXSP_row_0', 'A_FXSP_row_1', 'A_GDPN_row_0', 'A_GDPN_row_3', 'A_MNY1_row_0', 'A_MNY1_row_1', 'D_EE26_row_0', 'D_EE58_row_0', 'D_FXSP_row_0', 'D_FXSP_row_1', 'D_POLR_row_0', 'M_CPCH_row_0', 'M_CPI_row_0', 'M_EE26_row_0', 'M_EE58_row_0', 'M_FXSP_row_0', 'M_FXSP_row_1', 'M_FXSP_row_2', 'M_FXSP_row_3', 'M_POLR_row_0', 'Q_FXSP_row_0', 'Q_FXSP_row_1', 'Q_FXSP_row_2', 'Q_FXSP_row_3']\n"
     ]
    },
    {
     "data": {
      "application/vnd.jupyter.widget-view+json": {
       "model_id": "7b865ac3c8d5409ca16ab25b218c45ae",
       "version_major": 2,
       "version_minor": 0
      },
      "text/plain": [
       "Generating train split: 0 examples [00:00, ? examples/s]"
      ]
     },
     "metadata": {},
     "output_type": "display_data"
    },
    {
     "data": {
      "application/vnd.jupyter.widget-view+json": {
       "model_id": "8c0acf4af4b94846a70945525bb52e5f",
       "version_major": 2,
       "version_minor": 0
      },
      "text/plain": [
       "Saving the dataset (0/1 shards):   0%|          | 0/1 [00:00<?, ? examples/s]"
      ]
     },
     "metadata": {},
     "output_type": "display_data"
    },
    {
     "name": "stdout",
     "output_type": "stream",
     "text": [
      "Dataset saved to ./dataset/train_val_split//ch_split_2\n",
      "3 {'start_time': '2006-01-01', 'end_time': '2014-12-31'}\n",
      "['A_CPCH_row_0', 'A_CPCH_row_1', 'A_CPI_row_0', 'A_FXSP_row_0', 'A_FXSP_row_1', 'A_GDPN_row_0', 'A_GDPN_row_3', 'A_MNY1_row_0', 'A_MNY1_row_1', 'D_EE26_row_0', 'D_EE58_row_0', 'D_FXSP_row_0', 'D_FXSP_row_1', 'D_POLR_row_0', 'M_CPCH_row_0', 'M_CPI_row_0', 'M_EE26_row_0', 'M_EE58_row_0', 'M_FXSP_row_0', 'M_FXSP_row_1', 'M_FXSP_row_2', 'M_FXSP_row_3', 'M_POLR_row_0', 'Q_FXSP_row_0', 'Q_FXSP_row_1', 'Q_FXSP_row_2', 'Q_FXSP_row_3']\n"
     ]
    },
    {
     "data": {
      "application/vnd.jupyter.widget-view+json": {
       "model_id": "c4e7f303c25548229d94cc589106e569",
       "version_major": 2,
       "version_minor": 0
      },
      "text/plain": [
       "Generating train split: 0 examples [00:00, ? examples/s]"
      ]
     },
     "metadata": {},
     "output_type": "display_data"
    },
    {
     "data": {
      "application/vnd.jupyter.widget-view+json": {
       "model_id": "929ac66e602d4a248ce4de5bc12327d5",
       "version_major": 2,
       "version_minor": 0
      },
      "text/plain": [
       "Saving the dataset (0/1 shards):   0%|          | 0/1 [00:00<?, ? examples/s]"
      ]
     },
     "metadata": {},
     "output_type": "display_data"
    },
    {
     "name": "stdout",
     "output_type": "stream",
     "text": [
      "Dataset saved to ./dataset/train_val_split//ch_split_3\n",
      "4 {'start_time': '2016-01-01', 'end_time': '2022-12-31'}\n",
      "['A_CPCH_row_0', 'A_CPCH_row_1', 'A_CPI_row_0', 'A_FXSP_row_0', 'A_FXSP_row_1', 'A_GDPN_row_0', 'A_GDPN_row_3', 'A_MNY1_row_0', 'A_MNY1_row_1', 'D_EE26_row_0', 'D_EE58_row_0', 'D_FXSP_row_0', 'D_FXSP_row_1', 'D_POLR_row_0', 'M_CPCH_row_0', 'M_CPI_row_0', 'M_EE26_row_0', 'M_EE58_row_0', 'M_FXSP_row_0', 'M_FXSP_row_1', 'M_FXSP_row_2', 'M_FXSP_row_3', 'M_POLR_row_0', 'Q_FXSP_row_0', 'Q_FXSP_row_1', 'Q_FXSP_row_2', 'Q_FXSP_row_3']\n"
     ]
    },
    {
     "data": {
      "application/vnd.jupyter.widget-view+json": {
       "model_id": "651ddd46779d45008cbaad0bd6044995",
       "version_major": 2,
       "version_minor": 0
      },
      "text/plain": [
       "Generating train split: 0 examples [00:00, ? examples/s]"
      ]
     },
     "metadata": {},
     "output_type": "display_data"
    },
    {
     "data": {
      "application/vnd.jupyter.widget-view+json": {
       "model_id": "5a7eebb59eb746eca6dd579ff4d04898",
       "version_major": 2,
       "version_minor": 0
      },
      "text/plain": [
       "Saving the dataset (0/1 shards):   0%|          | 0/1 [00:00<?, ? examples/s]"
      ]
     },
     "metadata": {},
     "output_type": "display_data"
    },
    {
     "name": "stdout",
     "output_type": "stream",
     "text": [
      "Dataset saved to ./dataset/train_val_split//ch_split_4\n",
      "1 {'start_time': '1984-01-01', 'end_time': '1994-12-31'}\n",
      "['A_CPCH_row_0', 'A_CPI_row_0', 'A_FXSP_row_0', 'A_FXSP_row_1', 'D_EE58_row_0', 'D_FXSP_row_0', 'D_FXSP_row_1', 'D_POLR_row_0', 'M_CPCH_row_0', 'M_CPCH_row_1', 'M_CPI_row_0', 'M_EE58_row_0', 'M_FXSP_row_0', 'M_FXSP_row_1', 'M_FXSP_row_2', 'M_FXSP_row_3', 'M_POLR_row_0', 'Q_FXSP_row_0', 'Q_FXSP_row_1', 'Q_FXSP_row_2', 'Q_FXSP_row_3']\n"
     ]
    },
    {
     "data": {
      "application/vnd.jupyter.widget-view+json": {
       "model_id": "dea1cf21c5394f32a1eeb3c23a2351b8",
       "version_major": 2,
       "version_minor": 0
      },
      "text/plain": [
       "Generating train split: 0 examples [00:00, ? examples/s]"
      ]
     },
     "metadata": {},
     "output_type": "display_data"
    },
    {
     "data": {
      "application/vnd.jupyter.widget-view+json": {
       "model_id": "33922a78c29147d28b3e52027ac95347",
       "version_major": 2,
       "version_minor": 0
      },
      "text/plain": [
       "Saving the dataset (0/1 shards):   0%|          | 0/1 [00:00<?, ? examples/s]"
      ]
     },
     "metadata": {},
     "output_type": "display_data"
    },
    {
     "name": "stdout",
     "output_type": "stream",
     "text": [
      "Dataset saved to ./dataset/train_val_split//pl_split_1\n",
      "2 {'start_time': '1996-01-01', 'end_time': '2004-12-31'}\n",
      "['A_CPCH_row_0', 'A_CPI_row_0', 'A_FXSP_row_0', 'A_FXSP_row_1', 'D_EE58_row_0', 'D_FXSP_row_0', 'D_FXSP_row_1', 'D_POLR_row_0', 'M_CPCH_row_0', 'M_CPCH_row_1', 'M_CPI_row_0', 'M_EE58_row_0', 'M_FXSP_row_0', 'M_FXSP_row_1', 'M_FXSP_row_2', 'M_FXSP_row_3', 'M_POLR_row_0', 'Q_FXSP_row_0', 'Q_FXSP_row_1', 'Q_FXSP_row_2', 'Q_FXSP_row_3']\n"
     ]
    },
    {
     "data": {
      "application/vnd.jupyter.widget-view+json": {
       "model_id": "9f861d9676a5458081992a09604c2f38",
       "version_major": 2,
       "version_minor": 0
      },
      "text/plain": [
       "Generating train split: 0 examples [00:00, ? examples/s]"
      ]
     },
     "metadata": {},
     "output_type": "display_data"
    },
    {
     "data": {
      "application/vnd.jupyter.widget-view+json": {
       "model_id": "03139d1889564446b12fa5016f6e16aa",
       "version_major": 2,
       "version_minor": 0
      },
      "text/plain": [
       "Saving the dataset (0/1 shards):   0%|          | 0/1 [00:00<?, ? examples/s]"
      ]
     },
     "metadata": {},
     "output_type": "display_data"
    },
    {
     "name": "stdout",
     "output_type": "stream",
     "text": [
      "Dataset saved to ./dataset/train_val_split//pl_split_2\n",
      "3 {'start_time': '2006-01-01', 'end_time': '2014-12-31'}\n",
      "['A_CPCH_row_0', 'A_CPI_row_0', 'A_FXSP_row_0', 'A_FXSP_row_1', 'D_EE58_row_0', 'D_FXSP_row_0', 'D_FXSP_row_1', 'D_POLR_row_0', 'M_CPCH_row_0', 'M_CPCH_row_1', 'M_CPI_row_0', 'M_EE58_row_0', 'M_FXSP_row_0', 'M_FXSP_row_1', 'M_FXSP_row_2', 'M_FXSP_row_3', 'M_POLR_row_0', 'Q_FXSP_row_0', 'Q_FXSP_row_1', 'Q_FXSP_row_2', 'Q_FXSP_row_3']\n"
     ]
    },
    {
     "data": {
      "application/vnd.jupyter.widget-view+json": {
       "model_id": "e99c4af7397e44398c42637f875e6e7a",
       "version_major": 2,
       "version_minor": 0
      },
      "text/plain": [
       "Generating train split: 0 examples [00:00, ? examples/s]"
      ]
     },
     "metadata": {},
     "output_type": "display_data"
    },
    {
     "data": {
      "application/vnd.jupyter.widget-view+json": {
       "model_id": "63a67e618164407b818c25b5aead2c3f",
       "version_major": 2,
       "version_minor": 0
      },
      "text/plain": [
       "Saving the dataset (0/1 shards):   0%|          | 0/1 [00:00<?, ? examples/s]"
      ]
     },
     "metadata": {},
     "output_type": "display_data"
    },
    {
     "name": "stdout",
     "output_type": "stream",
     "text": [
      "Dataset saved to ./dataset/train_val_split//pl_split_3\n",
      "4 {'start_time': '2016-01-01', 'end_time': '2022-12-31'}\n",
      "['A_CPCH_row_0', 'A_CPI_row_0', 'A_FXSP_row_0', 'A_FXSP_row_1', 'D_EE58_row_0', 'D_FXSP_row_0', 'D_FXSP_row_1', 'D_POLR_row_0', 'M_CPCH_row_0', 'M_CPCH_row_1', 'M_CPI_row_0', 'M_EE58_row_0', 'M_FXSP_row_0', 'M_FXSP_row_1', 'M_FXSP_row_2', 'M_FXSP_row_3', 'M_POLR_row_0', 'Q_FXSP_row_0', 'Q_FXSP_row_1', 'Q_FXSP_row_2', 'Q_FXSP_row_3']\n"
     ]
    },
    {
     "data": {
      "application/vnd.jupyter.widget-view+json": {
       "model_id": "f93148c6255c4dfd907ace13771b0264",
       "version_major": 2,
       "version_minor": 0
      },
      "text/plain": [
       "Generating train split: 0 examples [00:00, ? examples/s]"
      ]
     },
     "metadata": {},
     "output_type": "display_data"
    },
    {
     "data": {
      "application/vnd.jupyter.widget-view+json": {
       "model_id": "9d81e1322f2a455e938261205f3db71e",
       "version_major": 2,
       "version_minor": 0
      },
      "text/plain": [
       "Saving the dataset (0/1 shards):   0%|          | 0/1 [00:00<?, ? examples/s]"
      ]
     },
     "metadata": {},
     "output_type": "display_data"
    },
    {
     "name": "stdout",
     "output_type": "stream",
     "text": [
      "Dataset saved to ./dataset/train_val_split//pl_split_4\n",
      "1 {'start_time': '1984-01-01', 'end_time': '1994-12-31'}\n",
      "['A_CPCH_row_0', 'A_CPI_row_0', 'A_FXSP_row_0', 'A_FXSP_row_1', 'A_GDPN_row_0', 'D_EE26_row_0', 'D_EE58_row_0', 'D_FXSP_row_0', 'D_FXSP_row_1', 'D_POLR_row_0', 'M_CPCH_row_0', 'M_CPCH_row_1', 'M_CPI_row_1', 'M_CPI_row_2', 'M_EE26_row_0', 'M_EE58_row_0', 'M_FXSP_row_0', 'M_FXSP_row_1', 'M_FXSP_row_2', 'M_FXSP_row_3', 'M_POLR_row_0', 'Q_FXSP_row_0', 'Q_FXSP_row_1', 'Q_FXSP_row_2', 'Q_FXSP_row_3']\n"
     ]
    },
    {
     "data": {
      "application/vnd.jupyter.widget-view+json": {
       "model_id": "03cb04bcd33b4ab39281d0b206aa8fbc",
       "version_major": 2,
       "version_minor": 0
      },
      "text/plain": [
       "Generating train split: 0 examples [00:00, ? examples/s]"
      ]
     },
     "metadata": {},
     "output_type": "display_data"
    },
    {
     "data": {
      "application/vnd.jupyter.widget-view+json": {
       "model_id": "67e34324e7e2498797220587465fc90b",
       "version_major": 2,
       "version_minor": 0
      },
      "text/plain": [
       "Saving the dataset (0/1 shards):   0%|          | 0/1 [00:00<?, ? examples/s]"
      ]
     },
     "metadata": {},
     "output_type": "display_data"
    },
    {
     "name": "stdout",
     "output_type": "stream",
     "text": [
      "Dataset saved to ./dataset/train_val_split//es_split_1\n",
      "2 {'start_time': '1996-01-01', 'end_time': '2004-12-31'}\n",
      "['A_CPCH_row_0', 'A_CPI_row_0', 'A_FXSP_row_0', 'A_FXSP_row_1', 'A_GDPN_row_0', 'D_EE26_row_0', 'D_EE58_row_0', 'D_FXSP_row_0', 'D_FXSP_row_1', 'D_POLR_row_0', 'M_CPCH_row_0', 'M_CPCH_row_1', 'M_CPI_row_1', 'M_CPI_row_2', 'M_EE26_row_0', 'M_EE58_row_0', 'M_FXSP_row_0', 'M_FXSP_row_1', 'M_FXSP_row_2', 'M_FXSP_row_3', 'M_POLR_row_0', 'Q_FXSP_row_0', 'Q_FXSP_row_1', 'Q_FXSP_row_2', 'Q_FXSP_row_3']\n"
     ]
    },
    {
     "data": {
      "application/vnd.jupyter.widget-view+json": {
       "model_id": "a07036a083a6431284a973f624df7bbb",
       "version_major": 2,
       "version_minor": 0
      },
      "text/plain": [
       "Generating train split: 0 examples [00:00, ? examples/s]"
      ]
     },
     "metadata": {},
     "output_type": "display_data"
    },
    {
     "data": {
      "application/vnd.jupyter.widget-view+json": {
       "model_id": "6cc8b0c255eb4b2aa9febf0fceb0b7c1",
       "version_major": 2,
       "version_minor": 0
      },
      "text/plain": [
       "Saving the dataset (0/1 shards):   0%|          | 0/1 [00:00<?, ? examples/s]"
      ]
     },
     "metadata": {},
     "output_type": "display_data"
    },
    {
     "name": "stdout",
     "output_type": "stream",
     "text": [
      "Dataset saved to ./dataset/train_val_split//es_split_2\n",
      "3 {'start_time': '2006-01-01', 'end_time': '2014-12-31'}\n",
      "['A_CPCH_row_0', 'A_CPI_row_0', 'A_FXSP_row_0', 'A_FXSP_row_1', 'A_GDPN_row_0', 'D_EE26_row_0', 'D_EE58_row_0', 'D_FXSP_row_0', 'D_FXSP_row_1', 'D_POLR_row_0', 'M_CPCH_row_0', 'M_CPCH_row_1', 'M_CPI_row_1', 'M_CPI_row_2', 'M_EE26_row_0', 'M_EE58_row_0', 'M_FXSP_row_0', 'M_FXSP_row_1', 'M_FXSP_row_2', 'M_FXSP_row_3', 'M_POLR_row_0', 'Q_FXSP_row_0', 'Q_FXSP_row_1', 'Q_FXSP_row_2', 'Q_FXSP_row_3']\n"
     ]
    },
    {
     "data": {
      "application/vnd.jupyter.widget-view+json": {
       "model_id": "c4ded73a930548ee9a8dcf8b220760c8",
       "version_major": 2,
       "version_minor": 0
      },
      "text/plain": [
       "Generating train split: 0 examples [00:00, ? examples/s]"
      ]
     },
     "metadata": {},
     "output_type": "display_data"
    },
    {
     "data": {
      "application/vnd.jupyter.widget-view+json": {
       "model_id": "6f63ea8baa4043ada89828d36d42cd3b",
       "version_major": 2,
       "version_minor": 0
      },
      "text/plain": [
       "Saving the dataset (0/1 shards):   0%|          | 0/1 [00:00<?, ? examples/s]"
      ]
     },
     "metadata": {},
     "output_type": "display_data"
    },
    {
     "name": "stdout",
     "output_type": "stream",
     "text": [
      "Dataset saved to ./dataset/train_val_split//es_split_3\n",
      "4 {'start_time': '2016-01-01', 'end_time': '2022-12-31'}\n",
      "['A_CPCH_row_0', 'A_CPI_row_0', 'A_FXSP_row_0', 'A_FXSP_row_1', 'A_GDPN_row_0', 'D_EE26_row_0', 'D_EE58_row_0', 'D_FXSP_row_0', 'D_FXSP_row_1', 'D_POLR_row_0', 'M_CPCH_row_0', 'M_CPCH_row_1', 'M_CPI_row_1', 'M_CPI_row_2', 'M_EE26_row_0', 'M_EE58_row_0', 'M_FXSP_row_0', 'M_FXSP_row_1', 'M_FXSP_row_2', 'M_FXSP_row_3', 'M_POLR_row_0', 'Q_FXSP_row_0', 'Q_FXSP_row_1', 'Q_FXSP_row_2', 'Q_FXSP_row_3']\n"
     ]
    },
    {
     "data": {
      "application/vnd.jupyter.widget-view+json": {
       "model_id": "51a6a3cff21645079978eafa0df4968a",
       "version_major": 2,
       "version_minor": 0
      },
      "text/plain": [
       "Generating train split: 0 examples [00:00, ? examples/s]"
      ]
     },
     "metadata": {},
     "output_type": "display_data"
    },
    {
     "data": {
      "application/vnd.jupyter.widget-view+json": {
       "model_id": "99a41e9559d44bc1b61b9e46b1f129ce",
       "version_major": 2,
       "version_minor": 0
      },
      "text/plain": [
       "Saving the dataset (0/1 shards):   0%|          | 0/1 [00:00<?, ? examples/s]"
      ]
     },
     "metadata": {},
     "output_type": "display_data"
    },
    {
     "name": "stdout",
     "output_type": "stream",
     "text": [
      "Dataset saved to ./dataset/train_val_split//es_split_4\n",
      "1 {'start_time': '1984-01-01', 'end_time': '1994-12-31'}\n",
      "['A_CPCH_row_0', 'A_CPI_row_0', 'A_FXSP_row_0', 'A_FXSP_row_1', 'A_GDPN_row_0', 'A_MNY1_row_0', 'D_EE26_row_0', 'D_EE58_row_0', 'D_FXSP_row_0', 'D_FXSP_row_1', 'D_POLR_row_0', 'M_CPCH_row_0', 'M_CPI_row_0', 'M_CPI_row_1', 'M_EE26_row_0', 'M_EE58_row_0', 'M_FXSP_row_0', 'M_FXSP_row_1', 'M_FXSP_row_2', 'M_FXSP_row_3', 'M_POLR_row_0', 'Q_FXSP_row_0', 'Q_FXSP_row_1', 'Q_FXSP_row_2', 'Q_FXSP_row_3']\n"
     ]
    },
    {
     "data": {
      "application/vnd.jupyter.widget-view+json": {
       "model_id": "eebedb5ae0b645279430ba585350236a",
       "version_major": 2,
       "version_minor": 0
      },
      "text/plain": [
       "Generating train split: 0 examples [00:00, ? examples/s]"
      ]
     },
     "metadata": {},
     "output_type": "display_data"
    },
    {
     "data": {
      "application/vnd.jupyter.widget-view+json": {
       "model_id": "1bb5eab3c06b48bfa6620092eedbef96",
       "version_major": 2,
       "version_minor": 0
      },
      "text/plain": [
       "Saving the dataset (0/1 shards):   0%|          | 0/1 [00:00<?, ? examples/s]"
      ]
     },
     "metadata": {},
     "output_type": "display_data"
    },
    {
     "name": "stdout",
     "output_type": "stream",
     "text": [
      "Dataset saved to ./dataset/train_val_split//fr_split_1\n",
      "2 {'start_time': '1996-01-01', 'end_time': '2004-12-31'}\n",
      "['A_CPCH_row_0', 'A_CPI_row_0', 'A_FXSP_row_0', 'A_FXSP_row_1', 'A_GDPN_row_0', 'A_MNY1_row_0', 'D_EE26_row_0', 'D_EE58_row_0', 'D_FXSP_row_0', 'D_FXSP_row_1', 'D_POLR_row_0', 'M_CPCH_row_0', 'M_CPI_row_0', 'M_CPI_row_1', 'M_EE26_row_0', 'M_EE58_row_0', 'M_FXSP_row_0', 'M_FXSP_row_1', 'M_FXSP_row_2', 'M_FXSP_row_3', 'M_POLR_row_0', 'Q_FXSP_row_0', 'Q_FXSP_row_1', 'Q_FXSP_row_2', 'Q_FXSP_row_3']\n"
     ]
    },
    {
     "data": {
      "application/vnd.jupyter.widget-view+json": {
       "model_id": "d1fe938b3df84fe295ac85138c555f3a",
       "version_major": 2,
       "version_minor": 0
      },
      "text/plain": [
       "Generating train split: 0 examples [00:00, ? examples/s]"
      ]
     },
     "metadata": {},
     "output_type": "display_data"
    },
    {
     "data": {
      "application/vnd.jupyter.widget-view+json": {
       "model_id": "c85cbcce349d403fb091c5b270e3b6ae",
       "version_major": 2,
       "version_minor": 0
      },
      "text/plain": [
       "Saving the dataset (0/1 shards):   0%|          | 0/1 [00:00<?, ? examples/s]"
      ]
     },
     "metadata": {},
     "output_type": "display_data"
    },
    {
     "name": "stdout",
     "output_type": "stream",
     "text": [
      "Dataset saved to ./dataset/train_val_split//fr_split_2\n",
      "3 {'start_time': '2006-01-01', 'end_time': '2014-12-31'}\n",
      "['A_CPCH_row_0', 'A_CPI_row_0', 'A_FXSP_row_0', 'A_FXSP_row_1', 'A_GDPN_row_0', 'A_MNY1_row_0', 'D_EE26_row_0', 'D_EE58_row_0', 'D_FXSP_row_0', 'D_FXSP_row_1', 'D_POLR_row_0', 'M_CPCH_row_0', 'M_CPI_row_0', 'M_CPI_row_1', 'M_EE26_row_0', 'M_EE58_row_0', 'M_FXSP_row_0', 'M_FXSP_row_1', 'M_FXSP_row_2', 'M_FXSP_row_3', 'M_POLR_row_0', 'Q_FXSP_row_0', 'Q_FXSP_row_1', 'Q_FXSP_row_2', 'Q_FXSP_row_3']\n"
     ]
    },
    {
     "data": {
      "application/vnd.jupyter.widget-view+json": {
       "model_id": "3cc22dc31eb749deb204dab14961e8dc",
       "version_major": 2,
       "version_minor": 0
      },
      "text/plain": [
       "Generating train split: 0 examples [00:00, ? examples/s]"
      ]
     },
     "metadata": {},
     "output_type": "display_data"
    },
    {
     "data": {
      "application/vnd.jupyter.widget-view+json": {
       "model_id": "c5847f5fd8c343a097e6577c74fa6d45",
       "version_major": 2,
       "version_minor": 0
      },
      "text/plain": [
       "Saving the dataset (0/1 shards):   0%|          | 0/1 [00:00<?, ? examples/s]"
      ]
     },
     "metadata": {},
     "output_type": "display_data"
    },
    {
     "name": "stdout",
     "output_type": "stream",
     "text": [
      "Dataset saved to ./dataset/train_val_split//fr_split_3\n",
      "4 {'start_time': '2016-01-01', 'end_time': '2022-12-31'}\n",
      "['A_CPCH_row_0', 'A_CPI_row_0', 'A_FXSP_row_0', 'A_FXSP_row_1', 'A_GDPN_row_0', 'A_MNY1_row_0', 'D_EE26_row_0', 'D_EE58_row_0', 'D_FXSP_row_0', 'D_FXSP_row_1', 'D_POLR_row_0', 'M_CPCH_row_0', 'M_CPI_row_0', 'M_CPI_row_1', 'M_EE26_row_0', 'M_EE58_row_0', 'M_FXSP_row_0', 'M_FXSP_row_1', 'M_FXSP_row_2', 'M_FXSP_row_3', 'M_POLR_row_0', 'Q_FXSP_row_0', 'Q_FXSP_row_1', 'Q_FXSP_row_2', 'Q_FXSP_row_3']\n"
     ]
    },
    {
     "data": {
      "application/vnd.jupyter.widget-view+json": {
       "model_id": "be40803ed82e4e539d0bed18514a5725",
       "version_major": 2,
       "version_minor": 0
      },
      "text/plain": [
       "Generating train split: 0 examples [00:00, ? examples/s]"
      ]
     },
     "metadata": {},
     "output_type": "display_data"
    },
    {
     "data": {
      "application/vnd.jupyter.widget-view+json": {
       "model_id": "1ee44f83e2fc4d71ae907af131505873",
       "version_major": 2,
       "version_minor": 0
      },
      "text/plain": [
       "Saving the dataset (0/1 shards):   0%|          | 0/1 [00:00<?, ? examples/s]"
      ]
     },
     "metadata": {},
     "output_type": "display_data"
    },
    {
     "name": "stdout",
     "output_type": "stream",
     "text": [
      "Dataset saved to ./dataset/train_val_split//fr_split_4\n",
      "1 {'start_time': '1984-01-01', 'end_time': '1994-12-31'}\n",
      "['A_CPCH_row_0', 'A_CPI_row_0', 'A_FXSP_row_0', 'A_FXSP_row_1', 'A_GDPN_row_2', 'D_EE26_row_0', 'D_EE58_row_0', 'D_FXSP_row_0', 'D_FXSP_row_1', 'D_POLR_row_0', 'M_CPCH_row_0', 'M_CPI_row_0', 'M_CPI_row_1', 'M_EE26_row_0', 'M_EE58_row_0', 'M_FXSP_row_0', 'M_FXSP_row_1', 'M_FXSP_row_2', 'M_FXSP_row_3', 'M_POLR_row_0', 'Q_FXSP_row_0', 'Q_FXSP_row_1', 'Q_FXSP_row_2', 'Q_FXSP_row_3']\n"
     ]
    },
    {
     "data": {
      "application/vnd.jupyter.widget-view+json": {
       "model_id": "df405bb190184873854faa76bf8d8225",
       "version_major": 2,
       "version_minor": 0
      },
      "text/plain": [
       "Generating train split: 0 examples [00:00, ? examples/s]"
      ]
     },
     "metadata": {},
     "output_type": "display_data"
    },
    {
     "data": {
      "application/vnd.jupyter.widget-view+json": {
       "model_id": "8049186ff45e4893b85b163b8c172201",
       "version_major": 2,
       "version_minor": 0
      },
      "text/plain": [
       "Saving the dataset (0/1 shards):   0%|          | 0/1 [00:00<?, ? examples/s]"
      ]
     },
     "metadata": {},
     "output_type": "display_data"
    },
    {
     "name": "stdout",
     "output_type": "stream",
     "text": [
      "Dataset saved to ./dataset/train_val_split//pt_split_1\n",
      "2 {'start_time': '1996-01-01', 'end_time': '2004-12-31'}\n",
      "['A_CPCH_row_0', 'A_CPI_row_0', 'A_FXSP_row_0', 'A_FXSP_row_1', 'A_GDPN_row_2', 'D_EE26_row_0', 'D_EE58_row_0', 'D_FXSP_row_0', 'D_FXSP_row_1', 'D_POLR_row_0', 'M_CPCH_row_0', 'M_CPI_row_0', 'M_CPI_row_1', 'M_EE26_row_0', 'M_EE58_row_0', 'M_FXSP_row_0', 'M_FXSP_row_1', 'M_FXSP_row_2', 'M_FXSP_row_3', 'M_POLR_row_0', 'Q_FXSP_row_0', 'Q_FXSP_row_1', 'Q_FXSP_row_2', 'Q_FXSP_row_3']\n"
     ]
    },
    {
     "data": {
      "application/vnd.jupyter.widget-view+json": {
       "model_id": "d915cd67aa4b4a1b882eb0ef9759c8f0",
       "version_major": 2,
       "version_minor": 0
      },
      "text/plain": [
       "Generating train split: 0 examples [00:00, ? examples/s]"
      ]
     },
     "metadata": {},
     "output_type": "display_data"
    },
    {
     "data": {
      "application/vnd.jupyter.widget-view+json": {
       "model_id": "403b45374deb4c26bfe5a98143fa05e7",
       "version_major": 2,
       "version_minor": 0
      },
      "text/plain": [
       "Saving the dataset (0/1 shards):   0%|          | 0/1 [00:00<?, ? examples/s]"
      ]
     },
     "metadata": {},
     "output_type": "display_data"
    },
    {
     "name": "stdout",
     "output_type": "stream",
     "text": [
      "Dataset saved to ./dataset/train_val_split//pt_split_2\n",
      "3 {'start_time': '2006-01-01', 'end_time': '2014-12-31'}\n",
      "['A_CPCH_row_0', 'A_CPI_row_0', 'A_FXSP_row_0', 'A_FXSP_row_1', 'A_GDPN_row_2', 'D_EE26_row_0', 'D_EE58_row_0', 'D_FXSP_row_0', 'D_FXSP_row_1', 'D_POLR_row_0', 'M_CPCH_row_0', 'M_CPI_row_0', 'M_CPI_row_1', 'M_EE26_row_0', 'M_EE58_row_0', 'M_FXSP_row_0', 'M_FXSP_row_1', 'M_FXSP_row_2', 'M_FXSP_row_3', 'M_POLR_row_0', 'Q_FXSP_row_0', 'Q_FXSP_row_1', 'Q_FXSP_row_2', 'Q_FXSP_row_3']\n"
     ]
    },
    {
     "data": {
      "application/vnd.jupyter.widget-view+json": {
       "model_id": "44c140105dbf470ba79836a76a83e762",
       "version_major": 2,
       "version_minor": 0
      },
      "text/plain": [
       "Generating train split: 0 examples [00:00, ? examples/s]"
      ]
     },
     "metadata": {},
     "output_type": "display_data"
    },
    {
     "data": {
      "application/vnd.jupyter.widget-view+json": {
       "model_id": "60295d5242d44d53a8f57c22b62faab0",
       "version_major": 2,
       "version_minor": 0
      },
      "text/plain": [
       "Saving the dataset (0/1 shards):   0%|          | 0/1 [00:00<?, ? examples/s]"
      ]
     },
     "metadata": {},
     "output_type": "display_data"
    },
    {
     "name": "stdout",
     "output_type": "stream",
     "text": [
      "Dataset saved to ./dataset/train_val_split//pt_split_3\n",
      "4 {'start_time': '2016-01-01', 'end_time': '2022-12-31'}\n",
      "['A_CPCH_row_0', 'A_CPI_row_0', 'A_FXSP_row_0', 'A_FXSP_row_1', 'A_GDPN_row_2', 'D_EE26_row_0', 'D_EE58_row_0', 'D_FXSP_row_0', 'D_FXSP_row_1', 'D_POLR_row_0', 'M_CPCH_row_0', 'M_CPI_row_0', 'M_CPI_row_1', 'M_EE26_row_0', 'M_EE58_row_0', 'M_FXSP_row_0', 'M_FXSP_row_1', 'M_FXSP_row_2', 'M_FXSP_row_3', 'M_POLR_row_0', 'Q_FXSP_row_0', 'Q_FXSP_row_1', 'Q_FXSP_row_2', 'Q_FXSP_row_3']\n"
     ]
    },
    {
     "data": {
      "application/vnd.jupyter.widget-view+json": {
       "model_id": "0f2048b25c944634914b625539a28e18",
       "version_major": 2,
       "version_minor": 0
      },
      "text/plain": [
       "Generating train split: 0 examples [00:00, ? examples/s]"
      ]
     },
     "metadata": {},
     "output_type": "display_data"
    },
    {
     "data": {
      "application/vnd.jupyter.widget-view+json": {
       "model_id": "2c88a29e28ae428a9732a6b275091b3a",
       "version_major": 2,
       "version_minor": 0
      },
      "text/plain": [
       "Saving the dataset (0/1 shards):   0%|          | 0/1 [00:00<?, ? examples/s]"
      ]
     },
     "metadata": {},
     "output_type": "display_data"
    },
    {
     "name": "stdout",
     "output_type": "stream",
     "text": [
      "Dataset saved to ./dataset/train_val_split//pt_split_4\n",
      "1 {'start_time': '1984-01-01', 'end_time': '1994-12-31'}\n",
      "['A_CPCH_row_0', 'A_CPI_row_0', 'A_FXSP_row_0', 'A_FXSP_row_1', 'D_EE58_row_0', 'D_FXSP_row_1', 'D_FXSP_row_2', 'D_POLR_row_0', 'M_CPCH_row_0', 'M_CPI_row_0', 'M_CPI_row_1', 'M_EE58_row_0', 'M_FXSP_row_0', 'M_FXSP_row_1', 'M_FXSP_row_4', 'M_FXSP_row_5', 'M_POLR_row_0', 'Q_FXSP_row_0', 'Q_FXSP_row_1', 'Q_FXSP_row_2', 'Q_FXSP_row_4']\n"
     ]
    },
    {
     "data": {
      "application/vnd.jupyter.widget-view+json": {
       "model_id": "9b3f1cb323524afd80e7759e8ad635ff",
       "version_major": 2,
       "version_minor": 0
      },
      "text/plain": [
       "Generating train split: 0 examples [00:00, ? examples/s]"
      ]
     },
     "metadata": {},
     "output_type": "display_data"
    },
    {
     "data": {
      "application/vnd.jupyter.widget-view+json": {
       "model_id": "f75b7a3b443943479313ad237209476f",
       "version_major": 2,
       "version_minor": 0
      },
      "text/plain": [
       "Saving the dataset (0/1 shards):   0%|          | 0/1 [00:00<?, ? examples/s]"
      ]
     },
     "metadata": {},
     "output_type": "display_data"
    },
    {
     "name": "stdout",
     "output_type": "stream",
     "text": [
      "Dataset saved to ./dataset/train_val_split//ro_split_1\n",
      "2 {'start_time': '1996-01-01', 'end_time': '2004-12-31'}\n",
      "['A_CPCH_row_0', 'A_CPI_row_0', 'A_FXSP_row_0', 'A_FXSP_row_1', 'D_EE58_row_0', 'D_FXSP_row_1', 'D_FXSP_row_2', 'D_POLR_row_0', 'M_CPCH_row_0', 'M_CPI_row_0', 'M_CPI_row_1', 'M_EE58_row_0', 'M_FXSP_row_0', 'M_FXSP_row_1', 'M_FXSP_row_4', 'M_FXSP_row_5', 'M_POLR_row_0', 'Q_FXSP_row_0', 'Q_FXSP_row_1', 'Q_FXSP_row_2', 'Q_FXSP_row_4']\n"
     ]
    },
    {
     "data": {
      "application/vnd.jupyter.widget-view+json": {
       "model_id": "a1bba56f92d1495084bb7cf8012e1fdf",
       "version_major": 2,
       "version_minor": 0
      },
      "text/plain": [
       "Generating train split: 0 examples [00:00, ? examples/s]"
      ]
     },
     "metadata": {},
     "output_type": "display_data"
    },
    {
     "data": {
      "application/vnd.jupyter.widget-view+json": {
       "model_id": "9c0d98f614af4f59966c1f9a0e93cc2f",
       "version_major": 2,
       "version_minor": 0
      },
      "text/plain": [
       "Saving the dataset (0/1 shards):   0%|          | 0/1 [00:00<?, ? examples/s]"
      ]
     },
     "metadata": {},
     "output_type": "display_data"
    },
    {
     "name": "stdout",
     "output_type": "stream",
     "text": [
      "Dataset saved to ./dataset/train_val_split//ro_split_2\n",
      "3 {'start_time': '2006-01-01', 'end_time': '2014-12-31'}\n",
      "['A_CPCH_row_0', 'A_CPI_row_0', 'A_FXSP_row_0', 'A_FXSP_row_1', 'D_EE58_row_0', 'D_FXSP_row_1', 'D_FXSP_row_2', 'D_POLR_row_0', 'M_CPCH_row_0', 'M_CPI_row_0', 'M_CPI_row_1', 'M_EE58_row_0', 'M_FXSP_row_0', 'M_FXSP_row_1', 'M_FXSP_row_4', 'M_FXSP_row_5', 'M_POLR_row_0', 'Q_FXSP_row_0', 'Q_FXSP_row_1', 'Q_FXSP_row_2', 'Q_FXSP_row_4']\n"
     ]
    },
    {
     "data": {
      "application/vnd.jupyter.widget-view+json": {
       "model_id": "d6abd8b464634513ad0ed47a5bde06d8",
       "version_major": 2,
       "version_minor": 0
      },
      "text/plain": [
       "Generating train split: 0 examples [00:00, ? examples/s]"
      ]
     },
     "metadata": {},
     "output_type": "display_data"
    },
    {
     "data": {
      "application/vnd.jupyter.widget-view+json": {
       "model_id": "d8074660cd4b450bbcb0532654dfdcf6",
       "version_major": 2,
       "version_minor": 0
      },
      "text/plain": [
       "Saving the dataset (0/1 shards):   0%|          | 0/1 [00:00<?, ? examples/s]"
      ]
     },
     "metadata": {},
     "output_type": "display_data"
    },
    {
     "name": "stdout",
     "output_type": "stream",
     "text": [
      "Dataset saved to ./dataset/train_val_split//ro_split_3\n",
      "4 {'start_time': '2016-01-01', 'end_time': '2022-12-31'}\n",
      "['A_CPCH_row_0', 'A_CPI_row_0', 'A_FXSP_row_0', 'A_FXSP_row_1', 'D_EE58_row_0', 'D_FXSP_row_1', 'D_FXSP_row_2', 'D_POLR_row_0', 'M_CPCH_row_0', 'M_CPI_row_0', 'M_CPI_row_1', 'M_EE58_row_0', 'M_FXSP_row_0', 'M_FXSP_row_1', 'M_FXSP_row_4', 'M_FXSP_row_5', 'M_POLR_row_0', 'Q_FXSP_row_0', 'Q_FXSP_row_1', 'Q_FXSP_row_2', 'Q_FXSP_row_4']\n"
     ]
    },
    {
     "data": {
      "application/vnd.jupyter.widget-view+json": {
       "model_id": "792fac67999a424aaf8aab1048347a62",
       "version_major": 2,
       "version_minor": 0
      },
      "text/plain": [
       "Generating train split: 0 examples [00:00, ? examples/s]"
      ]
     },
     "metadata": {},
     "output_type": "display_data"
    },
    {
     "data": {
      "application/vnd.jupyter.widget-view+json": {
       "model_id": "691431dae63b4ce4a53dfdf1b805a72f",
       "version_major": 2,
       "version_minor": 0
      },
      "text/plain": [
       "Saving the dataset (0/1 shards):   0%|          | 0/1 [00:00<?, ? examples/s]"
      ]
     },
     "metadata": {},
     "output_type": "display_data"
    },
    {
     "name": "stdout",
     "output_type": "stream",
     "text": [
      "Dataset saved to ./dataset/train_val_split//ro_split_4\n",
      "1 {'start_time': '1984-01-01', 'end_time': '1994-12-31'}\n",
      "['A_CPCH_row_0', 'A_CPI_row_0', 'A_FXSP_row_0', 'A_FXSP_row_1', 'A_GDPN_row_0', 'A_GDPN_row_1', 'A_MNY1_row_0', 'A_MNY1_row_1', 'D_EE58_row_0', 'D_FXSP_row_0', 'D_POLR_row_0', 'M_CPCH_row_0', 'M_CPCH_row_1', 'M_CPCH_row_2', 'M_CPI_row_0', 'M_CPI_row_1', 'M_EE58_row_0', 'M_FXSP_row_0', 'M_FXSP_row_1', 'M_POLR_row_0', 'Q_FXSP_row_0', 'Q_FXSP_row_1', 'Q_FXSP_row_2']\n"
     ]
    },
    {
     "data": {
      "application/vnd.jupyter.widget-view+json": {
       "model_id": "71bc45f9311345b6b2abc8910bcd11e9",
       "version_major": 2,
       "version_minor": 0
      },
      "text/plain": [
       "Generating train split: 0 examples [00:00, ? examples/s]"
      ]
     },
     "metadata": {},
     "output_type": "display_data"
    },
    {
     "data": {
      "application/vnd.jupyter.widget-view+json": {
       "model_id": "2e42ba74df62475cb9035fd9ccfcac66",
       "version_major": 2,
       "version_minor": 0
      },
      "text/plain": [
       "Saving the dataset (0/1 shards):   0%|          | 0/1 [00:00<?, ? examples/s]"
      ]
     },
     "metadata": {},
     "output_type": "display_data"
    },
    {
     "name": "stdout",
     "output_type": "stream",
     "text": [
      "Dataset saved to ./dataset/train_val_split//br_split_1\n",
      "2 {'start_time': '1996-01-01', 'end_time': '2004-12-31'}\n",
      "['A_CPCH_row_0', 'A_CPI_row_0', 'A_FXSP_row_0', 'A_FXSP_row_1', 'A_GDPN_row_0', 'A_GDPN_row_1', 'A_MNY1_row_0', 'A_MNY1_row_1', 'D_EE58_row_0', 'D_FXSP_row_0', 'D_POLR_row_0', 'M_CPCH_row_0', 'M_CPCH_row_1', 'M_CPCH_row_2', 'M_CPI_row_0', 'M_CPI_row_1', 'M_EE58_row_0', 'M_FXSP_row_0', 'M_FXSP_row_1', 'M_POLR_row_0', 'Q_FXSP_row_0', 'Q_FXSP_row_1', 'Q_FXSP_row_2']\n"
     ]
    },
    {
     "data": {
      "application/vnd.jupyter.widget-view+json": {
       "model_id": "411882d4f1e640928d683ff8a456323c",
       "version_major": 2,
       "version_minor": 0
      },
      "text/plain": [
       "Generating train split: 0 examples [00:00, ? examples/s]"
      ]
     },
     "metadata": {},
     "output_type": "display_data"
    },
    {
     "data": {
      "application/vnd.jupyter.widget-view+json": {
       "model_id": "37aa31ece4694504b9c5e25d94f3c244",
       "version_major": 2,
       "version_minor": 0
      },
      "text/plain": [
       "Saving the dataset (0/1 shards):   0%|          | 0/1 [00:00<?, ? examples/s]"
      ]
     },
     "metadata": {},
     "output_type": "display_data"
    },
    {
     "name": "stdout",
     "output_type": "stream",
     "text": [
      "Dataset saved to ./dataset/train_val_split//br_split_2\n",
      "3 {'start_time': '2006-01-01', 'end_time': '2014-12-31'}\n",
      "['A_CPCH_row_0', 'A_CPI_row_0', 'A_FXSP_row_0', 'A_FXSP_row_1', 'A_GDPN_row_0', 'A_GDPN_row_1', 'A_MNY1_row_0', 'A_MNY1_row_1', 'D_EE58_row_0', 'D_FXSP_row_0', 'D_POLR_row_0', 'M_CPCH_row_0', 'M_CPCH_row_1', 'M_CPCH_row_2', 'M_CPI_row_0', 'M_CPI_row_1', 'M_EE58_row_0', 'M_FXSP_row_0', 'M_FXSP_row_1', 'M_POLR_row_0', 'Q_FXSP_row_0', 'Q_FXSP_row_1', 'Q_FXSP_row_2']\n"
     ]
    },
    {
     "data": {
      "application/vnd.jupyter.widget-view+json": {
       "model_id": "9934e27aa2d94b29938b3a64909ae6b0",
       "version_major": 2,
       "version_minor": 0
      },
      "text/plain": [
       "Generating train split: 0 examples [00:00, ? examples/s]"
      ]
     },
     "metadata": {},
     "output_type": "display_data"
    },
    {
     "data": {
      "application/vnd.jupyter.widget-view+json": {
       "model_id": "570a8ec41dc04296a1a8a98381acba74",
       "version_major": 2,
       "version_minor": 0
      },
      "text/plain": [
       "Saving the dataset (0/1 shards):   0%|          | 0/1 [00:00<?, ? examples/s]"
      ]
     },
     "metadata": {},
     "output_type": "display_data"
    },
    {
     "name": "stdout",
     "output_type": "stream",
     "text": [
      "Dataset saved to ./dataset/train_val_split//br_split_3\n",
      "4 {'start_time': '2016-01-01', 'end_time': '2022-12-31'}\n",
      "['A_CPCH_row_0', 'A_CPI_row_0', 'A_FXSP_row_0', 'A_FXSP_row_1', 'A_GDPN_row_0', 'A_GDPN_row_1', 'A_MNY1_row_0', 'A_MNY1_row_1', 'D_EE58_row_0', 'D_FXSP_row_0', 'D_POLR_row_0', 'M_CPCH_row_0', 'M_CPCH_row_1', 'M_CPCH_row_2', 'M_CPI_row_0', 'M_CPI_row_1', 'M_EE58_row_0', 'M_FXSP_row_0', 'M_FXSP_row_1', 'M_POLR_row_0', 'Q_FXSP_row_0', 'Q_FXSP_row_1', 'Q_FXSP_row_2']\n"
     ]
    },
    {
     "data": {
      "application/vnd.jupyter.widget-view+json": {
       "model_id": "96b792c2bb4847ddb358f9871c453e03",
       "version_major": 2,
       "version_minor": 0
      },
      "text/plain": [
       "Generating train split: 0 examples [00:00, ? examples/s]"
      ]
     },
     "metadata": {},
     "output_type": "display_data"
    },
    {
     "data": {
      "application/vnd.jupyter.widget-view+json": {
       "model_id": "4d8d59a66fd64fdc9c103d0656781722",
       "version_major": 2,
       "version_minor": 0
      },
      "text/plain": [
       "Saving the dataset (0/1 shards):   0%|          | 0/1 [00:00<?, ? examples/s]"
      ]
     },
     "metadata": {},
     "output_type": "display_data"
    },
    {
     "name": "stdout",
     "output_type": "stream",
     "text": [
      "Dataset saved to ./dataset/train_val_split//br_split_4\n",
      "1 {'start_time': '1984-01-01', 'end_time': '1994-12-31'}\n",
      "['A_CPCH_row_0', 'A_CPI_row_0', 'A_FXSP_row_0', 'A_FXSP_row_1', 'A_GDPN_row_0', 'A_GDPN_row_1', 'A_MNY1_row_0', 'A_MNY1_row_1', 'D_EE58_row_0', 'D_FXSP_row_0', 'D_FXSP_row_1', 'D_POLR_row_0', 'M_CPCH_row_0', 'M_CPCH_row_1', 'M_CPI_row_0', 'M_CPI_row_1', 'M_EE58_row_0', 'M_FXSP_row_0', 'M_FXSP_row_1', 'M_FXSP_row_2', 'M_FXSP_row_3', 'M_POLR_row_0', 'Q_FXSP_row_0', 'Q_FXSP_row_1', 'Q_FXSP_row_2', 'Q_FXSP_row_3']\n"
     ]
    },
    {
     "data": {
      "application/vnd.jupyter.widget-view+json": {
       "model_id": "6e5d84b637ee4cbca9a4ac353dadee13",
       "version_major": 2,
       "version_minor": 0
      },
      "text/plain": [
       "Generating train split: 0 examples [00:00, ? examples/s]"
      ]
     },
     "metadata": {},
     "output_type": "display_data"
    },
    {
     "data": {
      "application/vnd.jupyter.widget-view+json": {
       "model_id": "51cf2daebd9b4d2c9a1c8fe255d72a25",
       "version_major": 2,
       "version_minor": 0
      },
      "text/plain": [
       "Saving the dataset (0/1 shards):   0%|          | 0/1 [00:00<?, ? examples/s]"
      ]
     },
     "metadata": {},
     "output_type": "display_data"
    },
    {
     "name": "stdout",
     "output_type": "stream",
     "text": [
      "Dataset saved to ./dataset/train_val_split//ru_split_1\n",
      "2 {'start_time': '1996-01-01', 'end_time': '2004-12-31'}\n",
      "['A_CPCH_row_0', 'A_CPI_row_0', 'A_FXSP_row_0', 'A_FXSP_row_1', 'A_GDPN_row_0', 'A_GDPN_row_1', 'A_MNY1_row_0', 'A_MNY1_row_1', 'D_EE58_row_0', 'D_FXSP_row_0', 'D_FXSP_row_1', 'D_POLR_row_0', 'M_CPCH_row_0', 'M_CPCH_row_1', 'M_CPI_row_0', 'M_CPI_row_1', 'M_EE58_row_0', 'M_FXSP_row_0', 'M_FXSP_row_1', 'M_FXSP_row_2', 'M_FXSP_row_3', 'M_POLR_row_0', 'Q_FXSP_row_0', 'Q_FXSP_row_1', 'Q_FXSP_row_2', 'Q_FXSP_row_3']\n"
     ]
    },
    {
     "data": {
      "application/vnd.jupyter.widget-view+json": {
       "model_id": "ee429a6e09fb4198884c2c0cd6601be4",
       "version_major": 2,
       "version_minor": 0
      },
      "text/plain": [
       "Generating train split: 0 examples [00:00, ? examples/s]"
      ]
     },
     "metadata": {},
     "output_type": "display_data"
    },
    {
     "data": {
      "application/vnd.jupyter.widget-view+json": {
       "model_id": "36851a58fc074d8bb1a26fd7436a16c2",
       "version_major": 2,
       "version_minor": 0
      },
      "text/plain": [
       "Saving the dataset (0/1 shards):   0%|          | 0/1 [00:00<?, ? examples/s]"
      ]
     },
     "metadata": {},
     "output_type": "display_data"
    },
    {
     "name": "stdout",
     "output_type": "stream",
     "text": [
      "Dataset saved to ./dataset/train_val_split//ru_split_2\n",
      "3 {'start_time': '2006-01-01', 'end_time': '2014-12-31'}\n",
      "['A_CPCH_row_0', 'A_CPI_row_0', 'A_FXSP_row_0', 'A_FXSP_row_1', 'A_GDPN_row_0', 'A_GDPN_row_1', 'A_MNY1_row_0', 'A_MNY1_row_1', 'D_EE58_row_0', 'D_FXSP_row_0', 'D_FXSP_row_1', 'D_POLR_row_0', 'M_CPCH_row_0', 'M_CPCH_row_1', 'M_CPI_row_0', 'M_CPI_row_1', 'M_EE58_row_0', 'M_FXSP_row_0', 'M_FXSP_row_1', 'M_FXSP_row_2', 'M_FXSP_row_3', 'M_POLR_row_0', 'Q_FXSP_row_0', 'Q_FXSP_row_1', 'Q_FXSP_row_2', 'Q_FXSP_row_3']\n"
     ]
    },
    {
     "data": {
      "application/vnd.jupyter.widget-view+json": {
       "model_id": "c01cea520b4f4946ade5c02b0af9c483",
       "version_major": 2,
       "version_minor": 0
      },
      "text/plain": [
       "Generating train split: 0 examples [00:00, ? examples/s]"
      ]
     },
     "metadata": {},
     "output_type": "display_data"
    },
    {
     "data": {
      "application/vnd.jupyter.widget-view+json": {
       "model_id": "1044d978aa4e43d9911c5cee5d1c8cc3",
       "version_major": 2,
       "version_minor": 0
      },
      "text/plain": [
       "Saving the dataset (0/1 shards):   0%|          | 0/1 [00:00<?, ? examples/s]"
      ]
     },
     "metadata": {},
     "output_type": "display_data"
    },
    {
     "name": "stdout",
     "output_type": "stream",
     "text": [
      "Dataset saved to ./dataset/train_val_split//ru_split_3\n",
      "4 {'start_time': '2016-01-01', 'end_time': '2022-12-31'}\n",
      "['A_CPCH_row_0', 'A_CPI_row_0', 'A_FXSP_row_0', 'A_FXSP_row_1', 'A_GDPN_row_0', 'A_GDPN_row_1', 'A_MNY1_row_0', 'A_MNY1_row_1', 'D_EE58_row_0', 'D_FXSP_row_0', 'D_FXSP_row_1', 'D_POLR_row_0', 'M_CPCH_row_0', 'M_CPCH_row_1', 'M_CPI_row_0', 'M_CPI_row_1', 'M_EE58_row_0', 'M_FXSP_row_0', 'M_FXSP_row_1', 'M_FXSP_row_2', 'M_FXSP_row_3', 'M_POLR_row_0', 'Q_FXSP_row_0', 'Q_FXSP_row_1', 'Q_FXSP_row_2', 'Q_FXSP_row_3']\n"
     ]
    },
    {
     "data": {
      "application/vnd.jupyter.widget-view+json": {
       "model_id": "814562f64a914414a377d5d962d5756a",
       "version_major": 2,
       "version_minor": 0
      },
      "text/plain": [
       "Generating train split: 0 examples [00:00, ? examples/s]"
      ]
     },
     "metadata": {},
     "output_type": "display_data"
    },
    {
     "data": {
      "application/vnd.jupyter.widget-view+json": {
       "model_id": "23e2497bb436467cbed320e7f28369eb",
       "version_major": 2,
       "version_minor": 0
      },
      "text/plain": [
       "Saving the dataset (0/1 shards):   0%|          | 0/1 [00:00<?, ? examples/s]"
      ]
     },
     "metadata": {},
     "output_type": "display_data"
    },
    {
     "name": "stdout",
     "output_type": "stream",
     "text": [
      "Dataset saved to ./dataset/train_val_split//ru_split_4\n",
      "1 {'start_time': '1984-01-01', 'end_time': '1994-12-31'}\n",
      "['A_CPCH_row_0', 'A_CPI_row_1', 'A_FXSP_row_0', 'A_FXSP_row_1', 'D_EE26_row_0', 'D_EE58_row_0', 'D_FXSP_row_0', 'D_FXSP_row_1', 'D_POLR_row_0', 'M_CPCH_row_0', 'M_CPI_row_0', 'M_CPI_row_4', 'M_CPI_row_6', 'M_EE26_row_0', 'M_EE58_row_0', 'M_FXSP_row_0', 'M_FXSP_row_1', 'M_FXSP_row_2', 'M_FXSP_row_3', 'M_POLR_row_0', 'Q_FXSP_row_0', 'Q_FXSP_row_1', 'Q_FXSP_row_2', 'Q_FXSP_row_3']\n"
     ]
    },
    {
     "data": {
      "application/vnd.jupyter.widget-view+json": {
       "model_id": "1b661334bfc44e14a5bf9a1d40ccd388",
       "version_major": 2,
       "version_minor": 0
      },
      "text/plain": [
       "Generating train split: 0 examples [00:00, ? examples/s]"
      ]
     },
     "metadata": {},
     "output_type": "display_data"
    },
    {
     "data": {
      "application/vnd.jupyter.widget-view+json": {
       "model_id": "e94061e1dcc149ec9bfd8ec60260af58",
       "version_major": 2,
       "version_minor": 0
      },
      "text/plain": [
       "Saving the dataset (0/1 shards):   0%|          | 0/1 [00:00<?, ? examples/s]"
      ]
     },
     "metadata": {},
     "output_type": "display_data"
    },
    {
     "name": "stdout",
     "output_type": "stream",
     "text": [
      "Dataset saved to ./dataset/train_val_split//dk_split_1\n",
      "2 {'start_time': '1996-01-01', 'end_time': '2004-12-31'}\n",
      "['A_CPCH_row_0', 'A_CPI_row_1', 'A_FXSP_row_0', 'A_FXSP_row_1', 'D_EE26_row_0', 'D_EE58_row_0', 'D_FXSP_row_0', 'D_FXSP_row_1', 'D_POLR_row_0', 'M_CPCH_row_0', 'M_CPI_row_0', 'M_CPI_row_4', 'M_CPI_row_6', 'M_EE26_row_0', 'M_EE58_row_0', 'M_FXSP_row_0', 'M_FXSP_row_1', 'M_FXSP_row_2', 'M_FXSP_row_3', 'M_POLR_row_0', 'Q_FXSP_row_0', 'Q_FXSP_row_1', 'Q_FXSP_row_2', 'Q_FXSP_row_3']\n"
     ]
    },
    {
     "data": {
      "application/vnd.jupyter.widget-view+json": {
       "model_id": "d08cdf70c3c84edbb2e742e1928c2fbb",
       "version_major": 2,
       "version_minor": 0
      },
      "text/plain": [
       "Generating train split: 0 examples [00:00, ? examples/s]"
      ]
     },
     "metadata": {},
     "output_type": "display_data"
    },
    {
     "data": {
      "application/vnd.jupyter.widget-view+json": {
       "model_id": "001d7ac33933458898676e29ef43475d",
       "version_major": 2,
       "version_minor": 0
      },
      "text/plain": [
       "Saving the dataset (0/1 shards):   0%|          | 0/1 [00:00<?, ? examples/s]"
      ]
     },
     "metadata": {},
     "output_type": "display_data"
    },
    {
     "name": "stdout",
     "output_type": "stream",
     "text": [
      "Dataset saved to ./dataset/train_val_split//dk_split_2\n",
      "3 {'start_time': '2006-01-01', 'end_time': '2014-12-31'}\n",
      "['A_CPCH_row_0', 'A_CPI_row_1', 'A_FXSP_row_0', 'A_FXSP_row_1', 'D_EE26_row_0', 'D_EE58_row_0', 'D_FXSP_row_0', 'D_FXSP_row_1', 'D_POLR_row_0', 'M_CPCH_row_0', 'M_CPI_row_0', 'M_CPI_row_4', 'M_CPI_row_6', 'M_EE26_row_0', 'M_EE58_row_0', 'M_FXSP_row_0', 'M_FXSP_row_1', 'M_FXSP_row_2', 'M_FXSP_row_3', 'M_POLR_row_0', 'Q_FXSP_row_0', 'Q_FXSP_row_1', 'Q_FXSP_row_2', 'Q_FXSP_row_3']\n"
     ]
    },
    {
     "data": {
      "application/vnd.jupyter.widget-view+json": {
       "model_id": "dfe4616ccb334fc894aa6a804745ec6f",
       "version_major": 2,
       "version_minor": 0
      },
      "text/plain": [
       "Generating train split: 0 examples [00:00, ? examples/s]"
      ]
     },
     "metadata": {},
     "output_type": "display_data"
    },
    {
     "data": {
      "application/vnd.jupyter.widget-view+json": {
       "model_id": "5780d17060764e50a53fc0a995479ef6",
       "version_major": 2,
       "version_minor": 0
      },
      "text/plain": [
       "Saving the dataset (0/1 shards):   0%|          | 0/1 [00:00<?, ? examples/s]"
      ]
     },
     "metadata": {},
     "output_type": "display_data"
    },
    {
     "name": "stdout",
     "output_type": "stream",
     "text": [
      "Dataset saved to ./dataset/train_val_split//dk_split_3\n",
      "4 {'start_time': '2016-01-01', 'end_time': '2022-12-31'}\n",
      "['A_CPCH_row_0', 'A_CPI_row_1', 'A_FXSP_row_0', 'A_FXSP_row_1', 'D_EE26_row_0', 'D_EE58_row_0', 'D_FXSP_row_0', 'D_FXSP_row_1', 'D_POLR_row_0', 'M_CPCH_row_0', 'M_CPI_row_0', 'M_CPI_row_4', 'M_CPI_row_6', 'M_EE26_row_0', 'M_EE58_row_0', 'M_FXSP_row_0', 'M_FXSP_row_1', 'M_FXSP_row_2', 'M_FXSP_row_3', 'M_POLR_row_0', 'Q_FXSP_row_0', 'Q_FXSP_row_1', 'Q_FXSP_row_2', 'Q_FXSP_row_3']\n"
     ]
    },
    {
     "data": {
      "application/vnd.jupyter.widget-view+json": {
       "model_id": "a4f98effa9934d5b915381bd15b9e294",
       "version_major": 2,
       "version_minor": 0
      },
      "text/plain": [
       "Generating train split: 0 examples [00:00, ? examples/s]"
      ]
     },
     "metadata": {},
     "output_type": "display_data"
    },
    {
     "data": {
      "application/vnd.jupyter.widget-view+json": {
       "model_id": "4f0fb9a28e1246c7b8dd84a043c31cbc",
       "version_major": 2,
       "version_minor": 0
      },
      "text/plain": [
       "Saving the dataset (0/1 shards):   0%|          | 0/1 [00:00<?, ? examples/s]"
      ]
     },
     "metadata": {},
     "output_type": "display_data"
    },
    {
     "name": "stdout",
     "output_type": "stream",
     "text": [
      "Dataset saved to ./dataset/train_val_split//dk_split_4\n",
      "1 {'start_time': '1984-01-01', 'end_time': '1994-12-31'}\n",
      "['A_CPCH_row_0', 'A_CPCH_row_1', 'A_CPI_row_0', 'A_FXSP_row_0', 'A_FXSP_row_1', 'A_GDPN_row_0', 'A_MNY1_row_0', 'A_MNY1_row_1', 'D_EE26_row_0', 'D_EE58_row_0', 'D_FXSP_row_0', 'D_POLR_row_0', 'M_CPCH_row_0', 'M_CPI_row_0', 'M_CPI_row_1', 'M_CPI_row_2', 'M_CPI_row_3', 'M_CPI_row_4', 'M_EE26_row_0', 'M_EE58_row_0', 'M_FXSP_row_0', 'M_FXSP_row_1', 'M_POLR_row_0', 'Q_FXSP_row_0', 'Q_FXSP_row_1']\n"
     ]
    },
    {
     "data": {
      "application/vnd.jupyter.widget-view+json": {
       "model_id": "bacacce391774624804bbd571a9d708b",
       "version_major": 2,
       "version_minor": 0
      },
      "text/plain": [
       "Generating train split: 0 examples [00:00, ? examples/s]"
      ]
     },
     "metadata": {},
     "output_type": "display_data"
    },
    {
     "data": {
      "application/vnd.jupyter.widget-view+json": {
       "model_id": "7dbaaab212f14af3a015ce800ca0a156",
       "version_major": 2,
       "version_minor": 0
      },
      "text/plain": [
       "Saving the dataset (0/1 shards):   0%|          | 0/1 [00:00<?, ? examples/s]"
      ]
     },
     "metadata": {},
     "output_type": "display_data"
    },
    {
     "name": "stdout",
     "output_type": "stream",
     "text": [
      "Dataset saved to ./dataset/train_val_split//us_split_1\n",
      "2 {'start_time': '1996-01-01', 'end_time': '2004-12-31'}\n",
      "['A_CPCH_row_0', 'A_CPCH_row_1', 'A_CPI_row_0', 'A_FXSP_row_0', 'A_FXSP_row_1', 'A_GDPN_row_0', 'A_MNY1_row_0', 'A_MNY1_row_1', 'D_EE26_row_0', 'D_EE58_row_0', 'D_FXSP_row_0', 'D_POLR_row_0', 'M_CPCH_row_0', 'M_CPI_row_0', 'M_CPI_row_1', 'M_CPI_row_2', 'M_CPI_row_3', 'M_CPI_row_4', 'M_EE26_row_0', 'M_EE58_row_0', 'M_FXSP_row_0', 'M_FXSP_row_1', 'M_POLR_row_0', 'Q_FXSP_row_0', 'Q_FXSP_row_1']\n"
     ]
    },
    {
     "data": {
      "application/vnd.jupyter.widget-view+json": {
       "model_id": "13c8e48f6f78446b83e7ec5c0bf54574",
       "version_major": 2,
       "version_minor": 0
      },
      "text/plain": [
       "Generating train split: 0 examples [00:00, ? examples/s]"
      ]
     },
     "metadata": {},
     "output_type": "display_data"
    },
    {
     "data": {
      "application/vnd.jupyter.widget-view+json": {
       "model_id": "c2112d3e04f8417982503c530e456ec3",
       "version_major": 2,
       "version_minor": 0
      },
      "text/plain": [
       "Saving the dataset (0/1 shards):   0%|          | 0/1 [00:00<?, ? examples/s]"
      ]
     },
     "metadata": {},
     "output_type": "display_data"
    },
    {
     "name": "stdout",
     "output_type": "stream",
     "text": [
      "Dataset saved to ./dataset/train_val_split//us_split_2\n",
      "3 {'start_time': '2006-01-01', 'end_time': '2014-12-31'}\n",
      "['A_CPCH_row_0', 'A_CPCH_row_1', 'A_CPI_row_0', 'A_FXSP_row_0', 'A_FXSP_row_1', 'A_GDPN_row_0', 'A_MNY1_row_0', 'A_MNY1_row_1', 'D_EE26_row_0', 'D_EE58_row_0', 'D_FXSP_row_0', 'D_POLR_row_0', 'M_CPCH_row_0', 'M_CPI_row_0', 'M_CPI_row_1', 'M_CPI_row_2', 'M_CPI_row_3', 'M_CPI_row_4', 'M_EE26_row_0', 'M_EE58_row_0', 'M_FXSP_row_0', 'M_FXSP_row_1', 'M_POLR_row_0', 'Q_FXSP_row_0', 'Q_FXSP_row_1']\n"
     ]
    },
    {
     "data": {
      "application/vnd.jupyter.widget-view+json": {
       "model_id": "0f1ece91df0c493eb6462f41b86d4abb",
       "version_major": 2,
       "version_minor": 0
      },
      "text/plain": [
       "Generating train split: 0 examples [00:00, ? examples/s]"
      ]
     },
     "metadata": {},
     "output_type": "display_data"
    },
    {
     "data": {
      "application/vnd.jupyter.widget-view+json": {
       "model_id": "80b0b23b76b041dd905447beba2c42a2",
       "version_major": 2,
       "version_minor": 0
      },
      "text/plain": [
       "Saving the dataset (0/1 shards):   0%|          | 0/1 [00:00<?, ? examples/s]"
      ]
     },
     "metadata": {},
     "output_type": "display_data"
    },
    {
     "name": "stdout",
     "output_type": "stream",
     "text": [
      "Dataset saved to ./dataset/train_val_split//us_split_3\n",
      "4 {'start_time': '2016-01-01', 'end_time': '2022-12-31'}\n",
      "['A_CPCH_row_0', 'A_CPCH_row_1', 'A_CPI_row_0', 'A_FXSP_row_0', 'A_FXSP_row_1', 'A_GDPN_row_0', 'A_MNY1_row_0', 'A_MNY1_row_1', 'D_EE26_row_0', 'D_EE58_row_0', 'D_FXSP_row_0', 'D_POLR_row_0', 'M_CPCH_row_0', 'M_CPI_row_0', 'M_CPI_row_1', 'M_CPI_row_2', 'M_CPI_row_3', 'M_CPI_row_4', 'M_EE26_row_0', 'M_EE58_row_0', 'M_FXSP_row_0', 'M_FXSP_row_1', 'M_POLR_row_0', 'Q_FXSP_row_0', 'Q_FXSP_row_1']\n"
     ]
    },
    {
     "data": {
      "application/vnd.jupyter.widget-view+json": {
       "model_id": "1148ae1aff9f4591b3917f66d8463f98",
       "version_major": 2,
       "version_minor": 0
      },
      "text/plain": [
       "Generating train split: 0 examples [00:00, ? examples/s]"
      ]
     },
     "metadata": {},
     "output_type": "display_data"
    },
    {
     "data": {
      "application/vnd.jupyter.widget-view+json": {
       "model_id": "66dcd18d609741d7a71a10e0a6bbd80b",
       "version_major": 2,
       "version_minor": 0
      },
      "text/plain": [
       "Saving the dataset (0/1 shards):   0%|          | 0/1 [00:00<?, ? examples/s]"
      ]
     },
     "metadata": {},
     "output_type": "display_data"
    },
    {
     "name": "stdout",
     "output_type": "stream",
     "text": [
      "Dataset saved to ./dataset/train_val_split//us_split_4\n",
      "1 {'start_time': '1984-01-01', 'end_time': '1994-12-31'}\n",
      "['A_CPCH_row_0', 'A_CPI_row_0', 'A_FXSP_row_0', 'A_FXSP_row_1', 'A_GDPN_row_3', 'D_EE26_row_0', 'D_EE58_row_0', 'D_FXSP_row_0', 'D_FXSP_row_1', 'M_CPCH_row_0', 'M_CPI_row_0', 'M_CPI_row_1', 'M_EE26_row_0', 'M_EE58_row_0', 'M_FXSP_row_0', 'M_FXSP_row_1', 'M_FXSP_row_2', 'M_FXSP_row_3', 'Q_FXSP_row_0', 'Q_FXSP_row_1', 'Q_FXSP_row_2', 'Q_FXSP_row_3']\n"
     ]
    },
    {
     "data": {
      "application/vnd.jupyter.widget-view+json": {
       "model_id": "660d621eb27148fbbbc88343dfbf2ff7",
       "version_major": 2,
       "version_minor": 0
      },
      "text/plain": [
       "Generating train split: 0 examples [00:00, ? examples/s]"
      ]
     },
     "metadata": {},
     "output_type": "display_data"
    },
    {
     "data": {
      "application/vnd.jupyter.widget-view+json": {
       "model_id": "84bb745e4714476e81bfeac426a123b1",
       "version_major": 2,
       "version_minor": 0
      },
      "text/plain": [
       "Saving the dataset (0/1 shards):   0%|          | 0/1 [00:00<?, ? examples/s]"
      ]
     },
     "metadata": {},
     "output_type": "display_data"
    },
    {
     "name": "stdout",
     "output_type": "stream",
     "text": [
      "Dataset saved to ./dataset/train_val_split//gr_split_1\n",
      "2 {'start_time': '1996-01-01', 'end_time': '2004-12-31'}\n",
      "['A_CPCH_row_0', 'A_CPI_row_0', 'A_FXSP_row_0', 'A_FXSP_row_1', 'A_GDPN_row_3', 'D_EE26_row_0', 'D_EE58_row_0', 'D_FXSP_row_0', 'D_FXSP_row_1', 'M_CPCH_row_0', 'M_CPI_row_0', 'M_CPI_row_1', 'M_EE26_row_0', 'M_EE58_row_0', 'M_FXSP_row_0', 'M_FXSP_row_1', 'M_FXSP_row_2', 'M_FXSP_row_3', 'Q_FXSP_row_0', 'Q_FXSP_row_1', 'Q_FXSP_row_2', 'Q_FXSP_row_3']\n"
     ]
    },
    {
     "data": {
      "application/vnd.jupyter.widget-view+json": {
       "model_id": "00cef91903e94a3985cf9adce9e89ec5",
       "version_major": 2,
       "version_minor": 0
      },
      "text/plain": [
       "Generating train split: 0 examples [00:00, ? examples/s]"
      ]
     },
     "metadata": {},
     "output_type": "display_data"
    },
    {
     "data": {
      "application/vnd.jupyter.widget-view+json": {
       "model_id": "56020185ecf749b4b6b877b68f90867d",
       "version_major": 2,
       "version_minor": 0
      },
      "text/plain": [
       "Saving the dataset (0/1 shards):   0%|          | 0/1 [00:00<?, ? examples/s]"
      ]
     },
     "metadata": {},
     "output_type": "display_data"
    },
    {
     "name": "stdout",
     "output_type": "stream",
     "text": [
      "Dataset saved to ./dataset/train_val_split//gr_split_2\n",
      "3 {'start_time': '2006-01-01', 'end_time': '2014-12-31'}\n",
      "['A_CPCH_row_0', 'A_CPI_row_0', 'A_FXSP_row_0', 'A_FXSP_row_1', 'A_GDPN_row_3', 'D_EE26_row_0', 'D_EE58_row_0', 'D_FXSP_row_0', 'D_FXSP_row_1', 'M_CPCH_row_0', 'M_CPI_row_0', 'M_CPI_row_1', 'M_EE26_row_0', 'M_EE58_row_0', 'M_FXSP_row_0', 'M_FXSP_row_1', 'M_FXSP_row_2', 'M_FXSP_row_3', 'Q_FXSP_row_0', 'Q_FXSP_row_1', 'Q_FXSP_row_2', 'Q_FXSP_row_3']\n"
     ]
    },
    {
     "data": {
      "application/vnd.jupyter.widget-view+json": {
       "model_id": "7d01ca2f85b24bc2b83305f6e7049156",
       "version_major": 2,
       "version_minor": 0
      },
      "text/plain": [
       "Generating train split: 0 examples [00:00, ? examples/s]"
      ]
     },
     "metadata": {},
     "output_type": "display_data"
    },
    {
     "data": {
      "application/vnd.jupyter.widget-view+json": {
       "model_id": "219547cffe67447a9174dbb9b6785213",
       "version_major": 2,
       "version_minor": 0
      },
      "text/plain": [
       "Saving the dataset (0/1 shards):   0%|          | 0/1 [00:00<?, ? examples/s]"
      ]
     },
     "metadata": {},
     "output_type": "display_data"
    },
    {
     "name": "stdout",
     "output_type": "stream",
     "text": [
      "Dataset saved to ./dataset/train_val_split//gr_split_3\n",
      "4 {'start_time': '2016-01-01', 'end_time': '2022-12-31'}\n",
      "['A_CPCH_row_0', 'A_CPI_row_0', 'A_FXSP_row_0', 'A_FXSP_row_1', 'A_GDPN_row_3', 'D_EE26_row_0', 'D_EE58_row_0', 'D_FXSP_row_0', 'D_FXSP_row_1', 'M_CPCH_row_0', 'M_CPI_row_0', 'M_CPI_row_1', 'M_EE26_row_0', 'M_EE58_row_0', 'M_FXSP_row_0', 'M_FXSP_row_1', 'M_FXSP_row_2', 'M_FXSP_row_3', 'Q_FXSP_row_0', 'Q_FXSP_row_1', 'Q_FXSP_row_2', 'Q_FXSP_row_3']\n"
     ]
    },
    {
     "data": {
      "application/vnd.jupyter.widget-view+json": {
       "model_id": "2c89f40e753b4027bd5c9372db0cfc7b",
       "version_major": 2,
       "version_minor": 0
      },
      "text/plain": [
       "Generating train split: 0 examples [00:00, ? examples/s]"
      ]
     },
     "metadata": {},
     "output_type": "display_data"
    },
    {
     "data": {
      "application/vnd.jupyter.widget-view+json": {
       "model_id": "bcf6342439964f9ca669107dbf145a26",
       "version_major": 2,
       "version_minor": 0
      },
      "text/plain": [
       "Saving the dataset (0/1 shards):   0%|          | 0/1 [00:00<?, ? examples/s]"
      ]
     },
     "metadata": {},
     "output_type": "display_data"
    },
    {
     "name": "stdout",
     "output_type": "stream",
     "text": [
      "Dataset saved to ./dataset/train_val_split//gr_split_4\n",
      "1 {'start_time': '1984-01-01', 'end_time': '1994-12-31'}\n",
      "['A_CPCH_row_0', 'A_CPI_row_3', 'A_FXSP_row_0', 'A_FXSP_row_1', 'A_GDPN_row_0', 'A_GDPN_row_1', 'A_MNY1_row_0', 'A_MNY1_row_1', 'D_EE58_row_0', 'D_FXSP_row_0', 'D_FXSP_row_1', 'D_POLR_row_0', 'M_CPCH_row_0', 'M_CPI_row_0', 'M_CPI_row_1', 'M_EE58_row_0', 'M_FXSP_row_0', 'M_FXSP_row_1', 'M_FXSP_row_2', 'M_FXSP_row_3', 'M_POLR_row_0', 'Q_FXSP_row_0', 'Q_FXSP_row_1', 'Q_FXSP_row_2']\n"
     ]
    },
    {
     "data": {
      "application/vnd.jupyter.widget-view+json": {
       "model_id": "8cdaccb641c147f2a60714b1dc3e148b",
       "version_major": 2,
       "version_minor": 0
      },
      "text/plain": [
       "Generating train split: 0 examples [00:00, ? examples/s]"
      ]
     },
     "metadata": {},
     "output_type": "display_data"
    },
    {
     "data": {
      "application/vnd.jupyter.widget-view+json": {
       "model_id": "9b6a9d937f4644aa98d65acb92696885",
       "version_major": 2,
       "version_minor": 0
      },
      "text/plain": [
       "Saving the dataset (0/1 shards):   0%|          | 0/1 [00:00<?, ? examples/s]"
      ]
     },
     "metadata": {},
     "output_type": "display_data"
    },
    {
     "name": "stdout",
     "output_type": "stream",
     "text": [
      "Dataset saved to ./dataset/train_val_split//mx_split_1\n",
      "2 {'start_time': '1996-01-01', 'end_time': '2004-12-31'}\n",
      "['A_CPCH_row_0', 'A_CPI_row_3', 'A_FXSP_row_0', 'A_FXSP_row_1', 'A_GDPN_row_0', 'A_GDPN_row_1', 'A_MNY1_row_0', 'A_MNY1_row_1', 'D_EE58_row_0', 'D_FXSP_row_0', 'D_FXSP_row_1', 'D_POLR_row_0', 'M_CPCH_row_0', 'M_CPI_row_0', 'M_CPI_row_1', 'M_EE58_row_0', 'M_FXSP_row_0', 'M_FXSP_row_1', 'M_FXSP_row_2', 'M_FXSP_row_3', 'M_POLR_row_0', 'Q_FXSP_row_0', 'Q_FXSP_row_1', 'Q_FXSP_row_2']\n"
     ]
    },
    {
     "data": {
      "application/vnd.jupyter.widget-view+json": {
       "model_id": "3811bcf130f44d04a34d71dca79216da",
       "version_major": 2,
       "version_minor": 0
      },
      "text/plain": [
       "Generating train split: 0 examples [00:00, ? examples/s]"
      ]
     },
     "metadata": {},
     "output_type": "display_data"
    },
    {
     "data": {
      "application/vnd.jupyter.widget-view+json": {
       "model_id": "7de2ab0f5a504a90bf1e00d8dafb9c3d",
       "version_major": 2,
       "version_minor": 0
      },
      "text/plain": [
       "Saving the dataset (0/1 shards):   0%|          | 0/1 [00:00<?, ? examples/s]"
      ]
     },
     "metadata": {},
     "output_type": "display_data"
    },
    {
     "name": "stdout",
     "output_type": "stream",
     "text": [
      "Dataset saved to ./dataset/train_val_split//mx_split_2\n",
      "3 {'start_time': '2006-01-01', 'end_time': '2014-12-31'}\n",
      "['A_CPCH_row_0', 'A_CPI_row_3', 'A_FXSP_row_0', 'A_FXSP_row_1', 'A_GDPN_row_0', 'A_GDPN_row_1', 'A_MNY1_row_0', 'A_MNY1_row_1', 'D_EE58_row_0', 'D_FXSP_row_0', 'D_FXSP_row_1', 'D_POLR_row_0', 'M_CPCH_row_0', 'M_CPI_row_0', 'M_CPI_row_1', 'M_EE58_row_0', 'M_FXSP_row_0', 'M_FXSP_row_1', 'M_FXSP_row_2', 'M_FXSP_row_3', 'M_POLR_row_0', 'Q_FXSP_row_0', 'Q_FXSP_row_1', 'Q_FXSP_row_2']\n"
     ]
    },
    {
     "data": {
      "application/vnd.jupyter.widget-view+json": {
       "model_id": "9b52a81d732a4dbf90e166cdb6e4db83",
       "version_major": 2,
       "version_minor": 0
      },
      "text/plain": [
       "Generating train split: 0 examples [00:00, ? examples/s]"
      ]
     },
     "metadata": {},
     "output_type": "display_data"
    },
    {
     "data": {
      "application/vnd.jupyter.widget-view+json": {
       "model_id": "58ae4dd7237f4895854ac54f8a96cdab",
       "version_major": 2,
       "version_minor": 0
      },
      "text/plain": [
       "Saving the dataset (0/1 shards):   0%|          | 0/1 [00:00<?, ? examples/s]"
      ]
     },
     "metadata": {},
     "output_type": "display_data"
    },
    {
     "name": "stdout",
     "output_type": "stream",
     "text": [
      "Dataset saved to ./dataset/train_val_split//mx_split_3\n",
      "4 {'start_time': '2016-01-01', 'end_time': '2022-12-31'}\n",
      "['A_CPCH_row_0', 'A_CPI_row_3', 'A_FXSP_row_0', 'A_FXSP_row_1', 'A_GDPN_row_0', 'A_GDPN_row_1', 'A_MNY1_row_0', 'A_MNY1_row_1', 'D_EE58_row_0', 'D_FXSP_row_0', 'D_FXSP_row_1', 'D_POLR_row_0', 'M_CPCH_row_0', 'M_CPI_row_0', 'M_CPI_row_1', 'M_EE58_row_0', 'M_FXSP_row_0', 'M_FXSP_row_1', 'M_FXSP_row_2', 'M_FXSP_row_3', 'M_POLR_row_0', 'Q_FXSP_row_0', 'Q_FXSP_row_1', 'Q_FXSP_row_2']\n"
     ]
    },
    {
     "data": {
      "application/vnd.jupyter.widget-view+json": {
       "model_id": "6d68b4bd631e4b0c8d8668e170875d02",
       "version_major": 2,
       "version_minor": 0
      },
      "text/plain": [
       "Generating train split: 0 examples [00:00, ? examples/s]"
      ]
     },
     "metadata": {},
     "output_type": "display_data"
    },
    {
     "data": {
      "application/vnd.jupyter.widget-view+json": {
       "model_id": "3997de9d0cf34e5d803326ada6b76873",
       "version_major": 2,
       "version_minor": 0
      },
      "text/plain": [
       "Saving the dataset (0/1 shards):   0%|          | 0/1 [00:00<?, ? examples/s]"
      ]
     },
     "metadata": {},
     "output_type": "display_data"
    },
    {
     "name": "stdout",
     "output_type": "stream",
     "text": [
      "Dataset saved to ./dataset/train_val_split//mx_split_4\n",
      "1 {'start_time': '1984-01-01', 'end_time': '1994-12-31'}\n",
      "['A_CPCH_row_0', 'A_CPI_row_0', 'A_FXSP_row_0', 'A_FXSP_row_1', 'D_EE58_row_0', 'D_FXSP_row_0', 'D_POLR_row_0', 'M_CPCH_row_0', 'M_CPI_row_0', 'M_CPI_row_1', 'M_EE58_row_0', 'M_FXSP_row_0', 'M_FXSP_row_1', 'M_POLR_row_0', 'Q_FXSP_row_0', 'Q_FXSP_row_1']\n"
     ]
    },
    {
     "data": {
      "application/vnd.jupyter.widget-view+json": {
       "model_id": "288fd7c6969f4900ac12c7078cf3f91c",
       "version_major": 2,
       "version_minor": 0
      },
      "text/plain": [
       "Generating train split: 0 examples [00:00, ? examples/s]"
      ]
     },
     "metadata": {},
     "output_type": "display_data"
    },
    {
     "data": {
      "application/vnd.jupyter.widget-view+json": {
       "model_id": "05dfbc3247ef4fdc965c64f4f8326364",
       "version_major": 2,
       "version_minor": 0
      },
      "text/plain": [
       "Saving the dataset (0/1 shards):   0%|          | 0/1 [00:00<?, ? examples/s]"
      ]
     },
     "metadata": {},
     "output_type": "display_data"
    },
    {
     "name": "stdout",
     "output_type": "stream",
     "text": [
      "Dataset saved to ./dataset/train_val_split//ma_split_1\n",
      "2 {'start_time': '1996-01-01', 'end_time': '2004-12-31'}\n",
      "['A_CPCH_row_0', 'A_CPI_row_0', 'A_FXSP_row_0', 'A_FXSP_row_1', 'D_EE58_row_0', 'D_FXSP_row_0', 'D_POLR_row_0', 'M_CPCH_row_0', 'M_CPI_row_0', 'M_CPI_row_1', 'M_EE58_row_0', 'M_FXSP_row_0', 'M_FXSP_row_1', 'M_POLR_row_0', 'Q_FXSP_row_0', 'Q_FXSP_row_1']\n"
     ]
    },
    {
     "data": {
      "application/vnd.jupyter.widget-view+json": {
       "model_id": "d75e45499f7040e68a1d18077bb254ba",
       "version_major": 2,
       "version_minor": 0
      },
      "text/plain": [
       "Generating train split: 0 examples [00:00, ? examples/s]"
      ]
     },
     "metadata": {},
     "output_type": "display_data"
    },
    {
     "data": {
      "application/vnd.jupyter.widget-view+json": {
       "model_id": "a91045b67e8e44caabccd91256e59c47",
       "version_major": 2,
       "version_minor": 0
      },
      "text/plain": [
       "Saving the dataset (0/1 shards):   0%|          | 0/1 [00:00<?, ? examples/s]"
      ]
     },
     "metadata": {},
     "output_type": "display_data"
    },
    {
     "name": "stdout",
     "output_type": "stream",
     "text": [
      "Dataset saved to ./dataset/train_val_split//ma_split_2\n",
      "3 {'start_time': '2006-01-01', 'end_time': '2014-12-31'}\n",
      "['A_CPCH_row_0', 'A_CPI_row_0', 'A_FXSP_row_0', 'A_FXSP_row_1', 'D_EE58_row_0', 'D_FXSP_row_0', 'D_POLR_row_0', 'M_CPCH_row_0', 'M_CPI_row_0', 'M_CPI_row_1', 'M_EE58_row_0', 'M_FXSP_row_0', 'M_FXSP_row_1', 'M_POLR_row_0', 'Q_FXSP_row_0', 'Q_FXSP_row_1']\n"
     ]
    },
    {
     "data": {
      "application/vnd.jupyter.widget-view+json": {
       "model_id": "d18f5eec452f45759f30372cfcd139c8",
       "version_major": 2,
       "version_minor": 0
      },
      "text/plain": [
       "Generating train split: 0 examples [00:00, ? examples/s]"
      ]
     },
     "metadata": {},
     "output_type": "display_data"
    },
    {
     "data": {
      "application/vnd.jupyter.widget-view+json": {
       "model_id": "1a09fc01f1d249bf95c7c06f47943354",
       "version_major": 2,
       "version_minor": 0
      },
      "text/plain": [
       "Saving the dataset (0/1 shards):   0%|          | 0/1 [00:00<?, ? examples/s]"
      ]
     },
     "metadata": {},
     "output_type": "display_data"
    },
    {
     "name": "stdout",
     "output_type": "stream",
     "text": [
      "Dataset saved to ./dataset/train_val_split//ma_split_3\n",
      "4 {'start_time': '2016-01-01', 'end_time': '2022-12-31'}\n",
      "['A_CPCH_row_0', 'A_CPI_row_0', 'A_FXSP_row_0', 'A_FXSP_row_1', 'D_EE58_row_0', 'D_FXSP_row_0', 'D_POLR_row_0', 'M_CPCH_row_0', 'M_CPI_row_0', 'M_CPI_row_1', 'M_EE58_row_0', 'M_FXSP_row_0', 'M_FXSP_row_1', 'M_POLR_row_0', 'Q_FXSP_row_0', 'Q_FXSP_row_1']\n"
     ]
    },
    {
     "data": {
      "application/vnd.jupyter.widget-view+json": {
       "model_id": "35d713db1a8c4b599bb016576f8be681",
       "version_major": 2,
       "version_minor": 0
      },
      "text/plain": [
       "Generating train split: 0 examples [00:00, ? examples/s]"
      ]
     },
     "metadata": {},
     "output_type": "display_data"
    },
    {
     "data": {
      "application/vnd.jupyter.widget-view+json": {
       "model_id": "087937d99a0e466bb897c93fe648abfd",
       "version_major": 2,
       "version_minor": 0
      },
      "text/plain": [
       "Saving the dataset (0/1 shards):   0%|          | 0/1 [00:00<?, ? examples/s]"
      ]
     },
     "metadata": {},
     "output_type": "display_data"
    },
    {
     "name": "stdout",
     "output_type": "stream",
     "text": [
      "Dataset saved to ./dataset/train_val_split//ma_split_4\n",
      "1 {'start_time': '1984-01-01', 'end_time': '1994-12-31'}\n",
      "['A_CPCH_row_0', 'A_CPI_row_0', 'A_FXSP_row_0', 'A_FXSP_row_1', 'A_GDPN_row_1', 'D_EE58_row_0', 'D_FXSP_row_0', 'D_FXSP_row_1', 'D_POLR_row_0', 'M_CPCH_row_0', 'M_CPI_row_0', 'M_CPI_row_1', 'M_EE58_row_0', 'M_FXSP_row_0', 'M_FXSP_row_1', 'M_FXSP_row_2', 'M_FXSP_row_3', 'M_POLR_row_0', 'Q_FXSP_row_0', 'Q_FXSP_row_1', 'Q_FXSP_row_2', 'Q_FXSP_row_3']\n"
     ]
    },
    {
     "data": {
      "application/vnd.jupyter.widget-view+json": {
       "model_id": "60e432bac3064c62ae0eaed277f05e56",
       "version_major": 2,
       "version_minor": 0
      },
      "text/plain": [
       "Generating train split: 0 examples [00:00, ? examples/s]"
      ]
     },
     "metadata": {},
     "output_type": "display_data"
    },
    {
     "data": {
      "application/vnd.jupyter.widget-view+json": {
       "model_id": "fcba7252ee934f7b92387045d343e7af",
       "version_major": 2,
       "version_minor": 0
      },
      "text/plain": [
       "Saving the dataset (0/1 shards):   0%|          | 0/1 [00:00<?, ? examples/s]"
      ]
     },
     "metadata": {},
     "output_type": "display_data"
    },
    {
     "name": "stdout",
     "output_type": "stream",
     "text": [
      "Dataset saved to ./dataset/train_val_split//th_split_1\n",
      "2 {'start_time': '1996-01-01', 'end_time': '2004-12-31'}\n",
      "['A_CPCH_row_0', 'A_CPI_row_0', 'A_FXSP_row_0', 'A_FXSP_row_1', 'A_GDPN_row_1', 'D_EE58_row_0', 'D_FXSP_row_0', 'D_FXSP_row_1', 'D_POLR_row_0', 'M_CPCH_row_0', 'M_CPI_row_0', 'M_CPI_row_1', 'M_EE58_row_0', 'M_FXSP_row_0', 'M_FXSP_row_1', 'M_FXSP_row_2', 'M_FXSP_row_3', 'M_POLR_row_0', 'Q_FXSP_row_0', 'Q_FXSP_row_1', 'Q_FXSP_row_2', 'Q_FXSP_row_3']\n"
     ]
    },
    {
     "data": {
      "application/vnd.jupyter.widget-view+json": {
       "model_id": "39b9bf10b5194078b53a5b39d42feaf4",
       "version_major": 2,
       "version_minor": 0
      },
      "text/plain": [
       "Generating train split: 0 examples [00:00, ? examples/s]"
      ]
     },
     "metadata": {},
     "output_type": "display_data"
    },
    {
     "data": {
      "application/vnd.jupyter.widget-view+json": {
       "model_id": "ed28803610ad4ee2b6487ccfb2cbe193",
       "version_major": 2,
       "version_minor": 0
      },
      "text/plain": [
       "Saving the dataset (0/1 shards):   0%|          | 0/1 [00:00<?, ? examples/s]"
      ]
     },
     "metadata": {},
     "output_type": "display_data"
    },
    {
     "name": "stdout",
     "output_type": "stream",
     "text": [
      "Dataset saved to ./dataset/train_val_split//th_split_2\n",
      "3 {'start_time': '2006-01-01', 'end_time': '2014-12-31'}\n",
      "['A_CPCH_row_0', 'A_CPI_row_0', 'A_FXSP_row_0', 'A_FXSP_row_1', 'A_GDPN_row_1', 'D_EE58_row_0', 'D_FXSP_row_0', 'D_FXSP_row_1', 'D_POLR_row_0', 'M_CPCH_row_0', 'M_CPI_row_0', 'M_CPI_row_1', 'M_EE58_row_0', 'M_FXSP_row_0', 'M_FXSP_row_1', 'M_FXSP_row_2', 'M_FXSP_row_3', 'M_POLR_row_0', 'Q_FXSP_row_0', 'Q_FXSP_row_1', 'Q_FXSP_row_2', 'Q_FXSP_row_3']\n"
     ]
    },
    {
     "data": {
      "application/vnd.jupyter.widget-view+json": {
       "model_id": "7bfc82d249ef414c89c0bd5853898e5e",
       "version_major": 2,
       "version_minor": 0
      },
      "text/plain": [
       "Generating train split: 0 examples [00:00, ? examples/s]"
      ]
     },
     "metadata": {},
     "output_type": "display_data"
    },
    {
     "data": {
      "application/vnd.jupyter.widget-view+json": {
       "model_id": "8d5771b9f4974aad85f348a0166cf7c7",
       "version_major": 2,
       "version_minor": 0
      },
      "text/plain": [
       "Saving the dataset (0/1 shards):   0%|          | 0/1 [00:00<?, ? examples/s]"
      ]
     },
     "metadata": {},
     "output_type": "display_data"
    },
    {
     "name": "stdout",
     "output_type": "stream",
     "text": [
      "Dataset saved to ./dataset/train_val_split//th_split_3\n",
      "4 {'start_time': '2016-01-01', 'end_time': '2022-12-31'}\n",
      "['A_CPCH_row_0', 'A_CPI_row_0', 'A_FXSP_row_0', 'A_FXSP_row_1', 'A_GDPN_row_1', 'D_EE58_row_0', 'D_FXSP_row_0', 'D_FXSP_row_1', 'D_POLR_row_0', 'M_CPCH_row_0', 'M_CPI_row_0', 'M_CPI_row_1', 'M_EE58_row_0', 'M_FXSP_row_0', 'M_FXSP_row_1', 'M_FXSP_row_2', 'M_FXSP_row_3', 'M_POLR_row_0', 'Q_FXSP_row_0', 'Q_FXSP_row_1', 'Q_FXSP_row_2', 'Q_FXSP_row_3']\n"
     ]
    },
    {
     "data": {
      "application/vnd.jupyter.widget-view+json": {
       "model_id": "7ffe9a57a4524221957510b523ed7107",
       "version_major": 2,
       "version_minor": 0
      },
      "text/plain": [
       "Generating train split: 0 examples [00:00, ? examples/s]"
      ]
     },
     "metadata": {},
     "output_type": "display_data"
    },
    {
     "data": {
      "application/vnd.jupyter.widget-view+json": {
       "model_id": "99d279b301f944d38594d3074f9bde7b",
       "version_major": 2,
       "version_minor": 0
      },
      "text/plain": [
       "Saving the dataset (0/1 shards):   0%|          | 0/1 [00:00<?, ? examples/s]"
      ]
     },
     "metadata": {},
     "output_type": "display_data"
    },
    {
     "name": "stdout",
     "output_type": "stream",
     "text": [
      "Dataset saved to ./dataset/train_val_split//th_split_4\n",
      "1 {'start_time': '1984-01-01', 'end_time': '1994-12-31'}\n",
      "['A_CPCH_row_0', 'A_CPI_row_0', 'A_FXSP_row_0', 'A_FXSP_row_1', 'D_EE58_row_0', 'D_FXSP_row_0', 'D_POLR_row_0', 'M_CPCH_row_0', 'M_CPI_row_1', 'M_CPI_row_5', 'M_CPI_row_6', 'M_EE58_row_0', 'M_FXSP_row_0', 'M_FXSP_row_1', 'M_POLR_row_0', 'Q_FXSP_row_0', 'Q_FXSP_row_1']\n"
     ]
    },
    {
     "data": {
      "application/vnd.jupyter.widget-view+json": {
       "model_id": "1e6ac323afbd4e83b7cf538ee869d939",
       "version_major": 2,
       "version_minor": 0
      },
      "text/plain": [
       "Generating train split: 0 examples [00:00, ? examples/s]"
      ]
     },
     "metadata": {},
     "output_type": "display_data"
    },
    {
     "data": {
      "application/vnd.jupyter.widget-view+json": {
       "model_id": "708f9dbc2bf544d797cdb22ce2b59364",
       "version_major": 2,
       "version_minor": 0
      },
      "text/plain": [
       "Saving the dataset (0/1 shards):   0%|          | 0/1 [00:00<?, ? examples/s]"
      ]
     },
     "metadata": {},
     "output_type": "display_data"
    },
    {
     "name": "stdout",
     "output_type": "stream",
     "text": [
      "Dataset saved to ./dataset/train_val_split//cl_split_1\n",
      "2 {'start_time': '1996-01-01', 'end_time': '2004-12-31'}\n",
      "['A_CPCH_row_0', 'A_CPI_row_0', 'A_FXSP_row_0', 'A_FXSP_row_1', 'D_EE58_row_0', 'D_FXSP_row_0', 'D_POLR_row_0', 'M_CPCH_row_0', 'M_CPI_row_1', 'M_CPI_row_5', 'M_CPI_row_6', 'M_EE58_row_0', 'M_FXSP_row_0', 'M_FXSP_row_1', 'M_POLR_row_0', 'Q_FXSP_row_0', 'Q_FXSP_row_1']\n"
     ]
    },
    {
     "data": {
      "application/vnd.jupyter.widget-view+json": {
       "model_id": "8b1a991c7b994e05a38c441f32fe8d4b",
       "version_major": 2,
       "version_minor": 0
      },
      "text/plain": [
       "Generating train split: 0 examples [00:00, ? examples/s]"
      ]
     },
     "metadata": {},
     "output_type": "display_data"
    },
    {
     "data": {
      "application/vnd.jupyter.widget-view+json": {
       "model_id": "c466cc4cf1624574b0d370f584bf8feb",
       "version_major": 2,
       "version_minor": 0
      },
      "text/plain": [
       "Saving the dataset (0/1 shards):   0%|          | 0/1 [00:00<?, ? examples/s]"
      ]
     },
     "metadata": {},
     "output_type": "display_data"
    },
    {
     "name": "stdout",
     "output_type": "stream",
     "text": [
      "Dataset saved to ./dataset/train_val_split//cl_split_2\n",
      "3 {'start_time': '2006-01-01', 'end_time': '2014-12-31'}\n",
      "['A_CPCH_row_0', 'A_CPI_row_0', 'A_FXSP_row_0', 'A_FXSP_row_1', 'D_EE58_row_0', 'D_FXSP_row_0', 'D_POLR_row_0', 'M_CPCH_row_0', 'M_CPI_row_1', 'M_CPI_row_5', 'M_CPI_row_6', 'M_EE58_row_0', 'M_FXSP_row_0', 'M_FXSP_row_1', 'M_POLR_row_0', 'Q_FXSP_row_0', 'Q_FXSP_row_1']\n"
     ]
    },
    {
     "data": {
      "application/vnd.jupyter.widget-view+json": {
       "model_id": "d69a9ae76b6a4650b57756a2870f917d",
       "version_major": 2,
       "version_minor": 0
      },
      "text/plain": [
       "Generating train split: 0 examples [00:00, ? examples/s]"
      ]
     },
     "metadata": {},
     "output_type": "display_data"
    },
    {
     "data": {
      "application/vnd.jupyter.widget-view+json": {
       "model_id": "1c0847fe6f5a4ae0ba7d8e64a1f8e3db",
       "version_major": 2,
       "version_minor": 0
      },
      "text/plain": [
       "Saving the dataset (0/1 shards):   0%|          | 0/1 [00:00<?, ? examples/s]"
      ]
     },
     "metadata": {},
     "output_type": "display_data"
    },
    {
     "name": "stdout",
     "output_type": "stream",
     "text": [
      "Dataset saved to ./dataset/train_val_split//cl_split_3\n",
      "4 {'start_time': '2016-01-01', 'end_time': '2022-12-31'}\n",
      "['A_CPCH_row_0', 'A_CPI_row_0', 'A_FXSP_row_0', 'A_FXSP_row_1', 'D_EE58_row_0', 'D_FXSP_row_0', 'D_POLR_row_0', 'M_CPCH_row_0', 'M_CPI_row_1', 'M_CPI_row_5', 'M_CPI_row_6', 'M_EE58_row_0', 'M_FXSP_row_0', 'M_FXSP_row_1', 'M_POLR_row_0', 'Q_FXSP_row_0', 'Q_FXSP_row_1']\n"
     ]
    },
    {
     "data": {
      "application/vnd.jupyter.widget-view+json": {
       "model_id": "89433537520e47888c78be26f90fac94",
       "version_major": 2,
       "version_minor": 0
      },
      "text/plain": [
       "Generating train split: 0 examples [00:00, ? examples/s]"
      ]
     },
     "metadata": {},
     "output_type": "display_data"
    },
    {
     "data": {
      "application/vnd.jupyter.widget-view+json": {
       "model_id": "a70a092c55b345f39a34b8abfec95a18",
       "version_major": 2,
       "version_minor": 0
      },
      "text/plain": [
       "Saving the dataset (0/1 shards):   0%|          | 0/1 [00:00<?, ? examples/s]"
      ]
     },
     "metadata": {},
     "output_type": "display_data"
    },
    {
     "name": "stdout",
     "output_type": "stream",
     "text": [
      "Dataset saved to ./dataset/train_val_split//cl_split_4\n",
      "1 {'start_time': '1984-01-01', 'end_time': '1994-12-31'}\n",
      "['A_CPCH_row_0', 'A_CPI_row_0', 'A_FXSP_row_0', 'A_FXSP_row_1', 'D_EE26_row_0', 'D_EE58_row_0', 'D_FXSP_row_0', 'D_FXSP_row_1', 'M_CPCH_row_0', 'M_CPI_row_0', 'M_CPI_row_2', 'M_EE26_row_0', 'M_EE58_row_0', 'M_FXSP_row_0', 'M_FXSP_row_1', 'M_FXSP_row_2', 'M_FXSP_row_3', 'Q_FXSP_row_0', 'Q_FXSP_row_1', 'Q_FXSP_row_2', 'Q_FXSP_row_3']\n"
     ]
    },
    {
     "data": {
      "application/vnd.jupyter.widget-view+json": {
       "model_id": "6ff4b59552d646d4a95148b57f97b00b",
       "version_major": 2,
       "version_minor": 0
      },
      "text/plain": [
       "Generating train split: 0 examples [00:00, ? examples/s]"
      ]
     },
     "metadata": {},
     "output_type": "display_data"
    },
    {
     "data": {
      "application/vnd.jupyter.widget-view+json": {
       "model_id": "9dbd8ac6c74e4a7e8e9af89a8f895e2f",
       "version_major": 2,
       "version_minor": 0
      },
      "text/plain": [
       "Saving the dataset (0/1 shards):   0%|          | 0/1 [00:00<?, ? examples/s]"
      ]
     },
     "metadata": {},
     "output_type": "display_data"
    },
    {
     "name": "stdout",
     "output_type": "stream",
     "text": [
      "Dataset saved to ./dataset/train_val_split//fi_split_1\n",
      "2 {'start_time': '1996-01-01', 'end_time': '2004-12-31'}\n",
      "['A_CPCH_row_0', 'A_CPI_row_0', 'A_FXSP_row_0', 'A_FXSP_row_1', 'D_EE26_row_0', 'D_EE58_row_0', 'D_FXSP_row_0', 'D_FXSP_row_1', 'M_CPCH_row_0', 'M_CPI_row_0', 'M_CPI_row_2', 'M_EE26_row_0', 'M_EE58_row_0', 'M_FXSP_row_0', 'M_FXSP_row_1', 'M_FXSP_row_2', 'M_FXSP_row_3', 'Q_FXSP_row_0', 'Q_FXSP_row_1', 'Q_FXSP_row_2', 'Q_FXSP_row_3']\n"
     ]
    },
    {
     "data": {
      "application/vnd.jupyter.widget-view+json": {
       "model_id": "749b8325f4a84d788b8cf96a25e65ede",
       "version_major": 2,
       "version_minor": 0
      },
      "text/plain": [
       "Generating train split: 0 examples [00:00, ? examples/s]"
      ]
     },
     "metadata": {},
     "output_type": "display_data"
    },
    {
     "data": {
      "application/vnd.jupyter.widget-view+json": {
       "model_id": "5a9b5eff715849299ef2f7f19dc6e621",
       "version_major": 2,
       "version_minor": 0
      },
      "text/plain": [
       "Saving the dataset (0/1 shards):   0%|          | 0/1 [00:00<?, ? examples/s]"
      ]
     },
     "metadata": {},
     "output_type": "display_data"
    },
    {
     "name": "stdout",
     "output_type": "stream",
     "text": [
      "Dataset saved to ./dataset/train_val_split//fi_split_2\n",
      "3 {'start_time': '2006-01-01', 'end_time': '2014-12-31'}\n",
      "['A_CPCH_row_0', 'A_CPI_row_0', 'A_FXSP_row_0', 'A_FXSP_row_1', 'D_EE26_row_0', 'D_EE58_row_0', 'D_FXSP_row_0', 'D_FXSP_row_1', 'M_CPCH_row_0', 'M_CPI_row_0', 'M_CPI_row_2', 'M_EE26_row_0', 'M_EE58_row_0', 'M_FXSP_row_0', 'M_FXSP_row_1', 'M_FXSP_row_2', 'M_FXSP_row_3', 'Q_FXSP_row_0', 'Q_FXSP_row_1', 'Q_FXSP_row_2', 'Q_FXSP_row_3']\n"
     ]
    },
    {
     "data": {
      "application/vnd.jupyter.widget-view+json": {
       "model_id": "e866b1156f1342208d5655f5c91dd9f9",
       "version_major": 2,
       "version_minor": 0
      },
      "text/plain": [
       "Generating train split: 0 examples [00:00, ? examples/s]"
      ]
     },
     "metadata": {},
     "output_type": "display_data"
    },
    {
     "data": {
      "application/vnd.jupyter.widget-view+json": {
       "model_id": "e7d0246073dd4b00b694a5367ac9e857",
       "version_major": 2,
       "version_minor": 0
      },
      "text/plain": [
       "Saving the dataset (0/1 shards):   0%|          | 0/1 [00:00<?, ? examples/s]"
      ]
     },
     "metadata": {},
     "output_type": "display_data"
    },
    {
     "name": "stdout",
     "output_type": "stream",
     "text": [
      "Dataset saved to ./dataset/train_val_split//fi_split_3\n",
      "4 {'start_time': '2016-01-01', 'end_time': '2022-12-31'}\n",
      "['A_CPCH_row_0', 'A_CPI_row_0', 'A_FXSP_row_0', 'A_FXSP_row_1', 'D_EE26_row_0', 'D_EE58_row_0', 'D_FXSP_row_0', 'D_FXSP_row_1', 'M_CPCH_row_0', 'M_CPI_row_0', 'M_CPI_row_2', 'M_EE26_row_0', 'M_EE58_row_0', 'M_FXSP_row_0', 'M_FXSP_row_1', 'M_FXSP_row_2', 'M_FXSP_row_3', 'Q_FXSP_row_0', 'Q_FXSP_row_1', 'Q_FXSP_row_2', 'Q_FXSP_row_3']\n"
     ]
    },
    {
     "data": {
      "application/vnd.jupyter.widget-view+json": {
       "model_id": "a48899a06f774470971457f1d3bbbfe6",
       "version_major": 2,
       "version_minor": 0
      },
      "text/plain": [
       "Generating train split: 0 examples [00:00, ? examples/s]"
      ]
     },
     "metadata": {},
     "output_type": "display_data"
    },
    {
     "data": {
      "application/vnd.jupyter.widget-view+json": {
       "model_id": "b792112626c848c688c56d20485acd9d",
       "version_major": 2,
       "version_minor": 0
      },
      "text/plain": [
       "Saving the dataset (0/1 shards):   0%|          | 0/1 [00:00<?, ? examples/s]"
      ]
     },
     "metadata": {},
     "output_type": "display_data"
    },
    {
     "name": "stdout",
     "output_type": "stream",
     "text": [
      "Dataset saved to ./dataset/train_val_split//fi_split_4\n",
      "1 {'start_time': '1984-01-01', 'end_time': '1994-12-31'}\n",
      "['A_CPCH_row_0', 'A_CPI_row_1', 'A_FXSP_row_0', 'A_FXSP_row_1', 'D_EE58_row_0', 'D_FXSP_row_0', 'D_FXSP_row_1', 'D_POLR_row_0', 'M_CPCH_row_0', 'M_CPI_row_1', 'M_CPI_row_2', 'M_EE58_row_0', 'M_FXSP_row_0', 'M_FXSP_row_1', 'M_FXSP_row_2', 'M_FXSP_row_3', 'M_POLR_row_0', 'Q_FXSP_row_0', 'Q_FXSP_row_1', 'Q_FXSP_row_2', 'Q_FXSP_row_3']\n"
     ]
    },
    {
     "data": {
      "application/vnd.jupyter.widget-view+json": {
       "model_id": "ec24367025704304bb1cc95f20b3ab93",
       "version_major": 2,
       "version_minor": 0
      },
      "text/plain": [
       "Generating train split: 0 examples [00:00, ? examples/s]"
      ]
     },
     "metadata": {},
     "output_type": "display_data"
    },
    {
     "data": {
      "application/vnd.jupyter.widget-view+json": {
       "model_id": "3db1dba2b36a46b999df291637ba41f4",
       "version_major": 2,
       "version_minor": 0
      },
      "text/plain": [
       "Saving the dataset (0/1 shards):   0%|          | 0/1 [00:00<?, ? examples/s]"
      ]
     },
     "metadata": {},
     "output_type": "display_data"
    },
    {
     "name": "stdout",
     "output_type": "stream",
     "text": [
      "Dataset saved to ./dataset/train_val_split//ph_split_1\n",
      "2 {'start_time': '1996-01-01', 'end_time': '2004-12-31'}\n",
      "['A_CPCH_row_0', 'A_CPI_row_1', 'A_FXSP_row_0', 'A_FXSP_row_1', 'D_EE58_row_0', 'D_FXSP_row_0', 'D_FXSP_row_1', 'D_POLR_row_0', 'M_CPCH_row_0', 'M_CPI_row_1', 'M_CPI_row_2', 'M_EE58_row_0', 'M_FXSP_row_0', 'M_FXSP_row_1', 'M_FXSP_row_2', 'M_FXSP_row_3', 'M_POLR_row_0', 'Q_FXSP_row_0', 'Q_FXSP_row_1', 'Q_FXSP_row_2', 'Q_FXSP_row_3']\n"
     ]
    },
    {
     "data": {
      "application/vnd.jupyter.widget-view+json": {
       "model_id": "9cdcd05aefdc4a9b99d9f4b8647c4258",
       "version_major": 2,
       "version_minor": 0
      },
      "text/plain": [
       "Generating train split: 0 examples [00:00, ? examples/s]"
      ]
     },
     "metadata": {},
     "output_type": "display_data"
    },
    {
     "data": {
      "application/vnd.jupyter.widget-view+json": {
       "model_id": "fb12250ae39045a39e7b2b835cc8a3da",
       "version_major": 2,
       "version_minor": 0
      },
      "text/plain": [
       "Saving the dataset (0/1 shards):   0%|          | 0/1 [00:00<?, ? examples/s]"
      ]
     },
     "metadata": {},
     "output_type": "display_data"
    },
    {
     "name": "stdout",
     "output_type": "stream",
     "text": [
      "Dataset saved to ./dataset/train_val_split//ph_split_2\n",
      "3 {'start_time': '2006-01-01', 'end_time': '2014-12-31'}\n",
      "['A_CPCH_row_0', 'A_CPI_row_1', 'A_FXSP_row_0', 'A_FXSP_row_1', 'D_EE58_row_0', 'D_FXSP_row_0', 'D_FXSP_row_1', 'D_POLR_row_0', 'M_CPCH_row_0', 'M_CPI_row_1', 'M_CPI_row_2', 'M_EE58_row_0', 'M_FXSP_row_0', 'M_FXSP_row_1', 'M_FXSP_row_2', 'M_FXSP_row_3', 'M_POLR_row_0', 'Q_FXSP_row_0', 'Q_FXSP_row_1', 'Q_FXSP_row_2', 'Q_FXSP_row_3']\n"
     ]
    },
    {
     "data": {
      "application/vnd.jupyter.widget-view+json": {
       "model_id": "9437e123e9be40a292c0c0415fd72d05",
       "version_major": 2,
       "version_minor": 0
      },
      "text/plain": [
       "Generating train split: 0 examples [00:00, ? examples/s]"
      ]
     },
     "metadata": {},
     "output_type": "display_data"
    },
    {
     "data": {
      "application/vnd.jupyter.widget-view+json": {
       "model_id": "739bbe21ff164f43a8a9a55a68d2b9b3",
       "version_major": 2,
       "version_minor": 0
      },
      "text/plain": [
       "Saving the dataset (0/1 shards):   0%|          | 0/1 [00:00<?, ? examples/s]"
      ]
     },
     "metadata": {},
     "output_type": "display_data"
    },
    {
     "name": "stdout",
     "output_type": "stream",
     "text": [
      "Dataset saved to ./dataset/train_val_split//ph_split_3\n",
      "4 {'start_time': '2016-01-01', 'end_time': '2022-12-31'}\n",
      "['A_CPCH_row_0', 'A_CPI_row_1', 'A_FXSP_row_0', 'A_FXSP_row_1', 'D_EE58_row_0', 'D_FXSP_row_0', 'D_FXSP_row_1', 'D_POLR_row_0', 'M_CPCH_row_0', 'M_CPI_row_1', 'M_CPI_row_2', 'M_EE58_row_0', 'M_FXSP_row_0', 'M_FXSP_row_1', 'M_FXSP_row_2', 'M_FXSP_row_3', 'M_POLR_row_0', 'Q_FXSP_row_0', 'Q_FXSP_row_1', 'Q_FXSP_row_2', 'Q_FXSP_row_3']\n"
     ]
    },
    {
     "data": {
      "application/vnd.jupyter.widget-view+json": {
       "model_id": "7b44ba08d22540f18c4e24eeee936509",
       "version_major": 2,
       "version_minor": 0
      },
      "text/plain": [
       "Generating train split: 0 examples [00:00, ? examples/s]"
      ]
     },
     "metadata": {},
     "output_type": "display_data"
    },
    {
     "data": {
      "application/vnd.jupyter.widget-view+json": {
       "model_id": "04395486120c492895905303680ee970",
       "version_major": 2,
       "version_minor": 0
      },
      "text/plain": [
       "Saving the dataset (0/1 shards):   0%|          | 0/1 [00:00<?, ? examples/s]"
      ]
     },
     "metadata": {},
     "output_type": "display_data"
    },
    {
     "name": "stdout",
     "output_type": "stream",
     "text": [
      "Dataset saved to ./dataset/train_val_split//ph_split_4\n",
      "1 {'start_time': '1984-01-01', 'end_time': '1994-12-31'}\n",
      "['A_CPCH_row_0', 'A_CPI_row_0', 'A_FXSP_row_0', 'A_FXSP_row_1', 'D_EE58_row_0', 'D_FXSP_row_0', 'D_POLR_row_0', 'M_CPCH_row_0', 'M_CPI_row_0', 'M_CPI_row_1', 'M_EE58_row_0', 'M_FXSP_row_0', 'M_FXSP_row_1', 'M_POLR_row_0', 'Q_FXSP_row_0', 'Q_FXSP_row_1']\n"
     ]
    },
    {
     "data": {
      "application/vnd.jupyter.widget-view+json": {
       "model_id": "a15fe144260b4e3f84ce9ab1181ae22d",
       "version_major": 2,
       "version_minor": 0
      },
      "text/plain": [
       "Generating train split: 0 examples [00:00, ? examples/s]"
      ]
     },
     "metadata": {},
     "output_type": "display_data"
    },
    {
     "data": {
      "application/vnd.jupyter.widget-view+json": {
       "model_id": "5020ff3bcbab4f9aac321ecada3326e6",
       "version_major": 2,
       "version_minor": 0
      },
      "text/plain": [
       "Saving the dataset (0/1 shards):   0%|          | 0/1 [00:00<?, ? examples/s]"
      ]
     },
     "metadata": {},
     "output_type": "display_data"
    },
    {
     "name": "stdout",
     "output_type": "stream",
     "text": [
      "Dataset saved to ./dataset/train_val_split//rs_split_1\n",
      "2 {'start_time': '1996-01-01', 'end_time': '2004-12-31'}\n",
      "['A_CPCH_row_0', 'A_CPI_row_0', 'A_FXSP_row_0', 'A_FXSP_row_1', 'D_EE58_row_0', 'D_FXSP_row_0', 'D_POLR_row_0', 'M_CPCH_row_0', 'M_CPI_row_0', 'M_CPI_row_1', 'M_EE58_row_0', 'M_FXSP_row_0', 'M_FXSP_row_1', 'M_POLR_row_0', 'Q_FXSP_row_0', 'Q_FXSP_row_1']\n"
     ]
    },
    {
     "data": {
      "application/vnd.jupyter.widget-view+json": {
       "model_id": "30d6edf6dc1a44f68c9a8ce42fa017db",
       "version_major": 2,
       "version_minor": 0
      },
      "text/plain": [
       "Generating train split: 0 examples [00:00, ? examples/s]"
      ]
     },
     "metadata": {},
     "output_type": "display_data"
    },
    {
     "data": {
      "application/vnd.jupyter.widget-view+json": {
       "model_id": "5aecd52ff0e94b1face686a8bad10764",
       "version_major": 2,
       "version_minor": 0
      },
      "text/plain": [
       "Saving the dataset (0/1 shards):   0%|          | 0/1 [00:00<?, ? examples/s]"
      ]
     },
     "metadata": {},
     "output_type": "display_data"
    },
    {
     "name": "stdout",
     "output_type": "stream",
     "text": [
      "Dataset saved to ./dataset/train_val_split//rs_split_2\n",
      "3 {'start_time': '2006-01-01', 'end_time': '2014-12-31'}\n",
      "['A_CPCH_row_0', 'A_CPI_row_0', 'A_FXSP_row_0', 'A_FXSP_row_1', 'D_EE58_row_0', 'D_FXSP_row_0', 'D_POLR_row_0', 'M_CPCH_row_0', 'M_CPI_row_0', 'M_CPI_row_1', 'M_EE58_row_0', 'M_FXSP_row_0', 'M_FXSP_row_1', 'M_POLR_row_0', 'Q_FXSP_row_0', 'Q_FXSP_row_1']\n"
     ]
    },
    {
     "data": {
      "application/vnd.jupyter.widget-view+json": {
       "model_id": "2aea1afbbb0943bab88debeae01b0dd6",
       "version_major": 2,
       "version_minor": 0
      },
      "text/plain": [
       "Generating train split: 0 examples [00:00, ? examples/s]"
      ]
     },
     "metadata": {},
     "output_type": "display_data"
    },
    {
     "data": {
      "application/vnd.jupyter.widget-view+json": {
       "model_id": "0c48dc3feed847888bdf68f01b4b79d3",
       "version_major": 2,
       "version_minor": 0
      },
      "text/plain": [
       "Saving the dataset (0/1 shards):   0%|          | 0/1 [00:00<?, ? examples/s]"
      ]
     },
     "metadata": {},
     "output_type": "display_data"
    },
    {
     "name": "stdout",
     "output_type": "stream",
     "text": [
      "Dataset saved to ./dataset/train_val_split//rs_split_3\n",
      "4 {'start_time': '2016-01-01', 'end_time': '2022-12-31'}\n",
      "['A_CPCH_row_0', 'A_CPI_row_0', 'A_FXSP_row_0', 'A_FXSP_row_1', 'D_EE58_row_0', 'D_FXSP_row_0', 'D_POLR_row_0', 'M_CPCH_row_0', 'M_CPI_row_0', 'M_CPI_row_1', 'M_EE58_row_0', 'M_FXSP_row_0', 'M_FXSP_row_1', 'M_POLR_row_0', 'Q_FXSP_row_0', 'Q_FXSP_row_1']\n"
     ]
    },
    {
     "data": {
      "application/vnd.jupyter.widget-view+json": {
       "model_id": "7549a4541413429fb0df6a8fdb0923e6",
       "version_major": 2,
       "version_minor": 0
      },
      "text/plain": [
       "Generating train split: 0 examples [00:00, ? examples/s]"
      ]
     },
     "metadata": {},
     "output_type": "display_data"
    },
    {
     "data": {
      "application/vnd.jupyter.widget-view+json": {
       "model_id": "2cc079dfffe1490da57a7a462c1556ef",
       "version_major": 2,
       "version_minor": 0
      },
      "text/plain": [
       "Saving the dataset (0/1 shards):   0%|          | 0/1 [00:00<?, ? examples/s]"
      ]
     },
     "metadata": {},
     "output_type": "display_data"
    },
    {
     "name": "stdout",
     "output_type": "stream",
     "text": [
      "Dataset saved to ./dataset/train_val_split//rs_split_4\n",
      "1 {'start_time': '1984-01-01', 'end_time': '1994-12-31'}\n",
      "['A_CPCH_row_0', 'A_CPI_row_0', 'A_FXSP_row_0', 'A_FXSP_row_1', 'D_EE58_row_0', 'D_FXSP_row_0', 'D_FXSP_row_1', 'M_CPCH_row_0', 'M_CPI_row_0', 'M_CPI_row_1', 'M_EE58_row_0', 'M_FXSP_row_0', 'M_FXSP_row_1', 'M_FXSP_row_2', 'M_FXSP_row_3', 'Q_FXSP_row_0', 'Q_FXSP_row_1', 'Q_FXSP_row_2', 'Q_FXSP_row_3']\n"
     ]
    },
    {
     "data": {
      "application/vnd.jupyter.widget-view+json": {
       "model_id": "215564777c1a49069e79acd37dca6174",
       "version_major": 2,
       "version_minor": 0
      },
      "text/plain": [
       "Generating train split: 0 examples [00:00, ? examples/s]"
      ]
     },
     "metadata": {},
     "output_type": "display_data"
    },
    {
     "data": {
      "application/vnd.jupyter.widget-view+json": {
       "model_id": "35e06be9c0774f13b1ecc3fdafd95ae4",
       "version_major": 2,
       "version_minor": 0
      },
      "text/plain": [
       "Saving the dataset (0/1 shards):   0%|          | 0/1 [00:00<?, ? examples/s]"
      ]
     },
     "metadata": {},
     "output_type": "display_data"
    },
    {
     "name": "stdout",
     "output_type": "stream",
     "text": [
      "Dataset saved to ./dataset/train_val_split//si_split_1\n",
      "2 {'start_time': '1996-01-01', 'end_time': '2004-12-31'}\n",
      "['A_CPCH_row_0', 'A_CPI_row_0', 'A_FXSP_row_0', 'A_FXSP_row_1', 'D_EE58_row_0', 'D_FXSP_row_0', 'D_FXSP_row_1', 'M_CPCH_row_0', 'M_CPI_row_0', 'M_CPI_row_1', 'M_EE58_row_0', 'M_FXSP_row_0', 'M_FXSP_row_1', 'M_FXSP_row_2', 'M_FXSP_row_3', 'Q_FXSP_row_0', 'Q_FXSP_row_1', 'Q_FXSP_row_2', 'Q_FXSP_row_3']\n"
     ]
    },
    {
     "data": {
      "application/vnd.jupyter.widget-view+json": {
       "model_id": "421170cfa1bf4f3a84ba1da12a8e551c",
       "version_major": 2,
       "version_minor": 0
      },
      "text/plain": [
       "Generating train split: 0 examples [00:00, ? examples/s]"
      ]
     },
     "metadata": {},
     "output_type": "display_data"
    },
    {
     "data": {
      "application/vnd.jupyter.widget-view+json": {
       "model_id": "c20d0176d8504528b8942c0fc7e5198a",
       "version_major": 2,
       "version_minor": 0
      },
      "text/plain": [
       "Saving the dataset (0/1 shards):   0%|          | 0/1 [00:00<?, ? examples/s]"
      ]
     },
     "metadata": {},
     "output_type": "display_data"
    },
    {
     "name": "stdout",
     "output_type": "stream",
     "text": [
      "Dataset saved to ./dataset/train_val_split//si_split_2\n",
      "3 {'start_time': '2006-01-01', 'end_time': '2014-12-31'}\n",
      "['A_CPCH_row_0', 'A_CPI_row_0', 'A_FXSP_row_0', 'A_FXSP_row_1', 'D_EE58_row_0', 'D_FXSP_row_0', 'D_FXSP_row_1', 'M_CPCH_row_0', 'M_CPI_row_0', 'M_CPI_row_1', 'M_EE58_row_0', 'M_FXSP_row_0', 'M_FXSP_row_1', 'M_FXSP_row_2', 'M_FXSP_row_3', 'Q_FXSP_row_0', 'Q_FXSP_row_1', 'Q_FXSP_row_2', 'Q_FXSP_row_3']\n"
     ]
    },
    {
     "data": {
      "application/vnd.jupyter.widget-view+json": {
       "model_id": "dbff452cfc5c4d53a63f4ca1906889e6",
       "version_major": 2,
       "version_minor": 0
      },
      "text/plain": [
       "Generating train split: 0 examples [00:00, ? examples/s]"
      ]
     },
     "metadata": {},
     "output_type": "display_data"
    },
    {
     "data": {
      "application/vnd.jupyter.widget-view+json": {
       "model_id": "fd2ab74121c746909823c950d026817c",
       "version_major": 2,
       "version_minor": 0
      },
      "text/plain": [
       "Saving the dataset (0/1 shards):   0%|          | 0/1 [00:00<?, ? examples/s]"
      ]
     },
     "metadata": {},
     "output_type": "display_data"
    },
    {
     "name": "stdout",
     "output_type": "stream",
     "text": [
      "Dataset saved to ./dataset/train_val_split//si_split_3\n",
      "4 {'start_time': '2016-01-01', 'end_time': '2022-12-31'}\n",
      "['A_CPCH_row_0', 'A_CPI_row_0', 'A_FXSP_row_0', 'A_FXSP_row_1', 'D_EE58_row_0', 'D_FXSP_row_0', 'D_FXSP_row_1', 'M_CPCH_row_0', 'M_CPI_row_0', 'M_CPI_row_1', 'M_EE58_row_0', 'M_FXSP_row_0', 'M_FXSP_row_1', 'M_FXSP_row_2', 'M_FXSP_row_3', 'Q_FXSP_row_0', 'Q_FXSP_row_1', 'Q_FXSP_row_2', 'Q_FXSP_row_3']\n"
     ]
    },
    {
     "data": {
      "application/vnd.jupyter.widget-view+json": {
       "model_id": "41afcdd1d43c4ceda7f076dda8544eb4",
       "version_major": 2,
       "version_minor": 0
      },
      "text/plain": [
       "Generating train split: 0 examples [00:00, ? examples/s]"
      ]
     },
     "metadata": {},
     "output_type": "display_data"
    },
    {
     "data": {
      "application/vnd.jupyter.widget-view+json": {
       "model_id": "98e558665cd44860955407b97b564cbc",
       "version_major": 2,
       "version_minor": 0
      },
      "text/plain": [
       "Saving the dataset (0/1 shards):   0%|          | 0/1 [00:00<?, ? examples/s]"
      ]
     },
     "metadata": {},
     "output_type": "display_data"
    },
    {
     "name": "stdout",
     "output_type": "stream",
     "text": [
      "Dataset saved to ./dataset/train_val_split//si_split_4\n",
      "1 {'start_time': '1984-01-01', 'end_time': '1994-12-31'}\n",
      "['A_CPCH_row_0', 'A_CPI_row_0', 'A_FXSP_row_0', 'A_FXSP_row_1', 'A_GDPN_row_1', 'D_EE58_row_0', 'D_FXSP_row_0', 'D_FXSP_row_1', 'D_POLR_row_0', 'M_CPCH_row_0', 'M_CPI_row_1', 'M_CPI_row_3', 'M_EE58_row_0', 'M_FXSP_row_0', 'M_FXSP_row_1', 'M_FXSP_row_2', 'M_FXSP_row_3', 'M_POLR_row_0', 'Q_FXSP_row_0', 'Q_FXSP_row_1', 'Q_FXSP_row_2', 'Q_FXSP_row_3']\n"
     ]
    },
    {
     "data": {
      "application/vnd.jupyter.widget-view+json": {
       "model_id": "faeaaeb6c2fa401b8949454b63f4b0b9",
       "version_major": 2,
       "version_minor": 0
      },
      "text/plain": [
       "Generating train split: 0 examples [00:00, ? examples/s]"
      ]
     },
     "metadata": {},
     "output_type": "display_data"
    },
    {
     "data": {
      "application/vnd.jupyter.widget-view+json": {
       "model_id": "241d7bcff5fb41daa34b827de2db63ef",
       "version_major": 2,
       "version_minor": 0
      },
      "text/plain": [
       "Saving the dataset (0/1 shards):   0%|          | 0/1 [00:00<?, ? examples/s]"
      ]
     },
     "metadata": {},
     "output_type": "display_data"
    },
    {
     "name": "stdout",
     "output_type": "stream",
     "text": [
      "Dataset saved to ./dataset/train_val_split//my_split_1\n",
      "2 {'start_time': '1996-01-01', 'end_time': '2004-12-31'}\n",
      "['A_CPCH_row_0', 'A_CPI_row_0', 'A_FXSP_row_0', 'A_FXSP_row_1', 'A_GDPN_row_1', 'D_EE58_row_0', 'D_FXSP_row_0', 'D_FXSP_row_1', 'D_POLR_row_0', 'M_CPCH_row_0', 'M_CPI_row_1', 'M_CPI_row_3', 'M_EE58_row_0', 'M_FXSP_row_0', 'M_FXSP_row_1', 'M_FXSP_row_2', 'M_FXSP_row_3', 'M_POLR_row_0', 'Q_FXSP_row_0', 'Q_FXSP_row_1', 'Q_FXSP_row_2', 'Q_FXSP_row_3']\n"
     ]
    },
    {
     "data": {
      "application/vnd.jupyter.widget-view+json": {
       "model_id": "ca1972240d034a6e856f27c9be432014",
       "version_major": 2,
       "version_minor": 0
      },
      "text/plain": [
       "Generating train split: 0 examples [00:00, ? examples/s]"
      ]
     },
     "metadata": {},
     "output_type": "display_data"
    },
    {
     "data": {
      "application/vnd.jupyter.widget-view+json": {
       "model_id": "66c08406ddfc4aff9de12f39aa73acf5",
       "version_major": 2,
       "version_minor": 0
      },
      "text/plain": [
       "Saving the dataset (0/1 shards):   0%|          | 0/1 [00:00<?, ? examples/s]"
      ]
     },
     "metadata": {},
     "output_type": "display_data"
    },
    {
     "name": "stdout",
     "output_type": "stream",
     "text": [
      "Dataset saved to ./dataset/train_val_split//my_split_2\n",
      "3 {'start_time': '2006-01-01', 'end_time': '2014-12-31'}\n",
      "['A_CPCH_row_0', 'A_CPI_row_0', 'A_FXSP_row_0', 'A_FXSP_row_1', 'A_GDPN_row_1', 'D_EE58_row_0', 'D_FXSP_row_0', 'D_FXSP_row_1', 'D_POLR_row_0', 'M_CPCH_row_0', 'M_CPI_row_1', 'M_CPI_row_3', 'M_EE58_row_0', 'M_FXSP_row_0', 'M_FXSP_row_1', 'M_FXSP_row_2', 'M_FXSP_row_3', 'M_POLR_row_0', 'Q_FXSP_row_0', 'Q_FXSP_row_1', 'Q_FXSP_row_2', 'Q_FXSP_row_3']\n"
     ]
    },
    {
     "data": {
      "application/vnd.jupyter.widget-view+json": {
       "model_id": "1467235fa28f4728b41bf451e5374587",
       "version_major": 2,
       "version_minor": 0
      },
      "text/plain": [
       "Generating train split: 0 examples [00:00, ? examples/s]"
      ]
     },
     "metadata": {},
     "output_type": "display_data"
    },
    {
     "data": {
      "application/vnd.jupyter.widget-view+json": {
       "model_id": "12726ea92f0248779c2c8cb81b99d700",
       "version_major": 2,
       "version_minor": 0
      },
      "text/plain": [
       "Saving the dataset (0/1 shards):   0%|          | 0/1 [00:00<?, ? examples/s]"
      ]
     },
     "metadata": {},
     "output_type": "display_data"
    },
    {
     "name": "stdout",
     "output_type": "stream",
     "text": [
      "Dataset saved to ./dataset/train_val_split//my_split_3\n",
      "4 {'start_time': '2016-01-01', 'end_time': '2022-12-31'}\n",
      "['A_CPCH_row_0', 'A_CPI_row_0', 'A_FXSP_row_0', 'A_FXSP_row_1', 'A_GDPN_row_1', 'D_EE58_row_0', 'D_FXSP_row_0', 'D_FXSP_row_1', 'D_POLR_row_0', 'M_CPCH_row_0', 'M_CPI_row_1', 'M_CPI_row_3', 'M_EE58_row_0', 'M_FXSP_row_0', 'M_FXSP_row_1', 'M_FXSP_row_2', 'M_FXSP_row_3', 'M_POLR_row_0', 'Q_FXSP_row_0', 'Q_FXSP_row_1', 'Q_FXSP_row_2', 'Q_FXSP_row_3']\n"
     ]
    },
    {
     "data": {
      "application/vnd.jupyter.widget-view+json": {
       "model_id": "6dcc9c091fea44d4b213c63468acf13c",
       "version_major": 2,
       "version_minor": 0
      },
      "text/plain": [
       "Generating train split: 0 examples [00:00, ? examples/s]"
      ]
     },
     "metadata": {},
     "output_type": "display_data"
    },
    {
     "data": {
      "application/vnd.jupyter.widget-view+json": {
       "model_id": "581a2b06624f4addb4fc8f27004871d9",
       "version_major": 2,
       "version_minor": 0
      },
      "text/plain": [
       "Saving the dataset (0/1 shards):   0%|          | 0/1 [00:00<?, ? examples/s]"
      ]
     },
     "metadata": {},
     "output_type": "display_data"
    },
    {
     "name": "stdout",
     "output_type": "stream",
     "text": [
      "Dataset saved to ./dataset/train_val_split//my_split_4\n",
      "1 {'start_time': '1984-01-01', 'end_time': '1994-12-31'}\n",
      "['A_CPCH_row_0', 'A_CPI_row_0', 'A_FXSP_row_0', 'A_FXSP_row_1', 'A_GDPN_row_0', 'D_EE58_row_0', 'D_FXSP_row_0', 'M_CPCH_row_0', 'M_CPI_row_0', 'M_EE58_row_0', 'M_FXSP_row_0', 'M_FXSP_row_1', 'Q_FXSP_row_0', 'Q_FXSP_row_1']\n"
     ]
    },
    {
     "data": {
      "application/vnd.jupyter.widget-view+json": {
       "model_id": "7a5bc0fe67444d16bdf0ae4b1924177c",
       "version_major": 2,
       "version_minor": 0
      },
      "text/plain": [
       "Generating train split: 0 examples [00:00, ? examples/s]"
      ]
     },
     "metadata": {},
     "output_type": "display_data"
    },
    {
     "data": {
      "application/vnd.jupyter.widget-view+json": {
       "model_id": "14257e9e89274b5aadb220c6c69c3ee6",
       "version_major": 2,
       "version_minor": 0
      },
      "text/plain": [
       "Saving the dataset (0/1 shards):   0%|          | 0/1 [00:00<?, ? examples/s]"
      ]
     },
     "metadata": {},
     "output_type": "display_data"
    },
    {
     "name": "stdout",
     "output_type": "stream",
     "text": [
      "Dataset saved to ./dataset/train_val_split//ae_split_1\n",
      "2 {'start_time': '1996-01-01', 'end_time': '2004-12-31'}\n",
      "['A_CPCH_row_0', 'A_CPI_row_0', 'A_FXSP_row_0', 'A_FXSP_row_1', 'A_GDPN_row_0', 'D_EE58_row_0', 'D_FXSP_row_0', 'M_CPCH_row_0', 'M_CPI_row_0', 'M_EE58_row_0', 'M_FXSP_row_0', 'M_FXSP_row_1', 'Q_FXSP_row_0', 'Q_FXSP_row_1']\n"
     ]
    },
    {
     "data": {
      "application/vnd.jupyter.widget-view+json": {
       "model_id": "b35512daab1148ea843409d349711289",
       "version_major": 2,
       "version_minor": 0
      },
      "text/plain": [
       "Generating train split: 0 examples [00:00, ? examples/s]"
      ]
     },
     "metadata": {},
     "output_type": "display_data"
    },
    {
     "data": {
      "application/vnd.jupyter.widget-view+json": {
       "model_id": "752bb1eb6a4e41a78da666142fbefa87",
       "version_major": 2,
       "version_minor": 0
      },
      "text/plain": [
       "Saving the dataset (0/1 shards):   0%|          | 0/1 [00:00<?, ? examples/s]"
      ]
     },
     "metadata": {},
     "output_type": "display_data"
    },
    {
     "name": "stdout",
     "output_type": "stream",
     "text": [
      "Dataset saved to ./dataset/train_val_split//ae_split_2\n",
      "3 {'start_time': '2006-01-01', 'end_time': '2014-12-31'}\n",
      "['A_CPCH_row_0', 'A_CPI_row_0', 'A_FXSP_row_0', 'A_FXSP_row_1', 'A_GDPN_row_0', 'D_EE58_row_0', 'D_FXSP_row_0', 'M_CPCH_row_0', 'M_CPI_row_0', 'M_EE58_row_0', 'M_FXSP_row_0', 'M_FXSP_row_1', 'Q_FXSP_row_0', 'Q_FXSP_row_1']\n"
     ]
    },
    {
     "data": {
      "application/vnd.jupyter.widget-view+json": {
       "model_id": "2f8e40408c4f4bc391f03cd0ea37855d",
       "version_major": 2,
       "version_minor": 0
      },
      "text/plain": [
       "Generating train split: 0 examples [00:00, ? examples/s]"
      ]
     },
     "metadata": {},
     "output_type": "display_data"
    },
    {
     "data": {
      "application/vnd.jupyter.widget-view+json": {
       "model_id": "dfcdd2ecf6de4b38a0f5003b4e962a2d",
       "version_major": 2,
       "version_minor": 0
      },
      "text/plain": [
       "Saving the dataset (0/1 shards):   0%|          | 0/1 [00:00<?, ? examples/s]"
      ]
     },
     "metadata": {},
     "output_type": "display_data"
    },
    {
     "name": "stdout",
     "output_type": "stream",
     "text": [
      "Dataset saved to ./dataset/train_val_split//ae_split_3\n",
      "4 {'start_time': '2016-01-01', 'end_time': '2022-12-31'}\n",
      "['A_CPCH_row_0', 'A_CPI_row_0', 'A_FXSP_row_0', 'A_FXSP_row_1', 'A_GDPN_row_0', 'D_EE58_row_0', 'D_FXSP_row_0', 'M_CPCH_row_0', 'M_CPI_row_0', 'M_EE58_row_0', 'M_FXSP_row_0', 'M_FXSP_row_1', 'Q_FXSP_row_0', 'Q_FXSP_row_1']\n"
     ]
    },
    {
     "data": {
      "application/vnd.jupyter.widget-view+json": {
       "model_id": "668970517f5747c2b592d21792fb9657",
       "version_major": 2,
       "version_minor": 0
      },
      "text/plain": [
       "Generating train split: 0 examples [00:00, ? examples/s]"
      ]
     },
     "metadata": {},
     "output_type": "display_data"
    },
    {
     "data": {
      "application/vnd.jupyter.widget-view+json": {
       "model_id": "e594fad0e8f74c71977c667935e2b8c5",
       "version_major": 2,
       "version_minor": 0
      },
      "text/plain": [
       "Saving the dataset (0/1 shards):   0%|          | 0/1 [00:00<?, ? examples/s]"
      ]
     },
     "metadata": {},
     "output_type": "display_data"
    },
    {
     "name": "stdout",
     "output_type": "stream",
     "text": [
      "Dataset saved to ./dataset/train_val_split//ae_split_4\n",
      "1 {'start_time': '1984-01-01', 'end_time': '1994-12-31'}\n",
      "['A_CPCH_row_0', 'A_CPI_row_0', 'A_FXSP_row_0', 'A_FXSP_row_1', 'D_EE58_row_0', 'D_FXSP_row_0', 'D_FXSP_row_1', 'M_CPCH_row_0', 'M_CPI_row_0', 'M_CPI_row_1', 'M_EE58_row_0', 'M_FXSP_row_0', 'M_FXSP_row_1', 'M_FXSP_row_2', 'M_FXSP_row_3', 'Q_FXSP_row_0', 'Q_FXSP_row_1', 'Q_FXSP_row_2', 'Q_FXSP_row_3']\n"
     ]
    },
    {
     "data": {
      "application/vnd.jupyter.widget-view+json": {
       "model_id": "38a0cb8eddd347d0ae9ba20053650b27",
       "version_major": 2,
       "version_minor": 0
      },
      "text/plain": [
       "Generating train split: 0 examples [00:00, ? examples/s]"
      ]
     },
     "metadata": {},
     "output_type": "display_data"
    },
    {
     "data": {
      "application/vnd.jupyter.widget-view+json": {
       "model_id": "f40b38b1026549fcb8f0dd7be3d66047",
       "version_major": 2,
       "version_minor": 0
      },
      "text/plain": [
       "Saving the dataset (0/1 shards):   0%|          | 0/1 [00:00<?, ? examples/s]"
      ]
     },
     "metadata": {},
     "output_type": "display_data"
    },
    {
     "name": "stdout",
     "output_type": "stream",
     "text": [
      "Dataset saved to ./dataset/train_val_split//cy_split_1\n",
      "2 {'start_time': '1996-01-01', 'end_time': '2004-12-31'}\n",
      "['A_CPCH_row_0', 'A_CPI_row_0', 'A_FXSP_row_0', 'A_FXSP_row_1', 'D_EE58_row_0', 'D_FXSP_row_0', 'D_FXSP_row_1', 'M_CPCH_row_0', 'M_CPI_row_0', 'M_CPI_row_1', 'M_EE58_row_0', 'M_FXSP_row_0', 'M_FXSP_row_1', 'M_FXSP_row_2', 'M_FXSP_row_3', 'Q_FXSP_row_0', 'Q_FXSP_row_1', 'Q_FXSP_row_2', 'Q_FXSP_row_3']\n"
     ]
    },
    {
     "data": {
      "application/vnd.jupyter.widget-view+json": {
       "model_id": "ebc6779f7e4d4279b36145ef690687d1",
       "version_major": 2,
       "version_minor": 0
      },
      "text/plain": [
       "Generating train split: 0 examples [00:00, ? examples/s]"
      ]
     },
     "metadata": {},
     "output_type": "display_data"
    },
    {
     "data": {
      "application/vnd.jupyter.widget-view+json": {
       "model_id": "e4efa5393cce4045b0bb32c5efca04bf",
       "version_major": 2,
       "version_minor": 0
      },
      "text/plain": [
       "Saving the dataset (0/1 shards):   0%|          | 0/1 [00:00<?, ? examples/s]"
      ]
     },
     "metadata": {},
     "output_type": "display_data"
    },
    {
     "name": "stdout",
     "output_type": "stream",
     "text": [
      "Dataset saved to ./dataset/train_val_split//cy_split_2\n",
      "3 {'start_time': '2006-01-01', 'end_time': '2014-12-31'}\n",
      "['A_CPCH_row_0', 'A_CPI_row_0', 'A_FXSP_row_0', 'A_FXSP_row_1', 'D_EE58_row_0', 'D_FXSP_row_0', 'D_FXSP_row_1', 'M_CPCH_row_0', 'M_CPI_row_0', 'M_CPI_row_1', 'M_EE58_row_0', 'M_FXSP_row_0', 'M_FXSP_row_1', 'M_FXSP_row_2', 'M_FXSP_row_3', 'Q_FXSP_row_0', 'Q_FXSP_row_1', 'Q_FXSP_row_2', 'Q_FXSP_row_3']\n"
     ]
    },
    {
     "data": {
      "application/vnd.jupyter.widget-view+json": {
       "model_id": "2d2563c16062412f80dcf2d574a6492d",
       "version_major": 2,
       "version_minor": 0
      },
      "text/plain": [
       "Generating train split: 0 examples [00:00, ? examples/s]"
      ]
     },
     "metadata": {},
     "output_type": "display_data"
    },
    {
     "data": {
      "application/vnd.jupyter.widget-view+json": {
       "model_id": "cfde73e64e1e457e9cee30cdf4c7116d",
       "version_major": 2,
       "version_minor": 0
      },
      "text/plain": [
       "Saving the dataset (0/1 shards):   0%|          | 0/1 [00:00<?, ? examples/s]"
      ]
     },
     "metadata": {},
     "output_type": "display_data"
    },
    {
     "name": "stdout",
     "output_type": "stream",
     "text": [
      "Dataset saved to ./dataset/train_val_split//cy_split_3\n",
      "4 {'start_time': '2016-01-01', 'end_time': '2022-12-31'}\n",
      "['A_CPCH_row_0', 'A_CPI_row_0', 'A_FXSP_row_0', 'A_FXSP_row_1', 'D_EE58_row_0', 'D_FXSP_row_0', 'D_FXSP_row_1', 'M_CPCH_row_0', 'M_CPI_row_0', 'M_CPI_row_1', 'M_EE58_row_0', 'M_FXSP_row_0', 'M_FXSP_row_1', 'M_FXSP_row_2', 'M_FXSP_row_3', 'Q_FXSP_row_0', 'Q_FXSP_row_1', 'Q_FXSP_row_2', 'Q_FXSP_row_3']\n"
     ]
    },
    {
     "data": {
      "application/vnd.jupyter.widget-view+json": {
       "model_id": "8403fa111ac7433b855b01f0784baee5",
       "version_major": 2,
       "version_minor": 0
      },
      "text/plain": [
       "Generating train split: 0 examples [00:00, ? examples/s]"
      ]
     },
     "metadata": {},
     "output_type": "display_data"
    },
    {
     "data": {
      "application/vnd.jupyter.widget-view+json": {
       "model_id": "f3d339bd31a1482c992e422b4f3cb875",
       "version_major": 2,
       "version_minor": 0
      },
      "text/plain": [
       "Saving the dataset (0/1 shards):   0%|          | 0/1 [00:00<?, ? examples/s]"
      ]
     },
     "metadata": {},
     "output_type": "display_data"
    },
    {
     "name": "stdout",
     "output_type": "stream",
     "text": [
      "Dataset saved to ./dataset/train_val_split//cy_split_4\n",
      "1 {'start_time': '1984-01-01', 'end_time': '1994-12-31'}\n",
      "['A_CPCH_row_0', 'A_FXSP_row_0', 'A_FXSP_row_1', 'D_EE58_row_0', 'D_FXSP_row_0', 'D_FXSP_row_1', 'D_POLR_row_0', 'M_CPCH_row_0', 'M_CPI_row_0', 'M_CPI_row_3', 'M_EE58_row_0', 'M_FXSP_row_0', 'M_FXSP_row_1', 'M_FXSP_row_2', 'M_FXSP_row_3', 'M_POLR_row_0', 'Q_FXSP_row_0', 'Q_FXSP_row_1', 'Q_FXSP_row_2', 'Q_FXSP_row_3']\n"
     ]
    },
    {
     "data": {
      "application/vnd.jupyter.widget-view+json": {
       "model_id": "6a2acc01382146438b97401e99398a32",
       "version_major": 2,
       "version_minor": 0
      },
      "text/plain": [
       "Generating train split: 0 examples [00:00, ? examples/s]"
      ]
     },
     "metadata": {},
     "output_type": "display_data"
    },
    {
     "data": {
      "application/vnd.jupyter.widget-view+json": {
       "model_id": "4d5f19dbaa54479b874a29c28c6289d6",
       "version_major": 2,
       "version_minor": 0
      },
      "text/plain": [
       "Saving the dataset (0/1 shards):   0%|          | 0/1 [00:00<?, ? examples/s]"
      ]
     },
     "metadata": {},
     "output_type": "display_data"
    },
    {
     "name": "stdout",
     "output_type": "stream",
     "text": [
      "Dataset saved to ./dataset/train_val_split//is_split_1\n",
      "2 {'start_time': '1996-01-01', 'end_time': '2004-12-31'}\n",
      "['A_CPCH_row_0', 'A_FXSP_row_0', 'A_FXSP_row_1', 'D_EE58_row_0', 'D_FXSP_row_0', 'D_FXSP_row_1', 'D_POLR_row_0', 'M_CPCH_row_0', 'M_CPI_row_0', 'M_CPI_row_3', 'M_EE58_row_0', 'M_FXSP_row_0', 'M_FXSP_row_1', 'M_FXSP_row_2', 'M_FXSP_row_3', 'M_POLR_row_0', 'Q_FXSP_row_0', 'Q_FXSP_row_1', 'Q_FXSP_row_2', 'Q_FXSP_row_3']\n"
     ]
    },
    {
     "data": {
      "application/vnd.jupyter.widget-view+json": {
       "model_id": "6509e190658945b0979b79cb3f4262e2",
       "version_major": 2,
       "version_minor": 0
      },
      "text/plain": [
       "Generating train split: 0 examples [00:00, ? examples/s]"
      ]
     },
     "metadata": {},
     "output_type": "display_data"
    },
    {
     "data": {
      "application/vnd.jupyter.widget-view+json": {
       "model_id": "93c3deba2525464a964969872bc00bc1",
       "version_major": 2,
       "version_minor": 0
      },
      "text/plain": [
       "Saving the dataset (0/1 shards):   0%|          | 0/1 [00:00<?, ? examples/s]"
      ]
     },
     "metadata": {},
     "output_type": "display_data"
    },
    {
     "name": "stdout",
     "output_type": "stream",
     "text": [
      "Dataset saved to ./dataset/train_val_split//is_split_2\n",
      "3 {'start_time': '2006-01-01', 'end_time': '2014-12-31'}\n",
      "['A_CPCH_row_0', 'A_FXSP_row_0', 'A_FXSP_row_1', 'D_EE58_row_0', 'D_FXSP_row_0', 'D_FXSP_row_1', 'D_POLR_row_0', 'M_CPCH_row_0', 'M_CPI_row_0', 'M_CPI_row_3', 'M_EE58_row_0', 'M_FXSP_row_0', 'M_FXSP_row_1', 'M_FXSP_row_2', 'M_FXSP_row_3', 'M_POLR_row_0', 'Q_FXSP_row_0', 'Q_FXSP_row_1', 'Q_FXSP_row_2', 'Q_FXSP_row_3']\n"
     ]
    },
    {
     "data": {
      "application/vnd.jupyter.widget-view+json": {
       "model_id": "cc95d6d5071c4dc2918802b5ccd9761d",
       "version_major": 2,
       "version_minor": 0
      },
      "text/plain": [
       "Generating train split: 0 examples [00:00, ? examples/s]"
      ]
     },
     "metadata": {},
     "output_type": "display_data"
    },
    {
     "data": {
      "application/vnd.jupyter.widget-view+json": {
       "model_id": "8852956b19d249dd8c3fa8a6901b82fe",
       "version_major": 2,
       "version_minor": 0
      },
      "text/plain": [
       "Saving the dataset (0/1 shards):   0%|          | 0/1 [00:00<?, ? examples/s]"
      ]
     },
     "metadata": {},
     "output_type": "display_data"
    },
    {
     "name": "stdout",
     "output_type": "stream",
     "text": [
      "Dataset saved to ./dataset/train_val_split//is_split_3\n",
      "4 {'start_time': '2016-01-01', 'end_time': '2022-12-31'}\n",
      "['A_CPCH_row_0', 'A_FXSP_row_0', 'A_FXSP_row_1', 'D_EE58_row_0', 'D_FXSP_row_0', 'D_FXSP_row_1', 'D_POLR_row_0', 'M_CPCH_row_0', 'M_CPI_row_0', 'M_CPI_row_3', 'M_EE58_row_0', 'M_FXSP_row_0', 'M_FXSP_row_1', 'M_FXSP_row_2', 'M_FXSP_row_3', 'M_POLR_row_0', 'Q_FXSP_row_0', 'Q_FXSP_row_1', 'Q_FXSP_row_2', 'Q_FXSP_row_3']\n"
     ]
    },
    {
     "data": {
      "application/vnd.jupyter.widget-view+json": {
       "model_id": "170449139828468d8bb2fbb942bcb54d",
       "version_major": 2,
       "version_minor": 0
      },
      "text/plain": [
       "Generating train split: 0 examples [00:00, ? examples/s]"
      ]
     },
     "metadata": {},
     "output_type": "display_data"
    },
    {
     "data": {
      "application/vnd.jupyter.widget-view+json": {
       "model_id": "81f2891fb4414e0e8b4ec6d4ba67e603",
       "version_major": 2,
       "version_minor": 0
      },
      "text/plain": [
       "Saving the dataset (0/1 shards):   0%|          | 0/1 [00:00<?, ? examples/s]"
      ]
     },
     "metadata": {},
     "output_type": "display_data"
    },
    {
     "name": "stdout",
     "output_type": "stream",
     "text": [
      "Dataset saved to ./dataset/train_val_split//is_split_4\n",
      "1 {'start_time': '1984-01-01', 'end_time': '1994-12-31'}\n",
      "['A_CPCH_row_0', 'A_CPI_row_0', 'A_FXSP_row_0', 'A_FXSP_row_1', 'D_EE58_row_0', 'D_FXSP_row_0', 'D_FXSP_row_1', 'M_CPCH_row_0', 'M_CPI_row_0', 'M_CPI_row_1', 'M_EE58_row_0', 'M_FXSP_row_0', 'M_FXSP_row_1', 'M_FXSP_row_2', 'M_FXSP_row_3', 'Q_FXSP_row_0', 'Q_FXSP_row_1', 'Q_FXSP_row_2', 'Q_FXSP_row_3']\n"
     ]
    },
    {
     "data": {
      "application/vnd.jupyter.widget-view+json": {
       "model_id": "c0ce2aca79474775bc2b4c2bb54d7f54",
       "version_major": 2,
       "version_minor": 0
      },
      "text/plain": [
       "Generating train split: 0 examples [00:00, ? examples/s]"
      ]
     },
     "metadata": {},
     "output_type": "display_data"
    },
    {
     "data": {
      "application/vnd.jupyter.widget-view+json": {
       "model_id": "5f8846abc4874ca1948f12dc89aa5407",
       "version_major": 2,
       "version_minor": 0
      },
      "text/plain": [
       "Saving the dataset (0/1 shards):   0%|          | 0/1 [00:00<?, ? examples/s]"
      ]
     },
     "metadata": {},
     "output_type": "display_data"
    },
    {
     "name": "stdout",
     "output_type": "stream",
     "text": [
      "Dataset saved to ./dataset/train_val_split//lv_split_1\n",
      "2 {'start_time': '1996-01-01', 'end_time': '2004-12-31'}\n",
      "['A_CPCH_row_0', 'A_CPI_row_0', 'A_FXSP_row_0', 'A_FXSP_row_1', 'D_EE58_row_0', 'D_FXSP_row_0', 'D_FXSP_row_1', 'M_CPCH_row_0', 'M_CPI_row_0', 'M_CPI_row_1', 'M_EE58_row_0', 'M_FXSP_row_0', 'M_FXSP_row_1', 'M_FXSP_row_2', 'M_FXSP_row_3', 'Q_FXSP_row_0', 'Q_FXSP_row_1', 'Q_FXSP_row_2', 'Q_FXSP_row_3']\n"
     ]
    },
    {
     "data": {
      "application/vnd.jupyter.widget-view+json": {
       "model_id": "1c94cacfaa3b4878bc79a38a2687bad7",
       "version_major": 2,
       "version_minor": 0
      },
      "text/plain": [
       "Generating train split: 0 examples [00:00, ? examples/s]"
      ]
     },
     "metadata": {},
     "output_type": "display_data"
    },
    {
     "data": {
      "application/vnd.jupyter.widget-view+json": {
       "model_id": "f6e605c6a2ac40c98e90d35c965b74b4",
       "version_major": 2,
       "version_minor": 0
      },
      "text/plain": [
       "Saving the dataset (0/1 shards):   0%|          | 0/1 [00:00<?, ? examples/s]"
      ]
     },
     "metadata": {},
     "output_type": "display_data"
    },
    {
     "name": "stdout",
     "output_type": "stream",
     "text": [
      "Dataset saved to ./dataset/train_val_split//lv_split_2\n",
      "3 {'start_time': '2006-01-01', 'end_time': '2014-12-31'}\n",
      "['A_CPCH_row_0', 'A_CPI_row_0', 'A_FXSP_row_0', 'A_FXSP_row_1', 'D_EE58_row_0', 'D_FXSP_row_0', 'D_FXSP_row_1', 'M_CPCH_row_0', 'M_CPI_row_0', 'M_CPI_row_1', 'M_EE58_row_0', 'M_FXSP_row_0', 'M_FXSP_row_1', 'M_FXSP_row_2', 'M_FXSP_row_3', 'Q_FXSP_row_0', 'Q_FXSP_row_1', 'Q_FXSP_row_2', 'Q_FXSP_row_3']\n"
     ]
    },
    {
     "data": {
      "application/vnd.jupyter.widget-view+json": {
       "model_id": "dbff9ed5716045a99d89682885afc53a",
       "version_major": 2,
       "version_minor": 0
      },
      "text/plain": [
       "Generating train split: 0 examples [00:00, ? examples/s]"
      ]
     },
     "metadata": {},
     "output_type": "display_data"
    },
    {
     "data": {
      "application/vnd.jupyter.widget-view+json": {
       "model_id": "f37dd74f08964c10a3c0010c8589c6c9",
       "version_major": 2,
       "version_minor": 0
      },
      "text/plain": [
       "Saving the dataset (0/1 shards):   0%|          | 0/1 [00:00<?, ? examples/s]"
      ]
     },
     "metadata": {},
     "output_type": "display_data"
    },
    {
     "name": "stdout",
     "output_type": "stream",
     "text": [
      "Dataset saved to ./dataset/train_val_split//lv_split_3\n",
      "4 {'start_time': '2016-01-01', 'end_time': '2022-12-31'}\n",
      "['A_CPCH_row_0', 'A_CPI_row_0', 'A_FXSP_row_0', 'A_FXSP_row_1', 'D_EE58_row_0', 'D_FXSP_row_0', 'D_FXSP_row_1', 'M_CPCH_row_0', 'M_CPI_row_0', 'M_CPI_row_1', 'M_EE58_row_0', 'M_FXSP_row_0', 'M_FXSP_row_1', 'M_FXSP_row_2', 'M_FXSP_row_3', 'Q_FXSP_row_0', 'Q_FXSP_row_1', 'Q_FXSP_row_2', 'Q_FXSP_row_3']\n"
     ]
    },
    {
     "data": {
      "application/vnd.jupyter.widget-view+json": {
       "model_id": "90671db947d94886b82fcf4968e25eb6",
       "version_major": 2,
       "version_minor": 0
      },
      "text/plain": [
       "Generating train split: 0 examples [00:00, ? examples/s]"
      ]
     },
     "metadata": {},
     "output_type": "display_data"
    },
    {
     "data": {
      "application/vnd.jupyter.widget-view+json": {
       "model_id": "4a68ca0ede1145d794166c76fe5f4f2b",
       "version_major": 2,
       "version_minor": 0
      },
      "text/plain": [
       "Saving the dataset (0/1 shards):   0%|          | 0/1 [00:00<?, ? examples/s]"
      ]
     },
     "metadata": {},
     "output_type": "display_data"
    },
    {
     "name": "stdout",
     "output_type": "stream",
     "text": [
      "Dataset saved to ./dataset/train_val_split//lv_split_4\n",
      "1 {'start_time': '1984-01-01', 'end_time': '1994-12-31'}\n",
      "['A_CPCH_row_0', 'A_CPI_row_0', 'A_FXSP_row_0', 'A_FXSP_row_1', 'A_GDPN_row_0', 'A_MNY1_row_0', 'D_EE26_row_0', 'D_EE58_row_0', 'D_FXSP_row_0', 'D_FXSP_row_1', 'D_POLR_row_0', 'M_CPCH_row_0', 'M_CPI_row_0', 'M_CPI_row_1', 'M_CPI_row_2', 'M_EE26_row_0', 'M_EE58_row_0', 'M_FXSP_row_0', 'M_FXSP_row_1', 'M_FXSP_row_2', 'M_FXSP_row_3', 'M_POLR_row_0', 'Q_FXSP_row_0', 'Q_FXSP_row_1', 'Q_FXSP_row_2', 'Q_FXSP_row_3']\n"
     ]
    },
    {
     "data": {
      "application/vnd.jupyter.widget-view+json": {
       "model_id": "f44e36ccbfeb4c309a10e1f5406e36dd",
       "version_major": 2,
       "version_minor": 0
      },
      "text/plain": [
       "Generating train split: 0 examples [00:00, ? examples/s]"
      ]
     },
     "metadata": {},
     "output_type": "display_data"
    },
    {
     "data": {
      "application/vnd.jupyter.widget-view+json": {
       "model_id": "a57d37f6bb1d4639aa31e1ba958c6e9c",
       "version_major": 2,
       "version_minor": 0
      },
      "text/plain": [
       "Saving the dataset (0/1 shards):   0%|          | 0/1 [00:00<?, ? examples/s]"
      ]
     },
     "metadata": {},
     "output_type": "display_data"
    },
    {
     "name": "stdout",
     "output_type": "stream",
     "text": [
      "Dataset saved to ./dataset/train_val_split//it_split_1\n",
      "2 {'start_time': '1996-01-01', 'end_time': '2004-12-31'}\n",
      "['A_CPCH_row_0', 'A_CPI_row_0', 'A_FXSP_row_0', 'A_FXSP_row_1', 'A_GDPN_row_0', 'A_MNY1_row_0', 'D_EE26_row_0', 'D_EE58_row_0', 'D_FXSP_row_0', 'D_FXSP_row_1', 'D_POLR_row_0', 'M_CPCH_row_0', 'M_CPI_row_0', 'M_CPI_row_1', 'M_CPI_row_2', 'M_EE26_row_0', 'M_EE58_row_0', 'M_FXSP_row_0', 'M_FXSP_row_1', 'M_FXSP_row_2', 'M_FXSP_row_3', 'M_POLR_row_0', 'Q_FXSP_row_0', 'Q_FXSP_row_1', 'Q_FXSP_row_2', 'Q_FXSP_row_3']\n"
     ]
    },
    {
     "data": {
      "application/vnd.jupyter.widget-view+json": {
       "model_id": "9d0b935fbded46328e422d616ffd6237",
       "version_major": 2,
       "version_minor": 0
      },
      "text/plain": [
       "Generating train split: 0 examples [00:00, ? examples/s]"
      ]
     },
     "metadata": {},
     "output_type": "display_data"
    },
    {
     "data": {
      "application/vnd.jupyter.widget-view+json": {
       "model_id": "b1a5f7529ce74cb58fbc4ef8d34f7c3f",
       "version_major": 2,
       "version_minor": 0
      },
      "text/plain": [
       "Saving the dataset (0/1 shards):   0%|          | 0/1 [00:00<?, ? examples/s]"
      ]
     },
     "metadata": {},
     "output_type": "display_data"
    },
    {
     "name": "stdout",
     "output_type": "stream",
     "text": [
      "Dataset saved to ./dataset/train_val_split//it_split_2\n",
      "3 {'start_time': '2006-01-01', 'end_time': '2014-12-31'}\n",
      "['A_CPCH_row_0', 'A_CPI_row_0', 'A_FXSP_row_0', 'A_FXSP_row_1', 'A_GDPN_row_0', 'A_MNY1_row_0', 'D_EE26_row_0', 'D_EE58_row_0', 'D_FXSP_row_0', 'D_FXSP_row_1', 'D_POLR_row_0', 'M_CPCH_row_0', 'M_CPI_row_0', 'M_CPI_row_1', 'M_CPI_row_2', 'M_EE26_row_0', 'M_EE58_row_0', 'M_FXSP_row_0', 'M_FXSP_row_1', 'M_FXSP_row_2', 'M_FXSP_row_3', 'M_POLR_row_0', 'Q_FXSP_row_0', 'Q_FXSP_row_1', 'Q_FXSP_row_2', 'Q_FXSP_row_3']\n"
     ]
    },
    {
     "data": {
      "application/vnd.jupyter.widget-view+json": {
       "model_id": "b1562632c8014eb691d720912f008d29",
       "version_major": 2,
       "version_minor": 0
      },
      "text/plain": [
       "Generating train split: 0 examples [00:00, ? examples/s]"
      ]
     },
     "metadata": {},
     "output_type": "display_data"
    },
    {
     "data": {
      "application/vnd.jupyter.widget-view+json": {
       "model_id": "3a731c0a3c0644f7bd7fe896ef503ebc",
       "version_major": 2,
       "version_minor": 0
      },
      "text/plain": [
       "Saving the dataset (0/1 shards):   0%|          | 0/1 [00:00<?, ? examples/s]"
      ]
     },
     "metadata": {},
     "output_type": "display_data"
    },
    {
     "name": "stdout",
     "output_type": "stream",
     "text": [
      "Dataset saved to ./dataset/train_val_split//it_split_3\n",
      "4 {'start_time': '2016-01-01', 'end_time': '2022-12-31'}\n",
      "['A_CPCH_row_0', 'A_CPI_row_0', 'A_FXSP_row_0', 'A_FXSP_row_1', 'A_GDPN_row_0', 'A_MNY1_row_0', 'D_EE26_row_0', 'D_EE58_row_0', 'D_FXSP_row_0', 'D_FXSP_row_1', 'D_POLR_row_0', 'M_CPCH_row_0', 'M_CPI_row_0', 'M_CPI_row_1', 'M_CPI_row_2', 'M_EE26_row_0', 'M_EE58_row_0', 'M_FXSP_row_0', 'M_FXSP_row_1', 'M_FXSP_row_2', 'M_FXSP_row_3', 'M_POLR_row_0', 'Q_FXSP_row_0', 'Q_FXSP_row_1', 'Q_FXSP_row_2', 'Q_FXSP_row_3']\n"
     ]
    },
    {
     "data": {
      "application/vnd.jupyter.widget-view+json": {
       "model_id": "824fff38ebb140148e3185e7cde9e254",
       "version_major": 2,
       "version_minor": 0
      },
      "text/plain": [
       "Generating train split: 0 examples [00:00, ? examples/s]"
      ]
     },
     "metadata": {},
     "output_type": "display_data"
    },
    {
     "data": {
      "application/vnd.jupyter.widget-view+json": {
       "model_id": "7759c82edd544280a4cce7e8f821722e",
       "version_major": 2,
       "version_minor": 0
      },
      "text/plain": [
       "Saving the dataset (0/1 shards):   0%|          | 0/1 [00:00<?, ? examples/s]"
      ]
     },
     "metadata": {},
     "output_type": "display_data"
    },
    {
     "name": "stdout",
     "output_type": "stream",
     "text": [
      "Dataset saved to ./dataset/train_val_split//it_split_4\n",
      "1 {'start_time': '1984-01-01', 'end_time': '1994-12-31'}\n",
      "['A_CPCH_row_0', 'A_CPI_row_0', 'A_FXSP_row_0', 'A_FXSP_row_1', 'D_EE58_row_0', 'D_FXSP_row_0', 'D_FXSP_row_1', 'M_CPCH_row_0', 'M_CPI_row_0', 'M_CPI_row_1', 'M_EE58_row_0', 'M_FXSP_row_0', 'M_FXSP_row_1', 'M_FXSP_row_2', 'M_FXSP_row_3', 'Q_FXSP_row_0', 'Q_FXSP_row_1', 'Q_FXSP_row_2', 'Q_FXSP_row_3']\n"
     ]
    },
    {
     "data": {
      "application/vnd.jupyter.widget-view+json": {
       "model_id": "ebc04281b6504a60b3f73da626d83e45",
       "version_major": 2,
       "version_minor": 0
      },
      "text/plain": [
       "Generating train split: 0 examples [00:00, ? examples/s]"
      ]
     },
     "metadata": {},
     "output_type": "display_data"
    },
    {
     "data": {
      "application/vnd.jupyter.widget-view+json": {
       "model_id": "8654f9425f7044be982d891f132a2f34",
       "version_major": 2,
       "version_minor": 0
      },
      "text/plain": [
       "Saving the dataset (0/1 shards):   0%|          | 0/1 [00:00<?, ? examples/s]"
      ]
     },
     "metadata": {},
     "output_type": "display_data"
    },
    {
     "name": "stdout",
     "output_type": "stream",
     "text": [
      "Dataset saved to ./dataset/train_val_split//ee_split_1\n",
      "2 {'start_time': '1996-01-01', 'end_time': '2004-12-31'}\n",
      "['A_CPCH_row_0', 'A_CPI_row_0', 'A_FXSP_row_0', 'A_FXSP_row_1', 'D_EE58_row_0', 'D_FXSP_row_0', 'D_FXSP_row_1', 'M_CPCH_row_0', 'M_CPI_row_0', 'M_CPI_row_1', 'M_EE58_row_0', 'M_FXSP_row_0', 'M_FXSP_row_1', 'M_FXSP_row_2', 'M_FXSP_row_3', 'Q_FXSP_row_0', 'Q_FXSP_row_1', 'Q_FXSP_row_2', 'Q_FXSP_row_3']\n"
     ]
    },
    {
     "data": {
      "application/vnd.jupyter.widget-view+json": {
       "model_id": "491f7026c07c4a37928f7cd6614dbbb7",
       "version_major": 2,
       "version_minor": 0
      },
      "text/plain": [
       "Generating train split: 0 examples [00:00, ? examples/s]"
      ]
     },
     "metadata": {},
     "output_type": "display_data"
    },
    {
     "data": {
      "application/vnd.jupyter.widget-view+json": {
       "model_id": "db8b78b8223e4fceb9989d62057aaed8",
       "version_major": 2,
       "version_minor": 0
      },
      "text/plain": [
       "Saving the dataset (0/1 shards):   0%|          | 0/1 [00:00<?, ? examples/s]"
      ]
     },
     "metadata": {},
     "output_type": "display_data"
    },
    {
     "name": "stdout",
     "output_type": "stream",
     "text": [
      "Dataset saved to ./dataset/train_val_split//ee_split_2\n",
      "3 {'start_time': '2006-01-01', 'end_time': '2014-12-31'}\n",
      "['A_CPCH_row_0', 'A_CPI_row_0', 'A_FXSP_row_0', 'A_FXSP_row_1', 'D_EE58_row_0', 'D_FXSP_row_0', 'D_FXSP_row_1', 'M_CPCH_row_0', 'M_CPI_row_0', 'M_CPI_row_1', 'M_EE58_row_0', 'M_FXSP_row_0', 'M_FXSP_row_1', 'M_FXSP_row_2', 'M_FXSP_row_3', 'Q_FXSP_row_0', 'Q_FXSP_row_1', 'Q_FXSP_row_2', 'Q_FXSP_row_3']\n"
     ]
    },
    {
     "data": {
      "application/vnd.jupyter.widget-view+json": {
       "model_id": "8d811b17b8934e5daedf34405d5e5879",
       "version_major": 2,
       "version_minor": 0
      },
      "text/plain": [
       "Generating train split: 0 examples [00:00, ? examples/s]"
      ]
     },
     "metadata": {},
     "output_type": "display_data"
    },
    {
     "data": {
      "application/vnd.jupyter.widget-view+json": {
       "model_id": "a6284b4418c44d138efd4754d34b95f6",
       "version_major": 2,
       "version_minor": 0
      },
      "text/plain": [
       "Saving the dataset (0/1 shards):   0%|          | 0/1 [00:00<?, ? examples/s]"
      ]
     },
     "metadata": {},
     "output_type": "display_data"
    },
    {
     "name": "stdout",
     "output_type": "stream",
     "text": [
      "Dataset saved to ./dataset/train_val_split//ee_split_3\n",
      "4 {'start_time': '2016-01-01', 'end_time': '2022-12-31'}\n",
      "['A_CPCH_row_0', 'A_CPI_row_0', 'A_FXSP_row_0', 'A_FXSP_row_1', 'D_EE58_row_0', 'D_FXSP_row_0', 'D_FXSP_row_1', 'M_CPCH_row_0', 'M_CPI_row_0', 'M_CPI_row_1', 'M_EE58_row_0', 'M_FXSP_row_0', 'M_FXSP_row_1', 'M_FXSP_row_2', 'M_FXSP_row_3', 'Q_FXSP_row_0', 'Q_FXSP_row_1', 'Q_FXSP_row_2', 'Q_FXSP_row_3']\n"
     ]
    },
    {
     "data": {
      "application/vnd.jupyter.widget-view+json": {
       "model_id": "8bd939c3442942739f03a0ecd2f71b7a",
       "version_major": 2,
       "version_minor": 0
      },
      "text/plain": [
       "Generating train split: 0 examples [00:00, ? examples/s]"
      ]
     },
     "metadata": {},
     "output_type": "display_data"
    },
    {
     "data": {
      "application/vnd.jupyter.widget-view+json": {
       "model_id": "53d80a9d170c4d6ebaad5e1292e35a20",
       "version_major": 2,
       "version_minor": 0
      },
      "text/plain": [
       "Saving the dataset (0/1 shards):   0%|          | 0/1 [00:00<?, ? examples/s]"
      ]
     },
     "metadata": {},
     "output_type": "display_data"
    },
    {
     "name": "stdout",
     "output_type": "stream",
     "text": [
      "Dataset saved to ./dataset/train_val_split//ee_split_4\n",
      "1 {'start_time': '1984-01-01', 'end_time': '1994-12-31'}\n",
      "['A_CPCH_row_0', 'A_CPI_row_0', 'A_FXSP_row_0', 'A_FXSP_row_1', 'D_EE58_row_0', 'D_FXSP_row_0', 'D_FXSP_row_1', 'M_CPCH_row_0', 'M_CPI_row_0', 'M_CPI_row_1', 'M_CPI_row_2', 'M_EE58_row_0', 'M_FXSP_row_0', 'M_FXSP_row_1', 'M_FXSP_row_2', 'M_FXSP_row_3', 'Q_FXSP_row_0', 'Q_FXSP_row_1', 'Q_FXSP_row_2', 'Q_FXSP_row_3']\n"
     ]
    },
    {
     "data": {
      "application/vnd.jupyter.widget-view+json": {
       "model_id": "00bc96e75bba4d8f86dca87dc3db7b53",
       "version_major": 2,
       "version_minor": 0
      },
      "text/plain": [
       "Generating train split: 0 examples [00:00, ? examples/s]"
      ]
     },
     "metadata": {},
     "output_type": "display_data"
    },
    {
     "data": {
      "application/vnd.jupyter.widget-view+json": {
       "model_id": "0d04170b0a314887a7f94826b1e42e92",
       "version_major": 2,
       "version_minor": 0
      },
      "text/plain": [
       "Saving the dataset (0/1 shards):   0%|          | 0/1 [00:00<?, ? examples/s]"
      ]
     },
     "metadata": {},
     "output_type": "display_data"
    },
    {
     "name": "stdout",
     "output_type": "stream",
     "text": [
      "Dataset saved to ./dataset/train_val_split//mt_split_1\n",
      "2 {'start_time': '1996-01-01', 'end_time': '2004-12-31'}\n",
      "['A_CPCH_row_0', 'A_CPI_row_0', 'A_FXSP_row_0', 'A_FXSP_row_1', 'D_EE58_row_0', 'D_FXSP_row_0', 'D_FXSP_row_1', 'M_CPCH_row_0', 'M_CPI_row_0', 'M_CPI_row_1', 'M_CPI_row_2', 'M_EE58_row_0', 'M_FXSP_row_0', 'M_FXSP_row_1', 'M_FXSP_row_2', 'M_FXSP_row_3', 'Q_FXSP_row_0', 'Q_FXSP_row_1', 'Q_FXSP_row_2', 'Q_FXSP_row_3']\n"
     ]
    },
    {
     "data": {
      "application/vnd.jupyter.widget-view+json": {
       "model_id": "0c92ccb25495454db18c73ff74086a2a",
       "version_major": 2,
       "version_minor": 0
      },
      "text/plain": [
       "Generating train split: 0 examples [00:00, ? examples/s]"
      ]
     },
     "metadata": {},
     "output_type": "display_data"
    },
    {
     "data": {
      "application/vnd.jupyter.widget-view+json": {
       "model_id": "498f81c7673d41e48d090ed01f3d32b8",
       "version_major": 2,
       "version_minor": 0
      },
      "text/plain": [
       "Saving the dataset (0/1 shards):   0%|          | 0/1 [00:00<?, ? examples/s]"
      ]
     },
     "metadata": {},
     "output_type": "display_data"
    },
    {
     "name": "stdout",
     "output_type": "stream",
     "text": [
      "Dataset saved to ./dataset/train_val_split//mt_split_2\n",
      "3 {'start_time': '2006-01-01', 'end_time': '2014-12-31'}\n",
      "['A_CPCH_row_0', 'A_CPI_row_0', 'A_FXSP_row_0', 'A_FXSP_row_1', 'D_EE58_row_0', 'D_FXSP_row_0', 'D_FXSP_row_1', 'M_CPCH_row_0', 'M_CPI_row_0', 'M_CPI_row_1', 'M_CPI_row_2', 'M_EE58_row_0', 'M_FXSP_row_0', 'M_FXSP_row_1', 'M_FXSP_row_2', 'M_FXSP_row_3', 'Q_FXSP_row_0', 'Q_FXSP_row_1', 'Q_FXSP_row_2', 'Q_FXSP_row_3']\n"
     ]
    },
    {
     "data": {
      "application/vnd.jupyter.widget-view+json": {
       "model_id": "67ddab1e84e549a5a7bda57fd22bbc92",
       "version_major": 2,
       "version_minor": 0
      },
      "text/plain": [
       "Generating train split: 0 examples [00:00, ? examples/s]"
      ]
     },
     "metadata": {},
     "output_type": "display_data"
    },
    {
     "data": {
      "application/vnd.jupyter.widget-view+json": {
       "model_id": "8ec2f32fd2f04fdca45889eed72f373f",
       "version_major": 2,
       "version_minor": 0
      },
      "text/plain": [
       "Saving the dataset (0/1 shards):   0%|          | 0/1 [00:00<?, ? examples/s]"
      ]
     },
     "metadata": {},
     "output_type": "display_data"
    },
    {
     "name": "stdout",
     "output_type": "stream",
     "text": [
      "Dataset saved to ./dataset/train_val_split//mt_split_3\n",
      "4 {'start_time': '2016-01-01', 'end_time': '2022-12-31'}\n",
      "['A_CPCH_row_0', 'A_CPI_row_0', 'A_FXSP_row_0', 'A_FXSP_row_1', 'D_EE58_row_0', 'D_FXSP_row_0', 'D_FXSP_row_1', 'M_CPCH_row_0', 'M_CPI_row_0', 'M_CPI_row_1', 'M_CPI_row_2', 'M_EE58_row_0', 'M_FXSP_row_0', 'M_FXSP_row_1', 'M_FXSP_row_2', 'M_FXSP_row_3', 'Q_FXSP_row_0', 'Q_FXSP_row_1', 'Q_FXSP_row_2', 'Q_FXSP_row_3']\n"
     ]
    },
    {
     "data": {
      "application/vnd.jupyter.widget-view+json": {
       "model_id": "4f79b3752acf4cc09988e3f7420e64e3",
       "version_major": 2,
       "version_minor": 0
      },
      "text/plain": [
       "Generating train split: 0 examples [00:00, ? examples/s]"
      ]
     },
     "metadata": {},
     "output_type": "display_data"
    },
    {
     "data": {
      "application/vnd.jupyter.widget-view+json": {
       "model_id": "1d434fde3d544ab6acbe61fa08ca5ada",
       "version_major": 2,
       "version_minor": 0
      },
      "text/plain": [
       "Saving the dataset (0/1 shards):   0%|          | 0/1 [00:00<?, ? examples/s]"
      ]
     },
     "metadata": {},
     "output_type": "display_data"
    },
    {
     "name": "stdout",
     "output_type": "stream",
     "text": [
      "Dataset saved to ./dataset/train_val_split//mt_split_4\n",
      "1 {'start_time': '1984-01-01', 'end_time': '1994-12-31'}\n",
      "['A_CPCH_row_0', 'A_CPI_row_0', 'A_FXSP_row_0', 'A_FXSP_row_1', 'D_EE58_row_0', 'D_FXSP_row_0', 'D_POLR_row_0', 'M_CPCH_row_0', 'M_CPI_row_0', 'M_CPI_row_1', 'M_EE58_row_0', 'M_FXSP_row_0', 'M_FXSP_row_1', 'M_POLR_row_0', 'Q_FXSP_row_0', 'Q_FXSP_row_1']\n"
     ]
    },
    {
     "data": {
      "application/vnd.jupyter.widget-view+json": {
       "model_id": "a2032e7990304b0e899550547f453120",
       "version_major": 2,
       "version_minor": 0
      },
      "text/plain": [
       "Generating train split: 0 examples [00:00, ? examples/s]"
      ]
     },
     "metadata": {},
     "output_type": "display_data"
    },
    {
     "data": {
      "application/vnd.jupyter.widget-view+json": {
       "model_id": "88580c9abb2c480f869ac8b2f64fe12e",
       "version_major": 2,
       "version_minor": 0
      },
      "text/plain": [
       "Saving the dataset (0/1 shards):   0%|          | 0/1 [00:00<?, ? examples/s]"
      ]
     },
     "metadata": {},
     "output_type": "display_data"
    },
    {
     "name": "stdout",
     "output_type": "stream",
     "text": [
      "Dataset saved to ./dataset/train_val_split//pe_split_1\n",
      "2 {'start_time': '1996-01-01', 'end_time': '2004-12-31'}\n",
      "['A_CPCH_row_0', 'A_CPI_row_0', 'A_FXSP_row_0', 'A_FXSP_row_1', 'D_EE58_row_0', 'D_FXSP_row_0', 'D_POLR_row_0', 'M_CPCH_row_0', 'M_CPI_row_0', 'M_CPI_row_1', 'M_EE58_row_0', 'M_FXSP_row_0', 'M_FXSP_row_1', 'M_POLR_row_0', 'Q_FXSP_row_0', 'Q_FXSP_row_1']\n"
     ]
    },
    {
     "data": {
      "application/vnd.jupyter.widget-view+json": {
       "model_id": "2064cb19e8fb47aca69d05b8843bafb4",
       "version_major": 2,
       "version_minor": 0
      },
      "text/plain": [
       "Generating train split: 0 examples [00:00, ? examples/s]"
      ]
     },
     "metadata": {},
     "output_type": "display_data"
    },
    {
     "data": {
      "application/vnd.jupyter.widget-view+json": {
       "model_id": "36a32590791f48cbb8f00212f3539856",
       "version_major": 2,
       "version_minor": 0
      },
      "text/plain": [
       "Saving the dataset (0/1 shards):   0%|          | 0/1 [00:00<?, ? examples/s]"
      ]
     },
     "metadata": {},
     "output_type": "display_data"
    },
    {
     "name": "stdout",
     "output_type": "stream",
     "text": [
      "Dataset saved to ./dataset/train_val_split//pe_split_2\n",
      "3 {'start_time': '2006-01-01', 'end_time': '2014-12-31'}\n",
      "['A_CPCH_row_0', 'A_CPI_row_0', 'A_FXSP_row_0', 'A_FXSP_row_1', 'D_EE58_row_0', 'D_FXSP_row_0', 'D_POLR_row_0', 'M_CPCH_row_0', 'M_CPI_row_0', 'M_CPI_row_1', 'M_EE58_row_0', 'M_FXSP_row_0', 'M_FXSP_row_1', 'M_POLR_row_0', 'Q_FXSP_row_0', 'Q_FXSP_row_1']\n"
     ]
    },
    {
     "data": {
      "application/vnd.jupyter.widget-view+json": {
       "model_id": "209fa37499a847c489387b0f89ab92e3",
       "version_major": 2,
       "version_minor": 0
      },
      "text/plain": [
       "Generating train split: 0 examples [00:00, ? examples/s]"
      ]
     },
     "metadata": {},
     "output_type": "display_data"
    },
    {
     "data": {
      "application/vnd.jupyter.widget-view+json": {
       "model_id": "6843fb72fc034a66bb97146ad5a47c83",
       "version_major": 2,
       "version_minor": 0
      },
      "text/plain": [
       "Saving the dataset (0/1 shards):   0%|          | 0/1 [00:00<?, ? examples/s]"
      ]
     },
     "metadata": {},
     "output_type": "display_data"
    },
    {
     "name": "stdout",
     "output_type": "stream",
     "text": [
      "Dataset saved to ./dataset/train_val_split//pe_split_3\n",
      "4 {'start_time': '2016-01-01', 'end_time': '2022-12-31'}\n",
      "['A_CPCH_row_0', 'A_CPI_row_0', 'A_FXSP_row_0', 'A_FXSP_row_1', 'D_EE58_row_0', 'D_FXSP_row_0', 'D_POLR_row_0', 'M_CPCH_row_0', 'M_CPI_row_0', 'M_CPI_row_1', 'M_EE58_row_0', 'M_FXSP_row_0', 'M_FXSP_row_1', 'M_POLR_row_0', 'Q_FXSP_row_0', 'Q_FXSP_row_1']\n"
     ]
    },
    {
     "data": {
      "application/vnd.jupyter.widget-view+json": {
       "model_id": "4542baa13ecb43348c4923aa72e79827",
       "version_major": 2,
       "version_minor": 0
      },
      "text/plain": [
       "Generating train split: 0 examples [00:00, ? examples/s]"
      ]
     },
     "metadata": {},
     "output_type": "display_data"
    },
    {
     "data": {
      "application/vnd.jupyter.widget-view+json": {
       "model_id": "93c67b791bdc4f4783421af145f57646",
       "version_major": 2,
       "version_minor": 0
      },
      "text/plain": [
       "Saving the dataset (0/1 shards):   0%|          | 0/1 [00:00<?, ? examples/s]"
      ]
     },
     "metadata": {},
     "output_type": "display_data"
    },
    {
     "name": "stdout",
     "output_type": "stream",
     "text": [
      "Dataset saved to ./dataset/train_val_split//pe_split_4\n",
      "1 {'start_time': '1984-01-01', 'end_time': '1994-12-31'}\n",
      "['A_CPCH_row_0', 'A_CPI_row_0', 'A_FXSP_row_0', 'A_FXSP_row_1', 'A_GDPN_row_0', 'A_GDPN_row_1', 'A_MNY1_row_0', 'D_EE26_row_0', 'D_EE58_row_0', 'D_FXSP_row_0', 'D_FXSP_row_1', 'D_POLR_row_0', 'M_CPCH_row_0', 'M_CPI_row_0', 'M_CPI_row_1', 'M_EE26_row_0', 'M_EE58_row_0', 'M_FXSP_row_0', 'M_FXSP_row_1', 'M_FXSP_row_2', 'M_FXSP_row_3', 'M_POLR_row_0', 'Q_FXSP_row_0', 'Q_FXSP_row_1', 'Q_FXSP_row_2', 'Q_FXSP_row_3']\n"
     ]
    },
    {
     "data": {
      "application/vnd.jupyter.widget-view+json": {
       "model_id": "16e05c16bb804055acb46d67bee0ae2d",
       "version_major": 2,
       "version_minor": 0
      },
      "text/plain": [
       "Generating train split: 0 examples [00:00, ? examples/s]"
      ]
     },
     "metadata": {},
     "output_type": "display_data"
    },
    {
     "data": {
      "application/vnd.jupyter.widget-view+json": {
       "model_id": "13a2e3d95a4b4b54aef0d8784ba08701",
       "version_major": 2,
       "version_minor": 0
      },
      "text/plain": [
       "Saving the dataset (0/1 shards):   0%|          | 0/1 [00:00<?, ? examples/s]"
      ]
     },
     "metadata": {},
     "output_type": "display_data"
    },
    {
     "name": "stdout",
     "output_type": "stream",
     "text": [
      "Dataset saved to ./dataset/train_val_split//ca_split_1\n",
      "2 {'start_time': '1996-01-01', 'end_time': '2004-12-31'}\n",
      "['A_CPCH_row_0', 'A_CPI_row_0', 'A_FXSP_row_0', 'A_FXSP_row_1', 'A_GDPN_row_0', 'A_GDPN_row_1', 'A_MNY1_row_0', 'D_EE26_row_0', 'D_EE58_row_0', 'D_FXSP_row_0', 'D_FXSP_row_1', 'D_POLR_row_0', 'M_CPCH_row_0', 'M_CPI_row_0', 'M_CPI_row_1', 'M_EE26_row_0', 'M_EE58_row_0', 'M_FXSP_row_0', 'M_FXSP_row_1', 'M_FXSP_row_2', 'M_FXSP_row_3', 'M_POLR_row_0', 'Q_FXSP_row_0', 'Q_FXSP_row_1', 'Q_FXSP_row_2', 'Q_FXSP_row_3']\n"
     ]
    },
    {
     "data": {
      "application/vnd.jupyter.widget-view+json": {
       "model_id": "1a36254a9815472ea6f285d9f569c58f",
       "version_major": 2,
       "version_minor": 0
      },
      "text/plain": [
       "Generating train split: 0 examples [00:00, ? examples/s]"
      ]
     },
     "metadata": {},
     "output_type": "display_data"
    },
    {
     "data": {
      "application/vnd.jupyter.widget-view+json": {
       "model_id": "0d082c933c8f48be8e11b720b44fc52c",
       "version_major": 2,
       "version_minor": 0
      },
      "text/plain": [
       "Saving the dataset (0/1 shards):   0%|          | 0/1 [00:00<?, ? examples/s]"
      ]
     },
     "metadata": {},
     "output_type": "display_data"
    },
    {
     "name": "stdout",
     "output_type": "stream",
     "text": [
      "Dataset saved to ./dataset/train_val_split//ca_split_2\n",
      "3 {'start_time': '2006-01-01', 'end_time': '2014-12-31'}\n",
      "['A_CPCH_row_0', 'A_CPI_row_0', 'A_FXSP_row_0', 'A_FXSP_row_1', 'A_GDPN_row_0', 'A_GDPN_row_1', 'A_MNY1_row_0', 'D_EE26_row_0', 'D_EE58_row_0', 'D_FXSP_row_0', 'D_FXSP_row_1', 'D_POLR_row_0', 'M_CPCH_row_0', 'M_CPI_row_0', 'M_CPI_row_1', 'M_EE26_row_0', 'M_EE58_row_0', 'M_FXSP_row_0', 'M_FXSP_row_1', 'M_FXSP_row_2', 'M_FXSP_row_3', 'M_POLR_row_0', 'Q_FXSP_row_0', 'Q_FXSP_row_1', 'Q_FXSP_row_2', 'Q_FXSP_row_3']\n"
     ]
    },
    {
     "data": {
      "application/vnd.jupyter.widget-view+json": {
       "model_id": "ccbd17c1b5164be499ce1be5194ddc23",
       "version_major": 2,
       "version_minor": 0
      },
      "text/plain": [
       "Generating train split: 0 examples [00:00, ? examples/s]"
      ]
     },
     "metadata": {},
     "output_type": "display_data"
    },
    {
     "data": {
      "application/vnd.jupyter.widget-view+json": {
       "model_id": "f1cf9d258abd4001acd644de4d8ec199",
       "version_major": 2,
       "version_minor": 0
      },
      "text/plain": [
       "Saving the dataset (0/1 shards):   0%|          | 0/1 [00:00<?, ? examples/s]"
      ]
     },
     "metadata": {},
     "output_type": "display_data"
    },
    {
     "name": "stdout",
     "output_type": "stream",
     "text": [
      "Dataset saved to ./dataset/train_val_split//ca_split_3\n",
      "4 {'start_time': '2016-01-01', 'end_time': '2022-12-31'}\n",
      "['A_CPCH_row_0', 'A_CPI_row_0', 'A_FXSP_row_0', 'A_FXSP_row_1', 'A_GDPN_row_0', 'A_GDPN_row_1', 'A_MNY1_row_0', 'D_EE26_row_0', 'D_EE58_row_0', 'D_FXSP_row_0', 'D_FXSP_row_1', 'D_POLR_row_0', 'M_CPCH_row_0', 'M_CPI_row_0', 'M_CPI_row_1', 'M_EE26_row_0', 'M_EE58_row_0', 'M_FXSP_row_0', 'M_FXSP_row_1', 'M_FXSP_row_2', 'M_FXSP_row_3', 'M_POLR_row_0', 'Q_FXSP_row_0', 'Q_FXSP_row_1', 'Q_FXSP_row_2', 'Q_FXSP_row_3']\n"
     ]
    },
    {
     "data": {
      "application/vnd.jupyter.widget-view+json": {
       "model_id": "6ac826368c604425afd1b92092c098d5",
       "version_major": 2,
       "version_minor": 0
      },
      "text/plain": [
       "Generating train split: 0 examples [00:00, ? examples/s]"
      ]
     },
     "metadata": {},
     "output_type": "display_data"
    },
    {
     "data": {
      "application/vnd.jupyter.widget-view+json": {
       "model_id": "b68275a4c743468cb3d92319db718c0a",
       "version_major": 2,
       "version_minor": 0
      },
      "text/plain": [
       "Saving the dataset (0/1 shards):   0%|          | 0/1 [00:00<?, ? examples/s]"
      ]
     },
     "metadata": {},
     "output_type": "display_data"
    },
    {
     "name": "stdout",
     "output_type": "stream",
     "text": [
      "Dataset saved to ./dataset/train_val_split//ca_split_4\n",
      "1 {'start_time': '1984-01-01', 'end_time': '1994-12-31'}\n",
      "['A_CPCH_row_0', 'A_CPI_row_0', 'A_FXSP_row_0', 'A_FXSP_row_1', 'D_EE58_row_0', 'D_FXSP_row_0', 'D_POLR_row_0', 'M_CPCH_row_0', 'M_CPI_row_0', 'M_CPI_row_1', 'M_EE58_row_0', 'M_FXSP_row_0', 'M_FXSP_row_1', 'M_POLR_row_0', 'Q_FXSP_row_0', 'Q_FXSP_row_1']\n"
     ]
    },
    {
     "data": {
      "application/vnd.jupyter.widget-view+json": {
       "model_id": "276e32a9db6a4ef581ad66063471b527",
       "version_major": 2,
       "version_minor": 0
      },
      "text/plain": [
       "Generating train split: 0 examples [00:00, ? examples/s]"
      ]
     },
     "metadata": {},
     "output_type": "display_data"
    },
    {
     "data": {
      "application/vnd.jupyter.widget-view+json": {
       "model_id": "ac88ac1e6126495da5897ce0f61234d6",
       "version_major": 2,
       "version_minor": 0
      },
      "text/plain": [
       "Saving the dataset (0/1 shards):   0%|          | 0/1 [00:00<?, ? examples/s]"
      ]
     },
     "metadata": {},
     "output_type": "display_data"
    },
    {
     "name": "stdout",
     "output_type": "stream",
     "text": [
      "Dataset saved to ./dataset/train_val_split//il_split_1\n",
      "2 {'start_time': '1996-01-01', 'end_time': '2004-12-31'}\n",
      "['A_CPCH_row_0', 'A_CPI_row_0', 'A_FXSP_row_0', 'A_FXSP_row_1', 'D_EE58_row_0', 'D_FXSP_row_0', 'D_POLR_row_0', 'M_CPCH_row_0', 'M_CPI_row_0', 'M_CPI_row_1', 'M_EE58_row_0', 'M_FXSP_row_0', 'M_FXSP_row_1', 'M_POLR_row_0', 'Q_FXSP_row_0', 'Q_FXSP_row_1']\n"
     ]
    },
    {
     "data": {
      "application/vnd.jupyter.widget-view+json": {
       "model_id": "671e7336a4984d8f8c65a3dbf9387d58",
       "version_major": 2,
       "version_minor": 0
      },
      "text/plain": [
       "Generating train split: 0 examples [00:00, ? examples/s]"
      ]
     },
     "metadata": {},
     "output_type": "display_data"
    },
    {
     "data": {
      "application/vnd.jupyter.widget-view+json": {
       "model_id": "400c1b8a34ce4f5a93720a40ab87f536",
       "version_major": 2,
       "version_minor": 0
      },
      "text/plain": [
       "Saving the dataset (0/1 shards):   0%|          | 0/1 [00:00<?, ? examples/s]"
      ]
     },
     "metadata": {},
     "output_type": "display_data"
    },
    {
     "name": "stdout",
     "output_type": "stream",
     "text": [
      "Dataset saved to ./dataset/train_val_split//il_split_2\n",
      "3 {'start_time': '2006-01-01', 'end_time': '2014-12-31'}\n",
      "['A_CPCH_row_0', 'A_CPI_row_0', 'A_FXSP_row_0', 'A_FXSP_row_1', 'D_EE58_row_0', 'D_FXSP_row_0', 'D_POLR_row_0', 'M_CPCH_row_0', 'M_CPI_row_0', 'M_CPI_row_1', 'M_EE58_row_0', 'M_FXSP_row_0', 'M_FXSP_row_1', 'M_POLR_row_0', 'Q_FXSP_row_0', 'Q_FXSP_row_1']\n"
     ]
    },
    {
     "data": {
      "application/vnd.jupyter.widget-view+json": {
       "model_id": "4db0d09cf3744e85a76eca00a8d99e69",
       "version_major": 2,
       "version_minor": 0
      },
      "text/plain": [
       "Generating train split: 0 examples [00:00, ? examples/s]"
      ]
     },
     "metadata": {},
     "output_type": "display_data"
    },
    {
     "data": {
      "application/vnd.jupyter.widget-view+json": {
       "model_id": "880863b3a13748e7bccd60ec6697e0a1",
       "version_major": 2,
       "version_minor": 0
      },
      "text/plain": [
       "Saving the dataset (0/1 shards):   0%|          | 0/1 [00:00<?, ? examples/s]"
      ]
     },
     "metadata": {},
     "output_type": "display_data"
    },
    {
     "name": "stdout",
     "output_type": "stream",
     "text": [
      "Dataset saved to ./dataset/train_val_split//il_split_3\n",
      "4 {'start_time': '2016-01-01', 'end_time': '2022-12-31'}\n",
      "['A_CPCH_row_0', 'A_CPI_row_0', 'A_FXSP_row_0', 'A_FXSP_row_1', 'D_EE58_row_0', 'D_FXSP_row_0', 'D_POLR_row_0', 'M_CPCH_row_0', 'M_CPI_row_0', 'M_CPI_row_1', 'M_EE58_row_0', 'M_FXSP_row_0', 'M_FXSP_row_1', 'M_POLR_row_0', 'Q_FXSP_row_0', 'Q_FXSP_row_1']\n"
     ]
    },
    {
     "data": {
      "application/vnd.jupyter.widget-view+json": {
       "model_id": "4a87ed37e05342e5b6c5edc51a69055a",
       "version_major": 2,
       "version_minor": 0
      },
      "text/plain": [
       "Generating train split: 0 examples [00:00, ? examples/s]"
      ]
     },
     "metadata": {},
     "output_type": "display_data"
    },
    {
     "data": {
      "application/vnd.jupyter.widget-view+json": {
       "model_id": "33123224ca6e46d9882ef3baeae55008",
       "version_major": 2,
       "version_minor": 0
      },
      "text/plain": [
       "Saving the dataset (0/1 shards):   0%|          | 0/1 [00:00<?, ? examples/s]"
      ]
     },
     "metadata": {},
     "output_type": "display_data"
    },
    {
     "name": "stdout",
     "output_type": "stream",
     "text": [
      "Dataset saved to ./dataset/train_val_split//il_split_4\n",
      "1 {'start_time': '1984-01-01', 'end_time': '1994-12-31'}\n",
      "['A_CPCH_row_0', 'A_CPI_row_0', 'A_FXSP_row_0', 'A_FXSP_row_1', 'D_FXSP_row_0', 'M_CPCH_row_0', 'M_CPI_row_0', 'M_CPI_row_2', 'M_FXSP_row_0', 'M_FXSP_row_1', 'Q_FXSP_row_0', 'Q_FXSP_row_1']\n"
     ]
    },
    {
     "data": {
      "application/vnd.jupyter.widget-view+json": {
       "model_id": "96f592d813dd41dca9234488669ce12c",
       "version_major": 2,
       "version_minor": 0
      },
      "text/plain": [
       "Generating train split: 0 examples [00:00, ? examples/s]"
      ]
     },
     "metadata": {},
     "output_type": "display_data"
    },
    {
     "data": {
      "application/vnd.jupyter.widget-view+json": {
       "model_id": "9575ca38c8de49578ba3d3d9b1a2300a",
       "version_major": 2,
       "version_minor": 0
      },
      "text/plain": [
       "Saving the dataset (0/1 shards):   0%|          | 0/1 [00:00<?, ? examples/s]"
      ]
     },
     "metadata": {},
     "output_type": "display_data"
    },
    {
     "name": "stdout",
     "output_type": "stream",
     "text": [
      "Dataset saved to ./dataset/train_val_split//kw_split_1\n",
      "2 {'start_time': '1996-01-01', 'end_time': '2004-12-31'}\n",
      "['A_CPCH_row_0', 'A_CPI_row_0', 'A_FXSP_row_0', 'A_FXSP_row_1', 'D_FXSP_row_0', 'M_CPCH_row_0', 'M_CPI_row_0', 'M_CPI_row_2', 'M_FXSP_row_0', 'M_FXSP_row_1', 'Q_FXSP_row_0', 'Q_FXSP_row_1']\n"
     ]
    },
    {
     "data": {
      "application/vnd.jupyter.widget-view+json": {
       "model_id": "7bc6b012407f42a597a5459dd2e60993",
       "version_major": 2,
       "version_minor": 0
      },
      "text/plain": [
       "Generating train split: 0 examples [00:00, ? examples/s]"
      ]
     },
     "metadata": {},
     "output_type": "display_data"
    },
    {
     "data": {
      "application/vnd.jupyter.widget-view+json": {
       "model_id": "991903dcb2fe405795c2930224928a8b",
       "version_major": 2,
       "version_minor": 0
      },
      "text/plain": [
       "Saving the dataset (0/1 shards):   0%|          | 0/1 [00:00<?, ? examples/s]"
      ]
     },
     "metadata": {},
     "output_type": "display_data"
    },
    {
     "name": "stdout",
     "output_type": "stream",
     "text": [
      "Dataset saved to ./dataset/train_val_split//kw_split_2\n",
      "3 {'start_time': '2006-01-01', 'end_time': '2014-12-31'}\n",
      "['A_CPCH_row_0', 'A_CPI_row_0', 'A_FXSP_row_0', 'A_FXSP_row_1', 'D_FXSP_row_0', 'M_CPCH_row_0', 'M_CPI_row_0', 'M_CPI_row_2', 'M_FXSP_row_0', 'M_FXSP_row_1', 'Q_FXSP_row_0', 'Q_FXSP_row_1']\n"
     ]
    },
    {
     "data": {
      "application/vnd.jupyter.widget-view+json": {
       "model_id": "e8174cd8cc1542af8644ad0e2edb93a6",
       "version_major": 2,
       "version_minor": 0
      },
      "text/plain": [
       "Generating train split: 0 examples [00:00, ? examples/s]"
      ]
     },
     "metadata": {},
     "output_type": "display_data"
    },
    {
     "data": {
      "application/vnd.jupyter.widget-view+json": {
       "model_id": "af65f6c881eb4e8599c035ef30f64268",
       "version_major": 2,
       "version_minor": 0
      },
      "text/plain": [
       "Saving the dataset (0/1 shards):   0%|          | 0/1 [00:00<?, ? examples/s]"
      ]
     },
     "metadata": {},
     "output_type": "display_data"
    },
    {
     "name": "stdout",
     "output_type": "stream",
     "text": [
      "Dataset saved to ./dataset/train_val_split//kw_split_3\n",
      "4 {'start_time': '2016-01-01', 'end_time': '2022-12-31'}\n",
      "['A_CPCH_row_0', 'A_CPI_row_0', 'A_FXSP_row_0', 'A_FXSP_row_1', 'D_FXSP_row_0', 'M_CPCH_row_0', 'M_CPI_row_0', 'M_CPI_row_2', 'M_FXSP_row_0', 'M_FXSP_row_1', 'Q_FXSP_row_0', 'Q_FXSP_row_1']\n"
     ]
    },
    {
     "data": {
      "application/vnd.jupyter.widget-view+json": {
       "model_id": "88852a35f55d426bb7e6ba6af39b2cd5",
       "version_major": 2,
       "version_minor": 0
      },
      "text/plain": [
       "Generating train split: 0 examples [00:00, ? examples/s]"
      ]
     },
     "metadata": {},
     "output_type": "display_data"
    },
    {
     "data": {
      "application/vnd.jupyter.widget-view+json": {
       "model_id": "3e1a1a928fce436e8431e75e62549d26",
       "version_major": 2,
       "version_minor": 0
      },
      "text/plain": [
       "Saving the dataset (0/1 shards):   0%|          | 0/1 [00:00<?, ? examples/s]"
      ]
     },
     "metadata": {},
     "output_type": "display_data"
    },
    {
     "name": "stdout",
     "output_type": "stream",
     "text": [
      "Dataset saved to ./dataset/train_val_split//kw_split_4\n",
      "1 {'start_time': '1984-01-01', 'end_time': '1994-12-31'}\n",
      "['A_CPCH_row_1', 'A_CPI_row_1', 'A_FXSP_row_0', 'A_FXSP_row_1', 'A_GDPN_row_0', 'D_EE58_row_0', 'D_FXSP_row_0', 'D_POLR_row_0', 'M_CPCH_row_0', 'M_CPI_row_0', 'M_EE58_row_0', 'M_FXSP_row_0', 'M_FXSP_row_1', 'M_POLR_row_0', 'Q_FXSP_row_0', 'Q_FXSP_row_1']\n"
     ]
    },
    {
     "data": {
      "application/vnd.jupyter.widget-view+json": {
       "model_id": "4dab2231d2b54df4b1061897aa27d947",
       "version_major": 2,
       "version_minor": 0
      },
      "text/plain": [
       "Generating train split: 0 examples [00:00, ? examples/s]"
      ]
     },
     "metadata": {},
     "output_type": "display_data"
    },
    {
     "data": {
      "application/vnd.jupyter.widget-view+json": {
       "model_id": "0a782158e807440faf3280013fcb1a2d",
       "version_major": 2,
       "version_minor": 0
      },
      "text/plain": [
       "Saving the dataset (0/1 shards):   0%|          | 0/1 [00:00<?, ? examples/s]"
      ]
     },
     "metadata": {},
     "output_type": "display_data"
    },
    {
     "name": "stdout",
     "output_type": "stream",
     "text": [
      "Dataset saved to ./dataset/train_val_split//mk_split_1\n",
      "2 {'start_time': '1996-01-01', 'end_time': '2004-12-31'}\n",
      "['A_CPCH_row_1', 'A_CPI_row_1', 'A_FXSP_row_0', 'A_FXSP_row_1', 'A_GDPN_row_0', 'D_EE58_row_0', 'D_FXSP_row_0', 'D_POLR_row_0', 'M_CPCH_row_0', 'M_CPI_row_0', 'M_EE58_row_0', 'M_FXSP_row_0', 'M_FXSP_row_1', 'M_POLR_row_0', 'Q_FXSP_row_0', 'Q_FXSP_row_1']\n"
     ]
    },
    {
     "data": {
      "application/vnd.jupyter.widget-view+json": {
       "model_id": "09007189563f4d6593c333a6b5504d1a",
       "version_major": 2,
       "version_minor": 0
      },
      "text/plain": [
       "Generating train split: 0 examples [00:00, ? examples/s]"
      ]
     },
     "metadata": {},
     "output_type": "display_data"
    },
    {
     "data": {
      "application/vnd.jupyter.widget-view+json": {
       "model_id": "4f8595421ef64c76a8f64415786b3cca",
       "version_major": 2,
       "version_minor": 0
      },
      "text/plain": [
       "Saving the dataset (0/1 shards):   0%|          | 0/1 [00:00<?, ? examples/s]"
      ]
     },
     "metadata": {},
     "output_type": "display_data"
    },
    {
     "name": "stdout",
     "output_type": "stream",
     "text": [
      "Dataset saved to ./dataset/train_val_split//mk_split_2\n",
      "3 {'start_time': '2006-01-01', 'end_time': '2014-12-31'}\n",
      "['A_CPCH_row_1', 'A_CPI_row_1', 'A_FXSP_row_0', 'A_FXSP_row_1', 'A_GDPN_row_0', 'D_EE58_row_0', 'D_FXSP_row_0', 'D_POLR_row_0', 'M_CPCH_row_0', 'M_CPI_row_0', 'M_EE58_row_0', 'M_FXSP_row_0', 'M_FXSP_row_1', 'M_POLR_row_0', 'Q_FXSP_row_0', 'Q_FXSP_row_1']\n"
     ]
    },
    {
     "data": {
      "application/vnd.jupyter.widget-view+json": {
       "model_id": "0e37dd34a2f14e9ea4d88268d3861695",
       "version_major": 2,
       "version_minor": 0
      },
      "text/plain": [
       "Generating train split: 0 examples [00:00, ? examples/s]"
      ]
     },
     "metadata": {},
     "output_type": "display_data"
    },
    {
     "data": {
      "application/vnd.jupyter.widget-view+json": {
       "model_id": "ad3a122b04be4da3948b144a4d42a827",
       "version_major": 2,
       "version_minor": 0
      },
      "text/plain": [
       "Saving the dataset (0/1 shards):   0%|          | 0/1 [00:00<?, ? examples/s]"
      ]
     },
     "metadata": {},
     "output_type": "display_data"
    },
    {
     "name": "stdout",
     "output_type": "stream",
     "text": [
      "Dataset saved to ./dataset/train_val_split//mk_split_3\n",
      "4 {'start_time': '2016-01-01', 'end_time': '2022-12-31'}\n",
      "['A_CPCH_row_1', 'A_CPI_row_1', 'A_FXSP_row_0', 'A_FXSP_row_1', 'A_GDPN_row_0', 'D_EE58_row_0', 'D_FXSP_row_0', 'D_POLR_row_0', 'M_CPCH_row_0', 'M_CPI_row_0', 'M_EE58_row_0', 'M_FXSP_row_0', 'M_FXSP_row_1', 'M_POLR_row_0', 'Q_FXSP_row_0', 'Q_FXSP_row_1']\n"
     ]
    },
    {
     "data": {
      "application/vnd.jupyter.widget-view+json": {
       "model_id": "fc159588fafe4f1098cb3ff8189c8fb5",
       "version_major": 2,
       "version_minor": 0
      },
      "text/plain": [
       "Generating train split: 0 examples [00:00, ? examples/s]"
      ]
     },
     "metadata": {},
     "output_type": "display_data"
    },
    {
     "data": {
      "application/vnd.jupyter.widget-view+json": {
       "model_id": "2d2381ed3c44447a9fc6e51349e6fc5a",
       "version_major": 2,
       "version_minor": 0
      },
      "text/plain": [
       "Saving the dataset (0/1 shards):   0%|          | 0/1 [00:00<?, ? examples/s]"
      ]
     },
     "metadata": {},
     "output_type": "display_data"
    },
    {
     "name": "stdout",
     "output_type": "stream",
     "text": [
      "Dataset saved to ./dataset/train_val_split//mk_split_4\n",
      "1 {'start_time': '1984-01-01', 'end_time': '1994-12-31'}\n",
      "['A_CPCH_row_0', 'A_CPI_row_1', 'A_FXSP_row_0', 'A_FXSP_row_1', 'A_GDPN_row_0', 'A_MNY1_row_0', 'D_EE26_row_0', 'D_EE58_row_0', 'D_FXSP_row_0', 'D_FXSP_row_1', 'D_POLR_row_0', 'M_CPCH_row_0', 'M_CPI_row_0', 'M_EE26_row_0', 'M_EE58_row_0', 'M_FXSP_row_0', 'M_FXSP_row_1', 'M_FXSP_row_2', 'M_FXSP_row_3', 'M_POLR_row_0', 'Q_FXSP_row_0', 'Q_FXSP_row_1', 'Q_FXSP_row_2', 'Q_FXSP_row_3']\n"
     ]
    },
    {
     "data": {
      "application/vnd.jupyter.widget-view+json": {
       "model_id": "7d57aa3d8b2f454d8fc39806e7d8d870",
       "version_major": 2,
       "version_minor": 0
      },
      "text/plain": [
       "Generating train split: 0 examples [00:00, ? examples/s]"
      ]
     },
     "metadata": {},
     "output_type": "display_data"
    },
    {
     "data": {
      "application/vnd.jupyter.widget-view+json": {
       "model_id": "ef408c65dc29410f80fa903b6cde8f4c",
       "version_major": 2,
       "version_minor": 0
      },
      "text/plain": [
       "Saving the dataset (0/1 shards):   0%|          | 0/1 [00:00<?, ? examples/s]"
      ]
     },
     "metadata": {},
     "output_type": "display_data"
    },
    {
     "name": "stdout",
     "output_type": "stream",
     "text": [
      "Dataset saved to ./dataset/train_val_split//se_split_1\n",
      "2 {'start_time': '1996-01-01', 'end_time': '2004-12-31'}\n",
      "['A_CPCH_row_0', 'A_CPI_row_1', 'A_FXSP_row_0', 'A_FXSP_row_1', 'A_GDPN_row_0', 'A_MNY1_row_0', 'D_EE26_row_0', 'D_EE58_row_0', 'D_FXSP_row_0', 'D_FXSP_row_1', 'D_POLR_row_0', 'M_CPCH_row_0', 'M_CPI_row_0', 'M_EE26_row_0', 'M_EE58_row_0', 'M_FXSP_row_0', 'M_FXSP_row_1', 'M_FXSP_row_2', 'M_FXSP_row_3', 'M_POLR_row_0', 'Q_FXSP_row_0', 'Q_FXSP_row_1', 'Q_FXSP_row_2', 'Q_FXSP_row_3']\n"
     ]
    },
    {
     "data": {
      "application/vnd.jupyter.widget-view+json": {
       "model_id": "f94da14c18f24a3bbf5ed4e8b1dcdc8c",
       "version_major": 2,
       "version_minor": 0
      },
      "text/plain": [
       "Generating train split: 0 examples [00:00, ? examples/s]"
      ]
     },
     "metadata": {},
     "output_type": "display_data"
    },
    {
     "data": {
      "application/vnd.jupyter.widget-view+json": {
       "model_id": "e7770a9fc1bc4a599c516a8db1250a88",
       "version_major": 2,
       "version_minor": 0
      },
      "text/plain": [
       "Saving the dataset (0/1 shards):   0%|          | 0/1 [00:00<?, ? examples/s]"
      ]
     },
     "metadata": {},
     "output_type": "display_data"
    },
    {
     "name": "stdout",
     "output_type": "stream",
     "text": [
      "Dataset saved to ./dataset/train_val_split//se_split_2\n",
      "3 {'start_time': '2006-01-01', 'end_time': '2014-12-31'}\n",
      "['A_CPCH_row_0', 'A_CPI_row_1', 'A_FXSP_row_0', 'A_FXSP_row_1', 'A_GDPN_row_0', 'A_MNY1_row_0', 'D_EE26_row_0', 'D_EE58_row_0', 'D_FXSP_row_0', 'D_FXSP_row_1', 'D_POLR_row_0', 'M_CPCH_row_0', 'M_CPI_row_0', 'M_EE26_row_0', 'M_EE58_row_0', 'M_FXSP_row_0', 'M_FXSP_row_1', 'M_FXSP_row_2', 'M_FXSP_row_3', 'M_POLR_row_0', 'Q_FXSP_row_0', 'Q_FXSP_row_1', 'Q_FXSP_row_2', 'Q_FXSP_row_3']\n"
     ]
    },
    {
     "data": {
      "application/vnd.jupyter.widget-view+json": {
       "model_id": "4a26b1ca79814927a7e308a3e014babc",
       "version_major": 2,
       "version_minor": 0
      },
      "text/plain": [
       "Generating train split: 0 examples [00:00, ? examples/s]"
      ]
     },
     "metadata": {},
     "output_type": "display_data"
    },
    {
     "data": {
      "application/vnd.jupyter.widget-view+json": {
       "model_id": "597aafd1ad9f44e0ac35858762d3af3b",
       "version_major": 2,
       "version_minor": 0
      },
      "text/plain": [
       "Saving the dataset (0/1 shards):   0%|          | 0/1 [00:00<?, ? examples/s]"
      ]
     },
     "metadata": {},
     "output_type": "display_data"
    },
    {
     "name": "stdout",
     "output_type": "stream",
     "text": [
      "Dataset saved to ./dataset/train_val_split//se_split_3\n",
      "4 {'start_time': '2016-01-01', 'end_time': '2022-12-31'}\n",
      "['A_CPCH_row_0', 'A_CPI_row_1', 'A_FXSP_row_0', 'A_FXSP_row_1', 'A_GDPN_row_0', 'A_MNY1_row_0', 'D_EE26_row_0', 'D_EE58_row_0', 'D_FXSP_row_0', 'D_FXSP_row_1', 'D_POLR_row_0', 'M_CPCH_row_0', 'M_CPI_row_0', 'M_EE26_row_0', 'M_EE58_row_0', 'M_FXSP_row_0', 'M_FXSP_row_1', 'M_FXSP_row_2', 'M_FXSP_row_3', 'M_POLR_row_0', 'Q_FXSP_row_0', 'Q_FXSP_row_1', 'Q_FXSP_row_2', 'Q_FXSP_row_3']\n"
     ]
    },
    {
     "data": {
      "application/vnd.jupyter.widget-view+json": {
       "model_id": "3550468025ae44d2ab45200182405038",
       "version_major": 2,
       "version_minor": 0
      },
      "text/plain": [
       "Generating train split: 0 examples [00:00, ? examples/s]"
      ]
     },
     "metadata": {},
     "output_type": "display_data"
    },
    {
     "data": {
      "application/vnd.jupyter.widget-view+json": {
       "model_id": "ff3e17edd9e34f0d97f84d27a85d94ba",
       "version_major": 2,
       "version_minor": 0
      },
      "text/plain": [
       "Saving the dataset (0/1 shards):   0%|          | 0/1 [00:00<?, ? examples/s]"
      ]
     },
     "metadata": {},
     "output_type": "display_data"
    },
    {
     "name": "stdout",
     "output_type": "stream",
     "text": [
      "Dataset saved to ./dataset/train_val_split//se_split_4\n",
      "1 {'start_time': '1984-01-01', 'end_time': '1994-12-31'}\n",
      "['A_CPCH_row_0', 'A_CPCH_row_1', 'A_CPI_row_0', 'A_FXSP_row_0', 'A_FXSP_row_1', 'A_GDPN_row_0', 'A_GDPN_row_1', 'A_MNY1_row_0', 'D_EE26_row_0', 'D_EE58_row_0', 'D_FXSP_row_0', 'D_POLR_row_0', 'M_CPCH_row_0', 'M_CPCH_row_1', 'M_CPI_row_0', 'M_EE26_row_0', 'M_EE58_row_0', 'M_FXSP_row_0', 'M_FXSP_row_1', 'M_FXSP_row_2', 'M_POLR_row_0', 'Q_FXSP_row_0', 'Q_FXSP_row_1', 'Q_FXSP_row_2', 'Q_FXSP_row_3']\n"
     ]
    },
    {
     "data": {
      "application/vnd.jupyter.widget-view+json": {
       "model_id": "69da31d6545c4f9e9af4ab98098b208c",
       "version_major": 2,
       "version_minor": 0
      },
      "text/plain": [
       "Generating train split: 0 examples [00:00, ? examples/s]"
      ]
     },
     "metadata": {},
     "output_type": "display_data"
    },
    {
     "data": {
      "application/vnd.jupyter.widget-view+json": {
       "model_id": "3b498ec093914182aafe61a17abef0bc",
       "version_major": 2,
       "version_minor": 0
      },
      "text/plain": [
       "Saving the dataset (0/1 shards):   0%|          | 0/1 [00:00<?, ? examples/s]"
      ]
     },
     "metadata": {},
     "output_type": "display_data"
    },
    {
     "name": "stdout",
     "output_type": "stream",
     "text": [
      "Dataset saved to ./dataset/train_val_split//xm_split_1\n",
      "2 {'start_time': '1996-01-01', 'end_time': '2004-12-31'}\n",
      "['A_CPCH_row_0', 'A_CPCH_row_1', 'A_CPI_row_0', 'A_FXSP_row_0', 'A_FXSP_row_1', 'A_GDPN_row_0', 'A_GDPN_row_1', 'A_MNY1_row_0', 'D_EE26_row_0', 'D_EE58_row_0', 'D_FXSP_row_0', 'D_POLR_row_0', 'M_CPCH_row_0', 'M_CPCH_row_1', 'M_CPI_row_0', 'M_EE26_row_0', 'M_EE58_row_0', 'M_FXSP_row_0', 'M_FXSP_row_1', 'M_FXSP_row_2', 'M_POLR_row_0', 'Q_FXSP_row_0', 'Q_FXSP_row_1', 'Q_FXSP_row_2', 'Q_FXSP_row_3']\n"
     ]
    },
    {
     "data": {
      "application/vnd.jupyter.widget-view+json": {
       "model_id": "562d715cda9f4506a3cde72e37966fbe",
       "version_major": 2,
       "version_minor": 0
      },
      "text/plain": [
       "Generating train split: 0 examples [00:00, ? examples/s]"
      ]
     },
     "metadata": {},
     "output_type": "display_data"
    },
    {
     "data": {
      "application/vnd.jupyter.widget-view+json": {
       "model_id": "21c134791efb4510a5b1e44bffd74d3d",
       "version_major": 2,
       "version_minor": 0
      },
      "text/plain": [
       "Saving the dataset (0/1 shards):   0%|          | 0/1 [00:00<?, ? examples/s]"
      ]
     },
     "metadata": {},
     "output_type": "display_data"
    },
    {
     "name": "stdout",
     "output_type": "stream",
     "text": [
      "Dataset saved to ./dataset/train_val_split//xm_split_2\n",
      "3 {'start_time': '2006-01-01', 'end_time': '2014-12-31'}\n",
      "['A_CPCH_row_0', 'A_CPCH_row_1', 'A_CPI_row_0', 'A_FXSP_row_0', 'A_FXSP_row_1', 'A_GDPN_row_0', 'A_GDPN_row_1', 'A_MNY1_row_0', 'D_EE26_row_0', 'D_EE58_row_0', 'D_FXSP_row_0', 'D_POLR_row_0', 'M_CPCH_row_0', 'M_CPCH_row_1', 'M_CPI_row_0', 'M_EE26_row_0', 'M_EE58_row_0', 'M_FXSP_row_0', 'M_FXSP_row_1', 'M_FXSP_row_2', 'M_POLR_row_0', 'Q_FXSP_row_0', 'Q_FXSP_row_1', 'Q_FXSP_row_2', 'Q_FXSP_row_3']\n"
     ]
    },
    {
     "data": {
      "application/vnd.jupyter.widget-view+json": {
       "model_id": "e587aebf40744603b86199cf61a3ec48",
       "version_major": 2,
       "version_minor": 0
      },
      "text/plain": [
       "Generating train split: 0 examples [00:00, ? examples/s]"
      ]
     },
     "metadata": {},
     "output_type": "display_data"
    },
    {
     "data": {
      "application/vnd.jupyter.widget-view+json": {
       "model_id": "4f44516ecdd64cbfa9b4620344aa84d3",
       "version_major": 2,
       "version_minor": 0
      },
      "text/plain": [
       "Saving the dataset (0/1 shards):   0%|          | 0/1 [00:00<?, ? examples/s]"
      ]
     },
     "metadata": {},
     "output_type": "display_data"
    },
    {
     "name": "stdout",
     "output_type": "stream",
     "text": [
      "Dataset saved to ./dataset/train_val_split//xm_split_3\n",
      "4 {'start_time': '2016-01-01', 'end_time': '2022-12-31'}\n",
      "['A_CPCH_row_0', 'A_CPCH_row_1', 'A_CPI_row_0', 'A_FXSP_row_0', 'A_FXSP_row_1', 'A_GDPN_row_0', 'A_GDPN_row_1', 'A_MNY1_row_0', 'D_EE26_row_0', 'D_EE58_row_0', 'D_FXSP_row_0', 'D_POLR_row_0', 'M_CPCH_row_0', 'M_CPCH_row_1', 'M_CPI_row_0', 'M_EE26_row_0', 'M_EE58_row_0', 'M_FXSP_row_0', 'M_FXSP_row_1', 'M_FXSP_row_2', 'M_POLR_row_0', 'Q_FXSP_row_0', 'Q_FXSP_row_1', 'Q_FXSP_row_2', 'Q_FXSP_row_3']\n"
     ]
    },
    {
     "data": {
      "application/vnd.jupyter.widget-view+json": {
       "model_id": "30e70f0771384a3fa29874aa2fbfa931",
       "version_major": 2,
       "version_minor": 0
      },
      "text/plain": [
       "Generating train split: 0 examples [00:00, ? examples/s]"
      ]
     },
     "metadata": {},
     "output_type": "display_data"
    },
    {
     "data": {
      "application/vnd.jupyter.widget-view+json": {
       "model_id": "3fdd79b8213a45fba05c1e6fd5f7ca7d",
       "version_major": 2,
       "version_minor": 0
      },
      "text/plain": [
       "Saving the dataset (0/1 shards):   0%|          | 0/1 [00:00<?, ? examples/s]"
      ]
     },
     "metadata": {},
     "output_type": "display_data"
    },
    {
     "name": "stdout",
     "output_type": "stream",
     "text": [
      "Dataset saved to ./dataset/train_val_split//xm_split_4\n",
      "1 {'start_time': '1984-01-01', 'end_time': '1994-12-31'}\n",
      "['A_CPCH_row_0', 'A_CPI_row_0', 'A_FXSP_row_0', 'A_FXSP_row_1', 'A_GDPN_row_0', 'A_MNY1_row_0', 'D_EE26_row_0', 'D_EE58_row_0', 'D_FXSP_row_0', 'D_FXSP_row_1', 'D_POLR_row_0', 'M_CPCH_row_0', 'M_CPI_row_0', 'M_CPI_row_1', 'M_EE26_row_0', 'M_EE58_row_0', 'M_FXSP_row_0', 'M_FXSP_row_1', 'M_FXSP_row_2', 'M_FXSP_row_3', 'M_POLR_row_0', 'Q_FXSP_row_0', 'Q_FXSP_row_1', 'Q_FXSP_row_2', 'Q_FXSP_row_3']\n"
     ]
    },
    {
     "data": {
      "application/vnd.jupyter.widget-view+json": {
       "model_id": "8e4b0537de2248ce8658a3dc6ea88890",
       "version_major": 2,
       "version_minor": 0
      },
      "text/plain": [
       "Generating train split: 0 examples [00:00, ? examples/s]"
      ]
     },
     "metadata": {},
     "output_type": "display_data"
    },
    {
     "data": {
      "application/vnd.jupyter.widget-view+json": {
       "model_id": "6852ad7f66fd45f4b6f745a4cf6ddb35",
       "version_major": 2,
       "version_minor": 0
      },
      "text/plain": [
       "Saving the dataset (0/1 shards):   0%|          | 0/1 [00:00<?, ? examples/s]"
      ]
     },
     "metadata": {},
     "output_type": "display_data"
    },
    {
     "name": "stdout",
     "output_type": "stream",
     "text": [
      "Dataset saved to ./dataset/train_val_split//nl_split_1\n",
      "2 {'start_time': '1996-01-01', 'end_time': '2004-12-31'}\n",
      "['A_CPCH_row_0', 'A_CPI_row_0', 'A_FXSP_row_0', 'A_FXSP_row_1', 'A_GDPN_row_0', 'A_MNY1_row_0', 'D_EE26_row_0', 'D_EE58_row_0', 'D_FXSP_row_0', 'D_FXSP_row_1', 'D_POLR_row_0', 'M_CPCH_row_0', 'M_CPI_row_0', 'M_CPI_row_1', 'M_EE26_row_0', 'M_EE58_row_0', 'M_FXSP_row_0', 'M_FXSP_row_1', 'M_FXSP_row_2', 'M_FXSP_row_3', 'M_POLR_row_0', 'Q_FXSP_row_0', 'Q_FXSP_row_1', 'Q_FXSP_row_2', 'Q_FXSP_row_3']\n"
     ]
    },
    {
     "data": {
      "application/vnd.jupyter.widget-view+json": {
       "model_id": "fda65570aa094693a0f1e6daae33bf50",
       "version_major": 2,
       "version_minor": 0
      },
      "text/plain": [
       "Generating train split: 0 examples [00:00, ? examples/s]"
      ]
     },
     "metadata": {},
     "output_type": "display_data"
    },
    {
     "data": {
      "application/vnd.jupyter.widget-view+json": {
       "model_id": "58427be146a24c328d92844ebc8606ac",
       "version_major": 2,
       "version_minor": 0
      },
      "text/plain": [
       "Saving the dataset (0/1 shards):   0%|          | 0/1 [00:00<?, ? examples/s]"
      ]
     },
     "metadata": {},
     "output_type": "display_data"
    },
    {
     "name": "stdout",
     "output_type": "stream",
     "text": [
      "Dataset saved to ./dataset/train_val_split//nl_split_2\n",
      "3 {'start_time': '2006-01-01', 'end_time': '2014-12-31'}\n",
      "['A_CPCH_row_0', 'A_CPI_row_0', 'A_FXSP_row_0', 'A_FXSP_row_1', 'A_GDPN_row_0', 'A_MNY1_row_0', 'D_EE26_row_0', 'D_EE58_row_0', 'D_FXSP_row_0', 'D_FXSP_row_1', 'D_POLR_row_0', 'M_CPCH_row_0', 'M_CPI_row_0', 'M_CPI_row_1', 'M_EE26_row_0', 'M_EE58_row_0', 'M_FXSP_row_0', 'M_FXSP_row_1', 'M_FXSP_row_2', 'M_FXSP_row_3', 'M_POLR_row_0', 'Q_FXSP_row_0', 'Q_FXSP_row_1', 'Q_FXSP_row_2', 'Q_FXSP_row_3']\n"
     ]
    },
    {
     "data": {
      "application/vnd.jupyter.widget-view+json": {
       "model_id": "838d3044c54a4ff4aec20604e0168a9f",
       "version_major": 2,
       "version_minor": 0
      },
      "text/plain": [
       "Generating train split: 0 examples [00:00, ? examples/s]"
      ]
     },
     "metadata": {},
     "output_type": "display_data"
    },
    {
     "data": {
      "application/vnd.jupyter.widget-view+json": {
       "model_id": "e88a64ed5ae24587b29b5637f38e1239",
       "version_major": 2,
       "version_minor": 0
      },
      "text/plain": [
       "Saving the dataset (0/1 shards):   0%|          | 0/1 [00:00<?, ? examples/s]"
      ]
     },
     "metadata": {},
     "output_type": "display_data"
    },
    {
     "name": "stdout",
     "output_type": "stream",
     "text": [
      "Dataset saved to ./dataset/train_val_split//nl_split_3\n",
      "4 {'start_time': '2016-01-01', 'end_time': '2022-12-31'}\n",
      "['A_CPCH_row_0', 'A_CPI_row_0', 'A_FXSP_row_0', 'A_FXSP_row_1', 'A_GDPN_row_0', 'A_MNY1_row_0', 'D_EE26_row_0', 'D_EE58_row_0', 'D_FXSP_row_0', 'D_FXSP_row_1', 'D_POLR_row_0', 'M_CPCH_row_0', 'M_CPI_row_0', 'M_CPI_row_1', 'M_EE26_row_0', 'M_EE58_row_0', 'M_FXSP_row_0', 'M_FXSP_row_1', 'M_FXSP_row_2', 'M_FXSP_row_3', 'M_POLR_row_0', 'Q_FXSP_row_0', 'Q_FXSP_row_1', 'Q_FXSP_row_2', 'Q_FXSP_row_3']\n"
     ]
    },
    {
     "data": {
      "application/vnd.jupyter.widget-view+json": {
       "model_id": "33dca983de0c4a8f9d4bc08fb6b918da",
       "version_major": 2,
       "version_minor": 0
      },
      "text/plain": [
       "Generating train split: 0 examples [00:00, ? examples/s]"
      ]
     },
     "metadata": {},
     "output_type": "display_data"
    },
    {
     "data": {
      "application/vnd.jupyter.widget-view+json": {
       "model_id": "f4eafe13209447b29f9f4cba7c3a89a6",
       "version_major": 2,
       "version_minor": 0
      },
      "text/plain": [
       "Saving the dataset (0/1 shards):   0%|          | 0/1 [00:00<?, ? examples/s]"
      ]
     },
     "metadata": {},
     "output_type": "display_data"
    },
    {
     "name": "stdout",
     "output_type": "stream",
     "text": [
      "Dataset saved to ./dataset/train_val_split//nl_split_4\n",
      "1 {'start_time': '1984-01-01', 'end_time': '1994-12-31'}\n",
      "['A_CPCH_row_0', 'A_CPCH_row_1', 'A_CPI_row_0', 'A_CPI_row_1', 'A_FXSP_row_0', 'A_FXSP_row_1', 'A_GDPN_row_0', 'A_GDPN_row_1', 'A_MNY1_row_0', 'D_EE26_row_0', 'D_EE58_row_0', 'D_FXSP_row_0', 'D_FXSP_row_1', 'D_POLR_row_0', 'M_CPCH_row_0', 'M_CPI_row_0', 'M_CPI_row_1', 'M_CPI_row_2', 'M_EE26_row_0', 'M_EE58_row_0', 'M_FXSP_row_0', 'M_FXSP_row_1', 'M_FXSP_row_2', 'M_FXSP_row_3', 'M_POLR_row_0', 'Q_FXSP_row_0', 'Q_FXSP_row_1', 'Q_FXSP_row_2', 'Q_FXSP_row_3']\n"
     ]
    },
    {
     "data": {
      "application/vnd.jupyter.widget-view+json": {
       "model_id": "bbf1562a5d074176a5a7f76203a51a23",
       "version_major": 2,
       "version_minor": 0
      },
      "text/plain": [
       "Generating train split: 0 examples [00:00, ? examples/s]"
      ]
     },
     "metadata": {},
     "output_type": "display_data"
    },
    {
     "data": {
      "application/vnd.jupyter.widget-view+json": {
       "model_id": "3ffd32ec21d54cea8f28b4c2e746b6fa",
       "version_major": 2,
       "version_minor": 0
      },
      "text/plain": [
       "Saving the dataset (0/1 shards):   0%|          | 0/1 [00:00<?, ? examples/s]"
      ]
     },
     "metadata": {},
     "output_type": "display_data"
    },
    {
     "name": "stdout",
     "output_type": "stream",
     "text": [
      "Dataset saved to ./dataset/train_val_split//be_split_1\n",
      "2 {'start_time': '1996-01-01', 'end_time': '2004-12-31'}\n",
      "['A_CPCH_row_0', 'A_CPCH_row_1', 'A_CPI_row_0', 'A_CPI_row_1', 'A_FXSP_row_0', 'A_FXSP_row_1', 'A_GDPN_row_0', 'A_GDPN_row_1', 'A_MNY1_row_0', 'D_EE26_row_0', 'D_EE58_row_0', 'D_FXSP_row_0', 'D_FXSP_row_1', 'D_POLR_row_0', 'M_CPCH_row_0', 'M_CPI_row_0', 'M_CPI_row_1', 'M_CPI_row_2', 'M_EE26_row_0', 'M_EE58_row_0', 'M_FXSP_row_0', 'M_FXSP_row_1', 'M_FXSP_row_2', 'M_FXSP_row_3', 'M_POLR_row_0', 'Q_FXSP_row_0', 'Q_FXSP_row_1', 'Q_FXSP_row_2', 'Q_FXSP_row_3']\n"
     ]
    },
    {
     "data": {
      "application/vnd.jupyter.widget-view+json": {
       "model_id": "b6a80aa308394239ae0f7c46b255871e",
       "version_major": 2,
       "version_minor": 0
      },
      "text/plain": [
       "Generating train split: 0 examples [00:00, ? examples/s]"
      ]
     },
     "metadata": {},
     "output_type": "display_data"
    },
    {
     "data": {
      "application/vnd.jupyter.widget-view+json": {
       "model_id": "e0f1b168e763434f960818458497866d",
       "version_major": 2,
       "version_minor": 0
      },
      "text/plain": [
       "Saving the dataset (0/1 shards):   0%|          | 0/1 [00:00<?, ? examples/s]"
      ]
     },
     "metadata": {},
     "output_type": "display_data"
    },
    {
     "name": "stdout",
     "output_type": "stream",
     "text": [
      "Dataset saved to ./dataset/train_val_split//be_split_2\n",
      "3 {'start_time': '2006-01-01', 'end_time': '2014-12-31'}\n",
      "['A_CPCH_row_0', 'A_CPCH_row_1', 'A_CPI_row_0', 'A_CPI_row_1', 'A_FXSP_row_0', 'A_FXSP_row_1', 'A_GDPN_row_0', 'A_GDPN_row_1', 'A_MNY1_row_0', 'D_EE26_row_0', 'D_EE58_row_0', 'D_FXSP_row_0', 'D_FXSP_row_1', 'D_POLR_row_0', 'M_CPCH_row_0', 'M_CPI_row_0', 'M_CPI_row_1', 'M_CPI_row_2', 'M_EE26_row_0', 'M_EE58_row_0', 'M_FXSP_row_0', 'M_FXSP_row_1', 'M_FXSP_row_2', 'M_FXSP_row_3', 'M_POLR_row_0', 'Q_FXSP_row_0', 'Q_FXSP_row_1', 'Q_FXSP_row_2', 'Q_FXSP_row_3']\n"
     ]
    },
    {
     "data": {
      "application/vnd.jupyter.widget-view+json": {
       "model_id": "427b63a0391341089f2ba22a9227dc98",
       "version_major": 2,
       "version_minor": 0
      },
      "text/plain": [
       "Generating train split: 0 examples [00:00, ? examples/s]"
      ]
     },
     "metadata": {},
     "output_type": "display_data"
    },
    {
     "data": {
      "application/vnd.jupyter.widget-view+json": {
       "model_id": "53585b168de5458ca06853ccebc8c6ad",
       "version_major": 2,
       "version_minor": 0
      },
      "text/plain": [
       "Saving the dataset (0/1 shards):   0%|          | 0/1 [00:00<?, ? examples/s]"
      ]
     },
     "metadata": {},
     "output_type": "display_data"
    },
    {
     "name": "stdout",
     "output_type": "stream",
     "text": [
      "Dataset saved to ./dataset/train_val_split//be_split_3\n",
      "4 {'start_time': '2016-01-01', 'end_time': '2022-12-31'}\n",
      "['A_CPCH_row_0', 'A_CPCH_row_1', 'A_CPI_row_0', 'A_CPI_row_1', 'A_FXSP_row_0', 'A_FXSP_row_1', 'A_GDPN_row_0', 'A_GDPN_row_1', 'A_MNY1_row_0', 'D_EE26_row_0', 'D_EE58_row_0', 'D_FXSP_row_0', 'D_FXSP_row_1', 'D_POLR_row_0', 'M_CPCH_row_0', 'M_CPI_row_0', 'M_CPI_row_1', 'M_CPI_row_2', 'M_EE26_row_0', 'M_EE58_row_0', 'M_FXSP_row_0', 'M_FXSP_row_1', 'M_FXSP_row_2', 'M_FXSP_row_3', 'M_POLR_row_0', 'Q_FXSP_row_0', 'Q_FXSP_row_1', 'Q_FXSP_row_2', 'Q_FXSP_row_3']\n"
     ]
    },
    {
     "data": {
      "application/vnd.jupyter.widget-view+json": {
       "model_id": "b8677ba61e5c4397a89d2b077b22c4c5",
       "version_major": 2,
       "version_minor": 0
      },
      "text/plain": [
       "Generating train split: 0 examples [00:00, ? examples/s]"
      ]
     },
     "metadata": {},
     "output_type": "display_data"
    },
    {
     "data": {
      "application/vnd.jupyter.widget-view+json": {
       "model_id": "57909ceb8f8c44aa941ae80b5cc0798c",
       "version_major": 2,
       "version_minor": 0
      },
      "text/plain": [
       "Saving the dataset (0/1 shards):   0%|          | 0/1 [00:00<?, ? examples/s]"
      ]
     },
     "metadata": {},
     "output_type": "display_data"
    },
    {
     "name": "stdout",
     "output_type": "stream",
     "text": [
      "Dataset saved to ./dataset/train_val_split//be_split_4\n"
     ]
    }
   ],
   "source": [
    "import glob \n",
    "\n",
    "# Get a list of all CSV files in the directory\n",
    "all_csv_files = glob.glob(os.path.join(csv_dataset_path, \"*.csv\"))[:]\n",
    "\n",
    "#define train splits as dates\n",
    "train_splits = {1: {'start_time': '1984-01-01', 'end_time': '1994-12-31'},\n",
    "                2: {'start_time': '1996-01-01', 'end_time': '2004-12-31'},\n",
    "                3: {'start_time': '2006-01-01', 'end_time': '2014-12-31'},\n",
    "                4: {'start_time': '2016-01-01', 'end_time': '2022-12-31'}\n",
    "}\n",
    "\n",
    "# SAVE_FOLDER = 'trial_split'\n",
    "SAVE_DIR = './dataset/train_val_split/'\n",
    "\n",
    "\n",
    "for csv_file in all_csv_files:\n",
    "    df = pd.read_csv(csv_file, index_col=0, parse_dates=True)\n",
    "    country_name =  get_file_name(csv_file).split('_')[0]\n",
    "    for split_indx, dates in train_splits.items():\n",
    "        print(split_indx,dates)\n",
    "        df_split = filter_dataframe_by_time_span(df, **dates)\n",
    "        _ = extract_distinct_features(df_split.columns)\n",
    "        print(_)\n",
    "        create_hf_dataset_from_df(df_split, output_dir = f'{SAVE_DIR}/{country_name}_split_{split_indx}', df_cov=None, feature_names = _, country_name=country_name, feature_names_cov= [])"
   ]
  },
  {
   "cell_type": "code",
   "execution_count": 90,
   "metadata": {},
   "outputs": [
    {
     "name": "stdout",
     "output_type": "stream",
     "text": [
      "1\n",
      "dict_keys(['target', 'start', 'freq', 'item_id', 'country_name', 'column_names', 'feature_names', 'feature_names_cov'])\n",
      "['A_CPCH_row_0' 'A_CPCH_row_1' 'A_CPI_row_0' 'A_FXSP_row_0' 'A_FXSP_row_1'\n",
      " 'A_GDPN_row_0' 'A_MNY1_row_0' 'A_MNY1_row_1' 'D_EE26_row_0'\n",
      " 'D_EE58_row_0' 'D_FXSP_row_0' 'D_POLR_row_0' 'M_CPCH_row_0' 'M_CPI_row_0'\n",
      " 'M_CPI_row_1' 'M_CPI_row_2' 'M_CPI_row_3' 'M_CPI_row_4' 'M_EE26_row_0'\n",
      " 'M_EE58_row_0' 'M_FXSP_row_0' 'M_FXSP_row_1' 'M_POLR_row_0'\n",
      " 'Q_FXSP_row_0' 'Q_FXSP_row_1']\n",
      "us\n",
      "(100, 4018)\n"
     ]
    }
   ],
   "source": [
    "ds_multi = datasets.load_from_disk(\"/Users/batuhankoyuncu/Documents/GitHub/mtfsm/dataset/train_val_split/us_split_1\").with_format(\"numpy\")\n",
    "print(len(ds_multi))\n",
    "print(ds_multi[0].keys())\n",
    "print(ds_multi[0]['feature_names'])\n",
    "print(ds_multi[0]['country_name'])\n",
    "print(ds_multi[0]['target'].shape)\n"
   ]
  },
  {
   "cell_type": "code",
   "execution_count": 91,
   "metadata": {},
   "outputs": [
    {
     "name": "stdout",
     "output_type": "stream",
     "text": [
      "['A_CPCH_row_0' 'A_CPCH_row_1' 'A_CPI_row_0' 'A_FXSP_row_0' 'A_FXSP_row_1'\n",
      " 'A_GDPN_row_0' 'A_MNY1_row_0' 'A_MNY1_row_1' 'D_EE26_row_0'\n",
      " 'D_EE58_row_0' 'D_FXSP_row_0' 'D_POLR_row_0' 'M_CPCH_row_0' 'M_CPI_row_0'\n",
      " 'M_CPI_row_1' 'M_CPI_row_2' 'M_CPI_row_3' 'M_CPI_row_4' 'M_EE26_row_0'\n",
      " 'M_EE58_row_0' 'M_FXSP_row_0' 'M_FXSP_row_1' 'M_POLR_row_0'\n",
      " 'Q_FXSP_row_0' 'Q_FXSP_row_1']\n"
     ]
    }
   ],
   "source": [
    "print(ds_multi[0]['feature_names'])\n"
   ]
  },
  {
   "cell_type": "code",
   "execution_count": 92,
   "metadata": {},
   "outputs": [
    {
     "data": {
      "text/plain": [
       "array([[ 533.3     ,  533.3     ,  533.3     , ..., 1174.5     ,\n",
       "        1174.5     , 1174.5     ],\n",
       "       [  47.5     ,   47.5     ,   47.5     , ...,   21.2     ,\n",
       "          21.2     ,   21.2     ],\n",
       "       [   6.279084,    6.279084,    6.279084, ...,    7.068598,\n",
       "           7.068598,    7.068598],\n",
       "       ...,\n",
       "       [        nan,         nan,         nan, ...,         nan,\n",
       "                nan,         nan],\n",
       "       [        nan,         nan,         nan, ...,         nan,\n",
       "                nan,         nan],\n",
       "       [        nan,         nan,         nan, ...,         nan,\n",
       "                nan,         nan]], dtype=float32)"
      ]
     },
     "execution_count": 92,
     "metadata": {},
     "output_type": "execute_result"
    }
   ],
   "source": [
    "ds_multi[0]['target']"
   ]
  },
  {
   "cell_type": "code",
   "execution_count": null,
   "metadata": {},
   "outputs": [],
   "source": []
  }
 ],
 "metadata": {
  "kernelspec": {
   "display_name": "py_moirai",
   "language": "python",
   "name": "python3"
  },
  "language_info": {
   "codemirror_mode": {
    "name": "ipython",
    "version": 3
   },
   "file_extension": ".py",
   "mimetype": "text/x-python",
   "name": "python",
   "nbconvert_exporter": "python",
   "pygments_lexer": "ipython3",
   "version": "3.11.11"
  }
 },
 "nbformat": 4,
 "nbformat_minor": 2
}
